{
 "cells": [
  {
   "cell_type": "markdown",
   "id": "30b2c9d5-e8e8-434b-9123-fe09ec840f3c",
   "metadata": {},
   "source": [
    "# Data Structures"
   ]
  },
  {
   "cell_type": "markdown",
   "id": "58e8314e-cf65-476e-9761-1e13d8d9854e",
   "metadata": {},
   "source": [
    "#### lists"
   ]
  },
  {
   "cell_type": "code",
   "execution_count": 1,
   "id": "e0aab7f7-8c0a-4004-b1f2-36339fbe372b",
   "metadata": {},
   "outputs": [
    {
     "name": "stdout",
     "output_type": "stream",
     "text": [
      "2\n",
      "0\n",
      "3\n",
      "6\n",
      "['banana', 'apple', 'kiwi', 'banana', 'pear', 'apple', 'orange']\n",
      "['banana', 'apple', 'kiwi', 'banana', 'pear', 'apple', 'orange', 'grape']\n",
      "['apple', 'apple', 'banana', 'banana', 'grape', 'kiwi', 'orange', 'pear']\n",
      "['apple', 'apple', 'banana', 'banana', 'grape', 'kiwi', 'orange']\n"
     ]
    }
   ],
   "source": [
    "fruits = ['orange', 'apple', 'pear', 'banana', 'kiwi', 'apple', 'banana']\n",
    "print(fruits.count('apple'))\n",
    "print(fruits.count('tangerine'))\n",
    "print(fruits.index('banana'))\n",
    "\n",
    "print(fruits.index('banana', 4))  # Find next banana starting at position 4\n",
    "\n",
    "fruits.reverse()\n",
    "print(fruits)\n",
    "\n",
    "fruits.append('grape')\n",
    "print(fruits)\n",
    "\n",
    "fruits.sort()\n",
    "print(fruits)\n",
    "\n",
    "fruits.pop()\n",
    "print(fruits)"
   ]
  },
  {
   "cell_type": "code",
   "execution_count": 2,
   "id": "56fddc14-c9e1-4451-80c4-2552000d7495",
   "metadata": {},
   "outputs": [
    {
     "name": "stdout",
     "output_type": "stream",
     "text": [
      "['apple', 'apple', 'banana', 'banana', 'grape', 'kiwi', 'orange', 'Micah', 'Dutch', 'Jaxon', 'Tim', 'Spencer']\n"
     ]
    }
   ],
   "source": [
    "names = ['Micah','Dutch','Jaxon','Tim','Spencer']\n",
    "# list.extend(iterable) - extend the list by appending all the items from the iterable\n",
    "fruits.extend(names)\n",
    "print(fruits)"
   ]
  },
  {
   "cell_type": "code",
   "execution_count": 3,
   "id": "335058e5-6d68-42d3-b8aa-94df8af0e1cf",
   "metadata": {},
   "outputs": [
    {
     "name": "stdout",
     "output_type": "stream",
     "text": [
      "['Dutch', 'Jaxon', 'Micah', 'Spencer', 'Tim', 'apple', 'apple', 'banana', 'banana', 'grape', 'kiwi', 'orange']\n"
     ]
    }
   ],
   "source": [
    "fruits.sort()\n",
    "print(fruits)"
   ]
  },
  {
   "cell_type": "markdown",
   "id": "265768e9-e548-45f0-a3e0-1a59f98e69d3",
   "metadata": {},
   "source": [
    "####  Using Lists as Stacks"
   ]
  },
  {
   "cell_type": "code",
   "execution_count": 4,
   "id": "bd53c631-a7f2-458f-81c6-c5cc320c2a1d",
   "metadata": {},
   "outputs": [
    {
     "name": "stdout",
     "output_type": "stream",
     "text": [
      "[1, 4, 7, 5, 3]\n",
      "[1, 4, 7, 5]\n",
      "[1, 4, 7]\n"
     ]
    }
   ],
   "source": [
    "stack = [1,4,7]\n",
    "stack.append(5)\n",
    "stack.append(3)\n",
    "print(stack)\n",
    "stack.pop()\n",
    "print(stack)\n",
    "stack.pop()\n",
    "print(stack)"
   ]
  },
  {
   "cell_type": "markdown",
   "id": "3e7ebcb0-f122-4a3a-a317-eb9bb0963284",
   "metadata": {},
   "source": [
    "#### Using Lists as Queues"
   ]
  },
  {
   "cell_type": "code",
   "execution_count": 5,
   "id": "e5fee021-19ac-43f6-91b6-d00bc3a422f9",
   "metadata": {},
   "outputs": [
    {
     "name": "stdout",
     "output_type": "stream",
     "text": [
      "deque(['Erling', 'Katty', 'Tom'])\n",
      "deque(['Erling', 'Katty', 'Tom', 'John', 'Garry'])\n",
      "deque(['Katty', 'Tom', 'John', 'Garry'])\n",
      "deque(['Katty', 'Tom', 'John'])\n"
     ]
    }
   ],
   "source": [
    "from collections import deque\n",
    "queue = deque([\"Erling\",\"Katty\",\"Tom\"])\n",
    "print(queue)\n",
    "queue.append(\"John\")\n",
    "queue.append(\"Garry\")\n",
    "print(queue)\n",
    "queue.popleft()\n",
    "print(queue)\n",
    "queue.pop()\n",
    "print(queue)"
   ]
  },
  {
   "cell_type": "markdown",
   "id": "f7ae8499-ef1f-4a50-8294-ce7d734ef0e5",
   "metadata": {},
   "source": [
    "#### List Comprehensions"
   ]
  },
  {
   "cell_type": "code",
   "execution_count": 6,
   "id": "475f2e54-fecd-40a6-8688-e39422a39e89",
   "metadata": {},
   "outputs": [
    {
     "name": "stdout",
     "output_type": "stream",
     "text": [
      "[1, 4, 9, 16, 25, 36, 49, 64, 81]\n"
     ]
    }
   ],
   "source": [
    "squares = []\n",
    "for x in range(1,10):\n",
    "    squares.append(x**2)\n",
    "print(squares)"
   ]
  },
  {
   "cell_type": "code",
   "execution_count": 7,
   "id": "f4881280-876d-4a9e-b710-9775c46dc527",
   "metadata": {},
   "outputs": [
    {
     "name": "stdout",
     "output_type": "stream",
     "text": [
      "[1, 8, 27, 64, 125, 216, 343, 512, 729, 1000, 1331, 1728, 2197, 2744]\n"
     ]
    }
   ],
   "source": [
    "qubes = list(map(lambda x: x**3, range(1,15)))\n",
    "print(qubes)\n",
    "# or quivalently\n",
    "fourth_degree = [x**4 for x in range(1,15)]"
   ]
  },
  {
   "cell_type": "code",
   "execution_count": 5,
   "id": "32a4b511-e368-4e01-b6ef-5e6989a141ab",
   "metadata": {},
   "outputs": [
    {
     "name": "stdout",
     "output_type": "stream",
     "text": [
      "[(1, 3), (1, 4), (2, 3), (2, 1), (2, 4), (3, 1), (3, 4)]\n",
      "[(1, 3), (1, 1), (1, 4), (2, 3), (2, 1), (2, 4), (3, 3), (3, 1), (3, 4)]\n"
     ]
    }
   ],
   "source": [
    "# A list comprehension consists of brackets containing an expression followed by\n",
    "# a for clause, then zero or more for or if clauses. The result will be a new list\n",
    "# resulting from evaluating the expression in the context of the for and if clauses \n",
    "# which follow it. For example, this listcomp combines the elements of two lists if \n",
    "# they are not equal:\n",
    "print([(x,y) for x in [1,2,3] for y in [3,1,4] if x!=y])\n",
    "print([(x,y) for x in [1,2,3] for y in [3,1,4]])"
   ]
  },
  {
   "cell_type": "code",
   "execution_count": 8,
   "id": "b382444c-ca00-4e10-8644-04b72db84d73",
   "metadata": {},
   "outputs": [
    {
     "name": "stdout",
     "output_type": "stream",
     "text": [
      "[(1, 3), (1, 4), (2, 3), (2, 1), (2, 4), (3, 1), (3, 4)]\n",
      "[(1, 3), (1, 1), (1, 4), (2, 3), (2, 1), (2, 4), (3, 3), (3, 1), (3, 4)]\n"
     ]
    }
   ],
   "source": [
    "combs = []\n",
    "cart_product = []\n",
    "for x in [1,2,3]:\n",
    "    for y in [3,1,4]:\n",
    "        cart_product.append((x,y))\n",
    "        if x!=y:\n",
    "            combs.append((x,y))\n",
    "print(combs)\n",
    "print(cart_product)"
   ]
  },
  {
   "cell_type": "code",
   "execution_count": 16,
   "id": "a61fc025-d177-4d38-8f2b-b9524fa5dd62",
   "metadata": {},
   "outputs": [
    {
     "name": "stdout",
     "output_type": "stream",
     "text": [
      "[-8, -4, 0, 4, 8]\n",
      "[0, 2, 4]\n",
      "[4, 2, 0, 2, 4]\n",
      "['banana', 'longaberry', 'passion fruit']\n",
      "[(0, 0), (1, 1), (2, 4), (3, 9), (4, 16), (5, 25), (6, 36)]\n",
      "[1, 2, 3, 4, 5, 6, 7, 8, 9]\n"
     ]
    }
   ],
   "source": [
    "vec = [-4, -2, 0, 2, 4]\n",
    "# create a new list with the values doubled\n",
    "print([x*2 for x in vec])\n",
    "\n",
    "# filter the list to exclude negative numbers\n",
    "print([x for x in vec if x >= 0])\n",
    "\n",
    "# apply a function to all the elements\n",
    "print([abs(x) for x in vec])\n",
    "\n",
    "#call a mathod on each element\n",
    "freshfruit = [' banana', 'longaberry', 'passion fruit ']\n",
    "print([weapon.strip() for weapon in freshfruit])\n",
    "\n",
    "#create a list of 2-tuples like (number, square)\n",
    "print([(x, x**2) for x in range(7)])\n",
    "\n",
    "#tuple must be paranthesized, otherwise an error is raised\n",
    "#[x, x**2 for x in range(7)]\n",
    "\n",
    "#flatten a list using a listcomp with two 'for'\n",
    "vec = [[1,2,3], [4,5,6], [7,8,9]]\n",
    "print([num for elem in vec for num in elem])\n",
    "\n"
   ]
  },
  {
   "cell_type": "code",
   "execution_count": 17,
   "id": "a566784b-6f23-4774-a152-ef82c510ce26",
   "metadata": {},
   "outputs": [
    {
     "data": {
      "text/plain": [
       "['3.1', '3.14', '3.142', '3.1416', '3.14159', '3.141593', '3.1415927']"
      ]
     },
     "execution_count": 17,
     "metadata": {},
     "output_type": "execute_result"
    }
   ],
   "source": [
    "from math import pi\n",
    "[str(round(pi, i)) for i in range(1,8)]"
   ]
  },
  {
   "cell_type": "markdown",
   "id": "a515c3dd-03c2-44ad-97c4-36ebf9ed9058",
   "metadata": {},
   "source": [
    "#### Nested List Comprehensions"
   ]
  },
  {
   "cell_type": "code",
   "execution_count": 18,
   "id": "b77bc644-7b38-47fc-9092-e295386c0ab6",
   "metadata": {},
   "outputs": [
    {
     "name": "stdout",
     "output_type": "stream",
     "text": [
      "[[1, 2, 3, 4], [5, 6, 7, 8], [9, 10, 11, 12]]\n"
     ]
    },
    {
     "data": {
      "text/plain": [
       "[[1, 5, 9], [2, 6, 10], [3, 7, 11], [4, 8, 12]]"
      ]
     },
     "execution_count": 18,
     "metadata": {},
     "output_type": "execute_result"
    }
   ],
   "source": [
    "matrix = [\n",
    "    [1,2,3,4],\n",
    "    [5,6,7,8],\n",
    "    [9,10,11,12],\n",
    "]\n",
    "print(matrix)\n",
    "#The following list comprehension will transpose rows and columns:\n",
    "[[row[i] for row in matrix] for i in range(4)]"
   ]
  },
  {
   "cell_type": "code",
   "execution_count": 19,
   "id": "c6662620-bed8-4ec6-bd30-fcce36c442ac",
   "metadata": {},
   "outputs": [
    {
     "data": {
      "text/plain": [
       "[[1, 5, 9], [2, 6, 10], [3, 7, 11], [4, 8, 12]]"
      ]
     },
     "execution_count": 19,
     "metadata": {},
     "output_type": "execute_result"
    }
   ],
   "source": [
    "transposed = []\n",
    "for i in range(4):\n",
    "    transposed.append([row[i] for row in matrix])\n",
    "transposed"
   ]
  },
  {
   "cell_type": "code",
   "execution_count": 20,
   "id": "04df5068-c350-4b98-b60c-0ad70b1a8b47",
   "metadata": {},
   "outputs": [
    {
     "data": {
      "text/plain": [
       "[[1, 5, 9], [2, 6, 10], [3, 7, 11], [4, 8, 12]]"
      ]
     },
     "execution_count": 20,
     "metadata": {},
     "output_type": "execute_result"
    }
   ],
   "source": [
    "transposed = []\n",
    "for i in range(4):\n",
    "    # the following 3 lines implement the nested listcomp\n",
    "    transposed_row = []\n",
    "    for row in matrix:\n",
    "        transposed_row.append(row[i])\n",
    "    transposed.append(transposed_row)\n",
    "\n",
    "transposed"
   ]
  },
  {
   "cell_type": "code",
   "execution_count": 21,
   "id": "a3e85234-88fb-449e-aee3-329d85a0f3b3",
   "metadata": {},
   "outputs": [
    {
     "data": {
      "text/plain": [
       "[(1, 5, 9), (2, 6, 10), (3, 7, 11), (4, 8, 12)]"
      ]
     },
     "execution_count": 21,
     "metadata": {},
     "output_type": "execute_result"
    }
   ],
   "source": [
    "# In the real world, you should prefer built-in functions to complex flow\n",
    "# statements. The zip() function would do a great job for this use case:\n",
    "list(zip(*matrix))"
   ]
  },
  {
   "cell_type": "markdown",
   "id": "720ef1ac-57fb-465e-8300-ab9ad3cf9a0c",
   "metadata": {},
   "source": [
    "#### The `del` statement"
   ]
  },
  {
   "cell_type": "code",
   "execution_count": 22,
   "id": "19c626d1-5f3f-4371-b43b-900ec37c0ffa",
   "metadata": {},
   "outputs": [
    {
     "name": "stdout",
     "output_type": "stream",
     "text": [
      "[-1, 1, 333, 333, 1234.5, -251.52522141526688]\n",
      "-251.52522141526688\n"
     ]
    },
    {
     "data": {
      "text/plain": [
       "list"
      ]
     },
     "execution_count": 22,
     "metadata": {},
     "output_type": "execute_result"
    }
   ],
   "source": [
    "arr = [-1, 1, 66.25, 333, 333, 1234.5, -251.52522141526689189598017894124]\n",
    "del arr[2]\n",
    "print(arr)\n",
    "print(round(arr[len(arr)-1],20)) # meaning type(list) rounds values at \n",
    "#most up to 14 . after dot or otherwise decimal places\n",
    "type(arr)"
   ]
  },
  {
   "cell_type": "code",
   "execution_count": 23,
   "id": "b30a53c4-61f3-431b-bd9a-fcb2942ac47b",
   "metadata": {},
   "outputs": [
    {
     "name": "stdout",
     "output_type": "stream",
     "text": [
      "[-1, 1, 1234.5, -251.52522141526688]\n",
      "[]\n"
     ]
    }
   ],
   "source": [
    "del arr[2:4]\n",
    "print(arr)\n",
    "del arr[:]\n",
    "print(arr)"
   ]
  },
  {
   "cell_type": "code",
   "execution_count": 24,
   "id": "bc42c84b-9b7d-45e7-87d2-5f22c233627b",
   "metadata": {},
   "outputs": [],
   "source": [
    "del arr"
   ]
  },
  {
   "cell_type": "markdown",
   "id": "30eeb8cf-003e-492c-9ad3-bef84a55c980",
   "metadata": {},
   "source": [
    "#### Tuples and Sequences"
   ]
  },
  {
   "cell_type": "code",
   "execution_count": 26,
   "id": "998667fe-3e86-4252-91d2-0d87e45ee0e7",
   "metadata": {},
   "outputs": [
    {
     "name": "stdout",
     "output_type": "stream",
     "text": [
      "123457890\n",
      "(123457890, 987654321, 'Greetings, Spoiled brat!')\n",
      "((123457890, 987654321, 'Greetings, Spoiled brat!'), (1, 3, 4, 1, 7))\n",
      "([1, 3], [2, 4])\n",
      "(((123457890, 987654321, 'Greetings, Spoiled brat!'), (1, 3, 4, 1, 7)), ([1, 3], [2, 4]))\n"
     ]
    }
   ],
   "source": [
    "Tuple = 123457890, 987654321, 'Greetings, Spoiled brat!'\n",
    "print(Tuple[0])\n",
    "print(Tuple)\n",
    "# tuples could be nested\n",
    "u = Tuple, (1,3,4,1,7)\n",
    "print(u)\n",
    "#tuples are immutable\n",
    "#Tuple[0] = 999999999\n",
    "#but they can contain mutable objects\n",
    "v = ([1,3],[2,4])\n",
    "print(v)\n",
    "vu = u, v\n",
    "print(vu)"
   ]
  },
  {
   "cell_type": "code",
   "execution_count": 27,
   "id": "a99512f2-731b-460e-bfe2-02abeeb65d61",
   "metadata": {},
   "outputs": [
    {
     "name": "stdout",
     "output_type": "stream",
     "text": [
      "0\n",
      "1\n",
      "('Hi',)\n"
     ]
    }
   ],
   "source": [
    "empty = ()\n",
    "singleton = \"Hi\", #<-- not trailing comma\n",
    "print(len(empty))\n",
    "print(len(singleton))\n",
    "print(singleton)"
   ]
  },
  {
   "cell_type": "code",
   "execution_count": 28,
   "id": "ca842012-328b-42a5-848d-08aeba9ef11e",
   "metadata": {},
   "outputs": [
    {
     "name": "stdout",
     "output_type": "stream",
     "text": [
      "123457890 \n",
      " 987654321 \n",
      " Greetings, Spoiled brat! \n",
      "\n"
     ]
    }
   ],
   "source": [
    "q,w,e = Tuple\n",
    "print(q,'\\n',w,'\\n',e,'\\n')"
   ]
  },
  {
   "cell_type": "markdown",
   "id": "398477d8-c43e-4c37-bfbf-37637ed734c0",
   "metadata": {},
   "source": [
    "#### Sets"
   ]
  },
  {
   "cell_type": "code",
   "execution_count": 29,
   "id": "a422be45-f1d5-47f9-930c-4ddc72234b72",
   "metadata": {},
   "outputs": [
    {
     "name": "stdout",
     "output_type": "stream",
     "text": [
      "{'apple', 'pear', 'orange', 'banana'}\n",
      "True\n",
      "False\n"
     ]
    }
   ],
   "source": [
    "basket = {'apple', 'orange', 'apple', 'pear', 'orange', 'banana'}\n",
    "print(basket)                      # show that duplicates have been removed\n",
    "print('orange' in basket)\n",
    "print('crabgrass' in basket)"
   ]
  },
  {
   "cell_type": "code",
   "execution_count": 30,
   "id": "6531f197-4fa3-4293-bcaa-d7ae033463df",
   "metadata": {},
   "outputs": [
    {
     "name": "stdout",
     "output_type": "stream",
     "text": [
      "{'r', 'b', 'd'}\n",
      "{'r', 'm', 'd', 'a', 'l', 'z', 'b', 'c'}\n",
      "{'c', 'a'}\n",
      "{'r', 'm', 'b', 'l', 'd', 'z'}\n"
     ]
    }
   ],
   "source": [
    "a = set('abracadabra')\n",
    "b = set('alacazam')\n",
    "a                                  # unique letters in a\n",
    "\n",
    "print(a - b)                              # letters in a but not in b\n",
    "print(a | b)                              # letters in a or b or both\n",
    "print (a & b)                              # letters in both a and b\n",
    "print(a ^ b)                              # letters in a or b but not both\n"
   ]
  },
  {
   "cell_type": "code",
   "execution_count": 31,
   "id": "42d19c9d-cac1-4e10-a991-930911f932dd",
   "metadata": {},
   "outputs": [
    {
     "data": {
      "text/plain": [
       "{'d', 'r'}"
      ]
     },
     "execution_count": 31,
     "metadata": {},
     "output_type": "execute_result"
    }
   ],
   "source": [
    "a = {x for x in \"abracadabra\" if x not in \"abc\"}\n",
    "a"
   ]
  },
  {
   "cell_type": "markdown",
   "id": "bcbe7bae-c431-489e-8e8b-817e0db23cc5",
   "metadata": {},
   "source": [
    "#### Dictionaries"
   ]
  },
  {
   "cell_type": "code",
   "execution_count": 32,
   "id": "6b67ca3d-5e27-44c7-883c-8a9125537e69",
   "metadata": {},
   "outputs": [
    {
     "name": "stdout",
     "output_type": "stream",
     "text": [
      "John\n",
      "25\n",
      "26\n",
      "{'name': 'John', 'age': 26, 'job': 'Engineer', 'city': 'New York'}\n",
      "Name is in the dictionary.\n",
      "{'name': 'John', 'age': 26, 'city': 'New York'}\n",
      "['name', 'age', 'city']\n"
     ]
    }
   ],
   "source": [
    "# Creating a dictionary\n",
    "my_dict = {\n",
    "    'name': 'John',\n",
    "    'age': 25,\n",
    "    'job': 'Engineer'\n",
    "}\n",
    "\n",
    "# Accessing values by key\n",
    "print(my_dict['name'])  # Output: John\n",
    "print(my_dict['age'])   # Output: 25\n",
    "\n",
    "# Modifying a value\n",
    "my_dict['age'] = 26\n",
    "print(my_dict['age'])   # Output: 26\n",
    "\n",
    "# Adding a new key-value pair\n",
    "my_dict['city'] = 'New York'\n",
    "print(my_dict)  # Output: {'name': 'John', 'age': 26, 'job': 'Engineer', 'city': 'New York'}\n",
    "\n",
    "# Checking if a key exists\n",
    "if 'name' in my_dict:\n",
    "    print(\"Name is in the dictionary.\")  # Output: Name is in the dictionary.\n",
    "\n",
    "# Deleting a key-value pair\n",
    "del my_dict['job']\n",
    "print(my_dict)  # Output: {'name': 'John', 'age': 26, 'city': 'New York'}\n",
    "\n",
    "# Extracting keys\n",
    "print(list(my_dict))  # Output: ['name', 'age', 'city']\n"
   ]
  },
  {
   "cell_type": "code",
   "execution_count": 33,
   "id": "7da86f5e-9b0c-4b66-8b09-5ae41b74e614",
   "metadata": {},
   "outputs": [
    {
     "name": "stdout",
     "output_type": "stream",
     "text": [
      "{'jack': 4098, 'sape': 4139, 'guido': 4127}\n",
      "4098\n",
      "{'jack': 4098, 'guido': 4127, 'irv': 4127}\n",
      "['jack', 'guido', 'irv']\n",
      "['guido', 'irv', 'jack']\n",
      "True\n",
      "False\n"
     ]
    }
   ],
   "source": [
    "tel = {'jack': 4098, 'sape': 4139}\n",
    "tel['guido'] = 4127\n",
    "print(tel)\n",
    "print(tel['jack'])\n",
    "\n",
    "del tel['sape']\n",
    "tel['irv'] = 4127\n",
    "print(tel)\n",
    "\n",
    "print(list(tel))\n",
    "print(sorted(tel))\n",
    "print('guido' in tel)\n",
    "print('jack' not in tel)"
   ]
  },
  {
   "cell_type": "code",
   "execution_count": 34,
   "id": "57ea6713-1c6a-43d9-922e-757b35b52b40",
   "metadata": {},
   "outputs": [
    {
     "data": {
      "text/plain": [
       "{'sape': 4139, 'guido': 4127, 'jack': 4098}"
      ]
     },
     "execution_count": 34,
     "metadata": {},
     "output_type": "execute_result"
    }
   ],
   "source": [
    "dict([('sape', 4139), ('guido', 4127), ('jack', 4098)])"
   ]
  },
  {
   "cell_type": "code",
   "execution_count": 35,
   "id": "99b98fbb-a904-48ac-a50d-d5506716e42a",
   "metadata": {},
   "outputs": [
    {
     "data": {
      "text/plain": [
       "{2: 4, 4: 16, 6: 36, 8: 64, 10: 100, 12: 144}"
      ]
     },
     "execution_count": 35,
     "metadata": {},
     "output_type": "execute_result"
    }
   ],
   "source": [
    "{x: x**2 for x in (2,4,6,8,10,12)}"
   ]
  },
  {
   "cell_type": "code",
   "execution_count": 36,
   "id": "ec66ca08-576e-43aa-94d4-1a52402d7df4",
   "metadata": {},
   "outputs": [
    {
     "data": {
      "text/plain": [
       "{'sape': 4139, 'guido': 4127, 'jack': 4098}"
      ]
     },
     "execution_count": 36,
     "metadata": {},
     "output_type": "execute_result"
    }
   ],
   "source": [
    "dict(sape=4139, guido=4127, jack=4098)"
   ]
  },
  {
   "cell_type": "markdown",
   "id": "ac2e7ca3-bfcb-4149-a217-63bde5ce0733",
   "metadata": {},
   "source": [
    "#### Looping Techniques"
   ]
  },
  {
   "cell_type": "code",
   "execution_count": 37,
   "id": "0d41d693-6200-4b26-80ef-775edf337c47",
   "metadata": {},
   "outputs": [
    {
     "name": "stdout",
     "output_type": "stream",
     "text": [
      "gallhand the pure\n",
      "robin the brave\n"
     ]
    }
   ],
   "source": [
    "knights = {'gallhand': 'the pure', 'robin': 'the brave'}\n",
    "for k,v in knights.items():\n",
    "    print(k, v)"
   ]
  },
  {
   "cell_type": "code",
   "execution_count": 38,
   "id": "48411bab-0889-4d0a-a18c-3aae7723f54e",
   "metadata": {},
   "outputs": [
    {
     "name": "stdout",
     "output_type": "stream",
     "text": [
      "0 tic\n",
      "1 tac\n",
      "2 toe\n"
     ]
    }
   ],
   "source": [
    "for i,v in enumerate(['tic','tac','toe']):\n",
    "    print(i,v)"
   ]
  },
  {
   "cell_type": "code",
   "execution_count": 39,
   "id": "77a9b3d4-55bc-4480-bed0-0b0dbecb0f1c",
   "metadata": {},
   "outputs": [
    {
     "name": "stdout",
     "output_type": "stream",
     "text": [
      "What is your name?  It is lancelot.\n",
      "What is your quest?  It is the holy grail.\n",
      "What is your favorite color?  It is blue.\n"
     ]
    }
   ],
   "source": [
    "# To loop over two or more sequences at the same time, the entries can\n",
    "# be paired with the zip() function.\n",
    "questions = ['name', 'quest', 'favorite color']\n",
    "answers = ['lancelot', 'the holy grail', 'blue']\n",
    "for q, a in zip(questions, answers):\n",
    "    print('What is your {0}?  It is {1}.'.format(q, a))"
   ]
  },
  {
   "cell_type": "code",
   "execution_count": 40,
   "id": "a7150b50-bb86-4b59-afcb-554eca477568",
   "metadata": {},
   "outputs": [
    {
     "name": "stdout",
     "output_type": "stream",
     "text": [
      "7\n",
      "4\n",
      "1\n"
     ]
    }
   ],
   "source": [
    "# To loop over a sequence in reverse, first specify the sequence in a forward\n",
    "# direction and then call the reversed() function.\n",
    "for i in reversed(range(1,10,3)):\n",
    "    print(i)"
   ]
  },
  {
   "cell_type": "code",
   "execution_count": 49,
   "id": "8786dbbd-05af-4903-9ac8-50622e643a51",
   "metadata": {},
   "outputs": [
    {
     "name": "stdout",
     "output_type": "stream",
     "text": [
      "apple\n",
      "apple\n",
      "banana\n",
      "orange\n",
      "orange\n",
      "pear\n",
      "\n",
      "\n",
      "apple\n",
      "orange\n",
      "apple\n",
      "pear\n",
      "orange\n",
      "banana\n"
     ]
    }
   ],
   "source": [
    "# To loop over a sequence in sorted order, use the sorted() function \n",
    "# which returns a new sorted list while leaving the source unaltered.\n",
    "basket = ['apple', 'orange', 'apple', 'pear', 'orange', 'banana']\n",
    "for i in sorted(basket):\n",
    "    print(i)\n",
    "print(\"\\n\")\n",
    "for i in (basket):\n",
    "    print(i)"
   ]
  },
  {
   "cell_type": "code",
   "execution_count": 42,
   "id": "a7ebc41c-b62a-4e4c-930d-2131e116ddaf",
   "metadata": {},
   "outputs": [
    {
     "name": "stdout",
     "output_type": "stream",
     "text": [
      "apple\n",
      "banana\n",
      "orange\n",
      "pear\n"
     ]
    }
   ],
   "source": [
    "# Using set() on a sequence eliminates duplicate elements. The use of\n",
    "# sorted() in combination with set() over a sequence is an idiomatic \n",
    "# way to loop over unique elements of the sequence in sorted order.\n",
    "basket = ['apple', 'orange', 'apple', 'pear', 'orange', 'banana']\n",
    "for f in sorted(set(basket)):\n",
    "    print(f)"
   ]
  },
  {
   "cell_type": "code",
   "execution_count": 43,
   "id": "90725a83-4365-4dd9-9af8-f8af63d7dc00",
   "metadata": {},
   "outputs": [
    {
     "data": {
      "text/plain": [
       "[56.2, 51.7, 55.3, 52.5, 47.8]"
      ]
     },
     "execution_count": 43,
     "metadata": {},
     "output_type": "execute_result"
    }
   ],
   "source": [
    "# It is sometimes tempting to change a list while you are looping over \n",
    "# it; however, it is often simpler and safer to create a new list instead.\n",
    "import math\n",
    "raw_data = [56.2, float('NaN'), 51.7, 55.3, 52.5, float('NaN'), 47.8]\n",
    "filtered_data = []\n",
    "for value in raw_data:\n",
    "    if not math.isnan(value):\n",
    "        filtered_data.append(value)\n",
    "filtered_data"
   ]
  },
  {
   "cell_type": "markdown",
   "id": "a5f944e2-29ac-49c5-8bee-d3b9d28d41ee",
   "metadata": {},
   "source": [
    "#### More on Conditions"
   ]
  },
  {
   "cell_type": "code",
   "execution_count": 44,
   "id": "89b0eb7b-e2fa-4b13-9f7e-69d0e1e2a174",
   "metadata": {},
   "outputs": [
    {
     "name": "stdout",
     "output_type": "stream",
     "text": [
      "[False]\n",
      "[True]\n"
     ]
    }
   ],
   "source": [
    "differ = [type(basket) is not type(filtered_data)]\n",
    "same = [type(basket) is type(filtered_data)]\n",
    "print(differ)\n",
    "print(same)"
   ]
  },
  {
   "cell_type": "code",
   "execution_count": 45,
   "id": "3b993466-5179-4d4a-a318-07febac85302",
   "metadata": {},
   "outputs": [
    {
     "name": "stdout",
     "output_type": "stream",
     "text": [
      "Trondheim\n",
      "not null\n",
      "<class 'str'>\n"
     ]
    }
   ],
   "source": [
    "str1, str2, str3 = '', 'Trondheim', 'Hammer Dance'\n",
    "non_null = str1 or str2 or str3\n",
    "Null = str1 and str2 and str3\n",
    "print(non_null)\n",
    "print('Null' if Null is None else 'not null')\n",
    "print(type(Null))"
   ]
  },
  {
   "cell_type": "markdown",
   "id": "23480796-3acf-4cfa-aa14-60137de42b15",
   "metadata": {},
   "source": [
    "#### Comparing Sequences and Other Types"
   ]
  },
  {
   "cell_type": "code",
   "execution_count": 50,
   "id": "f1691d50-2e64-4529-8ce7-c9eeaeb89dce",
   "metadata": {},
   "outputs": [
    {
     "name": "stdout",
     "output_type": "stream",
     "text": [
      "True\n",
      "True\n",
      "True\n",
      "True\n",
      "True\n",
      "True\n",
      "True\n"
     ]
    }
   ],
   "source": [
    "print((1, 2, 3)              < (1, 2, 4))\n",
    "print([1, 2, 3]              < [1, 2, 4])\n",
    "print('ABC' < 'C' < 'Pascal' < 'Python')\n",
    "print((1, 2, 3, 4)           < (1, 2, 4))\n",
    "print((1, 2)                 < (1, 2, -1))\n",
    "print((1, 2, 3)             == (1.0, 2.0, 3.0))\n",
    "print((1, 2, ('aa', 'ab'))   < (1, 2, ('abc', 'a'), 4))"
   ]
  },
  {
   "cell_type": "code",
   "execution_count": null,
   "id": "74de91bb-b04d-448b-b407-02faed68a9ce",
   "metadata": {},
   "outputs": [],
   "source": []
  }
 ],
 "metadata": {
  "kernelspec": {
   "display_name": "Python 3 (ipykernel)",
   "language": "python",
   "name": "python3"
  },
  "language_info": {
   "codemirror_mode": {
    "name": "ipython",
    "version": 3
   },
   "file_extension": ".py",
   "mimetype": "text/x-python",
   "name": "python",
   "nbconvert_exporter": "python",
   "pygments_lexer": "ipython3",
   "version": "3.12.3"
  }
 },
 "nbformat": 4,
 "nbformat_minor": 5
}
