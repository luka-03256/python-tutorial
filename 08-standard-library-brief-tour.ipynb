{
 "cells": [
  {
   "cell_type": "markdown",
   "id": "0bb0331d-283c-45b5-a688-3bf961c841b8",
   "metadata": {},
   "source": [
    "# Brief Tour of the Standard Library"
   ]
  },
  {
   "cell_type": "markdown",
   "id": "497e6d8b-f98f-49e5-86d6-860a3ff2da60",
   "metadata": {},
   "source": [
    "##### Operating system interface\n",
    "\n",
    "The `os` module provides dozens of functions for interacting with the operating system:"
   ]
  },
  {
   "cell_type": "code",
   "execution_count": 1,
   "id": "abdae51c-f496-4aaf-8a59-234090737170",
   "metadata": {},
   "outputs": [
    {
     "name": "stdout",
     "output_type": "stream",
     "text": [
      "C:\\Users\\PC\\OneDrive\\Documents\\AI\\python-tutorial\n",
      "1\n"
     ]
    }
   ],
   "source": [
    "import os\n",
    "print(os.getcwd()) # return the current working directory\n",
    "#print(os.chdir('..'))\n",
    "print(os.system('help')) # run the cmd dos help command to display posibilities"
   ]
  },
  {
   "cell_type": "markdown",
   "id": "78f8f971-807a-40c6-943e-94c22979ed61",
   "metadata": {},
   "source": [
    "Be sure to use the import os style instead of from os import *. This will keep os.open() from shadowing the built-in open() function which operates much differently.\n",
    "\n",
    "The built-in dir() and help() functions are useful as interactive aids for working with large modules like os:"
   ]
  },
  {
   "cell_type": "code",
   "execution_count": 2,
   "id": "0dde8eae-6b1e-473f-90df-6f155007e183",
   "metadata": {},
   "outputs": [
    {
     "name": "stdout",
     "output_type": "stream",
     "text": [
      "['DirEntry', 'EX_OK', 'F_OK', 'GenericAlias', 'Mapping', 'MutableMapping', 'O_APPEND', 'O_BINARY', 'O_CREAT', 'O_EXCL', 'O_NOINHERIT', 'O_RANDOM', 'O_RDONLY', 'O_RDWR', 'O_SEQUENTIAL', 'O_SHORT_LIVED', 'O_TEMPORARY', 'O_TEXT', 'O_TRUNC', 'O_WRONLY', 'P_DETACH', 'P_NOWAIT', 'P_NOWAITO', 'P_OVERLAY', 'P_WAIT', 'PathLike', 'R_OK', 'SEEK_CUR', 'SEEK_END', 'SEEK_SET', 'TMP_MAX', 'W_OK', 'X_OK', '_AddedDllDirectory', '_Environ', '__all__', '__builtins__', '__doc__', '__file__', '__loader__', '__name__', '__package__', '__spec__', '_check_methods', '_execvpe', '_exists', '_exit', '_fspath', '_get_exports_list', '_wrap_close', 'abc', 'abort', 'access', 'add_dll_directory', 'altsep', 'chdir', 'chmod', 'close', 'closerange', 'cpu_count', 'curdir', 'defpath', 'device_encoding', 'devnull', 'dup', 'dup2', 'environ', 'error', 'execl', 'execle', 'execlp', 'execlpe', 'execv', 'execve', 'execvp', 'execvpe', 'extsep', 'fdopen', 'fsdecode', 'fsencode', 'fspath', 'fstat', 'fsync', 'ftruncate', 'get_blocking', 'get_exec_path', 'get_handle_inheritable', 'get_inheritable', 'get_terminal_size', 'getcwd', 'getcwdb', 'getenv', 'getlogin', 'getpid', 'getppid', 'isatty', 'kill', 'linesep', 'link', 'listdir', 'listdrives', 'listmounts', 'listvolumes', 'lseek', 'lstat', 'makedirs', 'mkdir', 'name', 'open', 'pardir', 'path', 'pathsep', 'pipe', 'popen', 'putenv', 'read', 'readlink', 'remove', 'removedirs', 'rename', 'renames', 'replace', 'rmdir', 'scandir', 'sep', 'set_blocking', 'set_handle_inheritable', 'set_inheritable', 'spawnl', 'spawnle', 'spawnv', 'spawnve', 'st', 'startfile', 'stat', 'stat_result', 'statvfs_result', 'strerror', 'supports_bytes_environ', 'supports_dir_fd', 'supports_effective_ids', 'supports_fd', 'supports_follow_symlinks', 'symlink', 'sys', 'system', 'terminal_size', 'times', 'times_result', 'truncate', 'umask', 'uname_result', 'unlink', 'unsetenv', 'urandom', 'utime', 'waitpid', 'waitstatus_to_exitcode', 'walk', 'write'] \n",
      "\n",
      "Help on module os:\n",
      "\n",
      "NAME\n",
      "    os - OS routines for NT or Posix depending on what system we're on.\n",
      "\n",
      "MODULE REFERENCE\n",
      "    https://docs.python.org/3.12/library/os.html\n",
      "\n",
      "    The following documentation is automatically generated from the Python\n",
      "    source files.  It may be incomplete, incorrect or include features that\n",
      "    are considered implementation detail and may vary between Python\n",
      "    implementations.  When in doubt, consult the module reference at the\n",
      "    location listed above.\n",
      "\n",
      "DESCRIPTION\n",
      "    This exports:\n",
      "      - all functions from posix or nt, e.g. unlink, stat, etc.\n",
      "      - os.path is either posixpath or ntpath\n",
      "      - os.name is either 'posix' or 'nt'\n",
      "      - os.curdir is a string representing the current directory (always '.')\n",
      "      - os.pardir is a string representing the parent directory (always '..')\n",
      "      - os.sep is the (or a most common) pathname separator ('/' or '\\\\')\n",
      "      - os.extsep is the extension separator (always '.')\n",
      "      - os.altsep is the alternate pathname separator (None or '/')\n",
      "      - os.pathsep is the component separator used in $PATH etc\n",
      "      - os.linesep is the line separator in text files ('\\r' or '\\n' or '\\r\\n')\n",
      "      - os.defpath is the default search path for executables\n",
      "      - os.devnull is the file path of the null device ('/dev/null', etc.)\n",
      "\n",
      "    Programs that import and use 'os' stand a better chance of being\n",
      "    portable between different platforms.  Of course, they must then\n",
      "    only use functions that are defined by all platforms (e.g., unlink\n",
      "    and opendir), and leave all pathname manipulation to os.path\n",
      "    (e.g., split and join).\n",
      "\n",
      "CLASSES\n",
      "    builtins.Exception(builtins.BaseException)\n",
      "        builtins.OSError\n",
      "    builtins.object\n",
      "        nt.DirEntry\n",
      "    builtins.tuple(builtins.object)\n",
      "        nt.times_result\n",
      "        nt.uname_result\n",
      "        stat_result\n",
      "        statvfs_result\n",
      "        terminal_size\n",
      "\n",
      "    class DirEntry(builtins.object)\n",
      "     |  Methods defined here:\n",
      "     |\n",
      "     |  __fspath__(self, /)\n",
      "     |      Returns the path for the entry.\n",
      "     |\n",
      "     |  __repr__(self, /)\n",
      "     |      Return repr(self).\n",
      "     |\n",
      "     |  inode(self, /)\n",
      "     |      Return inode of the entry; cached per entry.\n",
      "     |\n",
      "     |  is_dir(self, /, *, follow_symlinks=True)\n",
      "     |      Return True if the entry is a directory; cached per entry.\n",
      "     |\n",
      "     |  is_file(self, /, *, follow_symlinks=True)\n",
      "     |      Return True if the entry is a file; cached per entry.\n",
      "     |\n",
      "     |  is_junction(self, /)\n",
      "     |      Return True if the entry is a junction; cached per entry.\n",
      "     |\n",
      "     |  is_symlink(self, /)\n",
      "     |      Return True if the entry is a symbolic link; cached per entry.\n",
      "     |\n",
      "     |  stat(self, /, *, follow_symlinks=True)\n",
      "     |      Return stat_result object for the entry; cached per entry.\n",
      "     |\n",
      "     |  ----------------------------------------------------------------------\n",
      "     |  Class methods defined here:\n",
      "     |\n",
      "     |  __class_getitem__(...)\n",
      "     |      See PEP 585\n",
      "     |\n",
      "     |  ----------------------------------------------------------------------\n",
      "     |  Data descriptors defined here:\n",
      "     |\n",
      "     |  name\n",
      "     |      the entry's base filename, relative to scandir() \"path\" argument\n",
      "     |\n",
      "     |  path\n",
      "     |      the entry's full path name; equivalent to os.path.join(scandir_path, entry.name)\n",
      "\n",
      "    error = class OSError(Exception)\n",
      "     |  Base class for I/O related errors.\n",
      "     |\n",
      "     |  Method resolution order:\n",
      "     |      OSError\n",
      "     |      Exception\n",
      "     |      BaseException\n",
      "     |      object\n",
      "     |\n",
      "     |  Built-in subclasses:\n",
      "     |      BlockingIOError\n",
      "     |      ChildProcessError\n",
      "     |      ConnectionError\n",
      "     |      FileExistsError\n",
      "     |      ... and 7 other subclasses\n",
      "     |\n",
      "     |  Methods defined here:\n",
      "     |\n",
      "     |  __init__(self, /, *args, **kwargs)\n",
      "     |      Initialize self.  See help(type(self)) for accurate signature.\n",
      "     |\n",
      "     |  __reduce__(...)\n",
      "     |      Helper for pickle.\n",
      "     |\n",
      "     |  __str__(self, /)\n",
      "     |      Return str(self).\n",
      "     |\n",
      "     |  ----------------------------------------------------------------------\n",
      "     |  Static methods defined here:\n",
      "     |\n",
      "     |  __new__(*args, **kwargs)\n",
      "     |      Create and return a new object.  See help(type) for accurate signature.\n",
      "     |\n",
      "     |  ----------------------------------------------------------------------\n",
      "     |  Data descriptors defined here:\n",
      "     |\n",
      "     |  characters_written\n",
      "     |\n",
      "     |  errno\n",
      "     |      POSIX exception code\n",
      "     |\n",
      "     |  filename\n",
      "     |      exception filename\n",
      "     |\n",
      "     |  filename2\n",
      "     |      second exception filename\n",
      "     |\n",
      "     |  strerror\n",
      "     |      exception strerror\n",
      "     |\n",
      "     |  winerror\n",
      "     |      Win32 exception code\n",
      "     |\n",
      "     |  ----------------------------------------------------------------------\n",
      "     |  Methods inherited from BaseException:\n",
      "     |\n",
      "     |  __delattr__(self, name, /)\n",
      "     |      Implement delattr(self, name).\n",
      "     |\n",
      "     |  __getattribute__(self, name, /)\n",
      "     |      Return getattr(self, name).\n",
      "     |\n",
      "     |  __repr__(self, /)\n",
      "     |      Return repr(self).\n",
      "     |\n",
      "     |  __setattr__(self, name, value, /)\n",
      "     |      Implement setattr(self, name, value).\n",
      "     |\n",
      "     |  __setstate__(...)\n",
      "     |\n",
      "     |  add_note(...)\n",
      "     |      Exception.add_note(note) --\n",
      "     |      add a note to the exception\n",
      "     |\n",
      "     |  with_traceback(...)\n",
      "     |      Exception.with_traceback(tb) --\n",
      "     |      set self.__traceback__ to tb and return self.\n",
      "     |\n",
      "     |  ----------------------------------------------------------------------\n",
      "     |  Data descriptors inherited from BaseException:\n",
      "     |\n",
      "     |  __cause__\n",
      "     |      exception cause\n",
      "     |\n",
      "     |  __context__\n",
      "     |      exception context\n",
      "     |\n",
      "     |  __dict__\n",
      "     |\n",
      "     |  __suppress_context__\n",
      "     |\n",
      "     |  __traceback__\n",
      "     |\n",
      "     |  args\n",
      "\n",
      "    class stat_result(builtins.tuple)\n",
      "     |  stat_result(iterable=(), /)\n",
      "     |\n",
      "     |  stat_result: Result from stat, fstat, or lstat.\n",
      "     |\n",
      "     |  This object may be accessed either as a tuple of\n",
      "     |    (mode, ino, dev, nlink, uid, gid, size, atime, mtime, ctime)\n",
      "     |  or via the attributes st_mode, st_ino, st_dev, st_nlink, st_uid, and so on.\n",
      "     |\n",
      "     |  Posix/windows: If your platform supports st_blksize, st_blocks, st_rdev,\n",
      "     |  or st_flags, they are available as attributes only.\n",
      "     |\n",
      "     |  See os.stat for more information.\n",
      "     |\n",
      "     |  Method resolution order:\n",
      "     |      stat_result\n",
      "     |      builtins.tuple\n",
      "     |      builtins.object\n",
      "     |\n",
      "     |  Methods defined here:\n",
      "     |\n",
      "     |  __reduce__(...)\n",
      "     |      Helper for pickle.\n",
      "     |\n",
      "     |  __repr__(self, /)\n",
      "     |      Return repr(self).\n",
      "     |\n",
      "     |  ----------------------------------------------------------------------\n",
      "     |  Static methods defined here:\n",
      "     |\n",
      "     |  __new__(*args, **kwargs)\n",
      "     |      Create and return a new object.  See help(type) for accurate signature.\n",
      "     |\n",
      "     |  ----------------------------------------------------------------------\n",
      "     |  Data descriptors defined here:\n",
      "     |\n",
      "     |  st_atime\n",
      "     |      time of last access\n",
      "     |\n",
      "     |  st_atime_ns\n",
      "     |      time of last access in nanoseconds\n",
      "     |\n",
      "     |  st_birthtime\n",
      "     |      time of creation\n",
      "     |\n",
      "     |  st_birthtime_ns\n",
      "     |      time of creation in nanoseconds\n",
      "     |\n",
      "     |  st_ctime\n",
      "     |      time of last change\n",
      "     |\n",
      "     |  st_ctime_ns\n",
      "     |      time of last change in nanoseconds\n",
      "     |\n",
      "     |  st_dev\n",
      "     |      device\n",
      "     |\n",
      "     |  st_file_attributes\n",
      "     |      Windows file attribute bits\n",
      "     |\n",
      "     |  st_gid\n",
      "     |      group ID of owner\n",
      "     |\n",
      "     |  st_ino\n",
      "     |      inode\n",
      "     |\n",
      "     |  st_mode\n",
      "     |      protection bits\n",
      "     |\n",
      "     |  st_mtime\n",
      "     |      time of last modification\n",
      "     |\n",
      "     |  st_mtime_ns\n",
      "     |      time of last modification in nanoseconds\n",
      "     |\n",
      "     |  st_nlink\n",
      "     |      number of hard links\n",
      "     |\n",
      "     |  st_reparse_tag\n",
      "     |      Windows reparse tag\n",
      "     |\n",
      "     |  st_size\n",
      "     |      total size, in bytes\n",
      "     |\n",
      "     |  st_uid\n",
      "     |      user ID of owner\n",
      "     |\n",
      "     |  ----------------------------------------------------------------------\n",
      "     |  Data and other attributes defined here:\n",
      "     |\n",
      "     |  __match_args__ = ('st_mode', 'st_ino', 'st_dev', 'st_nlink', 'st_uid',...\n",
      "     |\n",
      "     |  n_fields = 20\n",
      "     |\n",
      "     |  n_sequence_fields = 10\n",
      "     |\n",
      "     |  n_unnamed_fields = 3\n",
      "     |\n",
      "     |  ----------------------------------------------------------------------\n",
      "     |  Methods inherited from builtins.tuple:\n",
      "     |\n",
      "     |  __add__(self, value, /)\n",
      "     |      Return self+value.\n",
      "     |\n",
      "     |  __contains__(self, key, /)\n",
      "     |      Return bool(key in self).\n",
      "     |\n",
      "     |  __eq__(self, value, /)\n",
      "     |      Return self==value.\n",
      "     |\n",
      "     |  __ge__(self, value, /)\n",
      "     |      Return self>=value.\n",
      "     |\n",
      "     |  __getattribute__(self, name, /)\n",
      "     |      Return getattr(self, name).\n",
      "     |\n",
      "     |  __getitem__(self, key, /)\n",
      "     |      Return self[key].\n",
      "     |\n",
      "     |  __getnewargs__(self, /)\n",
      "     |\n",
      "     |  __gt__(self, value, /)\n",
      "     |      Return self>value.\n",
      "     |\n",
      "     |  __hash__(self, /)\n",
      "     |      Return hash(self).\n",
      "     |\n",
      "     |  __iter__(self, /)\n",
      "     |      Implement iter(self).\n",
      "     |\n",
      "     |  __le__(self, value, /)\n",
      "     |      Return self<=value.\n",
      "     |\n",
      "     |  __len__(self, /)\n",
      "     |      Return len(self).\n",
      "     |\n",
      "     |  __lt__(self, value, /)\n",
      "     |      Return self<value.\n",
      "     |\n",
      "     |  __mul__(self, value, /)\n",
      "     |      Return self*value.\n",
      "     |\n",
      "     |  __ne__(self, value, /)\n",
      "     |      Return self!=value.\n",
      "     |\n",
      "     |  __rmul__(self, value, /)\n",
      "     |      Return value*self.\n",
      "     |\n",
      "     |  count(self, value, /)\n",
      "     |      Return number of occurrences of value.\n",
      "     |\n",
      "     |  index(self, value, start=0, stop=9223372036854775807, /)\n",
      "     |      Return first index of value.\n",
      "     |\n",
      "     |      Raises ValueError if the value is not present.\n",
      "     |\n",
      "     |  ----------------------------------------------------------------------\n",
      "     |  Class methods inherited from builtins.tuple:\n",
      "     |\n",
      "     |  __class_getitem__(...)\n",
      "     |      See PEP 585\n",
      "\n",
      "    class statvfs_result(builtins.tuple)\n",
      "     |  statvfs_result(iterable=(), /)\n",
      "     |\n",
      "     |  statvfs_result: Result from statvfs or fstatvfs.\n",
      "     |\n",
      "     |  This object may be accessed either as a tuple of\n",
      "     |    (bsize, frsize, blocks, bfree, bavail, files, ffree, favail, flag, namemax),\n",
      "     |  or via the attributes f_bsize, f_frsize, f_blocks, f_bfree, and so on.\n",
      "     |\n",
      "     |  See os.statvfs for more information.\n",
      "     |\n",
      "     |  Method resolution order:\n",
      "     |      statvfs_result\n",
      "     |      builtins.tuple\n",
      "     |      builtins.object\n",
      "     |\n",
      "     |  Methods defined here:\n",
      "     |\n",
      "     |  __reduce__(...)\n",
      "     |      Helper for pickle.\n",
      "     |\n",
      "     |  __repr__(self, /)\n",
      "     |      Return repr(self).\n",
      "     |\n",
      "     |  ----------------------------------------------------------------------\n",
      "     |  Static methods defined here:\n",
      "     |\n",
      "     |  __new__(*args, **kwargs)\n",
      "     |      Create and return a new object.  See help(type) for accurate signature.\n",
      "     |\n",
      "     |  ----------------------------------------------------------------------\n",
      "     |  Data descriptors defined here:\n",
      "     |\n",
      "     |  f_bavail\n",
      "     |\n",
      "     |  f_bfree\n",
      "     |\n",
      "     |  f_blocks\n",
      "     |\n",
      "     |  f_bsize\n",
      "     |\n",
      "     |  f_favail\n",
      "     |\n",
      "     |  f_ffree\n",
      "     |\n",
      "     |  f_files\n",
      "     |\n",
      "     |  f_flag\n",
      "     |\n",
      "     |  f_frsize\n",
      "     |\n",
      "     |  f_fsid\n",
      "     |\n",
      "     |  f_namemax\n",
      "     |\n",
      "     |  ----------------------------------------------------------------------\n",
      "     |  Data and other attributes defined here:\n",
      "     |\n",
      "     |  __match_args__ = ('f_bsize', 'f_frsize', 'f_blocks', 'f_bfree', 'f_bav...\n",
      "     |\n",
      "     |  n_fields = 11\n",
      "     |\n",
      "     |  n_sequence_fields = 10\n",
      "     |\n",
      "     |  n_unnamed_fields = 0\n",
      "     |\n",
      "     |  ----------------------------------------------------------------------\n",
      "     |  Methods inherited from builtins.tuple:\n",
      "     |\n",
      "     |  __add__(self, value, /)\n",
      "     |      Return self+value.\n",
      "     |\n",
      "     |  __contains__(self, key, /)\n",
      "     |      Return bool(key in self).\n",
      "     |\n",
      "     |  __eq__(self, value, /)\n",
      "     |      Return self==value.\n",
      "     |\n",
      "     |  __ge__(self, value, /)\n",
      "     |      Return self>=value.\n",
      "     |\n",
      "     |  __getattribute__(self, name, /)\n",
      "     |      Return getattr(self, name).\n",
      "     |\n",
      "     |  __getitem__(self, key, /)\n",
      "     |      Return self[key].\n",
      "     |\n",
      "     |  __getnewargs__(self, /)\n",
      "     |\n",
      "     |  __gt__(self, value, /)\n",
      "     |      Return self>value.\n",
      "     |\n",
      "     |  __hash__(self, /)\n",
      "     |      Return hash(self).\n",
      "     |\n",
      "     |  __iter__(self, /)\n",
      "     |      Implement iter(self).\n",
      "     |\n",
      "     |  __le__(self, value, /)\n",
      "     |      Return self<=value.\n",
      "     |\n",
      "     |  __len__(self, /)\n",
      "     |      Return len(self).\n",
      "     |\n",
      "     |  __lt__(self, value, /)\n",
      "     |      Return self<value.\n",
      "     |\n",
      "     |  __mul__(self, value, /)\n",
      "     |      Return self*value.\n",
      "     |\n",
      "     |  __ne__(self, value, /)\n",
      "     |      Return self!=value.\n",
      "     |\n",
      "     |  __rmul__(self, value, /)\n",
      "     |      Return value*self.\n",
      "     |\n",
      "     |  count(self, value, /)\n",
      "     |      Return number of occurrences of value.\n",
      "     |\n",
      "     |  index(self, value, start=0, stop=9223372036854775807, /)\n",
      "     |      Return first index of value.\n",
      "     |\n",
      "     |      Raises ValueError if the value is not present.\n",
      "     |\n",
      "     |  ----------------------------------------------------------------------\n",
      "     |  Class methods inherited from builtins.tuple:\n",
      "     |\n",
      "     |  __class_getitem__(...)\n",
      "     |      See PEP 585\n",
      "\n",
      "    class terminal_size(builtins.tuple)\n",
      "     |  terminal_size(iterable=(), /)\n",
      "     |\n",
      "     |  A tuple of (columns, lines) for holding terminal window size\n",
      "     |\n",
      "     |  Method resolution order:\n",
      "     |      terminal_size\n",
      "     |      builtins.tuple\n",
      "     |      builtins.object\n",
      "     |\n",
      "     |  Methods defined here:\n",
      "     |\n",
      "     |  __reduce__(...)\n",
      "     |      Helper for pickle.\n",
      "     |\n",
      "     |  __repr__(self, /)\n",
      "     |      Return repr(self).\n",
      "     |\n",
      "     |  ----------------------------------------------------------------------\n",
      "     |  Static methods defined here:\n",
      "     |\n",
      "     |  __new__(*args, **kwargs)\n",
      "     |      Create and return a new object.  See help(type) for accurate signature.\n",
      "     |\n",
      "     |  ----------------------------------------------------------------------\n",
      "     |  Data descriptors defined here:\n",
      "     |\n",
      "     |  columns\n",
      "     |      width of the terminal window in characters\n",
      "     |\n",
      "     |  lines\n",
      "     |      height of the terminal window in characters\n",
      "     |\n",
      "     |  ----------------------------------------------------------------------\n",
      "     |  Data and other attributes defined here:\n",
      "     |\n",
      "     |  __match_args__ = ('columns', 'lines')\n",
      "     |\n",
      "     |  n_fields = 2\n",
      "     |\n",
      "     |  n_sequence_fields = 2\n",
      "     |\n",
      "     |  n_unnamed_fields = 0\n",
      "     |\n",
      "     |  ----------------------------------------------------------------------\n",
      "     |  Methods inherited from builtins.tuple:\n",
      "     |\n",
      "     |  __add__(self, value, /)\n",
      "     |      Return self+value.\n",
      "     |\n",
      "     |  __contains__(self, key, /)\n",
      "     |      Return bool(key in self).\n",
      "     |\n",
      "     |  __eq__(self, value, /)\n",
      "     |      Return self==value.\n",
      "     |\n",
      "     |  __ge__(self, value, /)\n",
      "     |      Return self>=value.\n",
      "     |\n",
      "     |  __getattribute__(self, name, /)\n",
      "     |      Return getattr(self, name).\n",
      "     |\n",
      "     |  __getitem__(self, key, /)\n",
      "     |      Return self[key].\n",
      "     |\n",
      "     |  __getnewargs__(self, /)\n",
      "     |\n",
      "     |  __gt__(self, value, /)\n",
      "     |      Return self>value.\n",
      "     |\n",
      "     |  __hash__(self, /)\n",
      "     |      Return hash(self).\n",
      "     |\n",
      "     |  __iter__(self, /)\n",
      "     |      Implement iter(self).\n",
      "     |\n",
      "     |  __le__(self, value, /)\n",
      "     |      Return self<=value.\n",
      "     |\n",
      "     |  __len__(self, /)\n",
      "     |      Return len(self).\n",
      "     |\n",
      "     |  __lt__(self, value, /)\n",
      "     |      Return self<value.\n",
      "     |\n",
      "     |  __mul__(self, value, /)\n",
      "     |      Return self*value.\n",
      "     |\n",
      "     |  __ne__(self, value, /)\n",
      "     |      Return self!=value.\n",
      "     |\n",
      "     |  __rmul__(self, value, /)\n",
      "     |      Return value*self.\n",
      "     |\n",
      "     |  count(self, value, /)\n",
      "     |      Return number of occurrences of value.\n",
      "     |\n",
      "     |  index(self, value, start=0, stop=9223372036854775807, /)\n",
      "     |      Return first index of value.\n",
      "     |\n",
      "     |      Raises ValueError if the value is not present.\n",
      "     |\n",
      "     |  ----------------------------------------------------------------------\n",
      "     |  Class methods inherited from builtins.tuple:\n",
      "     |\n",
      "     |  __class_getitem__(...)\n",
      "     |      See PEP 585\n",
      "\n",
      "    class times_result(builtins.tuple)\n",
      "     |  times_result(iterable=(), /)\n",
      "     |\n",
      "     |  times_result: Result from os.times().\n",
      "     |\n",
      "     |  This object may be accessed either as a tuple of\n",
      "     |    (user, system, children_user, children_system, elapsed),\n",
      "     |  or via the attributes user, system, children_user, children_system,\n",
      "     |  and elapsed.\n",
      "     |\n",
      "     |  See os.times for more information.\n",
      "     |\n",
      "     |  Method resolution order:\n",
      "     |      times_result\n",
      "     |      builtins.tuple\n",
      "     |      builtins.object\n",
      "     |\n",
      "     |  Methods defined here:\n",
      "     |\n",
      "     |  __reduce__(...)\n",
      "     |      Helper for pickle.\n",
      "     |\n",
      "     |  __repr__(self, /)\n",
      "     |      Return repr(self).\n",
      "     |\n",
      "     |  ----------------------------------------------------------------------\n",
      "     |  Static methods defined here:\n",
      "     |\n",
      "     |  __new__(*args, **kwargs)\n",
      "     |      Create and return a new object.  See help(type) for accurate signature.\n",
      "     |\n",
      "     |  ----------------------------------------------------------------------\n",
      "     |  Data descriptors defined here:\n",
      "     |\n",
      "     |  children_system\n",
      "     |      system time of children\n",
      "     |\n",
      "     |  children_user\n",
      "     |      user time of children\n",
      "     |\n",
      "     |  elapsed\n",
      "     |      elapsed time since an arbitrary point in the past\n",
      "     |\n",
      "     |  system\n",
      "     |      system time\n",
      "     |\n",
      "     |  user\n",
      "     |      user time\n",
      "     |\n",
      "     |  ----------------------------------------------------------------------\n",
      "     |  Data and other attributes defined here:\n",
      "     |\n",
      "     |  __match_args__ = ('user', 'system', 'children_user', 'children_system'...\n",
      "     |\n",
      "     |  n_fields = 5\n",
      "     |\n",
      "     |  n_sequence_fields = 5\n",
      "     |\n",
      "     |  n_unnamed_fields = 0\n",
      "     |\n",
      "     |  ----------------------------------------------------------------------\n",
      "     |  Methods inherited from builtins.tuple:\n",
      "     |\n",
      "     |  __add__(self, value, /)\n",
      "     |      Return self+value.\n",
      "     |\n",
      "     |  __contains__(self, key, /)\n",
      "     |      Return bool(key in self).\n",
      "     |\n",
      "     |  __eq__(self, value, /)\n",
      "     |      Return self==value.\n",
      "     |\n",
      "     |  __ge__(self, value, /)\n",
      "     |      Return self>=value.\n",
      "     |\n",
      "     |  __getattribute__(self, name, /)\n",
      "     |      Return getattr(self, name).\n",
      "     |\n",
      "     |  __getitem__(self, key, /)\n",
      "     |      Return self[key].\n",
      "     |\n",
      "     |  __getnewargs__(self, /)\n",
      "     |\n",
      "     |  __gt__(self, value, /)\n",
      "     |      Return self>value.\n",
      "     |\n",
      "     |  __hash__(self, /)\n",
      "     |      Return hash(self).\n",
      "     |\n",
      "     |  __iter__(self, /)\n",
      "     |      Implement iter(self).\n",
      "     |\n",
      "     |  __le__(self, value, /)\n",
      "     |      Return self<=value.\n",
      "     |\n",
      "     |  __len__(self, /)\n",
      "     |      Return len(self).\n",
      "     |\n",
      "     |  __lt__(self, value, /)\n",
      "     |      Return self<value.\n",
      "     |\n",
      "     |  __mul__(self, value, /)\n",
      "     |      Return self*value.\n",
      "     |\n",
      "     |  __ne__(self, value, /)\n",
      "     |      Return self!=value.\n",
      "     |\n",
      "     |  __rmul__(self, value, /)\n",
      "     |      Return value*self.\n",
      "     |\n",
      "     |  count(self, value, /)\n",
      "     |      Return number of occurrences of value.\n",
      "     |\n",
      "     |  index(self, value, start=0, stop=9223372036854775807, /)\n",
      "     |      Return first index of value.\n",
      "     |\n",
      "     |      Raises ValueError if the value is not present.\n",
      "     |\n",
      "     |  ----------------------------------------------------------------------\n",
      "     |  Class methods inherited from builtins.tuple:\n",
      "     |\n",
      "     |  __class_getitem__(...)\n",
      "     |      See PEP 585\n",
      "\n",
      "    class uname_result(builtins.tuple)\n",
      "     |  uname_result(iterable=(), /)\n",
      "     |\n",
      "     |  uname_result: Result from os.uname().\n",
      "     |\n",
      "     |  This object may be accessed either as a tuple of\n",
      "     |    (sysname, nodename, release, version, machine),\n",
      "     |  or via the attributes sysname, nodename, release, version, and machine.\n",
      "     |\n",
      "     |  See os.uname for more information.\n",
      "     |\n",
      "     |  Method resolution order:\n",
      "     |      uname_result\n",
      "     |      builtins.tuple\n",
      "     |      builtins.object\n",
      "     |\n",
      "     |  Methods defined here:\n",
      "     |\n",
      "     |  __reduce__(...)\n",
      "     |      Helper for pickle.\n",
      "     |\n",
      "     |  __repr__(self, /)\n",
      "     |      Return repr(self).\n",
      "     |\n",
      "     |  ----------------------------------------------------------------------\n",
      "     |  Static methods defined here:\n",
      "     |\n",
      "     |  __new__(*args, **kwargs)\n",
      "     |      Create and return a new object.  See help(type) for accurate signature.\n",
      "     |\n",
      "     |  ----------------------------------------------------------------------\n",
      "     |  Data descriptors defined here:\n",
      "     |\n",
      "     |  machine\n",
      "     |      hardware identifier\n",
      "     |\n",
      "     |  nodename\n",
      "     |      name of machine on network (implementation-defined)\n",
      "     |\n",
      "     |  release\n",
      "     |      operating system release\n",
      "     |\n",
      "     |  sysname\n",
      "     |      operating system name\n",
      "     |\n",
      "     |  version\n",
      "     |      operating system version\n",
      "     |\n",
      "     |  ----------------------------------------------------------------------\n",
      "     |  Data and other attributes defined here:\n",
      "     |\n",
      "     |  __match_args__ = ('sysname', 'nodename', 'release', 'version', 'machin...\n",
      "     |\n",
      "     |  n_fields = 5\n",
      "     |\n",
      "     |  n_sequence_fields = 5\n",
      "     |\n",
      "     |  n_unnamed_fields = 0\n",
      "     |\n",
      "     |  ----------------------------------------------------------------------\n",
      "     |  Methods inherited from builtins.tuple:\n",
      "     |\n",
      "     |  __add__(self, value, /)\n",
      "     |      Return self+value.\n",
      "     |\n",
      "     |  __contains__(self, key, /)\n",
      "     |      Return bool(key in self).\n",
      "     |\n",
      "     |  __eq__(self, value, /)\n",
      "     |      Return self==value.\n",
      "     |\n",
      "     |  __ge__(self, value, /)\n",
      "     |      Return self>=value.\n",
      "     |\n",
      "     |  __getattribute__(self, name, /)\n",
      "     |      Return getattr(self, name).\n",
      "     |\n",
      "     |  __getitem__(self, key, /)\n",
      "     |      Return self[key].\n",
      "     |\n",
      "     |  __getnewargs__(self, /)\n",
      "     |\n",
      "     |  __gt__(self, value, /)\n",
      "     |      Return self>value.\n",
      "     |\n",
      "     |  __hash__(self, /)\n",
      "     |      Return hash(self).\n",
      "     |\n",
      "     |  __iter__(self, /)\n",
      "     |      Implement iter(self).\n",
      "     |\n",
      "     |  __le__(self, value, /)\n",
      "     |      Return self<=value.\n",
      "     |\n",
      "     |  __len__(self, /)\n",
      "     |      Return len(self).\n",
      "     |\n",
      "     |  __lt__(self, value, /)\n",
      "     |      Return self<value.\n",
      "     |\n",
      "     |  __mul__(self, value, /)\n",
      "     |      Return self*value.\n",
      "     |\n",
      "     |  __ne__(self, value, /)\n",
      "     |      Return self!=value.\n",
      "     |\n",
      "     |  __rmul__(self, value, /)\n",
      "     |      Return value*self.\n",
      "     |\n",
      "     |  count(self, value, /)\n",
      "     |      Return number of occurrences of value.\n",
      "     |\n",
      "     |  index(self, value, start=0, stop=9223372036854775807, /)\n",
      "     |      Return first index of value.\n",
      "     |\n",
      "     |      Raises ValueError if the value is not present.\n",
      "     |\n",
      "     |  ----------------------------------------------------------------------\n",
      "     |  Class methods inherited from builtins.tuple:\n",
      "     |\n",
      "     |  __class_getitem__(...)\n",
      "     |      See PEP 585\n",
      "\n",
      "FUNCTIONS\n",
      "    _exit(status)\n",
      "        Exit to the system with specified status, without normal exit processing.\n",
      "\n",
      "    abort()\n",
      "        Abort the interpreter immediately.\n",
      "\n",
      "        This function 'dumps core' or otherwise fails in the hardest way possible\n",
      "        on the hosting operating system.  This function never returns.\n",
      "\n",
      "    access(path, mode, *, dir_fd=None, effective_ids=False, follow_symlinks=True)\n",
      "        Use the real uid/gid to test for access to a path.\n",
      "\n",
      "          path\n",
      "            Path to be tested; can be string, bytes, or a path-like object.\n",
      "          mode\n",
      "            Operating-system mode bitfield.  Can be F_OK to test existence,\n",
      "            or the inclusive-OR of R_OK, W_OK, and X_OK.\n",
      "          dir_fd\n",
      "            If not None, it should be a file descriptor open to a directory,\n",
      "            and path should be relative; path will then be relative to that\n",
      "            directory.\n",
      "          effective_ids\n",
      "            If True, access will use the effective uid/gid instead of\n",
      "            the real uid/gid.\n",
      "          follow_symlinks\n",
      "            If False, and the last element of the path is a symbolic link,\n",
      "            access will examine the symbolic link itself instead of the file\n",
      "            the link points to.\n",
      "\n",
      "        dir_fd, effective_ids, and follow_symlinks may not be implemented\n",
      "          on your platform.  If they are unavailable, using them will raise a\n",
      "          NotImplementedError.\n",
      "\n",
      "        Note that most operations will use the effective uid/gid, therefore this\n",
      "          routine can be used in a suid/sgid environment to test if the invoking user\n",
      "          has the specified access to the path.\n",
      "\n",
      "    chdir(path)\n",
      "        Change the current working directory to the specified path.\n",
      "\n",
      "        path may always be specified as a string.\n",
      "        On some platforms, path may also be specified as an open file descriptor.\n",
      "          If this functionality is unavailable, using it raises an exception.\n",
      "\n",
      "    chmod(path, mode, *, dir_fd=None, follow_symlinks=True)\n",
      "        Change the access permissions of a file.\n",
      "\n",
      "          path\n",
      "            Path to be modified.  May always be specified as a str, bytes, or a path-like object.\n",
      "            On some platforms, path may also be specified as an open file descriptor.\n",
      "            If this functionality is unavailable, using it raises an exception.\n",
      "          mode\n",
      "            Operating-system mode bitfield.\n",
      "            Be careful when using number literals for *mode*. The conventional UNIX notation for\n",
      "            numeric modes uses an octal base, which needs to be indicated with a ``0o`` prefix in\n",
      "            Python.\n",
      "          dir_fd\n",
      "            If not None, it should be a file descriptor open to a directory,\n",
      "            and path should be relative; path will then be relative to that\n",
      "            directory.\n",
      "          follow_symlinks\n",
      "            If False, and the last element of the path is a symbolic link,\n",
      "            chmod will modify the symbolic link itself instead of the file\n",
      "            the link points to.\n",
      "\n",
      "        It is an error to use dir_fd or follow_symlinks when specifying path as\n",
      "          an open file descriptor.\n",
      "        dir_fd and follow_symlinks may not be implemented on your platform.\n",
      "          If they are unavailable, using them will raise a NotImplementedError.\n",
      "\n",
      "    close(fd)\n",
      "        Close a file descriptor.\n",
      "\n",
      "    closerange(fd_low, fd_high, /)\n",
      "        Closes all file descriptors in [fd_low, fd_high), ignoring errors.\n",
      "\n",
      "    cpu_count()\n",
      "        Return the number of CPUs in the system; return None if indeterminable.\n",
      "\n",
      "        This number is not equivalent to the number of CPUs the current process can\n",
      "        use.  The number of usable CPUs can be obtained with\n",
      "        ``len(os.sched_getaffinity(0))``\n",
      "\n",
      "    device_encoding(fd)\n",
      "        Return a string describing the encoding of a terminal's file descriptor.\n",
      "\n",
      "        The file descriptor must be attached to a terminal.\n",
      "        If the device is not a terminal, return None.\n",
      "\n",
      "    dup(fd, /)\n",
      "        Return a duplicate of a file descriptor.\n",
      "\n",
      "    dup2(fd, fd2, inheritable=True)\n",
      "        Duplicate file descriptor.\n",
      "\n",
      "    execl(file, *args)\n",
      "        execl(file, *args)\n",
      "\n",
      "        Execute the executable file with argument list args, replacing the\n",
      "        current process.\n",
      "\n",
      "    execle(file, *args)\n",
      "        execle(file, *args, env)\n",
      "\n",
      "        Execute the executable file with argument list args and\n",
      "        environment env, replacing the current process.\n",
      "\n",
      "    execlp(file, *args)\n",
      "        execlp(file, *args)\n",
      "\n",
      "        Execute the executable file (which is searched for along $PATH)\n",
      "        with argument list args, replacing the current process.\n",
      "\n",
      "    execlpe(file, *args)\n",
      "        execlpe(file, *args, env)\n",
      "\n",
      "        Execute the executable file (which is searched for along $PATH)\n",
      "        with argument list args and environment env, replacing the current\n",
      "        process.\n",
      "\n",
      "    execv(path, argv, /)\n",
      "        Execute an executable path with arguments, replacing current process.\n",
      "\n",
      "        path\n",
      "          Path of executable file.\n",
      "        argv\n",
      "          Tuple or list of strings.\n",
      "\n",
      "    execve(path, argv, env)\n",
      "        Execute an executable path with arguments, replacing current process.\n",
      "\n",
      "        path\n",
      "          Path of executable file.\n",
      "        argv\n",
      "          Tuple or list of strings.\n",
      "        env\n",
      "          Dictionary of strings mapping to strings.\n",
      "\n",
      "    execvp(file, args)\n",
      "        execvp(file, args)\n",
      "\n",
      "        Execute the executable file (which is searched for along $PATH)\n",
      "        with argument list args, replacing the current process.\n",
      "        args may be a list or tuple of strings.\n",
      "\n",
      "    execvpe(file, args, env)\n",
      "        execvpe(file, args, env)\n",
      "\n",
      "        Execute the executable file (which is searched for along $PATH)\n",
      "        with argument list args and environment env, replacing the\n",
      "        current process.\n",
      "        args may be a list or tuple of strings.\n",
      "\n",
      "    fdopen(fd, mode='r', buffering=-1, encoding=None, *args, **kwargs)\n",
      "\n",
      "    fsdecode(filename)\n",
      "        Decode filename (an os.PathLike, bytes, or str) from the filesystem\n",
      "        encoding with 'surrogateescape' error handler, return str unchanged. On\n",
      "        Windows, use 'strict' error handler if the file system encoding is\n",
      "        'mbcs' (which is the default encoding).\n",
      "\n",
      "    fsencode(filename)\n",
      "        Encode filename (an os.PathLike, bytes, or str) to the filesystem\n",
      "        encoding with 'surrogateescape' error handler, return bytes unchanged.\n",
      "        On Windows, use 'strict' error handler if the file system encoding is\n",
      "        'mbcs' (which is the default encoding).\n",
      "\n",
      "    fspath(path)\n",
      "        Return the file system path representation of the object.\n",
      "\n",
      "        If the object is str or bytes, then allow it to pass through as-is. If the\n",
      "        object defines __fspath__(), then return the result of that method. All other\n",
      "        types raise a TypeError.\n",
      "\n",
      "    fstat(fd)\n",
      "        Perform a stat system call on the given file descriptor.\n",
      "\n",
      "        Like stat(), but for an open file descriptor.\n",
      "        Equivalent to os.stat(fd).\n",
      "\n",
      "    fsync(fd)\n",
      "        Force write of fd to disk.\n",
      "\n",
      "    ftruncate(fd, length, /)\n",
      "        Truncate a file, specified by file descriptor, to a specific length.\n",
      "\n",
      "    get_blocking(fd, /)\n",
      "        Get the blocking mode of the file descriptor.\n",
      "\n",
      "        Return False if the O_NONBLOCK flag is set, True if the flag is cleared.\n",
      "\n",
      "    get_exec_path(env=None)\n",
      "        Returns the sequence of directories that will be searched for the\n",
      "        named executable (similar to a shell) when launching a process.\n",
      "\n",
      "        *env* must be an environment variable dict or None.  If *env* is None,\n",
      "        os.environ will be used.\n",
      "\n",
      "    get_handle_inheritable(handle, /)\n",
      "        Get the close-on-exe flag of the specified file descriptor.\n",
      "\n",
      "    get_inheritable(fd, /)\n",
      "        Get the close-on-exe flag of the specified file descriptor.\n",
      "\n",
      "    get_terminal_size(...)\n",
      "        Return the size of the terminal window as (columns, lines).\n",
      "\n",
      "        The optional argument fd (default standard output) specifies\n",
      "        which file descriptor should be queried.\n",
      "\n",
      "        If the file descriptor is not connected to a terminal, an OSError\n",
      "        is thrown.\n",
      "\n",
      "        This function will only be defined if an implementation is\n",
      "        available for this system.\n",
      "\n",
      "        shutil.get_terminal_size is the high-level function which should\n",
      "        normally be used, os.get_terminal_size is the low-level implementation.\n",
      "\n",
      "    getcwd()\n",
      "        Return a unicode string representing the current working directory.\n",
      "\n",
      "    getcwdb()\n",
      "        Return a bytes string representing the current working directory.\n",
      "\n",
      "    getenv(key, default=None)\n",
      "        Get an environment variable, return None if it doesn't exist.\n",
      "        The optional second argument can specify an alternate default.\n",
      "        key, default and the result are str.\n",
      "\n",
      "    getlogin()\n",
      "        Return the actual login name.\n",
      "\n",
      "    getpid()\n",
      "        Return the current process id.\n",
      "\n",
      "    getppid()\n",
      "        Return the parent's process id.\n",
      "\n",
      "        If the parent process has already exited, Windows machines will still\n",
      "        return its id; others systems will return the id of the 'init' process (1).\n",
      "\n",
      "    isatty(fd, /)\n",
      "        Return True if the fd is connected to a terminal.\n",
      "\n",
      "        Return True if the file descriptor is an open file descriptor\n",
      "        connected to the slave end of a terminal.\n",
      "\n",
      "    kill(pid, signal, /)\n",
      "        Kill a process with a signal.\n",
      "\n",
      "    link(src, dst, *, src_dir_fd=None, dst_dir_fd=None, follow_symlinks=True)\n",
      "        Create a hard link to a file.\n",
      "\n",
      "        If either src_dir_fd or dst_dir_fd is not None, it should be a file\n",
      "          descriptor open to a directory, and the respective path string (src or dst)\n",
      "          should be relative; the path will then be relative to that directory.\n",
      "        If follow_symlinks is False, and the last element of src is a symbolic\n",
      "          link, link will create a link to the symbolic link itself instead of the\n",
      "          file the link points to.\n",
      "        src_dir_fd, dst_dir_fd, and follow_symlinks may not be implemented on your\n",
      "          platform.  If they are unavailable, using them will raise a\n",
      "          NotImplementedError.\n",
      "\n",
      "    listdir(path=None)\n",
      "        Return a list containing the names of the files in the directory.\n",
      "\n",
      "        path can be specified as either str, bytes, or a path-like object.  If path is bytes,\n",
      "          the filenames returned will also be bytes; in all other circumstances\n",
      "          the filenames returned will be str.\n",
      "        If path is None, uses the path='.'.\n",
      "        On some platforms, path may also be specified as an open file descriptor;\\\n",
      "          the file descriptor must refer to a directory.\n",
      "          If this functionality is unavailable, using it raises NotImplementedError.\n",
      "\n",
      "        The list is in arbitrary order.  It does not include the special\n",
      "        entries '.' and '..' even if they are present in the directory.\n",
      "\n",
      "    listdrives()\n",
      "        Return a list containing the names of drives in the system.\n",
      "\n",
      "        A drive name typically looks like 'C:\\\\'.\n",
      "\n",
      "    listmounts(volume)\n",
      "        Return a list containing mount points for a particular volume.\n",
      "\n",
      "        'volume' should be a GUID path as returned from os.listvolumes.\n",
      "\n",
      "    listvolumes()\n",
      "        Return a list containing the volumes in the system.\n",
      "\n",
      "        Volumes are typically represented as a GUID path.\n",
      "\n",
      "    lseek(fd, position, whence, /)\n",
      "        Set the position of a file descriptor.  Return the new position.\n",
      "\n",
      "          fd\n",
      "            An open file descriptor, as returned by os.open().\n",
      "          position\n",
      "            Position, interpreted relative to 'whence'.\n",
      "          whence\n",
      "            The relative position to seek from. Valid values are:\n",
      "            - SEEK_SET: seek from the start of the file.\n",
      "            - SEEK_CUR: seek from the current file position.\n",
      "            - SEEK_END: seek from the end of the file.\n",
      "\n",
      "        The return value is the number of bytes relative to the beginning of the file.\n",
      "\n",
      "    lstat(path, *, dir_fd=None)\n",
      "        Perform a stat system call on the given path, without following symbolic links.\n",
      "\n",
      "        Like stat(), but do not follow symbolic links.\n",
      "        Equivalent to stat(path, follow_symlinks=False).\n",
      "\n",
      "    makedirs(name, mode=511, exist_ok=False)\n",
      "        makedirs(name [, mode=0o777][, exist_ok=False])\n",
      "\n",
      "        Super-mkdir; create a leaf directory and all intermediate ones.  Works like\n",
      "        mkdir, except that any intermediate path segment (not just the rightmost)\n",
      "        will be created if it does not exist. If the target directory already\n",
      "        exists, raise an OSError if exist_ok is False. Otherwise no exception is\n",
      "        raised.  This is recursive.\n",
      "\n",
      "    mkdir(path, mode=511, *, dir_fd=None)\n",
      "        Create a directory.\n",
      "\n",
      "        If dir_fd is not None, it should be a file descriptor open to a directory,\n",
      "          and path should be relative; path will then be relative to that directory.\n",
      "        dir_fd may not be implemented on your platform.\n",
      "          If it is unavailable, using it will raise a NotImplementedError.\n",
      "\n",
      "        The mode argument is ignored on Windows. Where it is used, the current umask\n",
      "        value is first masked out.\n",
      "\n",
      "    open(path, flags, mode=511, *, dir_fd=None)\n",
      "        Open a file for low level IO.  Returns a file descriptor (integer).\n",
      "\n",
      "        If dir_fd is not None, it should be a file descriptor open to a directory,\n",
      "          and path should be relative; path will then be relative to that directory.\n",
      "        dir_fd may not be implemented on your platform.\n",
      "          If it is unavailable, using it will raise a NotImplementedError.\n",
      "\n",
      "    pipe()\n",
      "        Create a pipe.\n",
      "\n",
      "        Returns a tuple of two file descriptors:\n",
      "          (read_fd, write_fd)\n",
      "\n",
      "    popen(cmd, mode='r', buffering=-1)\n",
      "\n",
      "    putenv(name, value, /)\n",
      "        Change or add an environment variable.\n",
      "\n",
      "    read(fd, length, /)\n",
      "        Read from a file descriptor.  Returns a bytes object.\n",
      "\n",
      "    readlink(path, *, dir_fd=None)\n",
      "        Return a string representing the path to which the symbolic link points.\n",
      "\n",
      "        If dir_fd is not None, it should be a file descriptor open to a directory,\n",
      "        and path should be relative; path will then be relative to that directory.\n",
      "\n",
      "        dir_fd may not be implemented on your platform.  If it is unavailable,\n",
      "        using it will raise a NotImplementedError.\n",
      "\n",
      "    remove(path, *, dir_fd=None)\n",
      "        Remove a file (same as unlink()).\n",
      "\n",
      "        If dir_fd is not None, it should be a file descriptor open to a directory,\n",
      "          and path should be relative; path will then be relative to that directory.\n",
      "        dir_fd may not be implemented on your platform.\n",
      "          If it is unavailable, using it will raise a NotImplementedError.\n",
      "\n",
      "    removedirs(name)\n",
      "        removedirs(name)\n",
      "\n",
      "        Super-rmdir; remove a leaf directory and all empty intermediate\n",
      "        ones.  Works like rmdir except that, if the leaf directory is\n",
      "        successfully removed, directories corresponding to rightmost path\n",
      "        segments will be pruned away until either the whole path is\n",
      "        consumed or an error occurs.  Errors during this latter phase are\n",
      "        ignored -- they generally mean that a directory was not empty.\n",
      "\n",
      "    rename(src, dst, *, src_dir_fd=None, dst_dir_fd=None)\n",
      "        Rename a file or directory.\n",
      "\n",
      "        If either src_dir_fd or dst_dir_fd is not None, it should be a file\n",
      "          descriptor open to a directory, and the respective path string (src or dst)\n",
      "          should be relative; the path will then be relative to that directory.\n",
      "        src_dir_fd and dst_dir_fd, may not be implemented on your platform.\n",
      "          If they are unavailable, using them will raise a NotImplementedError.\n",
      "\n",
      "    renames(old, new)\n",
      "        renames(old, new)\n",
      "\n",
      "        Super-rename; create directories as necessary and delete any left\n",
      "        empty.  Works like rename, except creation of any intermediate\n",
      "        directories needed to make the new pathname good is attempted\n",
      "        first.  After the rename, directories corresponding to rightmost\n",
      "        path segments of the old name will be pruned until either the\n",
      "        whole path is consumed or a nonempty directory is found.\n",
      "\n",
      "        Note: this function can fail with the new directory structure made\n",
      "        if you lack permissions needed to unlink the leaf directory or\n",
      "        file.\n",
      "\n",
      "    replace(src, dst, *, src_dir_fd=None, dst_dir_fd=None)\n",
      "        Rename a file or directory, overwriting the destination.\n",
      "\n",
      "        If either src_dir_fd or dst_dir_fd is not None, it should be a file\n",
      "          descriptor open to a directory, and the respective path string (src or dst)\n",
      "          should be relative; the path will then be relative to that directory.\n",
      "        src_dir_fd and dst_dir_fd, may not be implemented on your platform.\n",
      "          If they are unavailable, using them will raise a NotImplementedError.\n",
      "\n",
      "    rmdir(path, *, dir_fd=None)\n",
      "        Remove a directory.\n",
      "\n",
      "        If dir_fd is not None, it should be a file descriptor open to a directory,\n",
      "          and path should be relative; path will then be relative to that directory.\n",
      "        dir_fd may not be implemented on your platform.\n",
      "          If it is unavailable, using it will raise a NotImplementedError.\n",
      "\n",
      "    scandir(path=None)\n",
      "        Return an iterator of DirEntry objects for given path.\n",
      "\n",
      "        path can be specified as either str, bytes, or a path-like object.  If path\n",
      "        is bytes, the names of yielded DirEntry objects will also be bytes; in\n",
      "        all other circumstances they will be str.\n",
      "\n",
      "        If path is None, uses the path='.'.\n",
      "\n",
      "    set_blocking(fd, blocking, /)\n",
      "        Set the blocking mode of the specified file descriptor.\n",
      "\n",
      "        Set the O_NONBLOCK flag if blocking is False,\n",
      "        clear the O_NONBLOCK flag otherwise.\n",
      "\n",
      "    set_handle_inheritable(handle, inheritable, /)\n",
      "        Set the inheritable flag of the specified handle.\n",
      "\n",
      "    set_inheritable(fd, inheritable, /)\n",
      "        Set the inheritable flag of the specified file descriptor.\n",
      "\n",
      "    spawnl(mode, file, *args)\n",
      "        spawnl(mode, file, *args) -> integer\n",
      "\n",
      "        Execute file with arguments from args in a subprocess.\n",
      "        If mode == P_NOWAIT return the pid of the process.\n",
      "        If mode == P_WAIT return the process's exit code if it exits normally;\n",
      "        otherwise return -SIG, where SIG is the signal that killed it.\n",
      "\n",
      "    spawnle(mode, file, *args)\n",
      "        spawnle(mode, file, *args, env) -> integer\n",
      "\n",
      "        Execute file with arguments from args in a subprocess with the\n",
      "        supplied environment.\n",
      "        If mode == P_NOWAIT return the pid of the process.\n",
      "        If mode == P_WAIT return the process's exit code if it exits normally;\n",
      "        otherwise return -SIG, where SIG is the signal that killed it.\n",
      "\n",
      "    spawnv(mode, path, argv, /)\n",
      "        Execute the program specified by path in a new process.\n",
      "\n",
      "        mode\n",
      "          Mode of process creation.\n",
      "        path\n",
      "          Path of executable file.\n",
      "        argv\n",
      "          Tuple or list of strings.\n",
      "\n",
      "    spawnve(mode, path, argv, env, /)\n",
      "        Execute the program specified by path in a new process.\n",
      "\n",
      "        mode\n",
      "          Mode of process creation.\n",
      "        path\n",
      "          Path of executable file.\n",
      "        argv\n",
      "          Tuple or list of strings.\n",
      "        env\n",
      "          Dictionary of strings mapping to strings.\n",
      "\n",
      "    startfile(...)\n",
      "        Start a file with its associated application.\n",
      "\n",
      "        When \"operation\" is not specified or \"open\", this acts like\n",
      "        double-clicking the file in Explorer, or giving the file name as an\n",
      "        argument to the DOS \"start\" command: the file is opened with whatever\n",
      "        application (if any) its extension is associated.\n",
      "        When another \"operation\" is given, it specifies what should be done with\n",
      "        the file.  A typical operation is \"print\".\n",
      "\n",
      "        \"arguments\" is passed to the application, but should be omitted if the\n",
      "        file is a document.\n",
      "\n",
      "        \"cwd\" is the working directory for the operation. If \"filepath\" is\n",
      "        relative, it will be resolved against this directory. This argument\n",
      "        should usually be an absolute path.\n",
      "\n",
      "        \"show_cmd\" can be used to override the recommended visibility option.\n",
      "        See the Windows ShellExecute documentation for values.\n",
      "\n",
      "        startfile returns as soon as the associated application is launched.\n",
      "        There is no option to wait for the application to close, and no way\n",
      "        to retrieve the application's exit status.\n",
      "\n",
      "        The filepath is relative to the current directory.  If you want to use\n",
      "        an absolute path, make sure the first character is not a slash (\"/\");\n",
      "        the underlying Win32 ShellExecute function doesn't work if it is.\n",
      "\n",
      "    stat(path, *, dir_fd=None, follow_symlinks=True)\n",
      "        Perform a stat system call on the given path.\n",
      "\n",
      "          path\n",
      "            Path to be examined; can be string, bytes, a path-like object or\n",
      "            open-file-descriptor int.\n",
      "          dir_fd\n",
      "            If not None, it should be a file descriptor open to a directory,\n",
      "            and path should be a relative string; path will then be relative to\n",
      "            that directory.\n",
      "          follow_symlinks\n",
      "            If False, and the last element of the path is a symbolic link,\n",
      "            stat will examine the symbolic link itself instead of the file\n",
      "            the link points to.\n",
      "\n",
      "        dir_fd and follow_symlinks may not be implemented\n",
      "          on your platform.  If they are unavailable, using them will raise a\n",
      "          NotImplementedError.\n",
      "\n",
      "        It's an error to use dir_fd or follow_symlinks when specifying path as\n",
      "          an open file descriptor.\n",
      "\n",
      "    strerror(code, /)\n",
      "        Translate an error code to a message string.\n",
      "\n",
      "    symlink(src, dst, target_is_directory=False, *, dir_fd=None)\n",
      "        Create a symbolic link pointing to src named dst.\n",
      "\n",
      "        target_is_directory is required on Windows if the target is to be\n",
      "          interpreted as a directory.  (On Windows, symlink requires\n",
      "          Windows 6.0 or greater, and raises a NotImplementedError otherwise.)\n",
      "          target_is_directory is ignored on non-Windows platforms.\n",
      "\n",
      "        If dir_fd is not None, it should be a file descriptor open to a directory,\n",
      "          and path should be relative; path will then be relative to that directory.\n",
      "        dir_fd may not be implemented on your platform.\n",
      "          If it is unavailable, using it will raise a NotImplementedError.\n",
      "\n",
      "    system(command)\n",
      "        Execute the command in a subshell.\n",
      "\n",
      "    times()\n",
      "        Return a collection containing process timing information.\n",
      "\n",
      "        The object returned behaves like a named tuple with these fields:\n",
      "          (utime, stime, cutime, cstime, elapsed_time)\n",
      "        All fields are floating point numbers.\n",
      "\n",
      "    truncate(path, length)\n",
      "        Truncate a file, specified by path, to a specific length.\n",
      "\n",
      "        On some platforms, path may also be specified as an open file descriptor.\n",
      "          If this functionality is unavailable, using it raises an exception.\n",
      "\n",
      "    umask(mask, /)\n",
      "        Set the current numeric umask and return the previous umask.\n",
      "\n",
      "    unlink(path, *, dir_fd=None)\n",
      "        Remove a file (same as remove()).\n",
      "\n",
      "        If dir_fd is not None, it should be a file descriptor open to a directory,\n",
      "          and path should be relative; path will then be relative to that directory.\n",
      "        dir_fd may not be implemented on your platform.\n",
      "          If it is unavailable, using it will raise a NotImplementedError.\n",
      "\n",
      "    unsetenv(name, /)\n",
      "        Delete an environment variable.\n",
      "\n",
      "    urandom(size, /)\n",
      "        Return a bytes object containing random bytes suitable for cryptographic use.\n",
      "\n",
      "    utime(...)\n",
      "        Set the access and modified time of path.\n",
      "\n",
      "        path may always be specified as a string.\n",
      "        On some platforms, path may also be specified as an open file descriptor.\n",
      "          If this functionality is unavailable, using it raises an exception.\n",
      "\n",
      "        If times is not None, it must be a tuple (atime, mtime);\n",
      "            atime and mtime should be expressed as float seconds since the epoch.\n",
      "        If ns is specified, it must be a tuple (atime_ns, mtime_ns);\n",
      "            atime_ns and mtime_ns should be expressed as integer nanoseconds\n",
      "            since the epoch.\n",
      "        If times is None and ns is unspecified, utime uses the current time.\n",
      "        Specifying tuples for both times and ns is an error.\n",
      "\n",
      "        If dir_fd is not None, it should be a file descriptor open to a directory,\n",
      "          and path should be relative; path will then be relative to that directory.\n",
      "        If follow_symlinks is False, and the last element of the path is a symbolic\n",
      "          link, utime will modify the symbolic link itself instead of the file the\n",
      "          link points to.\n",
      "        It is an error to use dir_fd or follow_symlinks when specifying path\n",
      "          as an open file descriptor.\n",
      "        dir_fd and follow_symlinks may not be available on your platform.\n",
      "          If they are unavailable, using them will raise a NotImplementedError.\n",
      "\n",
      "    waitpid(pid, options, /)\n",
      "        Wait for completion of a given process.\n",
      "\n",
      "        Returns a tuple of information regarding the process:\n",
      "            (pid, status << 8)\n",
      "\n",
      "        The options argument is ignored on Windows.\n",
      "\n",
      "    waitstatus_to_exitcode(status)\n",
      "        Convert a wait status to an exit code.\n",
      "\n",
      "        On Unix:\n",
      "\n",
      "        * If WIFEXITED(status) is true, return WEXITSTATUS(status).\n",
      "        * If WIFSIGNALED(status) is true, return -WTERMSIG(status).\n",
      "        * Otherwise, raise a ValueError.\n",
      "\n",
      "        On Windows, return status shifted right by 8 bits.\n",
      "\n",
      "        On Unix, if the process is being traced or if waitpid() was called with\n",
      "        WUNTRACED option, the caller must first check if WIFSTOPPED(status) is true.\n",
      "        This function must not be called if WIFSTOPPED(status) is true.\n",
      "\n",
      "    walk(top, topdown=True, onerror=None, followlinks=False)\n",
      "        Directory tree generator.\n",
      "\n",
      "        For each directory in the directory tree rooted at top (including top\n",
      "        itself, but excluding '.' and '..'), yields a 3-tuple\n",
      "\n",
      "            dirpath, dirnames, filenames\n",
      "\n",
      "        dirpath is a string, the path to the directory.  dirnames is a list of\n",
      "        the names of the subdirectories in dirpath (including symlinks to directories,\n",
      "        and excluding '.' and '..').\n",
      "        filenames is a list of the names of the non-directory files in dirpath.\n",
      "        Note that the names in the lists are just names, with no path components.\n",
      "        To get a full path (which begins with top) to a file or directory in\n",
      "        dirpath, do os.path.join(dirpath, name).\n",
      "\n",
      "        If optional arg 'topdown' is true or not specified, the triple for a\n",
      "        directory is generated before the triples for any of its subdirectories\n",
      "        (directories are generated top down).  If topdown is false, the triple\n",
      "        for a directory is generated after the triples for all of its\n",
      "        subdirectories (directories are generated bottom up).\n",
      "\n",
      "        When topdown is true, the caller can modify the dirnames list in-place\n",
      "        (e.g., via del or slice assignment), and walk will only recurse into the\n",
      "        subdirectories whose names remain in dirnames; this can be used to prune the\n",
      "        search, or to impose a specific order of visiting.  Modifying dirnames when\n",
      "        topdown is false has no effect on the behavior of os.walk(), since the\n",
      "        directories in dirnames have already been generated by the time dirnames\n",
      "        itself is generated. No matter the value of topdown, the list of\n",
      "        subdirectories is retrieved before the tuples for the directory and its\n",
      "        subdirectories are generated.\n",
      "\n",
      "        By default errors from the os.scandir() call are ignored.  If\n",
      "        optional arg 'onerror' is specified, it should be a function; it\n",
      "        will be called with one argument, an OSError instance.  It can\n",
      "        report the error to continue with the walk, or raise the exception\n",
      "        to abort the walk.  Note that the filename is available as the\n",
      "        filename attribute of the exception object.\n",
      "\n",
      "        By default, os.walk does not follow symbolic links to subdirectories on\n",
      "        systems that support them.  In order to get this functionality, set the\n",
      "        optional argument 'followlinks' to true.\n",
      "\n",
      "        Caution:  if you pass a relative pathname for top, don't change the\n",
      "        current working directory between resumptions of walk.  walk never\n",
      "        changes the current directory, and assumes that the client doesn't\n",
      "        either.\n",
      "\n",
      "        Example:\n",
      "\n",
      "        import os\n",
      "        from os.path import join, getsize\n",
      "        for root, dirs, files in os.walk('python/Lib/email'):\n",
      "            print(root, \"consumes \")\n",
      "            print(sum(getsize(join(root, name)) for name in files), end=\" \")\n",
      "            print(\"bytes in\", len(files), \"non-directory files\")\n",
      "            if 'CVS' in dirs:\n",
      "                dirs.remove('CVS')  # don't visit CVS directories\n",
      "\n",
      "    write(fd, data, /)\n",
      "        Write a bytes object to a file descriptor.\n",
      "\n",
      "DATA\n",
      "    EX_OK = 0\n",
      "    F_OK = 0\n",
      "    O_APPEND = 8\n",
      "    O_BINARY = 32768\n",
      "    O_CREAT = 256\n",
      "    O_EXCL = 1024\n",
      "    O_NOINHERIT = 128\n",
      "    O_RANDOM = 16\n",
      "    O_RDONLY = 0\n",
      "    O_RDWR = 2\n",
      "    O_SEQUENTIAL = 32\n",
      "    O_SHORT_LIVED = 4096\n",
      "    O_TEMPORARY = 64\n",
      "    O_TEXT = 16384\n",
      "    O_TRUNC = 512\n",
      "    O_WRONLY = 1\n",
      "    P_DETACH = 4\n",
      "    P_NOWAIT = 1\n",
      "    P_NOWAITO = 3\n",
      "    P_OVERLAY = 2\n",
      "    P_WAIT = 0\n",
      "    R_OK = 4\n",
      "    SEEK_CUR = 1\n",
      "    SEEK_END = 2\n",
      "    SEEK_SET = 0\n",
      "    TMP_MAX = 2147483647\n",
      "    W_OK = 2\n",
      "    X_OK = 1\n",
      "    __all__ = ['altsep', 'curdir', 'pardir', 'sep', 'pathsep', 'linesep', ...\n",
      "    altsep = '/'\n",
      "    curdir = '.'\n",
      "    defpath = r'.;C:\\bin'\n",
      "    devnull = 'nul'\n",
      "    environ = environ({'ALLUSERSPROFILE': 'C:\\\\ProgramData', '...D': 'modu...\n",
      "    extsep = '.'\n",
      "    linesep = '\\r\\n'\n",
      "    name = 'nt'\n",
      "    pardir = '..'\n",
      "    pathsep = ';'\n",
      "    sep = r'\\'\n",
      "    supports_bytes_environ = False\n",
      "\n",
      "FILE\n",
      "    c:\\program files\\python312\\lib\\os.py\n",
      "\n",
      "\n",
      "None\n"
     ]
    }
   ],
   "source": [
    "import os\n",
    "print(dir(os),\"\\n\")\n",
    "print(help(os))"
   ]
  },
  {
   "cell_type": "code",
   "execution_count": 3,
   "id": "b63f7155-a9a5-4940-8e42-c70768cab9b1",
   "metadata": {},
   "outputs": [],
   "source": [
    "os.chdir(\"C:\\\\Users\\\\PC\\\\OneDrive\\\\Documents\\\\AI\\\\python-tutorial\")"
   ]
  },
  {
   "cell_type": "markdown",
   "id": "90ec003f-7b55-40a3-8353-9c21552b023b",
   "metadata": {},
   "source": [
    "For daily file and directory management tasks, the shutil module provides a higher level interface that is easier to use:"
   ]
  },
  {
   "cell_type": "code",
   "execution_count": 4,
   "id": "8fa81fff-473d-45f5-9ce0-79102a387cce",
   "metadata": {},
   "outputs": [
    {
     "data": {
      "text/plain": [
       "'nortwing_small-shallow-copy.sqlite'"
      ]
     },
     "execution_count": 4,
     "metadata": {},
     "output_type": "execute_result"
    }
   ],
   "source": [
    "import shutil\n",
    "shutil.copyfile('northwind_small.sqlite', 'nortwing_small-shallow-copy.sqlite')"
   ]
  },
  {
   "cell_type": "code",
   "execution_count": 5,
   "id": "e8dc4bc5-2fc3-427e-a6cc-06a93960096a",
   "metadata": {},
   "outputs": [
    {
     "data": {
      "text/plain": [
       "'C:\\\\Users\\\\PC\\\\OneDrive\\\\Documents\\\\AI\\\\python-tutorial'"
      ]
     },
     "execution_count": 5,
     "metadata": {},
     "output_type": "execute_result"
    }
   ],
   "source": [
    "os.getcwd()"
   ]
  },
  {
   "cell_type": "markdown",
   "id": "fe6c2575-82a9-4870-83d5-aa84287a38c7",
   "metadata": {},
   "source": [
    "#### File Wildcard\n",
    "\n",
    "The glob module provides a function for making file lists from directory wildcard searches:\n"
   ]
  },
  {
   "cell_type": "code",
   "execution_count": 6,
   "id": "121e9cd2-7180-4c1a-92c0-e0b9defed6de",
   "metadata": {},
   "outputs": [
    {
     "data": {
      "text/plain": [
       "['01-numbers-text-lists.ipynb',\n",
       " '02-control-flow-functions.ipynb',\n",
       " '03-data-structures.ipynb',\n",
       " '04-modules.ipynb',\n",
       " '05-input-and-output.ipynb',\n",
       " '06-errors-and-exceptions.ipynb',\n",
       " '07-classes.ipynb',\n",
       " '08-standard-library-brief-tour.ipynb',\n",
       " 'fibo.py',\n",
       " 'landline_ringtone_with_echo.wav',\n",
       " 'northwind_small.sqlite',\n",
       " 'nortwing_small-shallow-copy.sqlite',\n",
       " 'os_module_code.py',\n",
       " 'sample-data.txt',\n",
       " 'sample-data.zip',\n",
       " 'workfile.zip']"
      ]
     },
     "execution_count": 6,
     "metadata": {},
     "output_type": "execute_result"
    }
   ],
   "source": [
    "import glob\n",
    "glob.glob('*.*')"
   ]
  },
  {
   "cell_type": "markdown",
   "id": "53d69857-4bc9-45ec-a062-46b8c1274fd4",
   "metadata": {},
   "source": [
    "#### Command Line Arguments\n",
    "Common utility scripts often need to process command line arguments. These arguments are stored in the sys module’s argv attribute as a list. For instance, let’s take the following demo.py file:"
   ]
  },
  {
   "cell_type": "code",
   "execution_count": 7,
   "id": "54081a54-914a-4f4c-877c-51849a9b322c",
   "metadata": {},
   "outputs": [
    {
     "name": "stdout",
     "output_type": "stream",
     "text": [
      "['C:\\\\Program Files\\\\Python312\\\\Lib\\\\site-packages\\\\ipykernel_launcher.py', '-f', 'C:\\\\Users\\\\PC\\\\AppData\\\\Roaming\\\\jupyter\\\\runtime\\\\kernel-a2aa1466-a710-48f2-b245-b878658717b8.json']\n"
     ]
    }
   ],
   "source": [
    "import sys\n",
    "print(sys.argv)"
   ]
  },
  {
   "cell_type": "markdown",
   "id": "e089bbe7-6df4-46a0-85a9-1fa9c2efd109",
   "metadata": {},
   "source": [
    "The argparse module provides a more sophisticated mechanism to process command line arguments. The following script extracts one or more filenames and an optional number of lines to be displayed:"
   ]
  },
  {
   "cell_type": "code",
   "execution_count": 8,
   "id": "8860c1d5-3734-40e6-96d5-616af6a796f0",
   "metadata": {},
   "outputs": [
    {
     "name": "stdout",
     "output_type": "stream",
     "text": [
      "Namespace(filenames=['file1.txt', 'file2.txt'], lines=5)\n"
     ]
    }
   ],
   "source": [
    "import argparse\n",
    "# simulate command line arguments\n",
    "sys.argv = ['fibo.py', 'file1.txt', 'file2.txt', '-l', '5']\n",
    "parser = argparse.ArgumentParser(\n",
    "    prog='top',\n",
    "    description='Show top lines from each file')\n",
    "parser.add_argument('filenames', nargs='+')\n",
    "parser.add_argument('-l','--lines', type=int, default=10)\n",
    "args = parser.parse_args()\n",
    "print(args) # errors occurs at this directory relative only one file is .py and that is fibo.py"
   ]
  },
  {
   "cell_type": "markdown",
   "id": "7d0e613e-2851-4f41-8e32-8884ba07a27a",
   "metadata": {},
   "source": [
    "#### Error Output Redirection and Program Termination\n",
    "\n",
    "The sys module also has attributes for stdin, stdout, and stderr. The latter is useful for emitting warnings and error messages to make them visible even when stdout has been redirected"
   ]
  },
  {
   "cell_type": "code",
   "execution_count": 9,
   "id": "706c6768-9cae-4412-beeb-b22bcc1852a8",
   "metadata": {},
   "outputs": [
    {
     "name": "stderr",
     "output_type": "stream",
     "text": [
      "Warning, log file not found starting a new one\n"
     ]
    },
    {
     "data": {
      "text/plain": [
       "47"
      ]
     },
     "execution_count": 9,
     "metadata": {},
     "output_type": "execute_result"
    }
   ],
   "source": [
    "sys.stderr.write('Warning, log file not found starting a new one\\n')"
   ]
  },
  {
   "cell_type": "markdown",
   "id": "31b4bf6b-6ddf-4341-992a-61666b93584a",
   "metadata": {},
   "source": [
    "The most direct way to terminate a script is to use `sys.exit()`."
   ]
  },
  {
   "cell_type": "markdown",
   "id": "3d396306-9f1e-4dde-8a0c-908f09d56e69",
   "metadata": {},
   "source": [
    "#### String Pattern Matching\n",
    "\n",
    "The re module provides regular expression tools for advanced string processing. For complex matching and manipulation, regular expressions offer succinct, optimized solutions:"
   ]
  },
  {
   "cell_type": "code",
   "execution_count": 10,
   "id": "0c8ea9fe-8631-40ed-98ed-24a769f58e2f",
   "metadata": {},
   "outputs": [
    {
     "name": "stdout",
     "output_type": "stream",
     "text": [
      "['foot', 'fell', 'fastest']\n",
      "cat in the hat\n"
     ]
    }
   ],
   "source": [
    "import re\n",
    "print(re.findall(r'\\bf[a-z]*', 'which foot or hand fell fastest'))\n",
    "print(re.sub(r'(\\b[a-z]+) \\1', r'\\1', 'cat in the the hat'))"
   ]
  },
  {
   "cell_type": "markdown",
   "id": "00b60a11-fd33-4f26-ab67-abe778e1f557",
   "metadata": {},
   "source": [
    "When only simple capabilities are needed, string methods are preferred because they are easier to read and debug:"
   ]
  },
  {
   "cell_type": "code",
   "execution_count": 11,
   "id": "ee7d9bd7-7828-4fba-9ead-0aa48212ea0f",
   "metadata": {},
   "outputs": [
    {
     "data": {
      "text/plain": [
       "'tea for two'"
      ]
     },
     "execution_count": 11,
     "metadata": {},
     "output_type": "execute_result"
    }
   ],
   "source": [
    "'tea for too'.replace('too','two')"
   ]
  },
  {
   "cell_type": "markdown",
   "id": "7251198e-aa29-4d11-95a8-cbcab3093cc5",
   "metadata": {},
   "source": [
    "#### Mathematics\n",
    "\n",
    "The math module gives access to the underlying C library functions for floating-point math:"
   ]
  },
  {
   "cell_type": "code",
   "execution_count": 12,
   "id": "2c55e4fe-3152-4158-8c78-92cdfd2b5d23",
   "metadata": {},
   "outputs": [
    {
     "data": {
      "text/plain": [
       "10.0"
      ]
     },
     "execution_count": 12,
     "metadata": {},
     "output_type": "execute_result"
    }
   ],
   "source": [
    "import math\n",
    "math.cos(math.pi / 4)\n",
    "\n",
    "math.log(1024, 2)"
   ]
  },
  {
   "cell_type": "markdown",
   "id": "4f96e2c6-e554-4a37-beb6-5224d2f881e2",
   "metadata": {},
   "source": [
    "The random module provides tools for making random selections:"
   ]
  },
  {
   "cell_type": "code",
   "execution_count": 43,
   "id": "9b0ebf15-614c-4109-8a2b-25be679a1439",
   "metadata": {},
   "outputs": [
    {
     "name": "stdout",
     "output_type": "stream",
     "text": [
      "apple\n",
      "[85, 15, 49, 27, 70, 46, 82, 10, 17, 24]\n",
      "0.3122147889904022\n",
      "0\n"
     ]
    }
   ],
   "source": [
    "import random\n",
    "rand_fruit = random.choice(['apple', 'pear', 'banana'])\n",
    "print(rand_fruit)\n",
    "\n",
    "rand_sample = random.sample(range(100), 10)   # sampling without replacement\n",
    "print(rand_sample)\n",
    "\n",
    "rand_val = random.random()    # random float from the interval [0.0, 1.0)\n",
    "print(rand_val)\n",
    "\n",
    "rand_range = random.randrange(6)    # random integer chosen from range(6)\n",
    "print(rand_range)"
   ]
  },
  {
   "cell_type": "markdown",
   "id": "fe969a4e-5ea5-491b-b41a-0c3f1e7f68cc",
   "metadata": {},
   "source": [
    "The statistics module calculates basic statistical properties (the mean, median, variance, etc.) of numeric data:"
   ]
  },
  {
   "cell_type": "code",
   "execution_count": 53,
   "id": "b7391a98-0403-48b7-bf59-a052f97da73c",
   "metadata": {},
   "outputs": [
    {
     "name": "stdout",
     "output_type": "stream",
     "text": [
      "Data mean -> 1.6071428571428572\n",
      "Data median -> 1.25\n",
      "Data variance -> 1.3720238095238095\n",
      "Data std variation -> 1.171334200612195\n",
      "Data range (diff. between max(val) - min(val) -> 3.25\n",
      "Interquartile Range (IRQ) (75% - 25%) -> 1.25)\n"
     ]
    }
   ],
   "source": [
    "import statistics\n",
    "data = [2.75, 1.75, 1.25, 0.25, 0.5, 1.25, 3.5]\n",
    "print(f\"Data mean -> {statistics.mean(data)}\")\n",
    "print(f\"Data median -> {statistics.median(data)}\")\n",
    "print(f\"Data variance -> {statistics.variance(data)}\")\n",
    "print(f\"Data std variation -> {statistics.stdev(data)}\")\n",
    "print(f\"Data range (diff. between max(val) - min(val) -> {max(data) - min(data)}\")\n",
    "# Interquartile Range (IQR)\n",
    "# The IQR is the range between the 25th and 75th percentiles (Q1 and Q3)\n",
    "# It measures the spread of the middle 50% of the data\n",
    "\n",
    "#calculating percentiles (25th, 50th and 75th percentiles)\n",
    "def percentile(data, percent):\n",
    "    #sort the data first\n",
    "    data_sorted = sorted(data)\n",
    "    index = int(percent / 100 * (len(data_sorted) - 1))\n",
    "    return data_sorted[index]\n",
    "\n",
    "perc_25 = percentile(data, 25)\n",
    "perc_75 = percentile(data, 75)\n",
    "IRQ = perc_75 - perc_25\n",
    "\n",
    "print(f\"Interquartile Range (IRQ) (75% - 25%) -> {IRQ})\")"
   ]
  },
  {
   "cell_type": "markdown",
   "id": "782b0521-5c42-4df2-8801-c18cf3cece6d",
   "metadata": {},
   "source": [
    "The SciPy project <https://scipy.org> has many other modules for numerical computations."
   ]
  },
  {
   "cell_type": "markdown",
   "id": "77f1ad3a-002c-481c-89a7-76f01bddbe85",
   "metadata": {},
   "source": [
    "#### Internet Access\n",
    "\n",
    "There are a number of modules for accessing the internet and processing internet protocols. Two of the simplest are urllib.request for retrieving data from URLs and smtplib for sending mail:"
   ]
  },
  {
   "cell_type": "code",
   "execution_count": 15,
   "id": "ba204315-1492-4fcf-bf4e-5999dc732353",
   "metadata": {},
   "outputs": [
    {
     "ename": "ConnectionRefusedError",
     "evalue": "[WinError 10061] No connection could be made because the target machine actively refused it",
     "output_type": "error",
     "traceback": [
      "\u001b[1;31m---------------------------------------------------------------------------\u001b[0m",
      "\u001b[1;31mConnectionRefusedError\u001b[0m                    Traceback (most recent call last)",
      "Cell \u001b[1;32mIn[15], line 2\u001b[0m\n\u001b[0;32m      1\u001b[0m \u001b[38;5;28;01mimport\u001b[39;00m \u001b[38;5;21;01msmtplib\u001b[39;00m\n\u001b[1;32m----> 2\u001b[0m server \u001b[38;5;241m=\u001b[39m \u001b[43msmtplib\u001b[49m\u001b[38;5;241;43m.\u001b[39;49m\u001b[43mSMTP\u001b[49m\u001b[43m(\u001b[49m\u001b[38;5;124;43m'\u001b[39;49m\u001b[38;5;124;43mlocalhost\u001b[39;49m\u001b[38;5;124;43m'\u001b[39;49m\u001b[43m)\u001b[49m\n\u001b[0;32m      3\u001b[0m server\u001b[38;5;241m.\u001b[39msendmail(\u001b[38;5;124m'\u001b[39m\u001b[38;5;124msoothsayer@example.org\u001b[39m\u001b[38;5;124m'\u001b[39m, \u001b[38;5;124m'\u001b[39m\u001b[38;5;124mjcaesar@example.org\u001b[39m\u001b[38;5;124m'\u001b[39m,\n\u001b[0;32m      4\u001b[0m \u001b[38;5;124;03m\"\"\"To: jcaesar@example.org\u001b[39;00m\n\u001b[0;32m      5\u001b[0m \u001b[38;5;124;03mFrom: soothsayer@example.org\u001b[39;00m\n\u001b[0;32m      6\u001b[0m \n\u001b[0;32m      7\u001b[0m \u001b[38;5;124;03mBeware the Ides of March.\u001b[39;00m\n\u001b[0;32m      8\u001b[0m \u001b[38;5;124;03m\"\"\"\u001b[39;00m)\n\u001b[0;32m      9\u001b[0m server\u001b[38;5;241m.\u001b[39mquit()\n",
      "File \u001b[1;32mC:\\Program Files\\Python312\\Lib\\smtplib.py:255\u001b[0m, in \u001b[0;36mSMTP.__init__\u001b[1;34m(self, host, port, local_hostname, timeout, source_address)\u001b[0m\n\u001b[0;32m    252\u001b[0m \u001b[38;5;28mself\u001b[39m\u001b[38;5;241m.\u001b[39m_auth_challenge_count \u001b[38;5;241m=\u001b[39m \u001b[38;5;241m0\u001b[39m\n\u001b[0;32m    254\u001b[0m \u001b[38;5;28;01mif\u001b[39;00m host:\n\u001b[1;32m--> 255\u001b[0m     (code, msg) \u001b[38;5;241m=\u001b[39m \u001b[38;5;28;43mself\u001b[39;49m\u001b[38;5;241;43m.\u001b[39;49m\u001b[43mconnect\u001b[49m\u001b[43m(\u001b[49m\u001b[43mhost\u001b[49m\u001b[43m,\u001b[49m\u001b[43m \u001b[49m\u001b[43mport\u001b[49m\u001b[43m)\u001b[49m\n\u001b[0;32m    256\u001b[0m     \u001b[38;5;28;01mif\u001b[39;00m code \u001b[38;5;241m!=\u001b[39m \u001b[38;5;241m220\u001b[39m:\n\u001b[0;32m    257\u001b[0m         \u001b[38;5;28mself\u001b[39m\u001b[38;5;241m.\u001b[39mclose()\n",
      "File \u001b[1;32mC:\\Program Files\\Python312\\Lib\\smtplib.py:341\u001b[0m, in \u001b[0;36mSMTP.connect\u001b[1;34m(self, host, port, source_address)\u001b[0m\n\u001b[0;32m    339\u001b[0m     port \u001b[38;5;241m=\u001b[39m \u001b[38;5;28mself\u001b[39m\u001b[38;5;241m.\u001b[39mdefault_port\n\u001b[0;32m    340\u001b[0m sys\u001b[38;5;241m.\u001b[39maudit(\u001b[38;5;124m\"\u001b[39m\u001b[38;5;124msmtplib.connect\u001b[39m\u001b[38;5;124m\"\u001b[39m, \u001b[38;5;28mself\u001b[39m, host, port)\n\u001b[1;32m--> 341\u001b[0m \u001b[38;5;28mself\u001b[39m\u001b[38;5;241m.\u001b[39msock \u001b[38;5;241m=\u001b[39m \u001b[38;5;28;43mself\u001b[39;49m\u001b[38;5;241;43m.\u001b[39;49m\u001b[43m_get_socket\u001b[49m\u001b[43m(\u001b[49m\u001b[43mhost\u001b[49m\u001b[43m,\u001b[49m\u001b[43m \u001b[49m\u001b[43mport\u001b[49m\u001b[43m,\u001b[49m\u001b[43m \u001b[49m\u001b[38;5;28;43mself\u001b[39;49m\u001b[38;5;241;43m.\u001b[39;49m\u001b[43mtimeout\u001b[49m\u001b[43m)\u001b[49m\n\u001b[0;32m    342\u001b[0m \u001b[38;5;28mself\u001b[39m\u001b[38;5;241m.\u001b[39mfile \u001b[38;5;241m=\u001b[39m \u001b[38;5;28;01mNone\u001b[39;00m\n\u001b[0;32m    343\u001b[0m (code, msg) \u001b[38;5;241m=\u001b[39m \u001b[38;5;28mself\u001b[39m\u001b[38;5;241m.\u001b[39mgetreply()\n",
      "File \u001b[1;32mC:\\Program Files\\Python312\\Lib\\smtplib.py:312\u001b[0m, in \u001b[0;36mSMTP._get_socket\u001b[1;34m(self, host, port, timeout)\u001b[0m\n\u001b[0;32m    310\u001b[0m \u001b[38;5;28;01mif\u001b[39;00m \u001b[38;5;28mself\u001b[39m\u001b[38;5;241m.\u001b[39mdebuglevel \u001b[38;5;241m>\u001b[39m \u001b[38;5;241m0\u001b[39m:\n\u001b[0;32m    311\u001b[0m     \u001b[38;5;28mself\u001b[39m\u001b[38;5;241m.\u001b[39m_print_debug(\u001b[38;5;124m'\u001b[39m\u001b[38;5;124mconnect: to\u001b[39m\u001b[38;5;124m'\u001b[39m, (host, port), \u001b[38;5;28mself\u001b[39m\u001b[38;5;241m.\u001b[39msource_address)\n\u001b[1;32m--> 312\u001b[0m \u001b[38;5;28;01mreturn\u001b[39;00m \u001b[43msocket\u001b[49m\u001b[38;5;241;43m.\u001b[39;49m\u001b[43mcreate_connection\u001b[49m\u001b[43m(\u001b[49m\u001b[43m(\u001b[49m\u001b[43mhost\u001b[49m\u001b[43m,\u001b[49m\u001b[43m \u001b[49m\u001b[43mport\u001b[49m\u001b[43m)\u001b[49m\u001b[43m,\u001b[49m\u001b[43m \u001b[49m\u001b[43mtimeout\u001b[49m\u001b[43m,\u001b[49m\n\u001b[0;32m    313\u001b[0m \u001b[43m                                \u001b[49m\u001b[38;5;28;43mself\u001b[39;49m\u001b[38;5;241;43m.\u001b[39;49m\u001b[43msource_address\u001b[49m\u001b[43m)\u001b[49m\n",
      "File \u001b[1;32mC:\\Program Files\\Python312\\Lib\\socket.py:852\u001b[0m, in \u001b[0;36mcreate_connection\u001b[1;34m(address, timeout, source_address, all_errors)\u001b[0m\n\u001b[0;32m    850\u001b[0m \u001b[38;5;28;01mtry\u001b[39;00m:\n\u001b[0;32m    851\u001b[0m     \u001b[38;5;28;01mif\u001b[39;00m \u001b[38;5;129;01mnot\u001b[39;00m all_errors:\n\u001b[1;32m--> 852\u001b[0m         \u001b[38;5;28;01mraise\u001b[39;00m exceptions[\u001b[38;5;241m0\u001b[39m]\n\u001b[0;32m    853\u001b[0m     \u001b[38;5;28;01mraise\u001b[39;00m ExceptionGroup(\u001b[38;5;124m\"\u001b[39m\u001b[38;5;124mcreate_connection failed\u001b[39m\u001b[38;5;124m\"\u001b[39m, exceptions)\n\u001b[0;32m    854\u001b[0m \u001b[38;5;28;01mfinally\u001b[39;00m:\n\u001b[0;32m    855\u001b[0m     \u001b[38;5;66;03m# Break explicitly a reference cycle\u001b[39;00m\n",
      "File \u001b[1;32mC:\\Program Files\\Python312\\Lib\\socket.py:837\u001b[0m, in \u001b[0;36mcreate_connection\u001b[1;34m(address, timeout, source_address, all_errors)\u001b[0m\n\u001b[0;32m    835\u001b[0m \u001b[38;5;28;01mif\u001b[39;00m source_address:\n\u001b[0;32m    836\u001b[0m     sock\u001b[38;5;241m.\u001b[39mbind(source_address)\n\u001b[1;32m--> 837\u001b[0m \u001b[43msock\u001b[49m\u001b[38;5;241;43m.\u001b[39;49m\u001b[43mconnect\u001b[49m\u001b[43m(\u001b[49m\u001b[43msa\u001b[49m\u001b[43m)\u001b[49m\n\u001b[0;32m    838\u001b[0m \u001b[38;5;66;03m# Break explicitly a reference cycle\u001b[39;00m\n\u001b[0;32m    839\u001b[0m exceptions\u001b[38;5;241m.\u001b[39mclear()\n",
      "\u001b[1;31mConnectionRefusedError\u001b[0m: [WinError 10061] No connection could be made because the target machine actively refused it"
     ]
    }
   ],
   "source": [
    "import smtplib\n",
    "server = smtplib.SMTP('localhost')\n",
    "server.sendmail('soothsayer@example.org', 'jcaesar@example.org',\n",
    "\"\"\"To: jcaesar@example.org\n",
    "From: soothsayer@example.org\n",
    "\n",
    "Beware the Ides of March.\n",
    "\"\"\")\n",
    "server.quit()"
   ]
  },
  {
   "cell_type": "markdown",
   "id": "ea9124c4-ee6d-4249-b5ba-d7d6b72131f0",
   "metadata": {},
   "source": [
    "(Note that the second example needs a mailserver running on localhost.)"
   ]
  },
  {
   "cell_type": "markdown",
   "id": "18459298-58fd-416a-9253-5c6a7ad80a02",
   "metadata": {},
   "source": [
    "#### Dates and Times\n",
    "\n",
    "The `datetime` module supplies classes for manipulating dates and times in both simple and complex ways. While date and time arithmetic is supported, the focus of the implementation is on efficient member extraction for output formatting and manipulation. The module also supports objects that are timezone aware."
   ]
  },
  {
   "cell_type": "code",
   "execution_count": 16,
   "id": "21acac92-4048-46f9-b960-152ebd7801dd",
   "metadata": {},
   "outputs": [
    {
     "data": {
      "text/plain": [
       "22134"
      ]
     },
     "execution_count": 16,
     "metadata": {},
     "output_type": "execute_result"
    }
   ],
   "source": [
    "# dates are easily constructed and formatted\n",
    "from datetime import date\n",
    "now = date.today()\n",
    "now\n",
    "\n",
    "now.strftime(\"%m-%d-%y. %d %b %Y is a %A on the %d day of %B.\")\n",
    "\n",
    "\n",
    "# dates support calendar arithmetic\n",
    "birthday = date(1964, 7, 31)\n",
    "age = now - birthday\n",
    "age.days"
   ]
  },
  {
   "cell_type": "markdown",
   "id": "d2936bc2-c0db-4d55-a113-a5b906e1f07f",
   "metadata": {},
   "source": [
    "### Data Compression\n",
    "Common data archiving and compression formats are directly supported by modules including: `zlib`, `gzip`, `bz2`, `lzma`, `zipfile` and `tarfile`."
   ]
  },
  {
   "cell_type": "code",
   "execution_count": 17,
   "id": "46a35e4c-99b5-4a32-bcf1-92fb47478422",
   "metadata": {},
   "outputs": [
    {
     "data": {
      "text/plain": [
       "226805979"
      ]
     },
     "execution_count": 17,
     "metadata": {},
     "output_type": "execute_result"
    }
   ],
   "source": [
    "import zlib\n",
    "s = b'witch which has which witches wrist watch'\n",
    "len(s)\n",
    "\n",
    "t = zlib.compress(s)\n",
    "len(t)\n",
    "\n",
    "zlib.decompress(t)\n",
    "\n",
    "zlib.crc32(s)"
   ]
  },
  {
   "cell_type": "markdown",
   "id": "28829cc9-0a39-40ce-b34a-be7671d912fe",
   "metadata": {},
   "source": [
    "#### Performance Measurement"
   ]
  },
  {
   "cell_type": "markdown",
   "id": "1bc575b8-f2dc-4f82-afe0-ee1d850a70a7",
   "metadata": {},
   "source": [
    "Some Python users develop a deep interest in knowing the relative performance of different approaches to the same problem. Python provides a measurement tool that answers those questions immediately.\n",
    "\n",
    "For example, it may be tempting to use the tuple packing and unpacking feature instead of the traditional approach to swapping arguments. The `timeit` module quickly demonstrates a modest performance advantage:"
   ]
  },
  {
   "cell_type": "code",
   "execution_count": 18,
   "id": "ae814215-8e0b-4e5e-8d66-be67ec9204ab",
   "metadata": {},
   "outputs": [
    {
     "data": {
      "text/plain": [
       "0.01308840001001954"
      ]
     },
     "execution_count": 18,
     "metadata": {},
     "output_type": "execute_result"
    }
   ],
   "source": [
    "from timeit import Timer\n",
    "Timer('t=a; a=b; b=t', 'a=1; b=2').timeit()\n",
    "\n",
    "Timer('a,b = b,a', 'a=1; b=2').timeit()"
   ]
  },
  {
   "cell_type": "markdown",
   "id": "4db55d0d-9559-4504-bd0c-b2ee5b903ae3",
   "metadata": {},
   "source": [
    "In contrast to `timeit’s` fine level of granularity, the `profile` and `pstats` modules provide tools for identifying time critical sections in larger blocks of code."
   ]
  },
  {
   "cell_type": "markdown",
   "id": "7409dbc8-274d-462b-a318-dabe1910fd06",
   "metadata": {},
   "source": [
    "#### Quality Control\n",
    "\n",
    "One approach for developing high quality software is to write tests for each function as it is developed and to run those tests frequently during the development process.\n",
    "\n",
    "The `doctest` module provides a tool for scanning a module and validating tests embedded in a program’s docstrings. Test construction is as simple as cutting-and-pasting a typical call along with its results into the docstring. This improves the documentation by providing the user with an example and it allows the doctest module to make sure the code remains true to the documentation:"
   ]
  },
  {
   "cell_type": "code",
   "execution_count": 19,
   "id": "307f2d5f-eeda-438a-a2e6-b52a971ddf81",
   "metadata": {},
   "outputs": [
    {
     "data": {
      "text/plain": [
       "TestResults(failed=0, attempted=1)"
      ]
     },
     "execution_count": 19,
     "metadata": {},
     "output_type": "execute_result"
    }
   ],
   "source": [
    "def average(values):\n",
    "    \"\"\"Computes the arithmetic mean of a list of numbers.\n",
    "\n",
    "    >>> print(average([20, 30, 70]))\n",
    "    40.0\n",
    "    \"\"\"\n",
    "    return sum(values) / len(values)\n",
    "\n",
    "import doctest\n",
    "doctest.testmod()   # automatically validate the embedded tests"
   ]
  },
  {
   "cell_type": "markdown",
   "id": "eb43437c-8f22-41d4-b354-6fbe765954fe",
   "metadata": {},
   "source": [
    "The `unittest` module is not as effortless as the `doctest` module, but it allows a more comprehensive set of tests to be maintained in a separate file:"
   ]
  },
  {
   "cell_type": "code",
   "execution_count": 56,
   "id": "b2bcb3b8-b5b7-408a-96f6-3195c1d6e5fd",
   "metadata": {},
   "outputs": [
    {
     "name": "stderr",
     "output_type": "stream",
     "text": [
      ".\n",
      "----------------------------------------------------------------------\n",
      "Ran 1 test in 0.001s\n",
      "\n",
      "OK\n"
     ]
    },
    {
     "ename": "SystemExit",
     "evalue": "0",
     "output_type": "error",
     "traceback": [
      "An exception has occurred, use %tb to see the full traceback.\n",
      "\u001b[1;31mSystemExit\u001b[0m\u001b[1;31m:\u001b[0m 0\n"
     ]
    },
    {
     "name": "stderr",
     "output_type": "stream",
     "text": [
      "C:\\Program Files\\Python312\\Lib\\site-packages\\IPython\\core\\interactiveshell.py:3585: UserWarning: To exit: use 'exit', 'quit', or Ctrl-D.\n",
      "  warn(\"To exit: use 'exit', 'quit', or Ctrl-D.\", stacklevel=1)\n"
     ]
    }
   ],
   "source": [
    "import unittest\n",
    "\n",
    "class TestStatisticalFunctions(unittest.TestCase):\n",
    "\n",
    "    def test_average(self):\n",
    "        self.assertEqual(average([20, 30, 70]), 40.0)\n",
    "        self.assertEqual(round(average([1, 5, 7]), 1), 4.3)\n",
    "        with self.assertRaises(ZeroDivisionError):\n",
    "            average([])\n",
    "        with self.assertRaises(TypeError):\n",
    "            average(20, 30, 70)\n",
    "if __name__ == \"__main__\":\n",
    "    unittest.main(argv=[''])  # Calling from the command line invokes all tests"
   ]
  },
  {
   "cell_type": "markdown",
   "id": "7ff8a591-6c39-4498-8373-89b9d11690c7",
   "metadata": {},
   "source": [
    "#### Batteries Included\n",
    "\n",
    "Python has a “batteries included” philosophy. This is best seen through the sophisticated and robust capabilities of its larger packages. For example:\n",
    "\n",
    "The xmlrpc.client and xmlrpc.server modules make implementing remote procedure calls into an almost trivial task. Despite the modules’ names, no direct knowledge or handling of XML is needed.\n",
    "\n",
    "The email package is a library for managing email messages, including MIME and other RFC 2822-based message documents. Unlike smtplib and poplib which actually send and receive messages, the email package has a complete toolset for building or decoding complex message structures (including attachments) and for implementing internet encoding and header protocols.\n",
    "\n",
    "The json package provides robust support for parsing this popular data interchange format. The csv module supports direct reading and writing of files in Comma-Separated Value format, commonly supported by databases and spreadsheets. XML processing is supported by the xml.etree.ElementTree, xml.dom and xml.sax packages. Together, these modules and packages greatly simplify data interchange between Python applications and other tools.\n",
    "\n",
    "The sqlite3 module is a wrapper for the SQLite database library, providing a persistent database that can be updated and accessed using slightly nonstandard SQL syntax.\n",
    "\n",
    "Internationalization is supported by a number of modules including gettext, locale, and the codecs package."
   ]
  },
  {
   "cell_type": "markdown",
   "id": "926508ca-1233-420f-b26e-d17bd0ab4ce9",
   "metadata": {},
   "source": [
    "# Brief Tour of the Standard Library - Part II\n",
    "\n",
    "This second tour covers more advanced modules that support professional programming needs. These modules rarely occur in small scripts."
   ]
  },
  {
   "cell_type": "markdown",
   "id": "867def8f-1b44-4df2-874e-7ae07acdc800",
   "metadata": {},
   "source": [
    "#### Output Formatting\n",
    "\n",
    "The `reprlib` module provides a version of `repr()` customized for abbreviated displays of large or deeply nested containers:"
   ]
  },
  {
   "cell_type": "code",
   "execution_count": 21,
   "id": "306dd29d-4b7b-4ec9-a0cf-ee081ec47a3b",
   "metadata": {},
   "outputs": [
    {
     "data": {
      "text/plain": [
       "\"{'a', 'c', 'd', 'e', 'f', 'g', ...}\""
      ]
     },
     "execution_count": 21,
     "metadata": {},
     "output_type": "execute_result"
    }
   ],
   "source": [
    "import reprlib\n",
    "reprlib.repr(set('supercalifragilisticexpialidocious'))"
   ]
  },
  {
   "cell_type": "markdown",
   "id": "cbde4484-79c0-4a7d-8781-98283446f7d4",
   "metadata": {},
   "source": [
    "The `pprint` module offers more sophisticated control over printing both built-in and user defined objects in a way that is readable by the interpreter. When the result is longer than one line, the “pretty printer” adds line breaks and indentation to more clearly reveal data structure:"
   ]
  },
  {
   "cell_type": "code",
   "execution_count": 22,
   "id": "e7c836b6-bab5-4a8b-bc22-9f006b5da304",
   "metadata": {},
   "outputs": [
    {
     "name": "stdout",
     "output_type": "stream",
     "text": [
      "[[[['black', 'cyan'],\n",
      "   'white',\n",
      "   ['green', 'red']],\n",
      "  [['magenta', 'yellow'],\n",
      "   'blue']]]\n"
     ]
    }
   ],
   "source": [
    "import pprint\n",
    "t = [[[['black', 'cyan'], 'white', ['green', 'red']], [['magenta',\n",
    "    'yellow'], 'blue']]]\n",
    "pprint.pprint(t, width=30)"
   ]
  },
  {
   "cell_type": "markdown",
   "id": "d0454c62-3a4c-463d-8295-a6414b484d03",
   "metadata": {},
   "source": [
    "The `textwrap` module formats paragraphs of text to fit a given screen width:"
   ]
  },
  {
   "cell_type": "code",
   "execution_count": 23,
   "id": "f8442f66-e799-48ee-be75-e540ba0332ed",
   "metadata": {
    "scrolled": true
   },
   "outputs": [
    {
     "name": "stdout",
     "output_type": "stream",
     "text": [
      " The wrap() method is just like fill()\n",
      "except that it returns a list of strings\n",
      "instead of one big string with newlines\n",
      "to separate the wrapped lines.\n"
     ]
    }
   ],
   "source": [
    "import textwrap\n",
    "doc = \"\"\" The wrap() method is just like fill() except that it returns\n",
    "a list of strings instead of one big string with newlines to separate\n",
    "the wrapped lines. \"\"\"\n",
    "print(textwrap.fill(doc, width=40))"
   ]
  },
  {
   "cell_type": "markdown",
   "id": "9ac1b2bf-c3ce-4f4e-b612-d468d3653711",
   "metadata": {},
   "source": [
    "The `locale` module accesses a database of culture specific data formats. The grouping attribute of locale’s format function provides a direct way of formatting numbers with group separators:"
   ]
  },
  {
   "cell_type": "code",
   "execution_count": 24,
   "id": "b2e0092e-f151-480d-a689-b6901d5085db",
   "metadata": {},
   "outputs": [
    {
     "name": "stdout",
     "output_type": "stream",
     "text": [
      "English_United States.1252\n",
      "12,345,768,970\n",
      "$12,345,768,970.25\n"
     ]
    }
   ],
   "source": [
    "import locale\n",
    "print(locale.setlocale(locale.LC_ALL, 'English_United States.1252'))\n",
    "conv = locale.localeconv() # get a mapping of conventions\n",
    "x = 12345768970.25289\n",
    "print(locale.format_string(\"%d\", x, grouping=True))\n",
    "print(locale.format_string(\"%s%.*f\", (conv['currency_symbol'], conv['frac_digits'], x) , grouping=True))"
   ]
  },
  {
   "cell_type": "markdown",
   "id": "bc728221-9561-4367-b388-6812b9de3ee3",
   "metadata": {},
   "source": [
    "#### Templating"
   ]
  },
  {
   "cell_type": "markdown",
   "id": "cf3cea83-a515-4dea-9a8a-2b0315e92dd7",
   "metadata": {},
   "source": [
    "The `string` module includes a versatile `Template` class with a simplified syntax suitable for editing by end-users. This allows users to customize their applications without having to alter the application.\n",
    "\n",
    "The format uses placeholder names formed by `$` with valid Python identifiers (alphanumeric characters and underscores). Surrounding the placeholder with braces allows it to be followed by more alphanumeric letters with no intervening spaces. Writing `$$` creates a single escaped `$`:"
   ]
  },
  {
   "cell_type": "code",
   "execution_count": 25,
   "id": "74fd2374-2d49-42dd-a1ab-824be6358be2",
   "metadata": {},
   "outputs": [
    {
     "name": "stdout",
     "output_type": "stream",
     "text": [
      "${village} fold send $$10 to $cause\n"
     ]
    },
    {
     "data": {
      "text/plain": [
       "'Nottingham fold send $10 to the ditch fund'"
      ]
     },
     "execution_count": 25,
     "metadata": {},
     "output_type": "execute_result"
    }
   ],
   "source": [
    "from string import Template\n",
    "t = Template('${village} fold send $$10 to $cause')\n",
    "print(t.template)\n",
    "t.substitute(village='Nottingham', cause='the ditch fund')\n"
   ]
  },
  {
   "cell_type": "markdown",
   "id": "4f5dcfc5-62c0-4b6e-836e-eb5b856afda9",
   "metadata": {},
   "source": [
    "The `substitute()` method raises a `KeyError` when a placeholder is not supplied in a dictionary or a keyword argument. For mail-merge style applications, user supplied data may be incomplete and the `safe_substitute()` method may be more appropriate — it will leave placeholders unchanged if data is missing:"
   ]
  },
  {
   "cell_type": "code",
   "execution_count": 26,
   "id": "791b4b9b-42f2-40c7-a284-82c8c889dd5c",
   "metadata": {},
   "outputs": [
    {
     "data": {
      "text/plain": [
       "'Return the unladen swallow to $owner'"
      ]
     },
     "execution_count": 26,
     "metadata": {},
     "output_type": "execute_result"
    }
   ],
   "source": [
    "t = Template('Return the $item to $owner')\n",
    "d = dict(item='unladen swallow')\n",
    "# t.substitute(d) -> raises a KeyError: 'owner'\n",
    "t.safe_substitute(d)"
   ]
  },
  {
   "cell_type": "markdown",
   "id": "310e1bba-13dd-47b2-982d-93d3ff818bb7",
   "metadata": {},
   "source": [
    "Template subclasses can specify a custom delimiter. For example, a batch renaming utility for a photo browser may elect to use percent signs for placeholders such as the current date, image sequence number, or file format:"
   ]
  },
  {
   "cell_type": "code",
   "execution_count": 27,
   "id": "5f1ce666-d359-4a24-b1e6-52414d3e8de5",
   "metadata": {},
   "outputs": [
    {
     "name": "stderr",
     "output_type": "stream",
     "text": [
      "<>:2: SyntaxWarning: invalid escape sequence '\\l'\n",
      "<>:2: SyntaxWarning: invalid escape sequence '\\w'\n",
      "<>:2: SyntaxWarning: invalid escape sequence '\\l'\n",
      "<>:2: SyntaxWarning: invalid escape sequence '\\w'\n",
      "C:\\Users\\PC\\AppData\\Local\\Temp\\ipykernel_21384\\3376995340.py:2: SyntaxWarning: invalid escape sequence '\\l'\n",
      "  photofiles = ['img\\large_banner_1920x600_124kb.jpg', 'img\\thumbnail_150x150_10.5kb.jpg','img\\web_optimized_1200x800_97kb.jpg']\n",
      "C:\\Users\\PC\\AppData\\Local\\Temp\\ipykernel_21384\\3376995340.py:2: SyntaxWarning: invalid escape sequence '\\w'\n",
      "  photofiles = ['img\\large_banner_1920x600_124kb.jpg', 'img\\thumbnail_150x150_10.5kb.jpg','img\\web_optimized_1200x800_97kb.jpg']\n",
      "C:\\Users\\PC\\AppData\\Local\\Temp\\ipykernel_21384\\3376995340.py:2: SyntaxWarning: invalid escape sequence '\\l'\n",
      "  photofiles = ['img\\large_banner_1920x600_124kb.jpg', 'img\\thumbnail_150x150_10.5kb.jpg','img\\web_optimized_1200x800_97kb.jpg']\n",
      "C:\\Users\\PC\\AppData\\Local\\Temp\\ipykernel_21384\\3376995340.py:2: SyntaxWarning: invalid escape sequence '\\w'\n",
      "  photofiles = ['img\\large_banner_1920x600_124kb.jpg', 'img\\thumbnail_150x150_10.5kb.jpg','img\\web_optimized_1200x800_97kb.jpg']\n"
     ]
    },
    {
     "ename": "NameError",
     "evalue": "name 'fmt' is not defined",
     "output_type": "error",
     "traceback": [
      "\u001b[1;31m---------------------------------------------------------------------------\u001b[0m",
      "\u001b[1;31mNameError\u001b[0m                                 Traceback (most recent call last)",
      "Cell \u001b[1;32mIn[27], line 8\u001b[0m\n\u001b[0;32m      5\u001b[0m     delimiter \u001b[38;5;241m=\u001b[39m \u001b[38;5;124m'\u001b[39m\u001b[38;5;124m%\u001b[39m\u001b[38;5;124m'\u001b[39m\n\u001b[0;32m      7\u001b[0m \u001b[38;5;66;03m#fmt = input('Enter rename style (%d-date %n-seqnum %f-format):  ')\u001b[39;00m\n\u001b[1;32m----> 8\u001b[0m t \u001b[38;5;241m=\u001b[39m BatchRename(\u001b[43mfmt\u001b[49m)\n\u001b[0;32m      9\u001b[0m date \u001b[38;5;241m=\u001b[39m time\u001b[38;5;241m.\u001b[39mstrftime(\u001b[38;5;124m'\u001b[39m\u001b[38;5;132;01m%d\u001b[39;00m\u001b[38;5;124m%\u001b[39m\u001b[38;5;124mb\u001b[39m\u001b[38;5;124m%\u001b[39m\u001b[38;5;124my\u001b[39m\u001b[38;5;124m'\u001b[39m)\n\u001b[0;32m     10\u001b[0m \u001b[38;5;28;01mfor\u001b[39;00m i, filename \u001b[38;5;129;01min\u001b[39;00m \u001b[38;5;28menumerate\u001b[39m(photofiles):\n",
      "\u001b[1;31mNameError\u001b[0m: name 'fmt' is not defined"
     ]
    }
   ],
   "source": [
    "import time, os.path\n",
    "photofiles = ['img\\large_banner_1920x600_124kb.jpg', 'img\\thumbnail_150x150_10.5kb.jpg','img\\web_optimized_1200x800_97kb.jpg']\n",
    "\n",
    "class BatchRename(Template):\n",
    "    delimiter = '%'\n",
    "\n",
    "#fmt = input('Enter rename style (%d-date %n-seqnum %f-format):  ')\n",
    "t = BatchRename(fmt)\n",
    "date = time.strftime('%d%b%y')\n",
    "for i, filename in enumerate(photofiles):\n",
    "    base, ext = os.path.splitext(filename)\n",
    "    newname = t.substitute(d=date, n=i, f=ext)\n",
    "    print('{0} --> {1}'.format(filename, newname))\n"
   ]
  },
  {
   "cell_type": "markdown",
   "id": "bc066040-c2d2-40af-87e3-d50c65c99140",
   "metadata": {},
   "source": [
    "Another application for templating is separating program logic from the details of multiple output formats. This makes it possible to substitute custom templates for XML files, plain text reports, and HTML web reports."
   ]
  },
  {
   "cell_type": "markdown",
   "id": "38d08990-084b-44dc-af25-09cbb1e3f821",
   "metadata": {},
   "source": [
    "#### Working with Binary Data Record Layouts\n",
    "\n",
    "The `struct` module provides `pack()` and `unpack()` functions for working with variable length binary record formats. The following example shows how to loop through header information in a ZIP file without using the `zipfile` module. Pack codes `\"H\"` and `\"I\"` represent two and four byte unsigned numbers respectively. The `\"<\"` indicates that they are standard size and in little-endian byte order:"
   ]
  },
  {
   "cell_type": "code",
   "execution_count": 57,
   "id": "83e12b6a-4e55-4d44-874f-1ff3b1d53cd8",
   "metadata": {},
   "outputs": [
    {
     "ename": "error",
     "evalue": "unpack requires a buffer of 14 bytes",
     "output_type": "error",
     "traceback": [
      "\u001b[1;31m---------------------------------------------------------------------------\u001b[0m",
      "\u001b[1;31merror\u001b[0m                                     Traceback (most recent call last)",
      "Cell \u001b[1;32mIn[57], line 9\u001b[0m\n\u001b[0;32m      7\u001b[0m \u001b[38;5;28;01mfor\u001b[39;00m i \u001b[38;5;129;01min\u001b[39;00m \u001b[38;5;28mrange\u001b[39m(\u001b[38;5;241m3\u001b[39m): \u001b[38;5;66;03m#show first 3 file headers\u001b[39;00m\n\u001b[0;32m      8\u001b[0m     start \u001b[38;5;241m+\u001b[39m\u001b[38;5;241m=\u001b[39m \u001b[38;5;241m14\u001b[39m\n\u001b[1;32m----> 9\u001b[0m     fields \u001b[38;5;241m=\u001b[39m \u001b[43mstruct\u001b[49m\u001b[38;5;241;43m.\u001b[39;49m\u001b[43munpack\u001b[49m\u001b[43m(\u001b[49m\u001b[38;5;124;43m'\u001b[39;49m\u001b[38;5;124;43m<IIIH\u001b[39;49m\u001b[38;5;124;43m'\u001b[39;49m\u001b[43m,\u001b[49m\u001b[43m \u001b[49m\u001b[43mdata\u001b[49m\u001b[43m[\u001b[49m\u001b[43mstart\u001b[49m\u001b[43m:\u001b[49m\u001b[43mstart\u001b[49m\u001b[38;5;241;43m+\u001b[39;49m\u001b[38;5;241;43m16\u001b[39;49m\u001b[43m]\u001b[49m\u001b[43m)\u001b[49m\n\u001b[0;32m     10\u001b[0m     crc32, comp_size, uncomp_size, filenamesize, extra_size \u001b[38;5;241m=\u001b[39m fields\n\u001b[0;32m     12\u001b[0m     start \u001b[38;5;241m+\u001b[39m\u001b[38;5;241m=\u001b[39m \u001b[38;5;241m16\u001b[39m\n",
      "\u001b[1;31merror\u001b[0m: unpack requires a buffer of 14 bytes"
     ]
    }
   ],
   "source": [
    "import struct\n",
    "\n",
    "with open('workfile.zip', 'rb') as f:\n",
    "    data = f.read()\n",
    "\n",
    "start = 0\n",
    "for i in range(3): #show first 3 file headers\n",
    "    start += 14\n",
    "    fields = struct.unpack('<IIIH', data[start:start+16])\n",
    "    crc32, comp_size, uncomp_size, filenamesize, extra_size = fields\n",
    "\n",
    "    start += 16\n",
    "    filename = data[start:start+filenamesize]\n",
    "    start += filenamesize\n",
    "    extra = data[start:start+extra_size]\n",
    "    print(filename, hex(crc32), comp_size, uncomp_size)\n",
    "\n",
    "    start += extra_size + comp_size # skip to the next header"
   ]
  },
  {
   "cell_type": "markdown",
   "id": "6f18e39f-8c1e-4a74-9be4-3b82887fa9b8",
   "metadata": {},
   "source": [
    "#### Multi-threading\n",
    "\n",
    "Threading is a technique for decoupling tasks which are not sequentially dependent. Threads can be used to improve the responsiveness of applications that accept user input while other tasks run in the background. A related use case is running I/O in parallel with computations in another thread.\n",
    "\n",
    "The following code shows how the high level `threading` module can run tasks in background while the main program continues to run:"
   ]
  },
  {
   "cell_type": "code",
   "execution_count": 58,
   "id": "b4db906c-3245-4907-8fad-212440054ce3",
   "metadata": {},
   "outputs": [
    {
     "name": "stdout",
     "output_type": "stream",
     "text": [
      "The main program continues to run in foreground.\n",
      "Finished background zip of: sample-data.txt\n",
      "Main program waited until background was done.\n"
     ]
    }
   ],
   "source": [
    "import threading, zipfile\n",
    "\n",
    "\n",
    "class AsyncZip(threading.Thread):\n",
    "    __doc__ = \"\"\" asynchronously file compression \"\"\"\n",
    "\n",
    "    def __init__(self, infile, outfile):\n",
    "        threading.Thread.__init__(self)\n",
    "        self.infile = infile\n",
    "        self.outfile = outfile\n",
    "\n",
    "    def run(self):\n",
    "        f = zipfile.ZipFile(self.outfile, 'w', zipfile.ZIP_DEFLATED)\n",
    "        f.write(self.infile)\n",
    "        f.close()\n",
    "        print('Finished background zip of:', self.infile)\n",
    "\n",
    "\n",
    "background = AsyncZip('sample-data.txt', 'sample-data.zip')\n",
    "background.start()\n",
    "print('The main program continues to run in foreground.')\n",
    "\n",
    "background.join()    # Wait for the background task to finish\n",
    "print('Main program waited until background was done.')"
   ]
  },
  {
   "cell_type": "code",
   "execution_count": 59,
   "id": "f2871da5-a445-4f5f-9f50-cba1ab768cc9",
   "metadata": {},
   "outputs": [
    {
     "name": "stdout",
     "output_type": "stream",
     "text": [
      "b'PK\\x03\\x04\\x14\\x00\\x00\\x00\\x08\\x00\\x14^SZ\"\\xf6N\\xc0(\\x05\\x00\\x00e\\x0c\\x00\\x00\\x0f\\x00\\x00\\x00sample-data.txt\\x9dV\\xcb\\xae\\xdc6\\x0c\\xdd\\xcfW\\x10Y\\x1b\\xf3\\x0fE\\xd3\\x02\\x01\\xd2 E\\xdb\\xec96gF\\xad,9zL\\xd2\\xbf\\xef!%\\xcb\\xbe@\\xd1E\\x81\\x00\\xf7\\xc6\\xd7\\xa6\\xc8\\xf3\\xa2>\\xc6$+}\\xd8r]/\\xef>\\xc9\\xd7*\\xb4\\xc5\\x94\"}\\xad.\\x7f\\xad\\xbc\\x92\\xe4\\xa2\\xff\\xa1%z{\\xd7\\xe9\\xbb\\xfa\\x84\\xdb#\\xca\\xae\\x10\\xafR&\\x9ac\\xc82\\x17)5M\\xc4\\x8b\\xdb\\\\\\x9e\\x1d\\xbd\\xc4\\xbbr\\xbd^\\xdf]\\xde\\xfd\\xfe\\x94$\\xe42\\x85H1\\x08}{F\\xf2\\xf1%\\x996v\\x81\\\\\\xc9\\xe2\\xef\\x93=\\xce\"\\x7fe\\xe2{\\x91Dz@X\\xe8\\x1b\\x87\\x92\\xa9Dz\\xf2\\x0bUp`v\\xeb\\xe6\\xff\\xa6\\x9b\\xcc\\\\\\xb3>\\xd2\\xdaZ\\xca\\x8e\\xfbx\\xea\\xf7?Z\\x1d\\x9d\\x86\\x07Y\\xab\\xf4\\xa9\\x86\\x99^\\xae0\\xc0xr\\x92\\x92\\x98\\x02\\x9eM\\xe4\\xeb\\\\j\\xa6\\x95K\\xd1\\x93j\\xaa\\xf9J?\\xd6\\xc47\\xa7\\x950\\x83a\\x96\\xe3\\xc2\\x1eS\\x05w{\\xd2]\\xd2*\\xa1\\xa0\\t\\xf6\\xae\\xfdY\\x96^\\x9e\\xd3\\\\\\xaf\\xf4Y\\xbc\\xc7\\x1b\\x92\\x15~\\xd4\\xb8\\'\\xf4\\xe2\\xbcg2\\xc8\\xaf\\xf4\\x1e`\\xcd\\n$m\\xe7W\\xe3\\xe2\\xe2\\x95~\\x90 \\x1c\\xe8\\xe6n\\x12\\x16\\x9cbx\\xdb\\xcb\\xb9b\\xaaMQ\\xe1\\xb9z\\x87V\\xdf\\x83UZ#z+N\\xf6\\xc7\\xe4\\xdd\\xa3z\\x9eH\\x0fY\\xf9\\xbb[1\\xa2\\x17\\x9b\\xf4\\x8c\\x13`\\xa5\\xcf\\x89%\\xa3\\x01Z\\x1d\\x98H\\xf87\\xd1\\x9dg\\x872(\\xa4\\x83\\xa9^\\xf0s\\xa2\"+\\xa4D\\x0bo\\xee\\x86J\\xa1b \\x80\\x958\\x93T\\xf4\\x87\\x16n\\xd5\\xa3a\\x8f\\xce\\x13\\x06\\xf9\\xff|\\x01\\xd3\\r49\\x9b~\\xd4\\xdd\\xe7\\xbc^._\\xdc\\x8bu\\xaa\\xe2\\xc2\\xec\\x96\\xaa\\xfdsM\\xe8\\x18\"\\x86\\xb6\\xb7\\xea_.0J\\x83\\xdf\\x98\\xae\\xf4[\\xcd\\x1b\\xd0t\\x19\\xaab\\xca\\xfcpF8N\\xdf\\x14\\xc6/\\xc7!7\\x0fi\\xa2\\xcd\\xbdU\\xcc\\x0e\\xcf<\\xf0\\xcb`\\xf1J\\x7f\\xe0\\xf1,^\\x923\\xde\\x02\\xc0BY\\xc8Y\\x86T\\xce\\xc4\\xbe9\\xe04\\xd0\\t\\xe8\\xf6U\\x97\\xea\\x10\\xa9\\xdc\\xefn6%\\xaa4\\xa6\\xd6\\x07H(\\xdcUq\\xbc\\t!\\xacq\\xd9\\xa5\\xa5\\xc4\\x85\\xa6\\xfa\\x97\\xa4\\x04-\\x0cH\\x1a\\x1f.\\xa0\\x9a\\x97.dc\\xe7J\\xbf\\xc4tsJ\\xa6\\xb1\\x03i\\x03V0\\x84\\xb6~\\xadmR\\xf0\\x9aM\\xe4\\xd3\\xd9\\x06\\xa4RX\\xe7\\x986\\x98\\x1bg\\xf5f\\xba\\'\\xeebR\\xfd\\x9c\\xa2F\\x02\\xdc\\x00RLAZl\\xb2`\\xd2\\xc1r\\xe1\\xdc\\xfd\\xf3Sq\\x1aT\\xad\\xcaD\\x7f\\xd6\\x8c\\x90@3\\x9b\\xe7Y\\x12~I\\xcf\\x18\\xe6\\x8a\\x8f\\x1b\\n-\\xc8\\xb6\\x98\\xab\\xc6\\x11*5\\xe9\\x9fT\\xf0\\xa8\\xf6\\\\g\\xfb\\x17\\x8b\\x1aRJ\"\\x12(zo\\x90/\\xe8\\x94\\x87\\xc3\\x01\\x95\\xbbC@\\x13!\\xa1$-NN\\n\\xd19v\\xe0\\x0f\\xc6\\xac\\xa8\\xf2\\xd0\\xf8\\x1aJU\\x8e5\\nj\\xd1#\\xfd\\xb9 \\x86\\x00\\xf2/\\xf6jb;Ze7pF\\xf3\\x9d\\x8eOG&M\\xddZ@E\\r\\nX\\xab/\\t=\\xc8\\x80G\\xbeki\\xe5\\xa69s\\xd2\\xb3\\x0f\\x8a\\xdb\\xf7\\x05\\x80\\xe0ccC\\x85\\x0c\\xcf\\xa0\\xf7\\xee\\xf9\\x91E\\xf2}\\xb26Z^\\xb6r\\xddd\\x1a\\'\\x97K\\x0f\\xafW\\xf5[-\\\\\\x8eL\\xea\\x12\\xeb(U\\xba\\xbb\\xd0D\\x90\\x8b\\xf9ipk\\x19\\xbb@\\x00\\xd6\\xe6\\x1e_1a\\xf3\\xec\\x0c\\xa3\\x04\\xc4\\xda\\x0c?2\\x11\\xdf\\xa3$\\xeb\\xa8\\x18<\\xfaZ6T\\x1b\\x11\\x8d\\xd4\\x92\\xb0\\x0bGy\\xb9\\xd2\\xcf\\xf8T\\x8c\"\\xcd\\x8c\\x95\\x1f\\x01\\xd6\\xfeag\\\\{\\xd9\\xcb\\xe8i2K\\xe0\\x0eP\\x0f\\x1b\\xcdd\\xfc\\xd4X\\xad)\\x9f\\xa1\\xa7\\x17\\'Ws3l\\x0f\\xfd\\xddC\\xc6\\xba1c1\\xa8\\xd2t\\xcb\\xde`\\x880\\xe69[R-\\t\\xc0\\xf7\\xa4\\xba\\\\F#fE\\xdbXXc\\xf1\\x06\\x91\\xa9\\x8fN@2\\xea\\x1f\\r\\r\\xb5\\xaa\\xce\\xc7\\x92\\xc1k\\xc3\\x8e5\\xe9\\xfc\\x1dV\\xa8\\xff\\x91\\xf8\\xe5\\x16\\xee\\x9b\\xa3\\xcb\\xf6M~)KZ\\xa2\\xef\\x96AE\\x9f\\xca$\\xbdt\\xc3}\\x08\\r\\x8cUE[\\x19u\\xfb\\xb6\\x05\\xf7m_5(\\xc7N\\x06&\\xa6^\\x05|\\xa2\\'\\xf4\\x97\\x80\\xc9\\x1b?\\xa8tZV\\x0c\\x000\\xbc\\xc2\\xfe\\x1d\\x0e\\x7frn\\x9a\\x1e\\xfb\\xb1)\\xdd\\xe2d\\xda\\xef\\x03\\xf8\\xac8\\x95o\\xdb~\\xc7nhr\\xeejhF2\\xf7\\xe1&4\\xcfu\\xcd\\xdc\\x07\\xbaK}8\\x80\\xb0{d\\xda\\xcd\\xa6\\xea\\xb0\\x16mE\\xf6 6\\x94\\x01X<it\\x1ci\\x0bd\\x8fB\\x93\\xe8~~\\xa3\\xdf\\\\0\\x9d\\xcc\\xd5\\xa1\\xb2\\xe6\\x1c\\xc2)\\xa28\\xfc\\xb1\\xb8\\x07X\\xc6e\\xcaT|Z\\xf2#\\x11\\xb1\\xed\\xa1\\xb4\\x1e\\x8c/h!pQ\\x98U?\\xe7dD\\xa3\\xc7\\xda\\xedX\\x1f\\x11\\xa5\\x136\\xc0\\xd5\\xd4=\\xb0\\x8cj\\x17\\xc6\\x1c\\x16\\xff=\\xe6\\x0f\\xb4\\x8d\\xeb~\\x7f\\xd12hH\\x82[\\xedcn\\x91\\xdaJ\\xdb\\x93\\xdd\\xdbm\\xe7\\xf5!\\xa6Cp\\xf6\\xfc\\xb8\\\\\\x0cdm\\xd7\\x9d\\xcc;&\\xed\\xb6mLM:\\xa2E.\\x94j\\xa4No6\\x9a\\x91x\\xc8\\xa9\\xad\\xa3\\xae\\xa2c\\xa2\\xb6\\xc7\\xfa\\x9eh\\xea\\x9a\\x0e\\xe9!\\xf1\\xec\\x8b\\xb7W\\x91\\x01%\\xde\\xe4\\x9cm)\\xecz\\x1a\\xeb\\xcfT\\xd1\\xa4\\xbb\\x1b\\xcb\\x16g\\x13\\xb0\\xc3_\\xd3b\\xb7.3\\x11\\xc2\\x1e\\xce\\xe9\\xf06\\xc2\\x86\\xc3\\xadE\\xbdI\\x8cCz\\xa2\\xee\\xb9|,\\x85\\x1d\\x9f\\xe5ty\\xdd/\\x1b\\xd7\\x7f\\x00PK\\x01\\x02\\x14\\x00\\x14\\x00\\x00\\x00\\x08\\x00\\x14^SZ\"\\xf6N\\xc0(\\x05\\x00\\x00e\\x0c\\x00\\x00\\x0f\\x00\\x00\\x00\\x00\\x00\\x00\\x00\\x00\\x00\\x00\\x00\\xb6\\x81\\x00\\x00\\x00\\x00sample-data.txtPK\\x05\\x06\\x00\\x00\\x00\\x00\\x01\\x00\\x01\\x00=\\x00\\x00\\x00U\\x05\\x00\\x00\\x00\\x00'\n"
     ]
    }
   ],
   "source": [
    "with open('sample-data.zip', 'rb') as f:\n",
    "    data = f.read()\n",
    "    print(data)\n",
    "    "
   ]
  },
  {
   "cell_type": "code",
   "execution_count": 60,
   "id": "d9396929-e239-4e39-8c80-738c3389824e",
   "metadata": {},
   "outputs": [
    {
     "name": "stdout",
     "output_type": "stream",
     "text": [
      "b'Lorem Ipsum\\n\"Neque porro quisquam est qui dolorem ipsum quia dolor sit amet, consectetur, adipisci velit...\"\\n\"There is no one who loves pain itself, who seeks after it and wants to have it, simply because it is pain...\"\\nLorem ipsum dolor sit amet, consectetur adipiscing elit. Nunc vitae pharetra nunc, luctus mattis purus. Curabitur in quam sodales nibh fermentum aliquam sed vitae arcu. Pellentesque in fringilla lorem. Donec vel pellentesque odio. Aenean bibendum velit vel suscipit iaculis. Duis molestie iaculis ligula, nec maximus lectus consectetur in. Praesent mi tortor, facilisis sed est sed, tempor dapibus nulla. Cras eu vestibulum libero. Lorem ipsum dolor sit amet, consectetur adipiscing elit. Nam pretium vestibulum molestie.\\n\\nVivamus tincidunt mauris a dui pulvinar auctor. Suspendisse a sagittis turpis. Vestibulum blandit sit amet sem eget fringilla. Ut scelerisque nisi a ante sodales pellentesque. Vestibulum vestibulum facilisis sodales. Nunc pharetra efficitur odio, eget porta velit pharetra euismod. Donec sed nunc viverra, pulvinar ipsum in, elementum dolor. Morbi eu consequat metus. Quisque eros arcu, fermentum a ullamcorper a, euismod vitae felis. Proin in faucibus eros, quis egestas arcu. Etiam euismod, justo at placerat rhoncus, velit lorem posuere est, nec pulvinar augue est eu arcu. Pellentesque nunc nisi, sollicitudin a aliquam eleifend, imperdiet sit amet eros. Donec efficitur nunc sed porta tincidunt. Nulla ut nisl imperdiet sem convallis aliquet fermentum eu metus. Nam sodales, dolor at tempus ultricies, velit ex semper libero, ut consequat dolor tellus quis ante. Sed tempor bibendum ex, eu mattis libero auctor in.\\n\\nAenean vulputate iaculis dolor. Donec eu finibus est. Ut placerat nibh diam, ut maximus orci posuere nec. Mauris suscipit lacinia sem, volutpat aliquam sapien rhoncus sed. Fusce sed dui magna. Aliquam erat volutpat. Maecenas quis mauris vel risus cursus ultricies varius eget lorem. Quisque nisl velit, congue id sapien non, scelerisque rutrum turpis.\\n\\nMaecenas eros purus, lobortis et placerat at, ultricies sit amet nisi. Aenean at faucibus urna. Mauris in gravida lectus. Nullam vestibulum diam at lectus suscipit congue et sed arcu. In eget malesuada purus. Ut ligula risus, luctus id elit quis, hendrerit fermentum est. Etiam lobortis lacus ex. Phasellus molestie dolor justo, vitae porttitor tortor sagittis in.\\n\\nAliquam velit metus, accumsan eget feugiat bibendum, semper vel est. Cras viverra urna leo, volutpat sagittis ante egestas sed. Aliquam turpis orci, vulputate luctus elit id, ornare dignissim erat. Praesent pulvinar mi non augue venenatis, et pellentesque leo molestie. Etiam convallis vel lacus nec aliquet. In in egestas felis, quis porttitor risus. Duis vel mi enim. In at eros lacus. In lacinia elit pulvinar, suscipit elit sit amet, volutpat ipsum. Maecenas venenatis risus semper, mollis arcu eget, ullamcorper est. Phasellus justo justo, porttitor quis eleifend vitae, molestie eu justo. Suspendisse convallis, massa ut feugiat euismod, ante dolor congue eros, vitae interdum ligula ex id risus. Etiam faucibus quis odio feugiat posuere. Donec consequat risus sed fringilla pharetra.'\n"
     ]
    }
   ],
   "source": [
    "with open('sample-data.txt', 'rb') as f:\n",
    "    data = f.read()\n",
    "    print(data)\n",
    "    "
   ]
  },
  {
   "cell_type": "markdown",
   "id": "4f39a069-ad04-47d6-a31b-b4aec1d72bc8",
   "metadata": {},
   "source": [
    "The principal challenge of multi-threaded applications is coordinating threads that share data or other resources. To that end, the threading module provides a number of synchronization primitives including locks, events, condition variables, and semaphores.\n",
    "\n",
    "While those tools are powerful, minor design errors can result in problems that are difficult to reproduce. So, the preferred approach to task coordination is to concentrate all access to a resource in a single thread and then use the `queue` module to feed that thread with requests from other threads. Applications using `Queue` objects for inter-thread communication and coordination are easier to design, more readable, and more reliable."
   ]
  },
  {
   "cell_type": "markdown",
   "id": "92267cca-051b-45df-846d-24a3a307de34",
   "metadata": {},
   "source": [
    "#### Logging\n",
    "\n",
    "The `logging` module offers a full featured and flexible logging system. At its simplest, log messages are sent to a file or to `sys.stderr`:"
   ]
  },
  {
   "cell_type": "code",
   "execution_count": 32,
   "id": "aa95480c-eee4-4877-abc6-211ca4ba8f9f",
   "metadata": {},
   "outputs": [
    {
     "name": "stderr",
     "output_type": "stream",
     "text": [
      "WARNING:root:Warning:config file server.conf not found\n",
      "CRITICAL:root:Critical error -- shutting down\n"
     ]
    }
   ],
   "source": [
    "import logging\n",
    "logging.debug('Debugging information')\n",
    "logging.info('Informational message')\n",
    "logging.warning('Warning:config file %s not found', 'server.conf')\n",
    "logging.critical('Critical error -- shutting down')"
   ]
  },
  {
   "cell_type": "markdown",
   "id": "f5f909af-a871-4895-a70d-da876a9ae77e",
   "metadata": {},
   "source": [
    "By default, informational and debugging messages are suppressed and the output is sent to standard error. Other output options include routing messages through email, datagrams, sockets, or to an HTTP Server. New filters can select different routing based on message priority: `DEBUG`, `INFO`, `WARNING`, `ERROR`, and `CRITICAL`.\n",
    "\n",
    "The logging system can be configured directly from Python or can be loaded from a user editable configuration file for customized logging without altering the application."
   ]
  },
  {
   "cell_type": "markdown",
   "id": "acea6544-9948-42a3-a4d2-c549456e1ca3",
   "metadata": {},
   "source": [
    "#### Weak References\n",
    "\n",
    "Python does automatic memory management (reference counting for most objects and `garbage collection` to eliminate cycles). The memory is freed shortly after the last reference to it has been eliminated.\n",
    "\n",
    "This approach works fine for most applications but occasionally there is a need to track objects only as long as they are being used by something else. Unfortunately, just tracking them creates a reference that makes them permanent. The `weakref` module provides tools for tracking objects without creating a reference. When the object is no longer needed, it is automatically removed from a weakref table and a callback is triggered for weakref objects. Typical applications include caching objects that are expensive to create:"
   ]
  },
  {
   "cell_type": "code",
   "execution_count": 33,
   "id": "7e2bbc6a-4593-40e5-b876-09cc0e1d6016",
   "metadata": {},
   "outputs": [
    {
     "name": "stdout",
     "output_type": "stream",
     "text": [
      "1540\n",
      "Exception occured 'primary'\n"
     ]
    }
   ],
   "source": [
    "import weakref, gc\n",
    "class A:\n",
    "    def __init__(self, value):\n",
    "        self.value = value\n",
    "    def __repr__(self):\n",
    "        return str(self.value)\n",
    "\n",
    "a = A(10)                   # create a reference\n",
    "d = weakref.WeakValueDictionary()\n",
    "d['primary'] = a            # does not create a reference\n",
    "d['primary']                # fetch the object if it is still alive\n",
    "\n",
    "del a                       # remove the one reference\n",
    "print(gc.collect())                # run garbage collection right away\n",
    "\n",
    "try:\n",
    "    d['primary']                # entry was automatically removed\n",
    "except Exception as err:\n",
    "    print(f'Exception occured {err}')\n"
   ]
  },
  {
   "cell_type": "markdown",
   "id": "ae840e4f-4613-4796-9327-5c39e5a343ad",
   "metadata": {},
   "source": [
    "#### Tools for Working with Lists\n",
    "\n",
    "Many data structure needs can be met with the built-in list type. However, sometimes there is a need for alternative implementations with different performance trade-offs.\n",
    "\n",
    "The `array` module provides an `array` object that is like a list that stores only homogeneous data and stores it more compactly. The following example shows an array of numbers stored as two byte unsigned binary numbers (typecode `\"H\"`) rather than the usual 16 bytes per entry for regular lists of Python int objects:"
   ]
  },
  {
   "cell_type": "code",
   "execution_count": 34,
   "id": "7ca8b5f6-86f0-4478-a99d-87c2cf005dd7",
   "metadata": {},
   "outputs": [
    {
     "name": "stdout",
     "output_type": "stream",
     "text": [
      "26932\n",
      "array('H', [10, 700])\n"
     ]
    }
   ],
   "source": [
    "from array import array\n",
    "a = array('H', [4000, 10, 700, 22222])\n",
    "print(sum(a))\n",
    "print(a[1:3])"
   ]
  },
  {
   "cell_type": "markdown",
   "id": "7cda324f-b740-43c6-a6af-fe477f2eb6c5",
   "metadata": {},
   "source": [
    "The `collections` module provides a `deque` object that is like a list with faster appends and pops from the left side but slower lookups in the middle. These objects are well suited for implementing queues and breadth first tree searches:"
   ]
  },
  {
   "cell_type": "code",
   "execution_count": 35,
   "id": "b0f968be-ef55-4a62-a55f-b15a261bfdaa",
   "metadata": {},
   "outputs": [
    {
     "name": "stdout",
     "output_type": "stream",
     "text": [
      "Handling task1\n"
     ]
    }
   ],
   "source": [
    "from collections import deque\n",
    "import queue\n",
    "d = deque([\"task1\", \"task2\", \"task3\"])\n",
    "d.append(\"task4\")\n",
    "print(\"Handling\", d.popleft())"
   ]
  },
  {
   "cell_type": "code",
   "execution_count": 61,
   "id": "bd42db92-7e6c-4e00-8496-e3449ae587a5",
   "metadata": {},
   "outputs": [],
   "source": [
    "from collections import deque\n",
    "\n",
    "# Define the starting node (you can adjust this based on your specific context)\n",
    "starting_node = 'A'  # or any valid initial node (this depends on your problem)\n",
    "\n",
    "# Create the deque with the starting node\n",
    "unsearched = deque([starting_node])\n",
    "\n",
    "def breadth_first_search(unsearched):\n",
    "    while unsearched:  # Continue until there are no more nodes to search\n",
    "        node = unsearched.popleft()  # Get the next node to explore\n",
    "        for m in gen_moves(node):  # Generate possible moves from the current node\n",
    "            if is_goal(m):  # Check if the current move is the goal\n",
    "                return m  # Return the goal node\n",
    "            unsearched.append(m)  # Add the move to the unsearched queue\n",
    "\n",
    "# You would need to define or import the following functions:\n",
    "# - gen_moves(node): To generate possible moves from the current node\n",
    "# - is_goal(node): To check if a node is the goal\n"
   ]
  },
  {
   "cell_type": "markdown",
   "id": "f3e95d90-4d30-4335-843e-00f12941369c",
   "metadata": {},
   "source": [
    "In addition to alternative list implementations, the library also offers other tools such as the `bisect` module with functions for manipulating sorted lists:"
   ]
  },
  {
   "cell_type": "code",
   "execution_count": 62,
   "id": "0c7dd9db-24d0-4d87-a7c6-483d280b0a2e",
   "metadata": {},
   "outputs": [
    {
     "data": {
      "text/plain": [
       "[(100, 'perl'), (200, 'tcl'), (300, 'ruby'), (400, 'lua'), (500, 'python')]"
      ]
     },
     "execution_count": 62,
     "metadata": {},
     "output_type": "execute_result"
    }
   ],
   "source": [
    "import bisect\n",
    "scores = [(100, 'perl'), (200, 'tcl'), (400, 'lua'), (500, 'python')]\n",
    "bisect.insort(scores, (300, 'ruby'))\n",
    "scores"
   ]
  },
  {
   "cell_type": "markdown",
   "id": "f0f36198-276a-4ee3-9ced-08df615481de",
   "metadata": {},
   "source": [
    "The `heapq` module provides functions for implementing heaps based on regular lists. The lowest valued entry is always kept at position zero. This is useful for applications which repeatedly access the smallest element but do not want to run a full list sort:"
   ]
  },
  {
   "cell_type": "code",
   "execution_count": 64,
   "id": "a91eb15e-2592-457b-8c33-301c7420ac36",
   "metadata": {},
   "outputs": [
    {
     "name": "stdout",
     "output_type": "stream",
     "text": [
      "[-5, 0, 1]\n"
     ]
    }
   ],
   "source": [
    "from heapq import heapify, heappop, heappush\n",
    "data = [1, 3, 5, 7, 9, 2, 4, 6, 8, 0]\n",
    "heapify(data)                      # rearrange the list into heap order\n",
    "heappush(data, -5)                 # add a new entry\n",
    "print([heappop(data) for i in range(3)])  # fetch the three smallest entries"
   ]
  },
  {
   "cell_type": "markdown",
   "id": "9cccef28-6209-4633-94ff-a1b48f570565",
   "metadata": {},
   "source": [
    "#### Decimal Floating-Point Arithmetic\n",
    "\n",
    "The `decimal` module offers a `Decimal` datatype for decimal floating-point arithmetic. Compared to the built-in float implementation of binary floating point, the class is especially helpful for\n",
    "\n",
    "- financial applications and other uses which require exact decimal representation,\n",
    "\n",
    "- control over precision,\n",
    "\n",
    "- control over rounding to meet legal or regulatory requirements,\n",
    "\n",
    "- tracking of significant decimal places, or\n",
    "\n",
    "- applications where the user expects the results to match calculations done by hand.\n",
    "\n",
    "For example, calculating a 5% tax on a 70 cent phone charge gives different results in decimal floating point and binary floating point. The difference becomes significant if the results are rounded to the nearest cent:"
   ]
  },
  {
   "cell_type": "code",
   "execution_count": 70,
   "id": "73a51c7d-e10c-464f-89e1-1cbcf42a7d39",
   "metadata": {},
   "outputs": [
    {
     "name": "stdout",
     "output_type": "stream",
     "text": [
      "0.74\n",
      "0.73\n"
     ]
    }
   ],
   "source": [
    "from decimal import *\n",
    "print(round(Decimal('0.70') * Decimal('1.05'), 2))\n",
    "print(round(.70 * 1.05, 2))"
   ]
  },
  {
   "cell_type": "markdown",
   "id": "11a65615-d876-400b-b445-1e696207e15a",
   "metadata": {},
   "source": [
    "The `Decimal` result keeps a trailing zero, automatically inferring four place significance from multiplicands with two place significance. Decimal reproduces mathematics as done by hand and avoids issues that can arise when binary floating point cannot exactly represent decimal quantities.\n",
    "\n",
    "Exact representation enables the `Decimal` class to perform modulo calculations and equality tests that are unsuitable for binary floating point:"
   ]
  },
  {
   "cell_type": "code",
   "execution_count": 73,
   "id": "4790d797-0121-438d-b883-2723eec6bbfd",
   "metadata": {},
   "outputs": [
    {
     "name": "stdout",
     "output_type": "stream",
     "text": [
      "0.00\n",
      "0.09999999999999995\n",
      "True\n",
      "False\n"
     ]
    }
   ],
   "source": [
    "print(Decimal('1.00') % Decimal('.10'))\n",
    "print(1.00 % 0.10)\n",
    "print(sum([Decimal('0.1')]*10) == Decimal('1.0'))\n",
    "print(0.1 + 0.1 + 0.1 + 0.1 + 0.1 + 0.1 + 0.1 + 0.1 + 0.1 + 0.1 == 1.0)"
   ]
  },
  {
   "cell_type": "markdown",
   "id": "42e5bfc8-b5bf-4a73-8640-f3e6fe494542",
   "metadata": {},
   "source": [
    "The `decimal` module provides arithmetic with as much precision as needed:"
   ]
  },
  {
   "cell_type": "code",
   "execution_count": 74,
   "id": "e04c231e-32d0-4f51-8ed7-9e68905bae15",
   "metadata": {},
   "outputs": [
    {
     "data": {
      "text/plain": [
       "Decimal('0.1428571428571428571428571428571428571428571428571428571428571428571429')"
      ]
     },
     "execution_count": 74,
     "metadata": {},
     "output_type": "execute_result"
    }
   ],
   "source": [
    "getcontext().prec=70\n",
    "Decimal(1)/Decimal(7)"
   ]
  },
  {
   "cell_type": "code",
   "execution_count": 75,
   "id": "3d0f74a9-8638-4440-b227-a8c93309bec6",
   "metadata": {},
   "outputs": [
    {
     "name": "stdout",
     "output_type": "stream",
     "text": [
      "Source code of the 'os' module has been saved to os_module_code.py\n"
     ]
    }
   ],
   "source": [
    "import os\n",
    "\n",
    "# Find the location of the os module\n",
    "module_path = os.__file__\n",
    "\n",
    "# Open and read the module's source code\n",
    "with open(module_path, 'r') as file:\n",
    "    code = file.read()\n",
    "\n",
    "# Specify the output file path where the code will be saved\n",
    "output_file_path = 'os_module_code.py'\n",
    "\n",
    "# Write the code to the new file\n",
    "with open(output_file_path, 'w') as output_file:\n",
    "    output_file.write(code)\n",
    "\n",
    "print(f\"Source code of the 'os' module has been saved to {output_file_path}\")\n"
   ]
  },
  {
   "cell_type": "code",
   "execution_count": null,
   "id": "bad20399-b91f-4573-9192-fd9d37e34ba1",
   "metadata": {},
   "outputs": [],
   "source": []
  }
 ],
 "metadata": {
  "kernelspec": {
   "display_name": "Python 3 (ipykernel)",
   "language": "python",
   "name": "python3"
  },
  "language_info": {
   "codemirror_mode": {
    "name": "ipython",
    "version": 3
   },
   "file_extension": ".py",
   "mimetype": "text/x-python",
   "name": "python",
   "nbconvert_exporter": "python",
   "pygments_lexer": "ipython3",
   "version": "3.12.3"
  }
 },
 "nbformat": 4,
 "nbformat_minor": 5
}
