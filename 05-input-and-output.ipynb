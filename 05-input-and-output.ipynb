{
 "cells": [
  {
   "cell_type": "markdown",
   "id": "ed6650b9-bd7e-4dac-8b05-a7629df1a44d",
   "metadata": {},
   "source": [
    "# Input and Output"
   ]
  },
  {
   "cell_type": "code",
   "execution_count": 1,
   "id": "539dddc3-66b9-4b8a-8da2-dfa96b4fb31e",
   "metadata": {},
   "outputs": [
    {
     "data": {
      "text/plain": [
       "'Results of 2025 Protests'"
      ]
     },
     "execution_count": 1,
     "metadata": {},
     "output_type": "execute_result"
    }
   ],
   "source": [
    "year = 2025\n",
    "event = \"Protests\"\n",
    "f\"Results of {year} {event}\""
   ]
  },
  {
   "cell_type": "code",
   "execution_count": 37,
   "id": "9137dced-d4a7-4ff4-be56-cd3eec96da92",
   "metadata": {},
   "outputs": [
    {
     "name": "stdout",
     "output_type": "stream",
     "text": [
      " 42127911 YES votes 96.75%\n",
      "  1414141 NO votes 3.25%\n"
     ]
    }
   ],
   "source": [
    "yes_votes = 42_127_911\n",
    "no_votes = 1_414_141\n",
    "total_votes = yes_votes+no_votes\n",
    "support_percentage = yes_votes / total_votes\n",
    "against_percentage = no_votes / total_votes\n",
    "# -9 means the number will be left-aligned within a 9-character width\n",
    "print('{:-9} YES votes {:2.2%}'.format(yes_votes, support_percentage))\n",
    "# 2.2% specifies that the number should be displayed as a percentage with 2 decimal places\n",
    "print('{:-9} NO votes {:2.2%}'.format(no_votes, against_percentage))\n"
   ]
  },
  {
   "cell_type": "code",
   "execution_count": 3,
   "id": "17d1b8d5-0682-4535-abba-38d583f76b45",
   "metadata": {},
   "outputs": [
    {
     "name": "stdout",
     "output_type": "stream",
     "text": [
      "Hello, world.\n",
      "'Hello, world.'\n",
      "0.14285714285714285\n",
      "The value of x is 32.5, and y is 40000...\n",
      "'hello, world\\n'\n",
      "(32.5, 40000, ('spam', 'eggs'))\n"
     ]
    }
   ],
   "source": [
    "s = 'Hello, world.'\n",
    "print(str(s))\n",
    "print(repr(s))\n",
    "print(str(1/7))\n",
    "\n",
    "x = 10 * 3.25\n",
    "y = 200 * 200\n",
    "s = 'The value of x is ' + repr(x) + ', and y is ' + repr(y) + '...'\n",
    "print(s)\n",
    "\n",
    "# The repr() of a string adds string quotes and backslashes:\n",
    "hello = 'hello, world\\n'\n",
    "hellos = repr(hello)\n",
    "print(hellos)\n",
    "\n",
    "# The argument to repr() may be any Python object:\n",
    "print(repr((x, y, ('spam', 'eggs'))))"
   ]
  },
  {
   "cell_type": "code",
   "execution_count": 4,
   "id": "4f24735a-2b6a-4457-9af8-6cafc4212a9b",
   "metadata": {},
   "outputs": [
    {
     "name": "stdout",
     "output_type": "stream",
     "text": [
      "tim likes kung fu panda\n"
     ]
    },
    {
     "data": {
      "text/plain": [
       "'tim likes $what'"
      ]
     },
     "execution_count": 4,
     "metadata": {},
     "output_type": "execute_result"
    }
   ],
   "source": [
    "from string import Template\n",
    "s = Template('$who likes $what')\n",
    "print(s.substitute(who='tim', what='kung fu panda'))\n",
    "d = dict(who='tim')\n",
    "#Template('Give $who $100').substitute(d)\n",
    "#Template('$who likes $what').substitute(d)\n",
    "Template('$who likes $what').safe_substitute(d)"
   ]
  },
  {
   "cell_type": "markdown",
   "id": "e802a4d0-2528-4610-adbd-6e5785fd0038",
   "metadata": {},
   "source": [
    "#### Formatted string literals"
   ]
  },
  {
   "cell_type": "code",
   "execution_count": 5,
   "id": "0c941461-fc1b-4c4e-8978-e899a107fdeb",
   "metadata": {},
   "outputs": [
    {
     "name": "stdout",
     "output_type": "stream",
     "text": [
      "The value of pi is approximately 3.1415926535897931159979634685441851615905761718750.\n"
     ]
    }
   ],
   "source": [
    "import math\n",
    "print(f'The value of pi is approximately {math.pi:.49f}.')"
   ]
  },
  {
   "cell_type": "markdown",
   "id": "bd9e0b0c-344c-4087-8b49-6f65571326c5",
   "metadata": {},
   "source": [
    "Passing an integer after the ':' will cause that field to be a minimum number of characters wide. This is useful for making columns line up."
   ]
  },
  {
   "cell_type": "code",
   "execution_count": 6,
   "id": "cdf94337-bc8b-4719-9fbc-a754d7a3123f",
   "metadata": {},
   "outputs": [
    {
     "name": "stdout",
     "output_type": "stream",
     "text": [
      "Sjoerd     ==>       4127\n",
      "Jack       ==>       4098\n",
      "Dcab       ==>       7678\n"
     ]
    }
   ],
   "source": [
    "table = {'Sjoerd': 4127, 'Jack': 4098, 'Dcab': 7678}\n",
    "for name, phone in table.items():\n",
    "    print(f'{name:10} ==> {phone:10d}')\n"
   ]
  },
  {
   "cell_type": "markdown",
   "id": "95cae231-ab7e-483d-8b24-b7748a0611b2",
   "metadata": {},
   "source": [
    "Other modifiers can be used to convert the value before it is formatted. '!a' applies ascii(), '!s' applies str(), and '!r' applies repr():"
   ]
  },
  {
   "cell_type": "code",
   "execution_count": 7,
   "id": "57d78c01-ca20-42c3-872d-9ae670f28c43",
   "metadata": {},
   "outputs": [
    {
     "name": "stdout",
     "output_type": "stream",
     "text": [
      "My hovercraft is full of eels.\n",
      "My hovercraft is full of 'eels'.\n"
     ]
    }
   ],
   "source": [
    "animals = 'eels'\n",
    "print(f'My hovercraft is full of {animals}.')\n",
    "print(f'My hovercraft is full of {animals!r}.')"
   ]
  },
  {
   "cell_type": "markdown",
   "id": "2946ae2b-6a7b-477b-bd88-16f19e7e01f9",
   "metadata": {},
   "source": [
    "The = specifier can be used to expand an expression to the text of the expression, an equal sign, then the representation of the evaluated expression:"
   ]
  },
  {
   "cell_type": "code",
   "execution_count": 38,
   "id": "a481a34c-629b-43ea-91f8-4d4bd1adf78f",
   "metadata": {},
   "outputs": [
    {
     "name": "stdout",
     "output_type": "stream",
     "text": [
      "Debugging bugs='roaches' count=13 area='living room'\n"
     ]
    }
   ],
   "source": [
    "bugs = 'roaches'\n",
    "count = 13\n",
    "area = 'living room'\n",
    "print(f'Debugging {bugs=} {count=} {area=}')"
   ]
  },
  {
   "cell_type": "markdown",
   "id": "f118fbfa-7290-4875-a52d-8ef419ba3f43",
   "metadata": {},
   "source": [
    "#### The String format() Method"
   ]
  },
  {
   "cell_type": "code",
   "execution_count": 9,
   "id": "87d4d914-a502-4045-9379-6861a5a59858",
   "metadata": {},
   "outputs": [
    {
     "name": "stdout",
     "output_type": "stream",
     "text": [
      "\"We are the pesants\", said Nathan!\n"
     ]
    }
   ],
   "source": [
    "print('\"We are the {}\", said {}!'.format('pesants', 'Nathan'))\n"
   ]
  },
  {
   "cell_type": "code",
   "execution_count": 10,
   "id": "bdf97970-afe6-4691-8715-1ca719c65504",
   "metadata": {},
   "outputs": [
    {
     "name": "stdout",
     "output_type": "stream",
     "text": [
      "spam and eggs\n",
      "eggs and spam\n"
     ]
    }
   ],
   "source": [
    "print('{0} and {1}'.format('spam', 'eggs'))\n",
    "\n",
    "print('{1} and {0}'.format('spam', 'eggs'))"
   ]
  },
  {
   "cell_type": "markdown",
   "id": "4284af90-df30-41c9-8158-3295e97f6eca",
   "metadata": {},
   "source": [
    "If keyword arguments are used in the str.format() method, their values are referred to by using the name of the argument."
   ]
  },
  {
   "cell_type": "code",
   "execution_count": 11,
   "id": "974eb7dc-47cf-449e-bc3f-1a7e625ad92b",
   "metadata": {},
   "outputs": [
    {
     "name": "stdout",
     "output_type": "stream",
     "text": [
      "This spam is absolutely horrible.\n"
     ]
    }
   ],
   "source": [
    "print('This {food} is {adjective}.'.format(\n",
    "      food='spam', adjective='absolutely horrible'))"
   ]
  },
  {
   "cell_type": "code",
   "execution_count": 12,
   "id": "3dd3791d-91d5-408c-98dd-204cca6f67d0",
   "metadata": {},
   "outputs": [
    {
     "name": "stdout",
     "output_type": "stream",
     "text": [
      "The story of Parris, Manfredi, and Barak.\n"
     ]
    }
   ],
   "source": [
    "print('The story of {0}, {1}, and {other}.'.format('Parris', 'Manfredi',\n",
    "                                                   other='Barak'))"
   ]
  },
  {
   "cell_type": "markdown",
   "id": "be466598-5d21-4788-99f1-dfe9c879f53a",
   "metadata": {},
   "source": [
    "If you have a really long format string that you don’t want to split up, it would be nice if you could reference the variables to be formatted by name instead of by position. This can be done by simply passing the dict and using square brackets '[]' to access the keys."
   ]
  },
  {
   "cell_type": "code",
   "execution_count": 13,
   "id": "1db7481a-ffd2-4240-88c5-b7bc85f07d40",
   "metadata": {},
   "outputs": [
    {
     "name": "stdout",
     "output_type": "stream",
     "text": [
      "Jack: 4098; Sjoerd: 4127; Dcab: 8637678\n"
     ]
    }
   ],
   "source": [
    "table = {'Sjoerd': 4127, 'Jack': 4098, 'Dcab': 8637678}\n",
    "print('Jack: {0[Jack]:d}; Sjoerd: {0[Sjoerd]:d}; '\n",
    "      'Dcab: {0[Dcab]:d}'.format(table))"
   ]
  },
  {
   "cell_type": "code",
   "execution_count": 14,
   "id": "a4006740-54ab-4004-bfec-eef4ba3a8451",
   "metadata": {},
   "outputs": [
    {
     "name": "stdout",
     "output_type": "stream",
     "text": [
      "Jack: 4098; Sjoerd: 4127; Dcab: 8637678\n"
     ]
    }
   ],
   "source": [
    "table = {'Sjoerd': 4127, 'Jack': 4098, 'Dcab': 8637678}\n",
    "print('Jack: {Jack:d}; Sjoerd: {Sjoerd:d}; Dcab: {Dcab:d}'.format(**table))"
   ]
  },
  {
   "cell_type": "code",
   "execution_count": 42,
   "id": "b1f5c508-9db5-452d-a43d-970752a1f169",
   "metadata": {},
   "outputs": [
    {
     "name": "stdout",
     "output_type": "stream",
     "text": [
      "__name__: __main__;\n",
      " __doc__: Automatically created module for IPython interactive environment;\n",
      " __package__: None;\n",
      " __loader__: None;\n",
      " __spec__: None;\n",
      " __builtin__: <module 'builtins' (built-in)>;\n",
      " __builtins__: <module 'builtins' (built-in)>;\n",
      " _ih: ['', 'year = 2025\\nevent = \"Protests\"\\nf\"Results of {year} {event}\"', \"yes_votes = 42_127_911\\nno_votes = 1_414_141\\ntotal_votes = yes_votes+no_votes\\nsupport_percentage = yes_votes / total_votes\\nagainst_percentage = no_votes / total_votes\\nprint('{:-9} YES votes {:2.2%}'.format(yes_votes, support_percentage))\\nprint('{:-9} NO votes {:2.2%}'.format(no_votes, against_percentage))\", \"s = 'Hello, world.'\\nprint(str(s))\\nprint(repr(s))\\nprint(str(1/7))\\n\\nx = 10 * 3.25\\ny = 200 * 200\\ns = 'The value of x is ' + repr(x) + ', and y is ' + repr(y) + '...'\\nprint(s)\\n\\n# The repr() of a string adds string quotes and backslashes:\\nhello = 'hello, world\\\\n'\\nhellos = repr(hello)\\nprint(hellos)\\n\\n# The argument to repr() may be any Python object:\\nprint(repr((x, y, ('spam', 'eggs'))))\", \"from string import Template\\ns = Template('$who likes $what')\\nprint(s.substitute(who='tim', what='kung fu panda'))\\nd = dict(who='tim')\\n#Template('Give $who $100').substitute(d)\\n#Template('$who likes $what').substitute(d)\\nTemplate('$who likes $what').safe_substitute(d)\", \"import math\\nprint(f'The value of pi is approximately {math.pi:.49f}.')\", \"table = {'Sjoerd': 4127, 'Jack': 4098, 'Dcab': 7678}\\nfor name, phone in table.items():\\n    print(f'{name:10} ==> {phone:10d}')\", \"animals = 'eels'\\nprint(f'My hovercraft is full of {animals}.')\\nprint(f'My hovercraft is full of {animals!r}.')\", \"bugs = 'roaches'\\ncount = 13\\narea = 'living room'\\nprint(f'Debugging {bugs=} {count=} {area=}')\", 'print(\\'\"We are the {}\", said {}!\\'.format(\\'pesants\\', \\'Nathan\\'))', \"print('{0} and {1}'.format('spam', 'eggs'))\\n\\nprint('{1} and {0}'.format('spam', 'eggs'))\", \"print('This {food} is {adjective}.'.format(\\n      food='spam', adjective='absolutely horrible'))\", \"print('The story of {0}, {1}, and {other}.'.format('Parris', 'Manfredi',\\n                                                   other='Barak'))\", \"table = {'Sjoerd': 4127, 'Jack': 4098, 'Dcab': 8637678}\\nprint('Jack: {0[Jack]:d}; Sjoerd: {0[Sjoerd]:d}; '\\n      'Dcab: {0[Dcab]:d}'.format(table))\", \"table = {'Sjoerd': 4127, 'Jack': 4098, 'Dcab': 8637678}\\nprint('Jack: {Jack:d}; Sjoerd: {Sjoerd:d}; Dcab: {Dcab:d}'.format(**table))\", 'table = {k: str(v) for k, v in vars().items()}\\nmessage = \" \".join([f\\'{k}: \\' + \\'{\\' + k +\\'};\\' for k in table.keys()])\\nprint(message.format(**table))', \"for x in range(1, 11):\\n    print('{0:2d} {1:3d} {2:4d}'.format(x, x*x, x*x*x))\", \"for x in range(1, 11):\\n    print(repr(x).rjust(2), repr(x*x).rjust(3), end=' ')\\n    # Note use of 'end' on previous line\\n    print(repr(x*x*x).rjust(4))\", \"print('12'.zfill(5))\\nprint('-3.14'.zfill(7))\\nprint('3.14159265359'.zfill(5))\", \"import math\\nprint('The value of pi is approximately %5.3f.' % math.pi)\", 'f = open(\\'workfile\\', \\'w\\', encoding=\"utf-8\")\\nf.write(\"Default text\")', 'with open(\\'workfile\\', encoding=\"utf-8\") as f:\\n    read_data = f.read()\\n    print(read_data)\\n# We can check that the file has been automatically closed.\\nf.closed', \"f = open('workfile', 'a', encoding='utf-8')\\n#print(f.read())\\n#print(f.readline())\\nf.write('\\\\nNext line is appended to the existing text\\\\n')\\nf.close()\", \"# with open('workfile', 'r', encoding='utf-8') as f:\\n#     for i, line in enumerate(f, start=1):\\n#         if i in range(1, 3):  # To read lines 1 and 2\\n#             print(line.strip())  # .strip() removes any extra newline characters\", \"with open('workfile', 'r', encoding='utf-8') as f:\\n    for line in f:\\n        print(line.strip())  # .strip() removes any extra newline characters\\n    f.close()\", \"f = open('workfile', 'a', encoding='utf-8')\\nvalue = ('winning lottery price ',24_342_241)\\ns = str(value)\\nf.write(s)\", 'f.close()', \"f = open('workfile', 'rb+')\\nf.write(b'0123456789abcdef')\\n\\nprint(f.seek(5))      # Go to the 6th byte in the file\\nprint(f.read(1))\\nprint(f.seek(-3, 2))  # Go to the 3rd byte before the end\\nprint(f.read(1))\", \"import json\\nx = [1,'sample','demo',24252,'list']\\njson.dumps(x)\", \"yes_votes = 42_127_911\\nno_votes = 1_414_141\\ntotal_votes = yes_votes+no_votes\\nsupport_percentage = yes_votes / total_votes\\nagainst_percentage = no_votes / total_votes\\n# -9 means the number will be left-aligned within a 9-character width\\nprint('{:-9} YES votes {:2.2%}'.format(yes_votes, support_percentage))\\n# 2.2% specifies that the number should be displayed as a percentage with 2 decimal places\\nprint('{:-9} NO votes {:2.2%}'.format(no_votes, against_percentage))\", \"yes_votes = 42_127_911\\nno_votes = 1_414_141\\ntotal_votes = yes_votes+no_votes\\nsupport_percentage = yes_votes / total_votes\\nagainst_percentage = no_votes / total_votes\\n# -9 means the number will be left-aligned within a 9-character width\\nprint('{:-9} YES votes {:2.2%}'.format(yes_votes, support_percentage))\\n# 2.2% specifies that the number should be displayed as a percentage with 2 decimal places\\nprint('{:-9} NO votes {:3.2%}'.format(no_votes, against_percentage))\", \"yes_votes = 42_127_911\\nno_votes = 1_414_141\\ntotal_votes = yes_votes+no_votes\\nsupport_percentage = yes_votes / total_votes\\nagainst_percentage = no_votes / total_votes\\n# -9 means the number will be left-aligned within a 9-character width\\nprint('{:-9} YES votes {:2.2%}'.format(yes_votes, support_percentage))\\n# 2.2% specifies that the number should be displayed as a percentage with 2 decimal places\\nprint('{:-9} NO votes {:2.2%}'.format(no_votes, against_percentage))\", \"yes_votes = 42_127_911\\nno_votes = 1_414_141\\ntotal_votes = yes_votes+no_votes\\nsupport_percentage = yes_votes / total_votes\\nagainst_percentage = no_votes / total_votes\\n# -9 means the number will be left-aligned within a 9-character width\\nprint('{:-9} YES votes {:2.2%}'.format(yes_votes, support_percentage))\\n# 2.2% specifies that the number should be displayed as a percentage with 2 decimal places\\nprint('{:-9} NO votes {:.2%}'.format(no_votes, against_percentage))\", \"yes_votes = 42_127_911\\nno_votes = 1_414_141\\ntotal_votes = yes_votes+no_votes\\nsupport_percentage = yes_votes / total_votes\\nagainst_percentage = no_votes / total_votes\\n# -9 means the number will be left-aligned within a 9-character width\\nprint('{:-9} YES votes {:2.2%}'.format(yes_votes, support_percentage))\\n# 2.2% specifies that the number should be displayed as a percentage with 2 decimal places\\nprint('{:-9} NO votes {:2.2%}'.format(no_votes, against_percentage))\", \"yes_votes = 42_127_911\\nno_votes = 1_414_141\\ntotal_votes = yes_votes+no_votes\\nsupport_percentage = yes_votes / total_votes\\nagainst_percentage = no_votes / total_votes\\n# -9 means the number will be left-aligned within a 9-character width\\nprint('{:-9} YES votes {:.3%}'.format(yes_votes, support_percentage))\\n# 2.2% specifies that the number should be displayed as a percentage with 2 decimal places\\nprint('{:-9} NO votes {:2.2%}'.format(no_votes, against_percentage))\", \"yes_votes = 42_127_911\\nno_votes = 1_414_141\\ntotal_votes = yes_votes+no_votes\\nsupport_percentage = yes_votes / total_votes\\nagainst_percentage = no_votes / total_votes\\n# -9 means the number will be left-aligned within a 9-character width\\nprint('{:-9} YES votes {:10.3%}'.format(yes_votes, support_percentage))\\n# 2.2% specifies that the number should be displayed as a percentage with 2 decimal places\\nprint('{:-9} NO votes {:2.2%}'.format(no_votes, against_percentage))\", \"yes_votes = 42_127_911\\nno_votes = 1_414_141\\ntotal_votes = yes_votes+no_votes\\nsupport_percentage = yes_votes / total_votes\\nagainst_percentage = no_votes / total_votes\\n# -9 means the number will be left-aligned within a 9-character width\\nprint('{:-9} YES votes {:2.2%}'.format(yes_votes, support_percentage))\\n# 2.2% specifies that the number should be displayed as a percentage with 2 decimal places\\nprint('{:-9} NO votes {:2.2%}'.format(no_votes, against_percentage))\", \"yes_votes = 42_127_911\\nno_votes = 1_414_141\\ntotal_votes = yes_votes+no_votes\\nsupport_percentage = yes_votes / total_votes\\nagainst_percentage = no_votes / total_votes\\n# -9 means the number will be left-aligned within a 9-character width\\nprint('{:-9} YES votes {:2.2%}'.format(yes_votes, support_percentage))\\n# 2.2% specifies that the number should be displayed as a percentage with 2 decimal places\\nprint('{:-9} NO votes {:2.2%}'.format(no_votes, against_percentage))\", \"bugs = 'roaches'\\ncount = 13\\narea = 'living room'\\nprint(f'Debugging {bugs=} {count=} {area=}')\", \"for x in range(1, 11):\\n    print('{0:2d} {1:3d} {2:4d}'.format(x, x*x, x*x*x))\\n\\nprint(vars())\", \"for x in range(1, 11):\\n    print('{0:2d} {1:3d} {2:4d}'.format(x, x*x, x*x*x))\", 'table = {k: str(v) for k, v in vars().items()}\\nmessage = \" \".join([f\\'{k}: \\' + \\'{\\' + k +\\'};\\\\t\\' for k in table.keys()])\\nprint(message.format(**table))', 'table = {k: str(v) for k, v in vars().items()}\\nmessage = \" \".join([f\\'{k}: \\' + \\'{\\' + k +\\'};\\\\n\\' for k in table.keys()])\\nprint(message.format(**table))'];\n",
      " _oh: {1: 'Results of 2025 Protests', 4: 'tim likes $what', 20: 12, 21: True, 25: 36, 28: '[1, \"sample\", \"demo\", 24252, \"list\"]'};\n",
      " _dh: [WindowsPath('C:/Users/PC/OneDrive/Documents/AI/python-tutorial')];\n",
      " In: ['', 'year = 2025\\nevent = \"Protests\"\\nf\"Results of {year} {event}\"', \"yes_votes = 42_127_911\\nno_votes = 1_414_141\\ntotal_votes = yes_votes+no_votes\\nsupport_percentage = yes_votes / total_votes\\nagainst_percentage = no_votes / total_votes\\nprint('{:-9} YES votes {:2.2%}'.format(yes_votes, support_percentage))\\nprint('{:-9} NO votes {:2.2%}'.format(no_votes, against_percentage))\", \"s = 'Hello, world.'\\nprint(str(s))\\nprint(repr(s))\\nprint(str(1/7))\\n\\nx = 10 * 3.25\\ny = 200 * 200\\ns = 'The value of x is ' + repr(x) + ', and y is ' + repr(y) + '...'\\nprint(s)\\n\\n# The repr() of a string adds string quotes and backslashes:\\nhello = 'hello, world\\\\n'\\nhellos = repr(hello)\\nprint(hellos)\\n\\n# The argument to repr() may be any Python object:\\nprint(repr((x, y, ('spam', 'eggs'))))\", \"from string import Template\\ns = Template('$who likes $what')\\nprint(s.substitute(who='tim', what='kung fu panda'))\\nd = dict(who='tim')\\n#Template('Give $who $100').substitute(d)\\n#Template('$who likes $what').substitute(d)\\nTemplate('$who likes $what').safe_substitute(d)\", \"import math\\nprint(f'The value of pi is approximately {math.pi:.49f}.')\", \"table = {'Sjoerd': 4127, 'Jack': 4098, 'Dcab': 7678}\\nfor name, phone in table.items():\\n    print(f'{name:10} ==> {phone:10d}')\", \"animals = 'eels'\\nprint(f'My hovercraft is full of {animals}.')\\nprint(f'My hovercraft is full of {animals!r}.')\", \"bugs = 'roaches'\\ncount = 13\\narea = 'living room'\\nprint(f'Debugging {bugs=} {count=} {area=}')\", 'print(\\'\"We are the {}\", said {}!\\'.format(\\'pesants\\', \\'Nathan\\'))', \"print('{0} and {1}'.format('spam', 'eggs'))\\n\\nprint('{1} and {0}'.format('spam', 'eggs'))\", \"print('This {food} is {adjective}.'.format(\\n      food='spam', adjective='absolutely horrible'))\", \"print('The story of {0}, {1}, and {other}.'.format('Parris', 'Manfredi',\\n                                                   other='Barak'))\", \"table = {'Sjoerd': 4127, 'Jack': 4098, 'Dcab': 8637678}\\nprint('Jack: {0[Jack]:d}; Sjoerd: {0[Sjoerd]:d}; '\\n      'Dcab: {0[Dcab]:d}'.format(table))\", \"table = {'Sjoerd': 4127, 'Jack': 4098, 'Dcab': 8637678}\\nprint('Jack: {Jack:d}; Sjoerd: {Sjoerd:d}; Dcab: {Dcab:d}'.format(**table))\", 'table = {k: str(v) for k, v in vars().items()}\\nmessage = \" \".join([f\\'{k}: \\' + \\'{\\' + k +\\'};\\' for k in table.keys()])\\nprint(message.format(**table))', \"for x in range(1, 11):\\n    print('{0:2d} {1:3d} {2:4d}'.format(x, x*x, x*x*x))\", \"for x in range(1, 11):\\n    print(repr(x).rjust(2), repr(x*x).rjust(3), end=' ')\\n    # Note use of 'end' on previous line\\n    print(repr(x*x*x).rjust(4))\", \"print('12'.zfill(5))\\nprint('-3.14'.zfill(7))\\nprint('3.14159265359'.zfill(5))\", \"import math\\nprint('The value of pi is approximately %5.3f.' % math.pi)\", 'f = open(\\'workfile\\', \\'w\\', encoding=\"utf-8\")\\nf.write(\"Default text\")', 'with open(\\'workfile\\', encoding=\"utf-8\") as f:\\n    read_data = f.read()\\n    print(read_data)\\n# We can check that the file has been automatically closed.\\nf.closed', \"f = open('workfile', 'a', encoding='utf-8')\\n#print(f.read())\\n#print(f.readline())\\nf.write('\\\\nNext line is appended to the existing text\\\\n')\\nf.close()\", \"# with open('workfile', 'r', encoding='utf-8') as f:\\n#     for i, line in enumerate(f, start=1):\\n#         if i in range(1, 3):  # To read lines 1 and 2\\n#             print(line.strip())  # .strip() removes any extra newline characters\", \"with open('workfile', 'r', encoding='utf-8') as f:\\n    for line in f:\\n        print(line.strip())  # .strip() removes any extra newline characters\\n    f.close()\", \"f = open('workfile', 'a', encoding='utf-8')\\nvalue = ('winning lottery price ',24_342_241)\\ns = str(value)\\nf.write(s)\", 'f.close()', \"f = open('workfile', 'rb+')\\nf.write(b'0123456789abcdef')\\n\\nprint(f.seek(5))      # Go to the 6th byte in the file\\nprint(f.read(1))\\nprint(f.seek(-3, 2))  # Go to the 3rd byte before the end\\nprint(f.read(1))\", \"import json\\nx = [1,'sample','demo',24252,'list']\\njson.dumps(x)\", \"yes_votes = 42_127_911\\nno_votes = 1_414_141\\ntotal_votes = yes_votes+no_votes\\nsupport_percentage = yes_votes / total_votes\\nagainst_percentage = no_votes / total_votes\\n# -9 means the number will be left-aligned within a 9-character width\\nprint('{:-9} YES votes {:2.2%}'.format(yes_votes, support_percentage))\\n# 2.2% specifies that the number should be displayed as a percentage with 2 decimal places\\nprint('{:-9} NO votes {:2.2%}'.format(no_votes, against_percentage))\", \"yes_votes = 42_127_911\\nno_votes = 1_414_141\\ntotal_votes = yes_votes+no_votes\\nsupport_percentage = yes_votes / total_votes\\nagainst_percentage = no_votes / total_votes\\n# -9 means the number will be left-aligned within a 9-character width\\nprint('{:-9} YES votes {:2.2%}'.format(yes_votes, support_percentage))\\n# 2.2% specifies that the number should be displayed as a percentage with 2 decimal places\\nprint('{:-9} NO votes {:3.2%}'.format(no_votes, against_percentage))\", \"yes_votes = 42_127_911\\nno_votes = 1_414_141\\ntotal_votes = yes_votes+no_votes\\nsupport_percentage = yes_votes / total_votes\\nagainst_percentage = no_votes / total_votes\\n# -9 means the number will be left-aligned within a 9-character width\\nprint('{:-9} YES votes {:2.2%}'.format(yes_votes, support_percentage))\\n# 2.2% specifies that the number should be displayed as a percentage with 2 decimal places\\nprint('{:-9} NO votes {:2.2%}'.format(no_votes, against_percentage))\", \"yes_votes = 42_127_911\\nno_votes = 1_414_141\\ntotal_votes = yes_votes+no_votes\\nsupport_percentage = yes_votes / total_votes\\nagainst_percentage = no_votes / total_votes\\n# -9 means the number will be left-aligned within a 9-character width\\nprint('{:-9} YES votes {:2.2%}'.format(yes_votes, support_percentage))\\n# 2.2% specifies that the number should be displayed as a percentage with 2 decimal places\\nprint('{:-9} NO votes {:.2%}'.format(no_votes, against_percentage))\", \"yes_votes = 42_127_911\\nno_votes = 1_414_141\\ntotal_votes = yes_votes+no_votes\\nsupport_percentage = yes_votes / total_votes\\nagainst_percentage = no_votes / total_votes\\n# -9 means the number will be left-aligned within a 9-character width\\nprint('{:-9} YES votes {:2.2%}'.format(yes_votes, support_percentage))\\n# 2.2% specifies that the number should be displayed as a percentage with 2 decimal places\\nprint('{:-9} NO votes {:2.2%}'.format(no_votes, against_percentage))\", \"yes_votes = 42_127_911\\nno_votes = 1_414_141\\ntotal_votes = yes_votes+no_votes\\nsupport_percentage = yes_votes / total_votes\\nagainst_percentage = no_votes / total_votes\\n# -9 means the number will be left-aligned within a 9-character width\\nprint('{:-9} YES votes {:.3%}'.format(yes_votes, support_percentage))\\n# 2.2% specifies that the number should be displayed as a percentage with 2 decimal places\\nprint('{:-9} NO votes {:2.2%}'.format(no_votes, against_percentage))\", \"yes_votes = 42_127_911\\nno_votes = 1_414_141\\ntotal_votes = yes_votes+no_votes\\nsupport_percentage = yes_votes / total_votes\\nagainst_percentage = no_votes / total_votes\\n# -9 means the number will be left-aligned within a 9-character width\\nprint('{:-9} YES votes {:10.3%}'.format(yes_votes, support_percentage))\\n# 2.2% specifies that the number should be displayed as a percentage with 2 decimal places\\nprint('{:-9} NO votes {:2.2%}'.format(no_votes, against_percentage))\", \"yes_votes = 42_127_911\\nno_votes = 1_414_141\\ntotal_votes = yes_votes+no_votes\\nsupport_percentage = yes_votes / total_votes\\nagainst_percentage = no_votes / total_votes\\n# -9 means the number will be left-aligned within a 9-character width\\nprint('{:-9} YES votes {:2.2%}'.format(yes_votes, support_percentage))\\n# 2.2% specifies that the number should be displayed as a percentage with 2 decimal places\\nprint('{:-9} NO votes {:2.2%}'.format(no_votes, against_percentage))\", \"yes_votes = 42_127_911\\nno_votes = 1_414_141\\ntotal_votes = yes_votes+no_votes\\nsupport_percentage = yes_votes / total_votes\\nagainst_percentage = no_votes / total_votes\\n# -9 means the number will be left-aligned within a 9-character width\\nprint('{:-9} YES votes {:2.2%}'.format(yes_votes, support_percentage))\\n# 2.2% specifies that the number should be displayed as a percentage with 2 decimal places\\nprint('{:-9} NO votes {:2.2%}'.format(no_votes, against_percentage))\", \"bugs = 'roaches'\\ncount = 13\\narea = 'living room'\\nprint(f'Debugging {bugs=} {count=} {area=}')\", \"for x in range(1, 11):\\n    print('{0:2d} {1:3d} {2:4d}'.format(x, x*x, x*x*x))\\n\\nprint(vars())\", \"for x in range(1, 11):\\n    print('{0:2d} {1:3d} {2:4d}'.format(x, x*x, x*x*x))\", 'table = {k: str(v) for k, v in vars().items()}\\nmessage = \" \".join([f\\'{k}: \\' + \\'{\\' + k +\\'};\\\\t\\' for k in table.keys()])\\nprint(message.format(**table))', 'table = {k: str(v) for k, v in vars().items()}\\nmessage = \" \".join([f\\'{k}: \\' + \\'{\\' + k +\\'};\\\\n\\' for k in table.keys()])\\nprint(message.format(**table))'];\n",
      " Out: {1: 'Results of 2025 Protests', 4: 'tim likes $what', 20: 12, 21: True, 25: 36, 28: '[1, \"sample\", \"demo\", 24252, \"list\"]'};\n",
      " get_ipython: <bound method InteractiveShell.get_ipython of <ipykernel.zmqshell.ZMQInteractiveShell object at 0x00000245A1198830>>;\n",
      " exit: <IPython.core.autocall.ZMQExitAutocall object at 0x00000245A1198B90>;\n",
      " quit: <IPython.core.autocall.ZMQExitAutocall object at 0x00000245A1198B90>;\n",
      " open: <function open at 0x000002459EF98400>;\n",
      " _: [1, \"sample\", \"demo\", 24252, \"list\"];\n",
      " __: 36;\n",
      " ___: True;\n",
      " __session__: C:\\Users\\PC\\OneDrive\\Documents\\AI\\python-tutorial\\05-input-and-output.ipynb;\n",
      " _i: table = {k: str(v) for k, v in vars().items()}\n",
      "message = \" \".join([f'{k}: ' + '{' + k +'};\\t' for k in table.keys()])\n",
      "print(message.format(**table));\n",
      " _ii: for x in range(1, 11):\n",
      "    print('{0:2d} {1:3d} {2:4d}'.format(x, x*x, x*x*x));\n",
      " _iii: for x in range(1, 11):\n",
      "    print('{0:2d} {1:3d} {2:4d}'.format(x, x*x, x*x*x))\n",
      "\n",
      "print(vars());\n",
      " _i1: year = 2025\n",
      "event = \"Protests\"\n",
      "f\"Results of {year} {event}\";\n",
      " year: 2025;\n",
      " event: Protests;\n",
      " _1: Results of 2025 Protests;\n",
      " _i2: yes_votes = 42_127_911\n",
      "no_votes = 1_414_141\n",
      "total_votes = yes_votes+no_votes\n",
      "support_percentage = yes_votes / total_votes\n",
      "against_percentage = no_votes / total_votes\n",
      "print('{:-9} YES votes {:2.2%}'.format(yes_votes, support_percentage))\n",
      "print('{:-9} NO votes {:2.2%}'.format(no_votes, against_percentage));\n",
      " yes_votes: 42127911;\n",
      " no_votes: 1414141;\n",
      " total_votes: 43542052;\n",
      " support_percentage: 0.9675224079930822;\n",
      " against_percentage: 0.03247759200691782;\n",
      " _i3: s = 'Hello, world.'\n",
      "print(str(s))\n",
      "print(repr(s))\n",
      "print(str(1/7))\n",
      "\n",
      "x = 10 * 3.25\n",
      "y = 200 * 200\n",
      "s = 'The value of x is ' + repr(x) + ', and y is ' + repr(y) + '...'\n",
      "print(s)\n",
      "\n",
      "# The repr() of a string adds string quotes and backslashes:\n",
      "hello = 'hello, world\\n'\n",
      "hellos = repr(hello)\n",
      "print(hellos)\n",
      "\n",
      "# The argument to repr() may be any Python object:\n",
      "print(repr((x, y, ('spam', 'eggs'))));\n",
      " s: ('winning lottery price ', 24342241);\n",
      " x: 10;\n",
      " y: 40000;\n",
      " hello: hello, world\n",
      ";\n",
      " hellos: 'hello, world\\n';\n",
      " _i4: from string import Template\n",
      "s = Template('$who likes $what')\n",
      "print(s.substitute(who='tim', what='kung fu panda'))\n",
      "d = dict(who='tim')\n",
      "#Template('Give $who $100').substitute(d)\n",
      "#Template('$who likes $what').substitute(d)\n",
      "Template('$who likes $what').safe_substitute(d);\n",
      " Template: <class 'string.Template'>;\n",
      " d: {'who': 'tim'};\n",
      " _4: tim likes $what;\n",
      " _i5: import math\n",
      "print(f'The value of pi is approximately {math.pi:.49f}.');\n",
      " math: <module 'math' (built-in)>;\n",
      " _i6: table = {'Sjoerd': 4127, 'Jack': 4098, 'Dcab': 7678}\n",
      "for name, phone in table.items():\n",
      "    print(f'{name:10} ==> {phone:10d}');\n",
      " table: {'__name__': '__main__', '__doc__': 'Automatically created module for IPython interactive environment', '__package__': 'None', '__loader__': 'None', '__spec__': 'None', '__builtin__': \"<module 'builtins' (built-in)>\", '__builtins__': \"<module 'builtins' (built-in)>\", '_ih': '[\\'\\', \\'year = 2025\\\\nevent = \"Protests\"\\\\nf\"Results of {year} {event}\"\\', \"yes_votes = 42_127_911\\\\nno_votes = 1_414_141\\\\ntotal_votes = yes_votes+no_votes\\\\nsupport_percentage = yes_votes / total_votes\\\\nagainst_percentage = no_votes / total_votes\\\\nprint(\\'{:-9} YES votes {:2.2%}\\'.format(yes_votes, support_percentage))\\\\nprint(\\'{:-9} NO votes {:2.2%}\\'.format(no_votes, against_percentage))\", \"s = \\'Hello, world.\\'\\\\nprint(str(s))\\\\nprint(repr(s))\\\\nprint(str(1/7))\\\\n\\\\nx = 10 * 3.25\\\\ny = 200 * 200\\\\ns = \\'The value of x is \\' + repr(x) + \\', and y is \\' + repr(y) + \\'...\\'\\\\nprint(s)\\\\n\\\\n# The repr() of a string adds string quotes and backslashes:\\\\nhello = \\'hello, world\\\\\\\\n\\'\\\\nhellos = repr(hello)\\\\nprint(hellos)\\\\n\\\\n# The argument to repr() may be any Python object:\\\\nprint(repr((x, y, (\\'spam\\', \\'eggs\\'))))\", \"from string import Template\\\\ns = Template(\\'$who likes $what\\')\\\\nprint(s.substitute(who=\\'tim\\', what=\\'kung fu panda\\'))\\\\nd = dict(who=\\'tim\\')\\\\n#Template(\\'Give $who $100\\').substitute(d)\\\\n#Template(\\'$who likes $what\\').substitute(d)\\\\nTemplate(\\'$who likes $what\\').safe_substitute(d)\", \"import math\\\\nprint(f\\'The value of pi is approximately {math.pi:.49f}.\\')\", \"table = {\\'Sjoerd\\': 4127, \\'Jack\\': 4098, \\'Dcab\\': 7678}\\\\nfor name, phone in table.items():\\\\n    print(f\\'{name:10} ==> {phone:10d}\\')\", \"animals = \\'eels\\'\\\\nprint(f\\'My hovercraft is full of {animals}.\\')\\\\nprint(f\\'My hovercraft is full of {animals!r}.\\')\", \"bugs = \\'roaches\\'\\\\ncount = 13\\\\narea = \\'living room\\'\\\\nprint(f\\'Debugging {bugs=} {count=} {area=}\\')\", \\'print(\\\\\\'\"We are the {}\", said {}!\\\\\\'.format(\\\\\\'pesants\\\\\\', \\\\\\'Nathan\\\\\\'))\\', \"print(\\'{0} and {1}\\'.format(\\'spam\\', \\'eggs\\'))\\\\n\\\\nprint(\\'{1} and {0}\\'.format(\\'spam\\', \\'eggs\\'))\", \"print(\\'This {food} is {adjective}.\\'.format(\\\\n      food=\\'spam\\', adjective=\\'absolutely horrible\\'))\", \"print(\\'The story of {0}, {1}, and {other}.\\'.format(\\'Parris\\', \\'Manfredi\\',\\\\n                                                   other=\\'Barak\\'))\", \"table = {\\'Sjoerd\\': 4127, \\'Jack\\': 4098, \\'Dcab\\': 8637678}\\\\nprint(\\'Jack: {0[Jack]:d}; Sjoerd: {0[Sjoerd]:d}; \\'\\\\n      \\'Dcab: {0[Dcab]:d}\\'.format(table))\", \"table = {\\'Sjoerd\\': 4127, \\'Jack\\': 4098, \\'Dcab\\': 8637678}\\\\nprint(\\'Jack: {Jack:d}; Sjoerd: {Sjoerd:d}; Dcab: {Dcab:d}\\'.format(**table))\", \\'table = {k: str(v) for k, v in vars().items()}\\\\nmessage = \" \".join([f\\\\\\'{k}: \\\\\\' + \\\\\\'{\\\\\\' + k +\\\\\\'};\\\\\\' for k in table.keys()])\\\\nprint(message.format(**table))\\', \"for x in range(1, 11):\\\\n    print(\\'{0:2d} {1:3d} {2:4d}\\'.format(x, x*x, x*x*x))\", \"for x in range(1, 11):\\\\n    print(repr(x).rjust(2), repr(x*x).rjust(3), end=\\' \\')\\\\n    # Note use of \\'end\\' on previous line\\\\n    print(repr(x*x*x).rjust(4))\", \"print(\\'12\\'.zfill(5))\\\\nprint(\\'-3.14\\'.zfill(7))\\\\nprint(\\'3.14159265359\\'.zfill(5))\", \"import math\\\\nprint(\\'The value of pi is approximately %5.3f.\\' % math.pi)\", \\'f = open(\\\\\\'workfile\\\\\\', \\\\\\'w\\\\\\', encoding=\"utf-8\")\\\\nf.write(\"Default text\")\\', \\'with open(\\\\\\'workfile\\\\\\', encoding=\"utf-8\") as f:\\\\n    read_data = f.read()\\\\n    print(read_data)\\\\n# We can check that the file has been automatically closed.\\\\nf.closed\\', \"f = open(\\'workfile\\', \\'a\\', encoding=\\'utf-8\\')\\\\n#print(f.read())\\\\n#print(f.readline())\\\\nf.write(\\'\\\\\\\\nNext line is appended to the existing text\\\\\\\\n\\')\\\\nf.close()\", \"# with open(\\'workfile\\', \\'r\\', encoding=\\'utf-8\\') as f:\\\\n#     for i, line in enumerate(f, start=1):\\\\n#         if i in range(1, 3):  # To read lines 1 and 2\\\\n#             print(line.strip())  # .strip() removes any extra newline characters\", \"with open(\\'workfile\\', \\'r\\', encoding=\\'utf-8\\') as f:\\\\n    for line in f:\\\\n        print(line.strip())  # .strip() removes any extra newline characters\\\\n    f.close()\", \"f = open(\\'workfile\\', \\'a\\', encoding=\\'utf-8\\')\\\\nvalue = (\\'winning lottery price \\',24_342_241)\\\\ns = str(value)\\\\nf.write(s)\", \\'f.close()\\', \"f = open(\\'workfile\\', \\'rb+\\')\\\\nf.write(b\\'0123456789abcdef\\')\\\\n\\\\nprint(f.seek(5))      # Go to the 6th byte in the file\\\\nprint(f.read(1))\\\\nprint(f.seek(-3, 2))  # Go to the 3rd byte before the end\\\\nprint(f.read(1))\", \"import json\\\\nx = [1,\\'sample\\',\\'demo\\',24252,\\'list\\']\\\\njson.dumps(x)\", \"yes_votes = 42_127_911\\\\nno_votes = 1_414_141\\\\ntotal_votes = yes_votes+no_votes\\\\nsupport_percentage = yes_votes / total_votes\\\\nagainst_percentage = no_votes / total_votes\\\\n# -9 means the number will be left-aligned within a 9-character width\\\\nprint(\\'{:-9} YES votes {:2.2%}\\'.format(yes_votes, support_percentage))\\\\n# 2.2% specifies that the number should be displayed as a percentage with 2 decimal places\\\\nprint(\\'{:-9} NO votes {:2.2%}\\'.format(no_votes, against_percentage))\", \"yes_votes = 42_127_911\\\\nno_votes = 1_414_141\\\\ntotal_votes = yes_votes+no_votes\\\\nsupport_percentage = yes_votes / total_votes\\\\nagainst_percentage = no_votes / total_votes\\\\n# -9 means the number will be left-aligned within a 9-character width\\\\nprint(\\'{:-9} YES votes {:2.2%}\\'.format(yes_votes, support_percentage))\\\\n# 2.2% specifies that the number should be displayed as a percentage with 2 decimal places\\\\nprint(\\'{:-9} NO votes {:3.2%}\\'.format(no_votes, against_percentage))\", \"yes_votes = 42_127_911\\\\nno_votes = 1_414_141\\\\ntotal_votes = yes_votes+no_votes\\\\nsupport_percentage = yes_votes / total_votes\\\\nagainst_percentage = no_votes / total_votes\\\\n# -9 means the number will be left-aligned within a 9-character width\\\\nprint(\\'{:-9} YES votes {:2.2%}\\'.format(yes_votes, support_percentage))\\\\n# 2.2% specifies that the number should be displayed as a percentage with 2 decimal places\\\\nprint(\\'{:-9} NO votes {:2.2%}\\'.format(no_votes, against_percentage))\", \"yes_votes = 42_127_911\\\\nno_votes = 1_414_141\\\\ntotal_votes = yes_votes+no_votes\\\\nsupport_percentage = yes_votes / total_votes\\\\nagainst_percentage = no_votes / total_votes\\\\n# -9 means the number will be left-aligned within a 9-character width\\\\nprint(\\'{:-9} YES votes {:2.2%}\\'.format(yes_votes, support_percentage))\\\\n# 2.2% specifies that the number should be displayed as a percentage with 2 decimal places\\\\nprint(\\'{:-9} NO votes {:.2%}\\'.format(no_votes, against_percentage))\", \"yes_votes = 42_127_911\\\\nno_votes = 1_414_141\\\\ntotal_votes = yes_votes+no_votes\\\\nsupport_percentage = yes_votes / total_votes\\\\nagainst_percentage = no_votes / total_votes\\\\n# -9 means the number will be left-aligned within a 9-character width\\\\nprint(\\'{:-9} YES votes {:2.2%}\\'.format(yes_votes, support_percentage))\\\\n# 2.2% specifies that the number should be displayed as a percentage with 2 decimal places\\\\nprint(\\'{:-9} NO votes {:2.2%}\\'.format(no_votes, against_percentage))\", \"yes_votes = 42_127_911\\\\nno_votes = 1_414_141\\\\ntotal_votes = yes_votes+no_votes\\\\nsupport_percentage = yes_votes / total_votes\\\\nagainst_percentage = no_votes / total_votes\\\\n# -9 means the number will be left-aligned within a 9-character width\\\\nprint(\\'{:-9} YES votes {:.3%}\\'.format(yes_votes, support_percentage))\\\\n# 2.2% specifies that the number should be displayed as a percentage with 2 decimal places\\\\nprint(\\'{:-9} NO votes {:2.2%}\\'.format(no_votes, against_percentage))\", \"yes_votes = 42_127_911\\\\nno_votes = 1_414_141\\\\ntotal_votes = yes_votes+no_votes\\\\nsupport_percentage = yes_votes / total_votes\\\\nagainst_percentage = no_votes / total_votes\\\\n# -9 means the number will be left-aligned within a 9-character width\\\\nprint(\\'{:-9} YES votes {:10.3%}\\'.format(yes_votes, support_percentage))\\\\n# 2.2% specifies that the number should be displayed as a percentage with 2 decimal places\\\\nprint(\\'{:-9} NO votes {:2.2%}\\'.format(no_votes, against_percentage))\", \"yes_votes = 42_127_911\\\\nno_votes = 1_414_141\\\\ntotal_votes = yes_votes+no_votes\\\\nsupport_percentage = yes_votes / total_votes\\\\nagainst_percentage = no_votes / total_votes\\\\n# -9 means the number will be left-aligned within a 9-character width\\\\nprint(\\'{:-9} YES votes {:2.2%}\\'.format(yes_votes, support_percentage))\\\\n# 2.2% specifies that the number should be displayed as a percentage with 2 decimal places\\\\nprint(\\'{:-9} NO votes {:2.2%}\\'.format(no_votes, against_percentage))\", \"yes_votes = 42_127_911\\\\nno_votes = 1_414_141\\\\ntotal_votes = yes_votes+no_votes\\\\nsupport_percentage = yes_votes / total_votes\\\\nagainst_percentage = no_votes / total_votes\\\\n# -9 means the number will be left-aligned within a 9-character width\\\\nprint(\\'{:-9} YES votes {:2.2%}\\'.format(yes_votes, support_percentage))\\\\n# 2.2% specifies that the number should be displayed as a percentage with 2 decimal places\\\\nprint(\\'{:-9} NO votes {:2.2%}\\'.format(no_votes, against_percentage))\", \"bugs = \\'roaches\\'\\\\ncount = 13\\\\narea = \\'living room\\'\\\\nprint(f\\'Debugging {bugs=} {count=} {area=}\\')\", \"for x in range(1, 11):\\\\n    print(\\'{0:2d} {1:3d} {2:4d}\\'.format(x, x*x, x*x*x))\\\\n\\\\nprint(vars())\", \"for x in range(1, 11):\\\\n    print(\\'{0:2d} {1:3d} {2:4d}\\'.format(x, x*x, x*x*x))\", \\'table = {k: str(v) for k, v in vars().items()}\\\\nmessage = \" \".join([f\\\\\\'{k}: \\\\\\' + \\\\\\'{\\\\\\' + k +\\\\\\'};\\\\\\\\t\\\\\\' for k in table.keys()])\\\\nprint(message.format(**table))\\']', '_oh': '{1: \\'Results of 2025 Protests\\', 4: \\'tim likes $what\\', 20: 12, 21: True, 25: 36, 28: \\'[1, \"sample\", \"demo\", 24252, \"list\"]\\'}', '_dh': \"[WindowsPath('C:/Users/PC/OneDrive/Documents/AI/python-tutorial')]\", 'In': '[\\'\\', \\'year = 2025\\\\nevent = \"Protests\"\\\\nf\"Results of {year} {event}\"\\', \"yes_votes = 42_127_911\\\\nno_votes = 1_414_141\\\\ntotal_votes = yes_votes+no_votes\\\\nsupport_percentage = yes_votes / total_votes\\\\nagainst_percentage = no_votes / total_votes\\\\nprint(\\'{:-9} YES votes {:2.2%}\\'.format(yes_votes, support_percentage))\\\\nprint(\\'{:-9} NO votes {:2.2%}\\'.format(no_votes, against_percentage))\", \"s = \\'Hello, world.\\'\\\\nprint(str(s))\\\\nprint(repr(s))\\\\nprint(str(1/7))\\\\n\\\\nx = 10 * 3.25\\\\ny = 200 * 200\\\\ns = \\'The value of x is \\' + repr(x) + \\', and y is \\' + repr(y) + \\'...\\'\\\\nprint(s)\\\\n\\\\n# The repr() of a string adds string quotes and backslashes:\\\\nhello = \\'hello, world\\\\\\\\n\\'\\\\nhellos = repr(hello)\\\\nprint(hellos)\\\\n\\\\n# The argument to repr() may be any Python object:\\\\nprint(repr((x, y, (\\'spam\\', \\'eggs\\'))))\", \"from string import Template\\\\ns = Template(\\'$who likes $what\\')\\\\nprint(s.substitute(who=\\'tim\\', what=\\'kung fu panda\\'))\\\\nd = dict(who=\\'tim\\')\\\\n#Template(\\'Give $who $100\\').substitute(d)\\\\n#Template(\\'$who likes $what\\').substitute(d)\\\\nTemplate(\\'$who likes $what\\').safe_substitute(d)\", \"import math\\\\nprint(f\\'The value of pi is approximately {math.pi:.49f}.\\')\", \"table = {\\'Sjoerd\\': 4127, \\'Jack\\': 4098, \\'Dcab\\': 7678}\\\\nfor name, phone in table.items():\\\\n    print(f\\'{name:10} ==> {phone:10d}\\')\", \"animals = \\'eels\\'\\\\nprint(f\\'My hovercraft is full of {animals}.\\')\\\\nprint(f\\'My hovercraft is full of {animals!r}.\\')\", \"bugs = \\'roaches\\'\\\\ncount = 13\\\\narea = \\'living room\\'\\\\nprint(f\\'Debugging {bugs=} {count=} {area=}\\')\", \\'print(\\\\\\'\"We are the {}\", said {}!\\\\\\'.format(\\\\\\'pesants\\\\\\', \\\\\\'Nathan\\\\\\'))\\', \"print(\\'{0} and {1}\\'.format(\\'spam\\', \\'eggs\\'))\\\\n\\\\nprint(\\'{1} and {0}\\'.format(\\'spam\\', \\'eggs\\'))\", \"print(\\'This {food} is {adjective}.\\'.format(\\\\n      food=\\'spam\\', adjective=\\'absolutely horrible\\'))\", \"print(\\'The story of {0}, {1}, and {other}.\\'.format(\\'Parris\\', \\'Manfredi\\',\\\\n                                                   other=\\'Barak\\'))\", \"table = {\\'Sjoerd\\': 4127, \\'Jack\\': 4098, \\'Dcab\\': 8637678}\\\\nprint(\\'Jack: {0[Jack]:d}; Sjoerd: {0[Sjoerd]:d}; \\'\\\\n      \\'Dcab: {0[Dcab]:d}\\'.format(table))\", \"table = {\\'Sjoerd\\': 4127, \\'Jack\\': 4098, \\'Dcab\\': 8637678}\\\\nprint(\\'Jack: {Jack:d}; Sjoerd: {Sjoerd:d}; Dcab: {Dcab:d}\\'.format(**table))\", \\'table = {k: str(v) for k, v in vars().items()}\\\\nmessage = \" \".join([f\\\\\\'{k}: \\\\\\' + \\\\\\'{\\\\\\' + k +\\\\\\'};\\\\\\' for k in table.keys()])\\\\nprint(message.format(**table))\\', \"for x in range(1, 11):\\\\n    print(\\'{0:2d} {1:3d} {2:4d}\\'.format(x, x*x, x*x*x))\", \"for x in range(1, 11):\\\\n    print(repr(x).rjust(2), repr(x*x).rjust(3), end=\\' \\')\\\\n    # Note use of \\'end\\' on previous line\\\\n    print(repr(x*x*x).rjust(4))\", \"print(\\'12\\'.zfill(5))\\\\nprint(\\'-3.14\\'.zfill(7))\\\\nprint(\\'3.14159265359\\'.zfill(5))\", \"import math\\\\nprint(\\'The value of pi is approximately %5.3f.\\' % math.pi)\", \\'f = open(\\\\\\'workfile\\\\\\', \\\\\\'w\\\\\\', encoding=\"utf-8\")\\\\nf.write(\"Default text\")\\', \\'with open(\\\\\\'workfile\\\\\\', encoding=\"utf-8\") as f:\\\\n    read_data = f.read()\\\\n    print(read_data)\\\\n# We can check that the file has been automatically closed.\\\\nf.closed\\', \"f = open(\\'workfile\\', \\'a\\', encoding=\\'utf-8\\')\\\\n#print(f.read())\\\\n#print(f.readline())\\\\nf.write(\\'\\\\\\\\nNext line is appended to the existing text\\\\\\\\n\\')\\\\nf.close()\", \"# with open(\\'workfile\\', \\'r\\', encoding=\\'utf-8\\') as f:\\\\n#     for i, line in enumerate(f, start=1):\\\\n#         if i in range(1, 3):  # To read lines 1 and 2\\\\n#             print(line.strip())  # .strip() removes any extra newline characters\", \"with open(\\'workfile\\', \\'r\\', encoding=\\'utf-8\\') as f:\\\\n    for line in f:\\\\n        print(line.strip())  # .strip() removes any extra newline characters\\\\n    f.close()\", \"f = open(\\'workfile\\', \\'a\\', encoding=\\'utf-8\\')\\\\nvalue = (\\'winning lottery price \\',24_342_241)\\\\ns = str(value)\\\\nf.write(s)\", \\'f.close()\\', \"f = open(\\'workfile\\', \\'rb+\\')\\\\nf.write(b\\'0123456789abcdef\\')\\\\n\\\\nprint(f.seek(5))      # Go to the 6th byte in the file\\\\nprint(f.read(1))\\\\nprint(f.seek(-3, 2))  # Go to the 3rd byte before the end\\\\nprint(f.read(1))\", \"import json\\\\nx = [1,\\'sample\\',\\'demo\\',24252,\\'list\\']\\\\njson.dumps(x)\", \"yes_votes = 42_127_911\\\\nno_votes = 1_414_141\\\\ntotal_votes = yes_votes+no_votes\\\\nsupport_percentage = yes_votes / total_votes\\\\nagainst_percentage = no_votes / total_votes\\\\n# -9 means the number will be left-aligned within a 9-character width\\\\nprint(\\'{:-9} YES votes {:2.2%}\\'.format(yes_votes, support_percentage))\\\\n# 2.2% specifies that the number should be displayed as a percentage with 2 decimal places\\\\nprint(\\'{:-9} NO votes {:2.2%}\\'.format(no_votes, against_percentage))\", \"yes_votes = 42_127_911\\\\nno_votes = 1_414_141\\\\ntotal_votes = yes_votes+no_votes\\\\nsupport_percentage = yes_votes / total_votes\\\\nagainst_percentage = no_votes / total_votes\\\\n# -9 means the number will be left-aligned within a 9-character width\\\\nprint(\\'{:-9} YES votes {:2.2%}\\'.format(yes_votes, support_percentage))\\\\n# 2.2% specifies that the number should be displayed as a percentage with 2 decimal places\\\\nprint(\\'{:-9} NO votes {:3.2%}\\'.format(no_votes, against_percentage))\", \"yes_votes = 42_127_911\\\\nno_votes = 1_414_141\\\\ntotal_votes = yes_votes+no_votes\\\\nsupport_percentage = yes_votes / total_votes\\\\nagainst_percentage = no_votes / total_votes\\\\n# -9 means the number will be left-aligned within a 9-character width\\\\nprint(\\'{:-9} YES votes {:2.2%}\\'.format(yes_votes, support_percentage))\\\\n# 2.2% specifies that the number should be displayed as a percentage with 2 decimal places\\\\nprint(\\'{:-9} NO votes {:2.2%}\\'.format(no_votes, against_percentage))\", \"yes_votes = 42_127_911\\\\nno_votes = 1_414_141\\\\ntotal_votes = yes_votes+no_votes\\\\nsupport_percentage = yes_votes / total_votes\\\\nagainst_percentage = no_votes / total_votes\\\\n# -9 means the number will be left-aligned within a 9-character width\\\\nprint(\\'{:-9} YES votes {:2.2%}\\'.format(yes_votes, support_percentage))\\\\n# 2.2% specifies that the number should be displayed as a percentage with 2 decimal places\\\\nprint(\\'{:-9} NO votes {:.2%}\\'.format(no_votes, against_percentage))\", \"yes_votes = 42_127_911\\\\nno_votes = 1_414_141\\\\ntotal_votes = yes_votes+no_votes\\\\nsupport_percentage = yes_votes / total_votes\\\\nagainst_percentage = no_votes / total_votes\\\\n# -9 means the number will be left-aligned within a 9-character width\\\\nprint(\\'{:-9} YES votes {:2.2%}\\'.format(yes_votes, support_percentage))\\\\n# 2.2% specifies that the number should be displayed as a percentage with 2 decimal places\\\\nprint(\\'{:-9} NO votes {:2.2%}\\'.format(no_votes, against_percentage))\", \"yes_votes = 42_127_911\\\\nno_votes = 1_414_141\\\\ntotal_votes = yes_votes+no_votes\\\\nsupport_percentage = yes_votes / total_votes\\\\nagainst_percentage = no_votes / total_votes\\\\n# -9 means the number will be left-aligned within a 9-character width\\\\nprint(\\'{:-9} YES votes {:.3%}\\'.format(yes_votes, support_percentage))\\\\n# 2.2% specifies that the number should be displayed as a percentage with 2 decimal places\\\\nprint(\\'{:-9} NO votes {:2.2%}\\'.format(no_votes, against_percentage))\", \"yes_votes = 42_127_911\\\\nno_votes = 1_414_141\\\\ntotal_votes = yes_votes+no_votes\\\\nsupport_percentage = yes_votes / total_votes\\\\nagainst_percentage = no_votes / total_votes\\\\n# -9 means the number will be left-aligned within a 9-character width\\\\nprint(\\'{:-9} YES votes {:10.3%}\\'.format(yes_votes, support_percentage))\\\\n# 2.2% specifies that the number should be displayed as a percentage with 2 decimal places\\\\nprint(\\'{:-9} NO votes {:2.2%}\\'.format(no_votes, against_percentage))\", \"yes_votes = 42_127_911\\\\nno_votes = 1_414_141\\\\ntotal_votes = yes_votes+no_votes\\\\nsupport_percentage = yes_votes / total_votes\\\\nagainst_percentage = no_votes / total_votes\\\\n# -9 means the number will be left-aligned within a 9-character width\\\\nprint(\\'{:-9} YES votes {:2.2%}\\'.format(yes_votes, support_percentage))\\\\n# 2.2% specifies that the number should be displayed as a percentage with 2 decimal places\\\\nprint(\\'{:-9} NO votes {:2.2%}\\'.format(no_votes, against_percentage))\", \"yes_votes = 42_127_911\\\\nno_votes = 1_414_141\\\\ntotal_votes = yes_votes+no_votes\\\\nsupport_percentage = yes_votes / total_votes\\\\nagainst_percentage = no_votes / total_votes\\\\n# -9 means the number will be left-aligned within a 9-character width\\\\nprint(\\'{:-9} YES votes {:2.2%}\\'.format(yes_votes, support_percentage))\\\\n# 2.2% specifies that the number should be displayed as a percentage with 2 decimal places\\\\nprint(\\'{:-9} NO votes {:2.2%}\\'.format(no_votes, against_percentage))\", \"bugs = \\'roaches\\'\\\\ncount = 13\\\\narea = \\'living room\\'\\\\nprint(f\\'Debugging {bugs=} {count=} {area=}\\')\", \"for x in range(1, 11):\\\\n    print(\\'{0:2d} {1:3d} {2:4d}\\'.format(x, x*x, x*x*x))\\\\n\\\\nprint(vars())\", \"for x in range(1, 11):\\\\n    print(\\'{0:2d} {1:3d} {2:4d}\\'.format(x, x*x, x*x*x))\", \\'table = {k: str(v) for k, v in vars().items()}\\\\nmessage = \" \".join([f\\\\\\'{k}: \\\\\\' + \\\\\\'{\\\\\\' + k +\\\\\\'};\\\\\\\\t\\\\\\' for k in table.keys()])\\\\nprint(message.format(**table))\\']', 'Out': '{1: \\'Results of 2025 Protests\\', 4: \\'tim likes $what\\', 20: 12, 21: True, 25: 36, 28: \\'[1, \"sample\", \"demo\", 24252, \"list\"]\\'}', 'get_ipython': '<bound method InteractiveShell.get_ipython of <ipykernel.zmqshell.ZMQInteractiveShell object at 0x00000245A1198830>>', 'exit': '<IPython.core.autocall.ZMQExitAutocall object at 0x00000245A1198B90>', 'quit': '<IPython.core.autocall.ZMQExitAutocall object at 0x00000245A1198B90>', 'open': '<function open at 0x000002459EF98400>', '_': '[1, \"sample\", \"demo\", 24252, \"list\"]', '__': '36', '___': 'True', '__session__': 'C:\\\\Users\\\\PC\\\\OneDrive\\\\Documents\\\\AI\\\\python-tutorial\\\\05-input-and-output.ipynb', '_i': \"for x in range(1, 11):\\n    print('{0:2d} {1:3d} {2:4d}'.format(x, x*x, x*x*x))\", '_ii': \"for x in range(1, 11):\\n    print('{0:2d} {1:3d} {2:4d}'.format(x, x*x, x*x*x))\\n\\nprint(vars())\", '_iii': \"bugs = 'roaches'\\ncount = 13\\narea = 'living room'\\nprint(f'Debugging {bugs=} {count=} {area=}')\", '_i1': 'year = 2025\\nevent = \"Protests\"\\nf\"Results of {year} {event}\"', 'year': '2025', 'event': 'Protests', '_1': 'Results of 2025 Protests', '_i2': \"yes_votes = 42_127_911\\nno_votes = 1_414_141\\ntotal_votes = yes_votes+no_votes\\nsupport_percentage = yes_votes / total_votes\\nagainst_percentage = no_votes / total_votes\\nprint('{:-9} YES votes {:2.2%}'.format(yes_votes, support_percentage))\\nprint('{:-9} NO votes {:2.2%}'.format(no_votes, against_percentage))\", 'yes_votes': '42127911', 'no_votes': '1414141', 'total_votes': '43542052', 'support_percentage': '0.9675224079930822', 'against_percentage': '0.03247759200691782', '_i3': \"s = 'Hello, world.'\\nprint(str(s))\\nprint(repr(s))\\nprint(str(1/7))\\n\\nx = 10 * 3.25\\ny = 200 * 200\\ns = 'The value of x is ' + repr(x) + ', and y is ' + repr(y) + '...'\\nprint(s)\\n\\n# The repr() of a string adds string quotes and backslashes:\\nhello = 'hello, world\\\\n'\\nhellos = repr(hello)\\nprint(hellos)\\n\\n# The argument to repr() may be any Python object:\\nprint(repr((x, y, ('spam', 'eggs'))))\", 's': \"('winning lottery price ', 24342241)\", 'x': '10', 'y': '40000', 'hello': 'hello, world\\n', 'hellos': \"'hello, world\\\\n'\", '_i4': \"from string import Template\\ns = Template('$who likes $what')\\nprint(s.substitute(who='tim', what='kung fu panda'))\\nd = dict(who='tim')\\n#Template('Give $who $100').substitute(d)\\n#Template('$who likes $what').substitute(d)\\nTemplate('$who likes $what').safe_substitute(d)\", 'Template': \"<class 'string.Template'>\", 'd': \"{'who': 'tim'}\", '_4': 'tim likes $what', '_i5': \"import math\\nprint(f'The value of pi is approximately {math.pi:.49f}.')\", 'math': \"<module 'math' (built-in)>\", '_i6': \"table = {'Sjoerd': 4127, 'Jack': 4098, 'Dcab': 7678}\\nfor name, phone in table.items():\\n    print(f'{name:10} ==> {phone:10d}')\", 'table': '{\\'__name__\\': \\'__main__\\', \\'__doc__\\': \\'Automatically created module for IPython interactive environment\\', \\'__package__\\': \\'None\\', \\'__loader__\\': \\'None\\', \\'__spec__\\': \\'None\\', \\'__builtin__\\': \"<module \\'builtins\\' (built-in)>\", \\'__builtins__\\': \"<module \\'builtins\\' (built-in)>\", \\'_ih\\': \\'[\\\\\\'\\\\\\', \\\\\\'year = 2025\\\\\\\\nevent = \"Protests\"\\\\\\\\nf\"Results of {year} {event}\"\\\\\\', \"yes_votes = 42_127_911\\\\\\\\nno_votes = 1_414_141\\\\\\\\ntotal_votes = yes_votes+no_votes\\\\\\\\nsupport_percentage = yes_votes / total_votes\\\\\\\\nagainst_percentage = no_votes / total_votes\\\\\\\\nprint(\\\\\\'{:-9} YES votes {:2.2%}\\\\\\'.format(yes_votes, support_percentage))\\\\\\\\nprint(\\\\\\'{:-9} NO votes {:2.2%}\\\\\\'.format(no_votes, against_percentage))\", \"s = \\\\\\'Hello, world.\\\\\\'\\\\\\\\nprint(str(s))\\\\\\\\nprint(repr(s))\\\\\\\\nprint(str(1/7))\\\\\\\\n\\\\\\\\nx = 10 * 3.25\\\\\\\\ny = 200 * 200\\\\\\\\ns = \\\\\\'The value of x is \\\\\\' + repr(x) + \\\\\\', and y is \\\\\\' + repr(y) + \\\\\\'...\\\\\\'\\\\\\\\nprint(s)\\\\\\\\n\\\\\\\\n# The repr() of a string adds string quotes and backslashes:\\\\\\\\nhello = \\\\\\'hello, world\\\\\\\\\\\\\\\\n\\\\\\'\\\\\\\\nhellos = repr(hello)\\\\\\\\nprint(hellos)\\\\\\\\n\\\\\\\\n# The argument to repr() may be any Python object:\\\\\\\\nprint(repr((x, y, (\\\\\\'spam\\\\\\', \\\\\\'eggs\\\\\\'))))\", \"from string import Template\\\\\\\\ns = Template(\\\\\\'$who likes $what\\\\\\')\\\\\\\\nprint(s.substitute(who=\\\\\\'tim\\\\\\', what=\\\\\\'kung fu panda\\\\\\'))\\\\\\\\nd = dict(who=\\\\\\'tim\\\\\\')\\\\\\\\n#Template(\\\\\\'Give $who $100\\\\\\').substitute(d)\\\\\\\\n#Template(\\\\\\'$who likes $what\\\\\\').substitute(d)\\\\\\\\nTemplate(\\\\\\'$who likes $what\\\\\\').safe_substitute(d)\", \"import math\\\\\\\\nprint(f\\\\\\'The value of pi is approximately {math.pi:.49f}.\\\\\\')\", \"table = {\\\\\\'Sjoerd\\\\\\': 4127, \\\\\\'Jack\\\\\\': 4098, \\\\\\'Dcab\\\\\\': 7678}\\\\\\\\nfor name, phone in table.items():\\\\\\\\n    print(f\\\\\\'{name:10} ==> {phone:10d}\\\\\\')\", \"animals = \\\\\\'eels\\\\\\'\\\\\\\\nprint(f\\\\\\'My hovercraft is full of {animals}.\\\\\\')\\\\\\\\nprint(f\\\\\\'My hovercraft is full of {animals!r}.\\\\\\')\", \"bugs = \\\\\\'roaches\\\\\\'\\\\\\\\ncount = 13\\\\\\\\narea = \\\\\\'living room\\\\\\'\\\\\\\\nprint(f\\\\\\'Debugging {bugs=} {count=} {area=}\\\\\\')\", \\\\\\'print(\\\\\\\\\\\\\\'\"We are the {}\", said {}!\\\\\\\\\\\\\\'.format(\\\\\\\\\\\\\\'pesants\\\\\\\\\\\\\\', \\\\\\\\\\\\\\'Nathan\\\\\\\\\\\\\\'))\\\\\\', \"print(\\\\\\'{0} and {1}\\\\\\'.format(\\\\\\'spam\\\\\\', \\\\\\'eggs\\\\\\'))\\\\\\\\n\\\\\\\\nprint(\\\\\\'{1} and {0}\\\\\\'.format(\\\\\\'spam\\\\\\', \\\\\\'eggs\\\\\\'))\", \"print(\\\\\\'This {food} is {adjective}.\\\\\\'.format(\\\\\\\\n      food=\\\\\\'spam\\\\\\', adjective=\\\\\\'absolutely horrible\\\\\\'))\", \"print(\\\\\\'The story of {0}, {1}, and {other}.\\\\\\'.format(\\\\\\'Parris\\\\\\', \\\\\\'Manfredi\\\\\\',\\\\\\\\n                                                   other=\\\\\\'Barak\\\\\\'))\", \"table = {\\\\\\'Sjoerd\\\\\\': 4127, \\\\\\'Jack\\\\\\': 4098, \\\\\\'Dcab\\\\\\': 8637678}\\\\\\\\nprint(\\\\\\'Jack: {0[Jack]:d}; Sjoerd: {0[Sjoerd]:d}; \\\\\\'\\\\\\\\n      \\\\\\'Dcab: {0[Dcab]:d}\\\\\\'.format(table))\", \"table = {\\\\\\'Sjoerd\\\\\\': 4127, \\\\\\'Jack\\\\\\': 4098, \\\\\\'Dcab\\\\\\': 8637678}\\\\\\\\nprint(\\\\\\'Jack: {Jack:d}; Sjoerd: {Sjoerd:d}; Dcab: {Dcab:d}\\\\\\'.format(**table))\", \\\\\\'table = {k: str(v) for k, v in vars().items()}\\\\\\\\nmessage = \" \".join([f\\\\\\\\\\\\\\'{k}: \\\\\\\\\\\\\\' + \\\\\\\\\\\\\\'{\\\\\\\\\\\\\\' + k +\\\\\\\\\\\\\\'};\\\\\\\\\\\\\\' for k in table.keys()])\\\\\\\\nprint(message.format(**table))\\\\\\']\\', \\'_oh\\': \"{1: \\'Results of 2025 Protests\\', 4: \\'tim likes $what\\'}\", \\'_dh\\': \"[WindowsPath(\\'C:/Users/PC/OneDrive/Documents/AI/python-tutorial\\')]\", \\'In\\': \\'[\\\\\\'\\\\\\', \\\\\\'year = 2025\\\\\\\\nevent = \"Protests\"\\\\\\\\nf\"Results of {year} {event}\"\\\\\\', \"yes_votes = 42_127_911\\\\\\\\nno_votes = 1_414_141\\\\\\\\ntotal_votes = yes_votes+no_votes\\\\\\\\nsupport_percentage = yes_votes / total_votes\\\\\\\\nagainst_percentage = no_votes / total_votes\\\\\\\\nprint(\\\\\\'{:-9} YES votes {:2.2%}\\\\\\'.format(yes_votes, support_percentage))\\\\\\\\nprint(\\\\\\'{:-9} NO votes {:2.2%}\\\\\\'.format(no_votes, against_percentage))\", \"s = \\\\\\'Hello, world.\\\\\\'\\\\\\\\nprint(str(s))\\\\\\\\nprint(repr(s))\\\\\\\\nprint(str(1/7))\\\\\\\\n\\\\\\\\nx = 10 * 3.25\\\\\\\\ny = 200 * 200\\\\\\\\ns = \\\\\\'The value of x is \\\\\\' + repr(x) + \\\\\\', and y is \\\\\\' + repr(y) + \\\\\\'...\\\\\\'\\\\\\\\nprint(s)\\\\\\\\n\\\\\\\\n# The repr() of a string adds string quotes and backslashes:\\\\\\\\nhello = \\\\\\'hello, world\\\\\\\\\\\\\\\\n\\\\\\'\\\\\\\\nhellos = repr(hello)\\\\\\\\nprint(hellos)\\\\\\\\n\\\\\\\\n# The argument to repr() may be any Python object:\\\\\\\\nprint(repr((x, y, (\\\\\\'spam\\\\\\', \\\\\\'eggs\\\\\\'))))\", \"from string import Template\\\\\\\\ns = Template(\\\\\\'$who likes $what\\\\\\')\\\\\\\\nprint(s.substitute(who=\\\\\\'tim\\\\\\', what=\\\\\\'kung fu panda\\\\\\'))\\\\\\\\nd = dict(who=\\\\\\'tim\\\\\\')\\\\\\\\n#Template(\\\\\\'Give $who $100\\\\\\').substitute(d)\\\\\\\\n#Template(\\\\\\'$who likes $what\\\\\\').substitute(d)\\\\\\\\nTemplate(\\\\\\'$who likes $what\\\\\\').safe_substitute(d)\", \"import math\\\\\\\\nprint(f\\\\\\'The value of pi is approximately {math.pi:.49f}.\\\\\\')\", \"table = {\\\\\\'Sjoerd\\\\\\': 4127, \\\\\\'Jack\\\\\\': 4098, \\\\\\'Dcab\\\\\\': 7678}\\\\\\\\nfor name, phone in table.items():\\\\\\\\n    print(f\\\\\\'{name:10} ==> {phone:10d}\\\\\\')\", \"animals = \\\\\\'eels\\\\\\'\\\\\\\\nprint(f\\\\\\'My hovercraft is full of {animals}.\\\\\\')\\\\\\\\nprint(f\\\\\\'My hovercraft is full of {animals!r}.\\\\\\')\", \"bugs = \\\\\\'roaches\\\\\\'\\\\\\\\ncount = 13\\\\\\\\narea = \\\\\\'living room\\\\\\'\\\\\\\\nprint(f\\\\\\'Debugging {bugs=} {count=} {area=}\\\\\\')\", \\\\\\'print(\\\\\\\\\\\\\\'\"We are the {}\", said {}!\\\\\\\\\\\\\\'.format(\\\\\\\\\\\\\\'pesants\\\\\\\\\\\\\\', \\\\\\\\\\\\\\'Nathan\\\\\\\\\\\\\\'))\\\\\\', \"print(\\\\\\'{0} and {1}\\\\\\'.format(\\\\\\'spam\\\\\\', \\\\\\'eggs\\\\\\'))\\\\\\\\n\\\\\\\\nprint(\\\\\\'{1} and {0}\\\\\\'.format(\\\\\\'spam\\\\\\', \\\\\\'eggs\\\\\\'))\", \"print(\\\\\\'This {food} is {adjective}.\\\\\\'.format(\\\\\\\\n      food=\\\\\\'spam\\\\\\', adjective=\\\\\\'absolutely horrible\\\\\\'))\", \"print(\\\\\\'The story of {0}, {1}, and {other}.\\\\\\'.format(\\\\\\'Parris\\\\\\', \\\\\\'Manfredi\\\\\\',\\\\\\\\n                                                   other=\\\\\\'Barak\\\\\\'))\", \"table = {\\\\\\'Sjoerd\\\\\\': 4127, \\\\\\'Jack\\\\\\': 4098, \\\\\\'Dcab\\\\\\': 8637678}\\\\\\\\nprint(\\\\\\'Jack: {0[Jack]:d}; Sjoerd: {0[Sjoerd]:d}; \\\\\\'\\\\\\\\n      \\\\\\'Dcab: {0[Dcab]:d}\\\\\\'.format(table))\", \"table = {\\\\\\'Sjoerd\\\\\\': 4127, \\\\\\'Jack\\\\\\': 4098, \\\\\\'Dcab\\\\\\': 8637678}\\\\\\\\nprint(\\\\\\'Jack: {Jack:d}; Sjoerd: {Sjoerd:d}; Dcab: {Dcab:d}\\\\\\'.format(**table))\", \\\\\\'table = {k: str(v) for k, v in vars().items()}\\\\\\\\nmessage = \" \".join([f\\\\\\\\\\\\\\'{k}: \\\\\\\\\\\\\\' + \\\\\\\\\\\\\\'{\\\\\\\\\\\\\\' + k +\\\\\\\\\\\\\\'};\\\\\\\\\\\\\\' for k in table.keys()])\\\\\\\\nprint(message.format(**table))\\\\\\']\\', \\'Out\\': \"{1: \\'Results of 2025 Protests\\', 4: \\'tim likes $what\\'}\", \\'get_ipython\\': \\'<bound method InteractiveShell.get_ipython of <ipykernel.zmqshell.ZMQInteractiveShell object at 0x00000245A1198830>>\\', \\'exit\\': \\'<IPython.core.autocall.ZMQExitAutocall object at 0x00000245A1198B90>\\', \\'quit\\': \\'<IPython.core.autocall.ZMQExitAutocall object at 0x00000245A1198B90>\\', \\'open\\': \\'<function open at 0x000002459EF98400>\\', \\'_\\': \\'tim likes $what\\', \\'__\\': \\'Results of 2025 Protests\\', \\'___\\': \\'\\', \\'__session__\\': \\'C:\\\\\\\\Users\\\\\\\\PC\\\\\\\\OneDrive\\\\\\\\Documents\\\\\\\\AI\\\\\\\\python-tutorial\\\\\\\\05-input-and-output.ipynb\\', \\'_i\\': \"table = {\\'Sjoerd\\': 4127, \\'Jack\\': 4098, \\'Dcab\\': 8637678}\\\\nprint(\\'Jack: {Jack:d}; Sjoerd: {Sjoerd:d}; Dcab: {Dcab:d}\\'.format(**table))\", \\'_ii\\': \"table = {\\'Sjoerd\\': 4127, \\'Jack\\': 4098, \\'Dcab\\': 8637678}\\\\nprint(\\'Jack: {0[Jack]:d}; Sjoerd: {0[Sjoerd]:d}; \\'\\\\n      \\'Dcab: {0[Dcab]:d}\\'.format(table))\", \\'_iii\\': \"print(\\'The story of {0}, {1}, and {other}.\\'.format(\\'Parris\\', \\'Manfredi\\',\\\\n                                                   other=\\'Barak\\'))\", \\'_i1\\': \\'year = 2025\\\\nevent = \"Protests\"\\\\nf\"Results of {year} {event}\"\\', \\'year\\': \\'2025\\', \\'event\\': \\'Protests\\', \\'_1\\': \\'Results of 2025 Protests\\', \\'_i2\\': \"yes_votes = 42_127_911\\\\nno_votes = 1_414_141\\\\ntotal_votes = yes_votes+no_votes\\\\nsupport_percentage = yes_votes / total_votes\\\\nagainst_percentage = no_votes / total_votes\\\\nprint(\\'{:-9} YES votes {:2.2%}\\'.format(yes_votes, support_percentage))\\\\nprint(\\'{:-9} NO votes {:2.2%}\\'.format(no_votes, against_percentage))\", \\'yes_votes\\': \\'42127911\\', \\'no_votes\\': \\'1414141\\', \\'total_votes\\': \\'43542052\\', \\'support_percentage\\': \\'0.9675224079930822\\', \\'against_percentage\\': \\'0.03247759200691782\\', \\'_i3\\': \"s = \\'Hello, world.\\'\\\\nprint(str(s))\\\\nprint(repr(s))\\\\nprint(str(1/7))\\\\n\\\\nx = 10 * 3.25\\\\ny = 200 * 200\\\\ns = \\'The value of x is \\' + repr(x) + \\', and y is \\' + repr(y) + \\'...\\'\\\\nprint(s)\\\\n\\\\n# The repr() of a string adds string quotes and backslashes:\\\\nhello = \\'hello, world\\\\\\\\n\\'\\\\nhellos = repr(hello)\\\\nprint(hellos)\\\\n\\\\n# The argument to repr() may be any Python object:\\\\nprint(repr((x, y, (\\'spam\\', \\'eggs\\'))))\", \\'s\\': \\'<string.Template object at 0x00000245A119B8F0>\\', \\'x\\': \\'32.5\\', \\'y\\': \\'40000\\', \\'hello\\': \\'hello, world\\\\n\\', \\'hellos\\': \"\\'hello, world\\\\\\\\n\\'\", \\'_i4\\': \"from string import Template\\\\ns = Template(\\'$who likes $what\\')\\\\nprint(s.substitute(who=\\'tim\\', what=\\'kung fu panda\\'))\\\\nd = dict(who=\\'tim\\')\\\\n#Template(\\'Give $who $100\\').substitute(d)\\\\n#Template(\\'$who likes $what\\').substitute(d)\\\\nTemplate(\\'$who likes $what\\').safe_substitute(d)\", \\'Template\\': \"<class \\'string.Template\\'>\", \\'d\\': \"{\\'who\\': \\'tim\\'}\", \\'_4\\': \\'tim likes $what\\', \\'_i5\\': \"import math\\\\nprint(f\\'The value of pi is approximately {math.pi:.49f}.\\')\", \\'math\\': \"<module \\'math\\' (built-in)>\", \\'_i6\\': \"table = {\\'Sjoerd\\': 4127, \\'Jack\\': 4098, \\'Dcab\\': 7678}\\\\nfor name, phone in table.items():\\\\n    print(f\\'{name:10} ==> {phone:10d}\\')\", \\'table\\': \"{\\'Sjoerd\\': 4127, \\'Jack\\': 4098, \\'Dcab\\': 8637678}\", \\'name\\': \\'Dcab\\', \\'phone\\': \\'7678\\', \\'_i7\\': \"animals = \\'eels\\'\\\\nprint(f\\'My hovercraft is full of {animals}.\\')\\\\nprint(f\\'My hovercraft is full of {animals!r}.\\')\", \\'animals\\': \\'eels\\', \\'_i8\\': \"bugs = \\'roaches\\'\\\\ncount = 13\\\\narea = \\'living room\\'\\\\nprint(f\\'Debugging {bugs=} {count=} {area=}\\')\", \\'bugs\\': \\'roaches\\', \\'count\\': \\'13\\', \\'area\\': \\'living room\\', \\'_i9\\': \\'print(\\\\\\'\"We are the {}\", said {}!\\\\\\'.format(\\\\\\'pesants\\\\\\', \\\\\\'Nathan\\\\\\'))\\', \\'_i10\\': \"print(\\'{0} and {1}\\'.format(\\'spam\\', \\'eggs\\'))\\\\n\\\\nprint(\\'{1} and {0}\\'.format(\\'spam\\', \\'eggs\\'))\", \\'_i11\\': \"print(\\'This {food} is {adjective}.\\'.format(\\\\n      food=\\'spam\\', adjective=\\'absolutely horrible\\'))\", \\'_i12\\': \"print(\\'The story of {0}, {1}, and {other}.\\'.format(\\'Parris\\', \\'Manfredi\\',\\\\n                                                   other=\\'Barak\\'))\", \\'_i13\\': \"table = {\\'Sjoerd\\': 4127, \\'Jack\\': 4098, \\'Dcab\\': 8637678}\\\\nprint(\\'Jack: {0[Jack]:d}; Sjoerd: {0[Sjoerd]:d}; \\'\\\\n      \\'Dcab: {0[Dcab]:d}\\'.format(table))\", \\'_i14\\': \"table = {\\'Sjoerd\\': 4127, \\'Jack\\': 4098, \\'Dcab\\': 8637678}\\\\nprint(\\'Jack: {Jack:d}; Sjoerd: {Sjoerd:d}; Dcab: {Dcab:d}\\'.format(**table))\", \\'_i15\\': \\'table = {k: str(v) for k, v in vars().items()}\\\\nmessage = \" \".join([f\\\\\\'{k}: \\\\\\' + \\\\\\'{\\\\\\' + k +\\\\\\'};\\\\\\' for k in table.keys()])\\\\nprint(message.format(**table))\\'}', 'name': 'Dcab', 'phone': '7678', '_i7': \"animals = 'eels'\\nprint(f'My hovercraft is full of {animals}.')\\nprint(f'My hovercraft is full of {animals!r}.')\", 'animals': 'eels', '_i8': \"bugs = 'roaches'\\ncount = 13\\narea = 'living room'\\nprint(f'Debugging {bugs=} {count=} {area=}')\", 'bugs': 'roaches', 'count': '13', 'area': 'living room', '_i9': 'print(\\'\"We are the {}\", said {}!\\'.format(\\'pesants\\', \\'Nathan\\'))', '_i10': \"print('{0} and {1}'.format('spam', 'eggs'))\\n\\nprint('{1} and {0}'.format('spam', 'eggs'))\", '_i11': \"print('This {food} is {adjective}.'.format(\\n      food='spam', adjective='absolutely horrible'))\", '_i12': \"print('The story of {0}, {1}, and {other}.'.format('Parris', 'Manfredi',\\n                                                   other='Barak'))\", '_i13': \"table = {'Sjoerd': 4127, 'Jack': 4098, 'Dcab': 8637678}\\nprint('Jack: {0[Jack]:d}; Sjoerd: {0[Sjoerd]:d}; '\\n      'Dcab: {0[Dcab]:d}'.format(table))\", '_i14': \"table = {'Sjoerd': 4127, 'Jack': 4098, 'Dcab': 8637678}\\nprint('Jack: {Jack:d}; Sjoerd: {Sjoerd:d}; Dcab: {Dcab:d}'.format(**table))\", '_i15': 'table = {k: str(v) for k, v in vars().items()}\\nmessage = \" \".join([f\\'{k}: \\' + \\'{\\' + k +\\'};\\' for k in table.keys()])\\nprint(message.format(**table))', 'message': '__name__: {__name__}; __doc__: {__doc__}; __package__: {__package__}; __loader__: {__loader__}; __spec__: {__spec__}; __builtin__: {__builtin__}; __builtins__: {__builtins__}; _ih: {_ih}; _oh: {_oh}; _dh: {_dh}; In: {In}; Out: {Out}; get_ipython: {get_ipython}; exit: {exit}; quit: {quit}; open: {open}; _: {_}; __: {__}; ___: {___}; __session__: {__session__}; _i: {_i}; _ii: {_ii}; _iii: {_iii}; _i1: {_i1}; year: {year}; event: {event}; _1: {_1}; _i2: {_i2}; yes_votes: {yes_votes}; no_votes: {no_votes}; total_votes: {total_votes}; support_percentage: {support_percentage}; against_percentage: {against_percentage}; _i3: {_i3}; s: {s}; x: {x}; y: {y}; hello: {hello}; hellos: {hellos}; _i4: {_i4}; Template: {Template}; d: {d}; _4: {_4}; _i5: {_i5}; math: {math}; _i6: {_i6}; table: {table}; name: {name}; phone: {phone}; _i7: {_i7}; animals: {animals}; _i8: {_i8}; bugs: {bugs}; count: {count}; area: {area}; _i9: {_i9}; _i10: {_i10}; _i11: {_i11}; _i12: {_i12}; _i13: {_i13}; _i14: {_i14}; _i15: {_i15};', '_i16': \"for x in range(1, 11):\\n    print('{0:2d} {1:3d} {2:4d}'.format(x, x*x, x*x*x))\", '_i17': \"for x in range(1, 11):\\n    print(repr(x).rjust(2), repr(x*x).rjust(3), end=' ')\\n    # Note use of 'end' on previous line\\n    print(repr(x*x*x).rjust(4))\", '_i18': \"print('12'.zfill(5))\\nprint('-3.14'.zfill(7))\\nprint('3.14159265359'.zfill(5))\", '_i19': \"import math\\nprint('The value of pi is approximately %5.3f.' % math.pi)\", '_i20': 'f = open(\\'workfile\\', \\'w\\', encoding=\"utf-8\")\\nf.write(\"Default text\")', 'f': \"<_io.BufferedRandom name='workfile'>\", '_20': '12', '_i21': 'with open(\\'workfile\\', encoding=\"utf-8\") as f:\\n    read_data = f.read()\\n    print(read_data)\\n# We can check that the file has been automatically closed.\\nf.closed', 'read_data': 'Default text', '_21': 'True', '_i22': \"f = open('workfile', 'a', encoding='utf-8')\\n#print(f.read())\\n#print(f.readline())\\nf.write('\\\\nNext line is appended to the existing text\\\\n')\\nf.close()\", '_i23': \"# with open('workfile', 'r', encoding='utf-8') as f:\\n#     for i, line in enumerate(f, start=1):\\n#         if i in range(1, 3):  # To read lines 1 and 2\\n#             print(line.strip())  # .strip() removes any extra newline characters\", '_i24': \"with open('workfile', 'r', encoding='utf-8') as f:\\n    for line in f:\\n        print(line.strip())  # .strip() removes any extra newline characters\\n    f.close()\", 'line': 'Next line is appended to the existing text\\n', '_i25': \"f = open('workfile', 'a', encoding='utf-8')\\nvalue = ('winning lottery price ',24_342_241)\\ns = str(value)\\nf.write(s)\", 'value': \"('winning lottery price ', 24342241)\", '_25': '36', '_i26': 'f.close()', '_i27': \"f = open('workfile', 'rb+')\\nf.write(b'0123456789abcdef')\\n\\nprint(f.seek(5))      # Go to the 6th byte in the file\\nprint(f.read(1))\\nprint(f.seek(-3, 2))  # Go to the 3rd byte before the end\\nprint(f.read(1))\", '_i28': \"import json\\nx = [1,'sample','demo',24252,'list']\\njson.dumps(x)\", 'json': \"<module 'json' from 'C:\\\\\\\\Program Files\\\\\\\\Python312\\\\\\\\Lib\\\\\\\\json\\\\\\\\__init__.py'>\", '_28': '[1, \"sample\", \"demo\", 24252, \"list\"]', '_i29': \"yes_votes = 42_127_911\\nno_votes = 1_414_141\\ntotal_votes = yes_votes+no_votes\\nsupport_percentage = yes_votes / total_votes\\nagainst_percentage = no_votes / total_votes\\n# -9 means the number will be left-aligned within a 9-character width\\nprint('{:-9} YES votes {:2.2%}'.format(yes_votes, support_percentage))\\n# 2.2% specifies that the number should be displayed as a percentage with 2 decimal places\\nprint('{:-9} NO votes {:2.2%}'.format(no_votes, against_percentage))\", '_i30': \"yes_votes = 42_127_911\\nno_votes = 1_414_141\\ntotal_votes = yes_votes+no_votes\\nsupport_percentage = yes_votes / total_votes\\nagainst_percentage = no_votes / total_votes\\n# -9 means the number will be left-aligned within a 9-character width\\nprint('{:-9} YES votes {:2.2%}'.format(yes_votes, support_percentage))\\n# 2.2% specifies that the number should be displayed as a percentage with 2 decimal places\\nprint('{:-9} NO votes {:3.2%}'.format(no_votes, against_percentage))\", '_i31': \"yes_votes = 42_127_911\\nno_votes = 1_414_141\\ntotal_votes = yes_votes+no_votes\\nsupport_percentage = yes_votes / total_votes\\nagainst_percentage = no_votes / total_votes\\n# -9 means the number will be left-aligned within a 9-character width\\nprint('{:-9} YES votes {:2.2%}'.format(yes_votes, support_percentage))\\n# 2.2% specifies that the number should be displayed as a percentage with 2 decimal places\\nprint('{:-9} NO votes {:2.2%}'.format(no_votes, against_percentage))\", '_i32': \"yes_votes = 42_127_911\\nno_votes = 1_414_141\\ntotal_votes = yes_votes+no_votes\\nsupport_percentage = yes_votes / total_votes\\nagainst_percentage = no_votes / total_votes\\n# -9 means the number will be left-aligned within a 9-character width\\nprint('{:-9} YES votes {:2.2%}'.format(yes_votes, support_percentage))\\n# 2.2% specifies that the number should be displayed as a percentage with 2 decimal places\\nprint('{:-9} NO votes {:.2%}'.format(no_votes, against_percentage))\", '_i33': \"yes_votes = 42_127_911\\nno_votes = 1_414_141\\ntotal_votes = yes_votes+no_votes\\nsupport_percentage = yes_votes / total_votes\\nagainst_percentage = no_votes / total_votes\\n# -9 means the number will be left-aligned within a 9-character width\\nprint('{:-9} YES votes {:2.2%}'.format(yes_votes, support_percentage))\\n# 2.2% specifies that the number should be displayed as a percentage with 2 decimal places\\nprint('{:-9} NO votes {:2.2%}'.format(no_votes, against_percentage))\", '_i34': \"yes_votes = 42_127_911\\nno_votes = 1_414_141\\ntotal_votes = yes_votes+no_votes\\nsupport_percentage = yes_votes / total_votes\\nagainst_percentage = no_votes / total_votes\\n# -9 means the number will be left-aligned within a 9-character width\\nprint('{:-9} YES votes {:.3%}'.format(yes_votes, support_percentage))\\n# 2.2% specifies that the number should be displayed as a percentage with 2 decimal places\\nprint('{:-9} NO votes {:2.2%}'.format(no_votes, against_percentage))\", '_i35': \"yes_votes = 42_127_911\\nno_votes = 1_414_141\\ntotal_votes = yes_votes+no_votes\\nsupport_percentage = yes_votes / total_votes\\nagainst_percentage = no_votes / total_votes\\n# -9 means the number will be left-aligned within a 9-character width\\nprint('{:-9} YES votes {:10.3%}'.format(yes_votes, support_percentage))\\n# 2.2% specifies that the number should be displayed as a percentage with 2 decimal places\\nprint('{:-9} NO votes {:2.2%}'.format(no_votes, against_percentage))\", '_i36': \"yes_votes = 42_127_911\\nno_votes = 1_414_141\\ntotal_votes = yes_votes+no_votes\\nsupport_percentage = yes_votes / total_votes\\nagainst_percentage = no_votes / total_votes\\n# -9 means the number will be left-aligned within a 9-character width\\nprint('{:-9} YES votes {:2.2%}'.format(yes_votes, support_percentage))\\n# 2.2% specifies that the number should be displayed as a percentage with 2 decimal places\\nprint('{:-9} NO votes {:2.2%}'.format(no_votes, against_percentage))\", '_i37': \"yes_votes = 42_127_911\\nno_votes = 1_414_141\\ntotal_votes = yes_votes+no_votes\\nsupport_percentage = yes_votes / total_votes\\nagainst_percentage = no_votes / total_votes\\n# -9 means the number will be left-aligned within a 9-character width\\nprint('{:-9} YES votes {:2.2%}'.format(yes_votes, support_percentage))\\n# 2.2% specifies that the number should be displayed as a percentage with 2 decimal places\\nprint('{:-9} NO votes {:2.2%}'.format(no_votes, against_percentage))\", '_i38': \"bugs = 'roaches'\\ncount = 13\\narea = 'living room'\\nprint(f'Debugging {bugs=} {count=} {area=}')\", '_i39': \"for x in range(1, 11):\\n    print('{0:2d} {1:3d} {2:4d}'.format(x, x*x, x*x*x))\\n\\nprint(vars())\", '_i40': \"for x in range(1, 11):\\n    print('{0:2d} {1:3d} {2:4d}'.format(x, x*x, x*x*x))\", '_i41': 'table = {k: str(v) for k, v in vars().items()}\\nmessage = \" \".join([f\\'{k}: \\' + \\'{\\' + k +\\'};\\\\t\\' for k in table.keys()])\\nprint(message.format(**table))'};\n",
      " name: Dcab;\n",
      " phone: 7678;\n",
      " _i7: animals = 'eels'\n",
      "print(f'My hovercraft is full of {animals}.')\n",
      "print(f'My hovercraft is full of {animals!r}.');\n",
      " animals: eels;\n",
      " _i8: bugs = 'roaches'\n",
      "count = 13\n",
      "area = 'living room'\n",
      "print(f'Debugging {bugs=} {count=} {area=}');\n",
      " bugs: roaches;\n",
      " count: 13;\n",
      " area: living room;\n",
      " _i9: print('\"We are the {}\", said {}!'.format('pesants', 'Nathan'));\n",
      " _i10: print('{0} and {1}'.format('spam', 'eggs'))\n",
      "\n",
      "print('{1} and {0}'.format('spam', 'eggs'));\n",
      " _i11: print('This {food} is {adjective}.'.format(\n",
      "      food='spam', adjective='absolutely horrible'));\n",
      " _i12: print('The story of {0}, {1}, and {other}.'.format('Parris', 'Manfredi',\n",
      "                                                   other='Barak'));\n",
      " _i13: table = {'Sjoerd': 4127, 'Jack': 4098, 'Dcab': 8637678}\n",
      "print('Jack: {0[Jack]:d}; Sjoerd: {0[Sjoerd]:d}; '\n",
      "      'Dcab: {0[Dcab]:d}'.format(table));\n",
      " _i14: table = {'Sjoerd': 4127, 'Jack': 4098, 'Dcab': 8637678}\n",
      "print('Jack: {Jack:d}; Sjoerd: {Sjoerd:d}; Dcab: {Dcab:d}'.format(**table));\n",
      " _i15: table = {k: str(v) for k, v in vars().items()}\n",
      "message = \" \".join([f'{k}: ' + '{' + k +'};' for k in table.keys()])\n",
      "print(message.format(**table));\n",
      " message: __name__: {__name__};\t __doc__: {__doc__};\t __package__: {__package__};\t __loader__: {__loader__};\t __spec__: {__spec__};\t __builtin__: {__builtin__};\t __builtins__: {__builtins__};\t _ih: {_ih};\t _oh: {_oh};\t _dh: {_dh};\t In: {In};\t Out: {Out};\t get_ipython: {get_ipython};\t exit: {exit};\t quit: {quit};\t open: {open};\t _: {_};\t __: {__};\t ___: {___};\t __session__: {__session__};\t _i: {_i};\t _ii: {_ii};\t _iii: {_iii};\t _i1: {_i1};\t year: {year};\t event: {event};\t _1: {_1};\t _i2: {_i2};\t yes_votes: {yes_votes};\t no_votes: {no_votes};\t total_votes: {total_votes};\t support_percentage: {support_percentage};\t against_percentage: {against_percentage};\t _i3: {_i3};\t s: {s};\t x: {x};\t y: {y};\t hello: {hello};\t hellos: {hellos};\t _i4: {_i4};\t Template: {Template};\t d: {d};\t _4: {_4};\t _i5: {_i5};\t math: {math};\t _i6: {_i6};\t table: {table};\t name: {name};\t phone: {phone};\t _i7: {_i7};\t animals: {animals};\t _i8: {_i8};\t bugs: {bugs};\t count: {count};\t area: {area};\t _i9: {_i9};\t _i10: {_i10};\t _i11: {_i11};\t _i12: {_i12};\t _i13: {_i13};\t _i14: {_i14};\t _i15: {_i15};\t message: {message};\t _i16: {_i16};\t _i17: {_i17};\t _i18: {_i18};\t _i19: {_i19};\t _i20: {_i20};\t f: {f};\t _20: {_20};\t _i21: {_i21};\t read_data: {read_data};\t _21: {_21};\t _i22: {_i22};\t _i23: {_i23};\t _i24: {_i24};\t line: {line};\t _i25: {_i25};\t value: {value};\t _25: {_25};\t _i26: {_i26};\t _i27: {_i27};\t _i28: {_i28};\t json: {json};\t _28: {_28};\t _i29: {_i29};\t _i30: {_i30};\t _i31: {_i31};\t _i32: {_i32};\t _i33: {_i33};\t _i34: {_i34};\t _i35: {_i35};\t _i36: {_i36};\t _i37: {_i37};\t _i38: {_i38};\t _i39: {_i39};\t _i40: {_i40};\t _i41: {_i41};\t;\n",
      " _i16: for x in range(1, 11):\n",
      "    print('{0:2d} {1:3d} {2:4d}'.format(x, x*x, x*x*x));\n",
      " _i17: for x in range(1, 11):\n",
      "    print(repr(x).rjust(2), repr(x*x).rjust(3), end=' ')\n",
      "    # Note use of 'end' on previous line\n",
      "    print(repr(x*x*x).rjust(4));\n",
      " _i18: print('12'.zfill(5))\n",
      "print('-3.14'.zfill(7))\n",
      "print('3.14159265359'.zfill(5));\n",
      " _i19: import math\n",
      "print('The value of pi is approximately %5.3f.' % math.pi);\n",
      " _i20: f = open('workfile', 'w', encoding=\"utf-8\")\n",
      "f.write(\"Default text\");\n",
      " f: <_io.BufferedRandom name='workfile'>;\n",
      " _20: 12;\n",
      " _i21: with open('workfile', encoding=\"utf-8\") as f:\n",
      "    read_data = f.read()\n",
      "    print(read_data)\n",
      "# We can check that the file has been automatically closed.\n",
      "f.closed;\n",
      " read_data: Default text;\n",
      " _21: True;\n",
      " _i22: f = open('workfile', 'a', encoding='utf-8')\n",
      "#print(f.read())\n",
      "#print(f.readline())\n",
      "f.write('\\nNext line is appended to the existing text\\n')\n",
      "f.close();\n",
      " _i23: # with open('workfile', 'r', encoding='utf-8') as f:\n",
      "#     for i, line in enumerate(f, start=1):\n",
      "#         if i in range(1, 3):  # To read lines 1 and 2\n",
      "#             print(line.strip())  # .strip() removes any extra newline characters;\n",
      " _i24: with open('workfile', 'r', encoding='utf-8') as f:\n",
      "    for line in f:\n",
      "        print(line.strip())  # .strip() removes any extra newline characters\n",
      "    f.close();\n",
      " line: Next line is appended to the existing text\n",
      ";\n",
      " _i25: f = open('workfile', 'a', encoding='utf-8')\n",
      "value = ('winning lottery price ',24_342_241)\n",
      "s = str(value)\n",
      "f.write(s);\n",
      " value: ('winning lottery price ', 24342241);\n",
      " _25: 36;\n",
      " _i26: f.close();\n",
      " _i27: f = open('workfile', 'rb+')\n",
      "f.write(b'0123456789abcdef')\n",
      "\n",
      "print(f.seek(5))      # Go to the 6th byte in the file\n",
      "print(f.read(1))\n",
      "print(f.seek(-3, 2))  # Go to the 3rd byte before the end\n",
      "print(f.read(1));\n",
      " _i28: import json\n",
      "x = [1,'sample','demo',24252,'list']\n",
      "json.dumps(x);\n",
      " json: <module 'json' from 'C:\\\\Program Files\\\\Python312\\\\Lib\\\\json\\\\__init__.py'>;\n",
      " _28: [1, \"sample\", \"demo\", 24252, \"list\"];\n",
      " _i29: yes_votes = 42_127_911\n",
      "no_votes = 1_414_141\n",
      "total_votes = yes_votes+no_votes\n",
      "support_percentage = yes_votes / total_votes\n",
      "against_percentage = no_votes / total_votes\n",
      "# -9 means the number will be left-aligned within a 9-character width\n",
      "print('{:-9} YES votes {:2.2%}'.format(yes_votes, support_percentage))\n",
      "# 2.2% specifies that the number should be displayed as a percentage with 2 decimal places\n",
      "print('{:-9} NO votes {:2.2%}'.format(no_votes, against_percentage));\n",
      " _i30: yes_votes = 42_127_911\n",
      "no_votes = 1_414_141\n",
      "total_votes = yes_votes+no_votes\n",
      "support_percentage = yes_votes / total_votes\n",
      "against_percentage = no_votes / total_votes\n",
      "# -9 means the number will be left-aligned within a 9-character width\n",
      "print('{:-9} YES votes {:2.2%}'.format(yes_votes, support_percentage))\n",
      "# 2.2% specifies that the number should be displayed as a percentage with 2 decimal places\n",
      "print('{:-9} NO votes {:3.2%}'.format(no_votes, against_percentage));\n",
      " _i31: yes_votes = 42_127_911\n",
      "no_votes = 1_414_141\n",
      "total_votes = yes_votes+no_votes\n",
      "support_percentage = yes_votes / total_votes\n",
      "against_percentage = no_votes / total_votes\n",
      "# -9 means the number will be left-aligned within a 9-character width\n",
      "print('{:-9} YES votes {:2.2%}'.format(yes_votes, support_percentage))\n",
      "# 2.2% specifies that the number should be displayed as a percentage with 2 decimal places\n",
      "print('{:-9} NO votes {:2.2%}'.format(no_votes, against_percentage));\n",
      " _i32: yes_votes = 42_127_911\n",
      "no_votes = 1_414_141\n",
      "total_votes = yes_votes+no_votes\n",
      "support_percentage = yes_votes / total_votes\n",
      "against_percentage = no_votes / total_votes\n",
      "# -9 means the number will be left-aligned within a 9-character width\n",
      "print('{:-9} YES votes {:2.2%}'.format(yes_votes, support_percentage))\n",
      "# 2.2% specifies that the number should be displayed as a percentage with 2 decimal places\n",
      "print('{:-9} NO votes {:.2%}'.format(no_votes, against_percentage));\n",
      " _i33: yes_votes = 42_127_911\n",
      "no_votes = 1_414_141\n",
      "total_votes = yes_votes+no_votes\n",
      "support_percentage = yes_votes / total_votes\n",
      "against_percentage = no_votes / total_votes\n",
      "# -9 means the number will be left-aligned within a 9-character width\n",
      "print('{:-9} YES votes {:2.2%}'.format(yes_votes, support_percentage))\n",
      "# 2.2% specifies that the number should be displayed as a percentage with 2 decimal places\n",
      "print('{:-9} NO votes {:2.2%}'.format(no_votes, against_percentage));\n",
      " _i34: yes_votes = 42_127_911\n",
      "no_votes = 1_414_141\n",
      "total_votes = yes_votes+no_votes\n",
      "support_percentage = yes_votes / total_votes\n",
      "against_percentage = no_votes / total_votes\n",
      "# -9 means the number will be left-aligned within a 9-character width\n",
      "print('{:-9} YES votes {:.3%}'.format(yes_votes, support_percentage))\n",
      "# 2.2% specifies that the number should be displayed as a percentage with 2 decimal places\n",
      "print('{:-9} NO votes {:2.2%}'.format(no_votes, against_percentage));\n",
      " _i35: yes_votes = 42_127_911\n",
      "no_votes = 1_414_141\n",
      "total_votes = yes_votes+no_votes\n",
      "support_percentage = yes_votes / total_votes\n",
      "against_percentage = no_votes / total_votes\n",
      "# -9 means the number will be left-aligned within a 9-character width\n",
      "print('{:-9} YES votes {:10.3%}'.format(yes_votes, support_percentage))\n",
      "# 2.2% specifies that the number should be displayed as a percentage with 2 decimal places\n",
      "print('{:-9} NO votes {:2.2%}'.format(no_votes, against_percentage));\n",
      " _i36: yes_votes = 42_127_911\n",
      "no_votes = 1_414_141\n",
      "total_votes = yes_votes+no_votes\n",
      "support_percentage = yes_votes / total_votes\n",
      "against_percentage = no_votes / total_votes\n",
      "# -9 means the number will be left-aligned within a 9-character width\n",
      "print('{:-9} YES votes {:2.2%}'.format(yes_votes, support_percentage))\n",
      "# 2.2% specifies that the number should be displayed as a percentage with 2 decimal places\n",
      "print('{:-9} NO votes {:2.2%}'.format(no_votes, against_percentage));\n",
      " _i37: yes_votes = 42_127_911\n",
      "no_votes = 1_414_141\n",
      "total_votes = yes_votes+no_votes\n",
      "support_percentage = yes_votes / total_votes\n",
      "against_percentage = no_votes / total_votes\n",
      "# -9 means the number will be left-aligned within a 9-character width\n",
      "print('{:-9} YES votes {:2.2%}'.format(yes_votes, support_percentage))\n",
      "# 2.2% specifies that the number should be displayed as a percentage with 2 decimal places\n",
      "print('{:-9} NO votes {:2.2%}'.format(no_votes, against_percentage));\n",
      " _i38: bugs = 'roaches'\n",
      "count = 13\n",
      "area = 'living room'\n",
      "print(f'Debugging {bugs=} {count=} {area=}');\n",
      " _i39: for x in range(1, 11):\n",
      "    print('{0:2d} {1:3d} {2:4d}'.format(x, x*x, x*x*x))\n",
      "\n",
      "print(vars());\n",
      " _i40: for x in range(1, 11):\n",
      "    print('{0:2d} {1:3d} {2:4d}'.format(x, x*x, x*x*x));\n",
      " _i41: table = {k: str(v) for k, v in vars().items()}\n",
      "message = \" \".join([f'{k}: ' + '{' + k +'};\\t' for k in table.keys()])\n",
      "print(message.format(**table));\n",
      " _i42: table = {k: str(v) for k, v in vars().items()}\n",
      "message = \" \".join([f'{k}: ' + '{' + k +'};\\n' for k in table.keys()])\n",
      "print(message.format(**table));\n",
      "\n"
     ]
    }
   ],
   "source": [
    "table = {k: str(v) for k, v in vars().items()}\n",
    "message = \" \".join([f'{k}: ' + '{' + k +'};\\n' for k in table.keys()])\n",
    "print(message.format(**table))"
   ]
  },
  {
   "cell_type": "code",
   "execution_count": 43,
   "id": "988cae14-a39f-4d51-996e-df5d90a6aa1e",
   "metadata": {},
   "outputs": [
    {
     "name": "stdout",
     "output_type": "stream",
     "text": [
      " 1   1    1\n",
      " 2   4    8\n",
      " 3   9   27\n",
      " 4  16   64\n",
      " 5  25  125\n",
      " 6  36  216\n",
      " 7  49  343\n",
      " 8  64  512\n",
      " 9  81  729\n",
      "10 100 1000\n"
     ]
    }
   ],
   "source": [
    "for x in range(1, 11):\n",
    "    print('{0:2d} {1:3d} {2:4d}'.format(x, x*x, x*x*x))"
   ]
  },
  {
   "cell_type": "markdown",
   "id": "00d1e35c-964c-45e7-a811-757534dc03de",
   "metadata": {},
   "source": [
    "#### Manual String Formatting"
   ]
  },
  {
   "cell_type": "code",
   "execution_count": 44,
   "id": "3bba2a3b-187f-4c90-bceb-be9e2a915c28",
   "metadata": {},
   "outputs": [
    {
     "name": "stdout",
     "output_type": "stream",
     "text": [
      " 1   1    1\n",
      " 2   4    8\n",
      " 3   9   27\n",
      " 4  16   64\n",
      " 5  25  125\n",
      " 6  36  216\n",
      " 7  49  343\n",
      " 8  64  512\n",
      " 9  81  729\n",
      "10 100 1000\n"
     ]
    }
   ],
   "source": [
    "for x in range(1, 11):\n",
    "    print(repr(x).rjust(2), repr(x*x).rjust(3), end=' ')\n",
    "    # Note use of 'end' on previous line\n",
    "    print(repr(x*x*x).rjust(4))"
   ]
  },
  {
   "cell_type": "code",
   "execution_count": 58,
   "id": "8bfd0ee6-4a98-41a1-ba68-ec1e96ff579f",
   "metadata": {},
   "outputs": [
    {
     "name": "stdout",
     "output_type": "stream",
     "text": [
      "00012\n",
      "-003.14\n",
      "3.14159265359\n",
      "3.140000000\n",
      "00003.140000000\n"
     ]
    }
   ],
   "source": [
    "print('12'.zfill(5))\n",
    "print('-3.14'.zfill(7))\n",
    "print('3.14159265359'.zfill(5))\n",
    "\n",
    "formatted_number = f\"{3.14:.9f}\" # format to 9 decimal places\n",
    "print(formatted_number)\n",
    "padded_number = formatted_number.zfill(15)\n",
    "print(padded_number)"
   ]
  },
  {
   "cell_type": "markdown",
   "id": "576830e8-ffc1-4d0c-aa12-322ba4912249",
   "metadata": {},
   "source": [
    "#### Old string formatting"
   ]
  },
  {
   "cell_type": "code",
   "execution_count": 59,
   "id": "11b36cb9-86df-46e0-ab54-f9fa51bc6cd2",
   "metadata": {},
   "outputs": [
    {
     "name": "stdout",
     "output_type": "stream",
     "text": [
      "The value of pi is approximately 3.142.\n"
     ]
    }
   ],
   "source": [
    "import math\n",
    "print('The value of pi is approximately %5.3f.' % math.pi)"
   ]
  },
  {
   "cell_type": "markdown",
   "id": "2337214e-190a-47f6-bd6a-3812e01e43ae",
   "metadata": {},
   "source": [
    "#### Reading and Writing Files"
   ]
  },
  {
   "cell_type": "markdown",
   "id": "5d5913ef-0ced-4bfc-b720-2b94dd9e849f",
   "metadata": {},
   "source": [
    "open() returns a file object, and is most commonly used with two positional arguments and one keyword argument: open(filename, mode, encoding=None)"
   ]
  },
  {
   "cell_type": "code",
   "execution_count": 47,
   "id": "82febfc8-4711-4e09-82bd-c40ddc38e043",
   "metadata": {},
   "outputs": [
    {
     "data": {
      "text/plain": [
       "12"
      ]
     },
     "execution_count": 47,
     "metadata": {},
     "output_type": "execute_result"
    }
   ],
   "source": [
    "f = open('workfile', 'w', encoding=\"utf-8\")\n",
    "f.write(\"Default text\")"
   ]
  },
  {
   "cell_type": "code",
   "execution_count": 48,
   "id": "35e02751-dfaf-4f1d-9696-3dfa81f7faa9",
   "metadata": {},
   "outputs": [
    {
     "name": "stdout",
     "output_type": "stream",
     "text": [
      "Default text\n"
     ]
    },
    {
     "data": {
      "text/plain": [
       "True"
      ]
     },
     "execution_count": 48,
     "metadata": {},
     "output_type": "execute_result"
    }
   ],
   "source": [
    "with open('workfile', encoding=\"utf-8\") as f:\n",
    "    read_data = f.read()\n",
    "    print(read_data)\n",
    "# We can check that the file has been automatically closed.\n",
    "f.closed"
   ]
  },
  {
   "cell_type": "markdown",
   "id": "9736a0fd-fc34-40f2-a748-d035a78cfb08",
   "metadata": {},
   "source": [
    "`Warning Calling f.write() without using the with keyword or calling f.close() might result in the arguments of f.write() not being completely written to the disk, even if the program exits successfully.`"
   ]
  },
  {
   "cell_type": "markdown",
   "id": "ffaff6b2-a2e2-44f5-b5b7-2cebc2a554e3",
   "metadata": {},
   "source": [
    "After a file object is closed, either by a with statement or by calling f.close(), attempts to use the file object will automatically fail.\n",
    "```\n",
    "f.close()\n",
    "f.read()\n",
    "```"
   ]
  },
  {
   "cell_type": "markdown",
   "id": "838a3076-7105-4906-9330-27d7ed714f7b",
   "metadata": {},
   "source": [
    "#### Methods of File Objects"
   ]
  },
  {
   "cell_type": "markdown",
   "id": "be61d953-828a-4456-9922-0a0d75894484",
   "metadata": {},
   "source": [
    " Methods of File Objects\n",
    "The rest of the examples in this section will assume that a file object called f has already been created.\n",
    "\n",
    "To read a file’s contents, call f.read(size), which reads some quantity of data and returns it as a string (in text mode) or bytes object (in binary mode). size is an optional numeric argument. When size is omitted or negative, the entire contents of the file will be read and returned; it’s your problem if the file is twice as large as your machine’s memory. Otherwise, at most size characters (in text mode) or size bytes (in binary mode) are read and returned. If the end of the file has been reached, f.read() will return an empty string ('')."
   ]
  },
  {
   "cell_type": "code",
   "execution_count": 49,
   "id": "0801bf7d-86e3-4944-9835-e40ff73796e7",
   "metadata": {},
   "outputs": [],
   "source": [
    "f = open('workfile', 'a', encoding='utf-8')\n",
    "#print(f.read())\n",
    "#print(f.readline())\n",
    "f.write('\\nNext line is appended to the existing text\\n')\n",
    "f.close()"
   ]
  },
  {
   "cell_type": "code",
   "execution_count": 50,
   "id": "c5fff783-62a6-4776-88c8-8d6e145fb919",
   "metadata": {},
   "outputs": [],
   "source": [
    "# with open('workfile', 'r', encoding='utf-8') as f:\n",
    "#     for i, line in enumerate(f, start=1):\n",
    "#         if i in range(1, 3):  # To read lines 1 and 2\n",
    "#             print(line.strip())  # .strip() removes any extra newline characters"
   ]
  },
  {
   "cell_type": "code",
   "execution_count": 51,
   "id": "f94754b3-623f-4330-a04b-9ecb6fff2d63",
   "metadata": {},
   "outputs": [
    {
     "name": "stdout",
     "output_type": "stream",
     "text": [
      "Default text\n",
      "Next line is appended to the existing text\n"
     ]
    }
   ],
   "source": [
    "with open('workfile', 'r', encoding='utf-8') as f:\n",
    "    for line in f:\n",
    "        print(line.strip())  # .strip() removes any extra newline characters\n",
    "    f.close()"
   ]
  },
  {
   "cell_type": "code",
   "execution_count": 52,
   "id": "3ad1a74f-1f77-4198-af4b-a4b4e83a8fe3",
   "metadata": {},
   "outputs": [
    {
     "data": {
      "text/plain": [
       "36"
      ]
     },
     "execution_count": 52,
     "metadata": {},
     "output_type": "execute_result"
    }
   ],
   "source": [
    "f = open('workfile', 'a', encoding='utf-8')\n",
    "value = ('winning lottery price ',24_342_241)\n",
    "s = str(value)\n",
    "f.write(s)"
   ]
  },
  {
   "cell_type": "code",
   "execution_count": 53,
   "id": "912b5ce0-48e3-4bdd-8586-73ffedf99c3c",
   "metadata": {},
   "outputs": [],
   "source": [
    "f.close()"
   ]
  },
  {
   "cell_type": "code",
   "execution_count": 54,
   "id": "7233a070-a238-416d-baf6-598ce427076f",
   "metadata": {},
   "outputs": [
    {
     "name": "stdout",
     "output_type": "stream",
     "text": [
      "5\n",
      "b'5'\n",
      "91\n",
      "b'4'\n"
     ]
    }
   ],
   "source": [
    "f = open('workfile', 'rb+')\n",
    "f.write(b'0123456789abcdef')\n",
    "\n",
    "print(f.seek(5))      # Go to the 6th byte in the file\n",
    "print(f.read(1))\n",
    "print(f.seek(-3, 2))  # Go to the 3rd byte before the end\n",
    "print(f.read(1))"
   ]
  },
  {
   "cell_type": "markdown",
   "id": "5c050715-1c65-409c-9fd0-e30b67e2daa6",
   "metadata": {},
   "source": [
    "In text files (those opened without a b in the mode string), only seeks relative to the beginning of the file are allowed (the exception being seeking to the very file end with seek(0, 2)) and the only valid offset values are those returned from the f.tell(), or zero. Any other offset value produces undefined behaviour.\n",
    "\n",
    "File objects have some additional methods, such as [isatty()](https://docs.python.org/3/library/io.html#io.IOBase.isatty) and [truncate()](https://docs.python.org/3/library/io.html#io.IOBase.truncate) which are less frequently used; consult the Library Reference for a complete guide to file objects."
   ]
  },
  {
   "cell_type": "markdown",
   "id": "38227478-539b-4875-9f28-4be255993b4a",
   "metadata": {},
   "source": [
    "#### Saving structured data with json"
   ]
  },
  {
   "cell_type": "markdown",
   "id": "3d137559-bc9b-4ee9-b48b-e883d8c5a44a",
   "metadata": {},
   "source": [
    "Strings can easily be written to and read from a file. Numbers take a bit more effort, since the [read()](https://docs.python.org/3/library/io.html#io.TextIOBase.read) method only returns strings, which will have to be passed to a function like [int()](https://docs.python.org/3/library/functions.html#int), which takes a string like `'123'` and returns its numeric value 123. When you want to save more complex data types like nested lists and dictionaries, parsing and serializing by hand becomes complicated.\n",
    "\n",
    "Rather than having users constantly writing and debugging code to save complicated data types to files, Python allows you to use the popular data interchange format called [JSON (JavaScript Object Notation)](https://www.json.org/json-en.html). The standard module called [json](https://docs.python.org/3/library/json.html#module-json) can take Python data hierarchies, and convert them to string representations; this process is called serializing. Reconstructing the data from the string representation is called deserializing. Between serializing and deserializing, the string representing the object may have been stored in a file or data, or sent over a network connection to some distant machine."
   ]
  },
  {
   "cell_type": "markdown",
   "id": "42134edf-009c-44a1-aa82-fdfcfb884803",
   "metadata": {},
   "source": [
    "`Note The JSON format is commonly used by modern applications to allow for data exchange. Many programmers are already familiar with it, which makes it a good choice for interoperability.`"
   ]
  },
  {
   "cell_type": "code",
   "execution_count": 55,
   "id": "1ed5e74f-dfd8-4d79-8d8d-9b333ca50c82",
   "metadata": {},
   "outputs": [
    {
     "data": {
      "text/plain": [
       "'[1, \"sample\", \"demo\", 24252, \"list\"]'"
      ]
     },
     "execution_count": 55,
     "metadata": {},
     "output_type": "execute_result"
    }
   ],
   "source": [
    "import json\n",
    "x = [1,'sample','demo',24252,'list']\n",
    "json.dumps(x)"
   ]
  },
  {
   "cell_type": "markdown",
   "id": "a2661fd6-13cd-48bf-bd6a-9610c181e381",
   "metadata": {},
   "source": [
    "Another variant of the [dumps()](https://docs.python.org/3/library/json.html#json.dumps) function, called [dump()](https://docs.python.org/3/library/json.html#json.dump), simply serializes the object to a [text file](https://docs.python.org/3/glossary.html#term-text-file). So if `f` is a [text file](https://docs.python.org/3/glossary.html#term-text-file) object opened for writing, we can do this:\n",
    "\n",
    "```\n",
    "json.dump(x, f)\n",
    "```\n",
    "\n",
    "To decode the object again, if `f` is a [binary file](https://docs.python.org/3/glossary.html#term-binary-file) or [text file](https://docs.python.org/3/glossary.html#term-text-file) object which has been opened for reading:\n",
    "\n",
    "```\n",
    "x = json.load(f)\n",
    "```"
   ]
  },
  {
   "cell_type": "markdown",
   "id": "4d73173f-0db0-4719-b716-dbc8eb4bb954",
   "metadata": {},
   "source": [
    "`Note JSON files must be encoded in UTF-8. Use encoding=\"utf-8\" when opening JSON file as a text file for both of reading and writing.`"
   ]
  },
  {
   "cell_type": "markdown",
   "id": "718a6913-1c8f-4833-a738-2de8dac4c906",
   "metadata": {},
   "source": [
    "This simple serialization technique can handle lists and dictionaries, but serializing arbitrary class instances in JSON requires a bit of extra effort. The reference for the [json](https://docs.python.org/3/library/json.html#module-json) module contains an explanation of this."
   ]
  },
  {
   "cell_type": "code",
   "execution_count": null,
   "id": "3ebec492-f123-406e-9e96-528a753a7ea6",
   "metadata": {},
   "outputs": [],
   "source": []
  }
 ],
 "metadata": {
  "kernelspec": {
   "display_name": "Python 3 (ipykernel)",
   "language": "python",
   "name": "python3"
  },
  "language_info": {
   "codemirror_mode": {
    "name": "ipython",
    "version": 3
   },
   "file_extension": ".py",
   "mimetype": "text/x-python",
   "name": "python",
   "nbconvert_exporter": "python",
   "pygments_lexer": "ipython3",
   "version": "3.12.3"
  }
 },
 "nbformat": 4,
 "nbformat_minor": 5
}
