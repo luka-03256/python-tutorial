{
 "cells": [
  {
   "cell_type": "code",
   "execution_count": 1,
   "id": "3e20c10f-8d74-4dd0-9175-4b73c2e6df00",
   "metadata": {},
   "outputs": [
    {
     "data": {
      "text/plain": [
       "0.6666666666666666"
      ]
     },
     "execution_count": 1,
     "metadata": {},
     "output_type": "execute_result"
    }
   ],
   "source": [
    "2 / 3"
   ]
  },
  {
   "cell_type": "code",
   "execution_count": 2,
   "id": "7bdc9857-8001-486e-be04-08d1a71eab93",
   "metadata": {},
   "outputs": [
    {
     "data": {
      "text/plain": [
       "0"
      ]
     },
     "execution_count": 2,
     "metadata": {},
     "output_type": "execute_result"
    }
   ],
   "source": [
    "2 // 3"
   ]
  },
  {
   "cell_type": "code",
   "execution_count": 3,
   "id": "fe53eb96-afae-40e2-b826-0f53ae9556b0",
   "metadata": {},
   "outputs": [
    {
     "data": {
      "text/plain": [
       "2"
      ]
     },
     "execution_count": 3,
     "metadata": {},
     "output_type": "execute_result"
    }
   ],
   "source": [
    "2 % 3"
   ]
  },
  {
   "cell_type": "code",
   "execution_count": 5,
   "id": "2eaf9378-5972-41a4-8461-389ad053d817",
   "metadata": {},
   "outputs": [
    {
     "data": {
      "text/plain": [
       "2"
      ]
     },
     "execution_count": 5,
     "metadata": {},
     "output_type": "execute_result"
    }
   ],
   "source": [
    "7 // 3"
   ]
  },
  {
   "cell_type": "code",
   "execution_count": 9,
   "id": "17707504-b14b-49b9-8860-ef9cc4b76387",
   "metadata": {},
   "outputs": [
    {
     "data": {
      "text/plain": [
       "'Parris rabbit got your back :)! Yay !'"
      ]
     },
     "execution_count": 9,
     "metadata": {},
     "output_type": "execute_result"
    }
   ],
   "source": [
    "\"Parris rabbit got your back :)! Yay !\""
   ]
  },
  {
   "cell_type": "code",
   "execution_count": 18,
   "id": "f42e0345-5227-4827-a3ec-d1be6c4e9037",
   "metadata": {},
   "outputs": [
    {
     "name": "stdout",
     "output_type": "stream",
     "text": [
      " Usage: thingy [OPTIONS]\n",
      "-h \t\t\t Display this usage message \n",
      "\n",
      "-H hostname \t\t\t Hostname to connect to \n",
      "\n",
      "\n"
     ]
    }
   ],
   "source": [
    "print(\"\"\" Usage: thingy [OPTIONS]\n",
    "-h \\t\\t\\t Display this usage message \\n\n",
    "-H hostname \\t\\t\\t Hostname to connect to \\n\n",
    "\"\"\")"
   ]
  },
  {
   "cell_type": "code",
   "execution_count": 19,
   "id": "108ca34e-ba03-4ef9-b80b-275e974d07ff",
   "metadata": {},
   "outputs": [
    {
     "data": {
      "text/plain": [
       "'unununium'"
      ]
     },
     "execution_count": 19,
     "metadata": {},
     "output_type": "execute_result"
    }
   ],
   "source": [
    "3 * 'un' + 'ium'"
   ]
  },
  {
   "cell_type": "code",
   "execution_count": 22,
   "id": "cab0857d-7bec-45e8-8548-655fab837643",
   "metadata": {},
   "outputs": [
    {
     "data": {
      "text/plain": [
       "'Severity impact caused by sovereign power; rightfully choosen via open free elections to represent people free will and their wishes'"
      ]
     },
     "execution_count": 22,
     "metadata": {},
     "output_type": "execute_result"
    }
   ],
   "source": [
    "text = ('Severity impact caused by sovereign power; rightfully choosen via open free elections to represent people free will and their wishes')\n",
    "text"
   ]
  },
  {
   "cell_type": "code",
   "execution_count": 27,
   "id": "4a081fb2-b865-4219-8af7-2655dda5f46f",
   "metadata": {},
   "outputs": [
    {
     "data": {
      "text/plain": [
       "'Python'"
      ]
     },
     "execution_count": 27,
     "metadata": {},
     "output_type": "execute_result"
    }
   ],
   "source": [
    "prefix = 'Py'\n",
    "prefix += 'thon'\n",
    "prefix"
   ]
  },
  {
   "cell_type": "code",
   "execution_count": 33,
   "id": "fdf7d5a2-2288-4bed-bb1f-4fa501c706ab",
   "metadata": {},
   "outputs": [
    {
     "data": {
      "text/plain": [
       "'unununuim'"
      ]
     },
     "execution_count": 33,
     "metadata": {},
     "output_type": "execute_result"
    }
   ],
   "source": [
    "\n",
    "('un'*3) + 'uim'"
   ]
  },
  {
   "cell_type": "code",
   "execution_count": 35,
   "id": "3a21463e-5dbc-47ea-8dd8-e98aa79ad8d8",
   "metadata": {},
   "outputs": [
    {
     "data": {
      "text/plain": [
       "'PythonOMG!!!'"
      ]
     },
     "execution_count": 35,
     "metadata": {},
     "output_type": "execute_result"
    }
   ],
   "source": [
    "prefix + 'OMG!!!'"
   ]
  },
  {
   "cell_type": "code",
   "execution_count": 43,
   "id": "f8052a29-2d89-4165-a357-d59c7f5f34fa",
   "metadata": {},
   "outputs": [
    {
     "name": "stdout",
     "output_type": "stream",
     "text": [
      "word[0]\n",
      "P\n",
      "n\n",
      "n\n",
      "P\n"
     ]
    }
   ],
   "source": [
    "word = 'Python'\n",
    "print(r'word[0]')\n",
    "print(word[0])\n",
    "print(word[5])\n",
    "print(word[-1]) # last character\n",
    "print(word[-6]) # first character"
   ]
  },
  {
   "cell_type": "code",
   "execution_count": 45,
   "id": "a8e49fab-5bb1-45d0-9229-8d84197a2424",
   "metadata": {},
   "outputs": [
    {
     "name": "stdout",
     "output_type": "stream",
     "text": [
      "Py\n",
      "tho\n"
     ]
    }
   ],
   "source": [
    "print(word[0:2]) # characters from position 0 (included) to 2 (excluded)\n",
    "print(word[2:5]) # characters from position 2 (included) to 5 (excluded)"
   ]
  },
  {
   "cell_type": "code",
   "execution_count": 47,
   "id": "d8415789-a7be-40bb-b9bc-88887563f8aa",
   "metadata": {},
   "outputs": [
    {
     "name": "stdout",
     "output_type": "stream",
     "text": [
      "Python\n",
      "Python\n"
     ]
    }
   ],
   "source": [
    "print(word[:2] + word[2:])\n",
    "print(word[:4] + word[4:])"
   ]
  },
  {
   "cell_type": "code",
   "execution_count": 48,
   "id": "dfdba288-9b93-4d19-ab2e-17700ba84c8d",
   "metadata": {},
   "outputs": [],
   "source": [
    "#  +---+---+---+---+---+---+\n",
    "#  | P | y | t | h | o | n |\n",
    "#  +---+---+---+---+---+---+\n",
    "#  0   1   2   3   4   5   6\n",
    "# -6  -5  -4  -3  -2  -1"
   ]
  },
  {
   "cell_type": "code",
   "execution_count": 49,
   "id": "0eb1a27c-9397-4820-abad-c05829f9f0d7",
   "metadata": {},
   "outputs": [
    {
     "ename": "IndexError",
     "evalue": "string index out of range",
     "output_type": "error",
     "traceback": [
      "\u001b[1;31m---------------------------------------------------------------------------\u001b[0m",
      "\u001b[1;31mIndexError\u001b[0m                                Traceback (most recent call last)",
      "Cell \u001b[1;32mIn[49], line 1\u001b[0m\n\u001b[1;32m----> 1\u001b[0m \u001b[43mword\u001b[49m\u001b[43m[\u001b[49m\u001b[38;5;241;43m42\u001b[39;49m\u001b[43m]\u001b[49m\n",
      "\u001b[1;31mIndexError\u001b[0m: string index out of range"
     ]
    }
   ],
   "source": [
    "word[42]"
   ]
  },
  {
   "cell_type": "code",
   "execution_count": 56,
   "id": "1d36d719-c963-4a5c-a61c-a6480ee385d7",
   "metadata": {},
   "outputs": [
    {
     "name": "stdout",
     "output_type": "stream",
     "text": [
      "on\n",
      "\n"
     ]
    }
   ],
   "source": [
    "# However, out of range slice indexes are handled gracefully when used for slicing:\n",
    "print(word[4:12])\n",
    "print(word[42:])"
   ]
  },
  {
   "cell_type": "code",
   "execution_count": 57,
   "id": "c4af600d-597c-4117-a9e6-8d5d1817ff3e",
   "metadata": {},
   "outputs": [
    {
     "ename": "TypeError",
     "evalue": "'str' object does not support item assignment",
     "output_type": "error",
     "traceback": [
      "\u001b[1;31m---------------------------------------------------------------------------\u001b[0m",
      "\u001b[1;31mTypeError\u001b[0m                                 Traceback (most recent call last)",
      "Cell \u001b[1;32mIn[57], line 1\u001b[0m\n\u001b[1;32m----> 1\u001b[0m \u001b[43mword\u001b[49m\u001b[43m[\u001b[49m\u001b[38;5;241;43m0\u001b[39;49m\u001b[43m]\u001b[49m \u001b[38;5;241m=\u001b[39m \u001b[38;5;124m'\u001b[39m\u001b[38;5;124mJ\u001b[39m\u001b[38;5;124m'\u001b[39m\n",
      "\u001b[1;31mTypeError\u001b[0m: 'str' object does not support item assignment"
     ]
    }
   ],
   "source": [
    "word[0] = 'J'"
   ]
  },
  {
   "cell_type": "code",
   "execution_count": 58,
   "id": "6670bd9b-3dd1-454f-813c-31d58a198a7d",
   "metadata": {},
   "outputs": [
    {
     "ename": "TypeError",
     "evalue": "'str' object does not support item assignment",
     "output_type": "error",
     "traceback": [
      "\u001b[1;31m---------------------------------------------------------------------------\u001b[0m",
      "\u001b[1;31mTypeError\u001b[0m                                 Traceback (most recent call last)",
      "Cell \u001b[1;32mIn[58], line 1\u001b[0m\n\u001b[1;32m----> 1\u001b[0m \u001b[43mword\u001b[49m\u001b[43m[\u001b[49m\u001b[38;5;241;43m2\u001b[39;49m\u001b[43m:\u001b[49m\u001b[43m]\u001b[49m\u001b[38;5;241m=\u001b[39m\u001b[38;5;124m'\u001b[39m\u001b[38;5;124mpy\u001b[39m\u001b[38;5;124m'\u001b[39m\n",
      "\u001b[1;31mTypeError\u001b[0m: 'str' object does not support item assignment"
     ]
    }
   ],
   "source": [
    "word[2:]='py'"
   ]
  },
  {
   "cell_type": "code",
   "execution_count": 59,
   "id": "7aa7baa4-8bc8-4aae-8c7d-202d7adffd62",
   "metadata": {},
   "outputs": [
    {
     "data": {
      "text/plain": [
       "'Jython'"
      ]
     },
     "execution_count": 59,
     "metadata": {},
     "output_type": "execute_result"
    }
   ],
   "source": [
    "'J' + word[1:]"
   ]
  },
  {
   "cell_type": "code",
   "execution_count": 60,
   "id": "5b07a433-6e3c-4fa4-a363-bf576884e891",
   "metadata": {},
   "outputs": [
    {
     "data": {
      "text/plain": [
       "'Pypy'"
      ]
     },
     "execution_count": 60,
     "metadata": {},
     "output_type": "execute_result"
    }
   ],
   "source": [
    "word[:2]+'py'"
   ]
  },
  {
   "cell_type": "code",
   "execution_count": 61,
   "id": "caab6188-17c4-4461-acb6-0c084d6c6cb5",
   "metadata": {},
   "outputs": [
    {
     "data": {
      "text/plain": [
       "35"
      ]
     },
     "execution_count": 61,
     "metadata": {},
     "output_type": "execute_result"
    }
   ],
   "source": [
    "s = 'supercalifragilisticexpaialidocious'\n",
    "len(s)"
   ]
  },
  {
   "cell_type": "code",
   "execution_count": 62,
   "id": "a380a7a8-7711-41f6-8213-2b013640b267",
   "metadata": {},
   "outputs": [
    {
     "data": {
      "text/plain": [
       "[1, 4, 9, 16, 25]"
      ]
     },
     "execution_count": 62,
     "metadata": {},
     "output_type": "execute_result"
    }
   ],
   "source": [
    "squares = [1, 4, 9, 16, 25]\n",
    "squares"
   ]
  },
  {
   "cell_type": "code",
   "execution_count": 64,
   "id": "d7f63021-b3db-41ec-a22d-873e9c871d0c",
   "metadata": {},
   "outputs": [
    {
     "name": "stdout",
     "output_type": "stream",
     "text": [
      "1\n",
      "25\n",
      "[9, 16, 25]\n",
      "[1, 4]\n"
     ]
    }
   ],
   "source": [
    "print(squares[0])\n",
    "print(squares[-1])\n",
    "print(squares[-3:])\n",
    "print(squares[:-3])"
   ]
  },
  {
   "cell_type": "code",
   "execution_count": 65,
   "id": "516ea5a4-0fd2-4acf-ae53-27cd71cdf1fe",
   "metadata": {},
   "outputs": [
    {
     "data": {
      "text/plain": [
       "[1, 4, 9, 16, 25, 1, 4, 9, 16, 25, 36, 49, 64, 81, 100]"
      ]
     },
     "execution_count": 65,
     "metadata": {},
     "output_type": "execute_result"
    }
   ],
   "source": [
    "squares + [1,4,9,16,25,36,49,64,81,100]"
   ]
  },
  {
   "cell_type": "code",
   "execution_count": 82,
   "id": "6f7d3900-3c39-434b-9182-8e2bb8a9bde6",
   "metadata": {},
   "outputs": [
    {
     "name": "stdout",
     "output_type": "stream",
     "text": [
      "1024\n",
      "308\n",
      "1024\n",
      "True\n"
     ]
    }
   ],
   "source": [
    "import sys\n",
    "\n",
    "print(sys.float_info[1])\n",
    "print(sys.float_info.max_10_exp)\n",
    "print(sys.float_info.max_exp)\n",
    "print(isinstance(sys.float_info, tuple))"
   ]
  },
  {
   "cell_type": "code",
   "execution_count": 83,
   "id": "3fd1bf09-cc59-40be-991e-2eecb85aa37c",
   "metadata": {},
   "outputs": [
    {
     "name": "stdout",
     "output_type": "stream",
     "text": [
      "64\n",
      "[1, 8, 27, 64, 125]\n"
     ]
    }
   ],
   "source": [
    "cubes = [1, 8, 27, 65, 125]  # something's wrong here\n",
    "print(4 ** 3)\n",
    "cubes[3] = 64\n",
    "print(cubes)"
   ]
  },
  {
   "cell_type": "code",
   "execution_count": 84,
   "id": "0b971fb5-b117-4836-aae1-c08f30797685",
   "metadata": {},
   "outputs": [
    {
     "data": {
      "text/plain": [
       "[1, 8, 27, 64, 125, 216, 343]"
      ]
     },
     "execution_count": 84,
     "metadata": {},
     "output_type": "execute_result"
    }
   ],
   "source": [
    "cubes.append(216) # add the cube of 6\n",
    "cubes.append(7**3) # and as well as cube of 7\n",
    "cubes"
   ]
  },
  {
   "cell_type": "code",
   "execution_count": 86,
   "id": "005b94fb-57dc-4b84-b068-d8b73beef745",
   "metadata": {},
   "outputs": [
    {
     "name": "stdout",
     "output_type": "stream",
     "text": [
      "True\n"
     ]
    },
    {
     "data": {
      "text/plain": [
       "['red', 'green', 'blue', 'Alph']"
      ]
     },
     "execution_count": 86,
     "metadata": {},
     "output_type": "execute_result"
    }
   ],
   "source": [
    "rgb = [\"red\", \"green\", \"blue\"]\n",
    "rgba = rgb\n",
    "print(id(rgb) == id(rgba))\n",
    "rgba.append(\"Alph\")\n",
    "rgb"
   ]
  },
  {
   "cell_type": "code",
   "execution_count": 90,
   "id": "db0b5bd4-1adf-487e-ac1a-09f784917da0",
   "metadata": {},
   "outputs": [
    {
     "name": "stdout",
     "output_type": "stream",
     "text": [
      "['red', 'green', 'blue', 'Alph']\n",
      "['red', 'green', 'blue', 'Alph']\n",
      "False\n"
     ]
    }
   ],
   "source": [
    "correct_rgba = rgba[:]\n",
    "print(correct_rgba)\n",
    "print(rgba)\n",
    "print(id(correct_rgba) == id(rgba))"
   ]
  },
  {
   "cell_type": "code",
   "execution_count": 96,
   "id": "557803a6-7729-441a-801a-612671652431",
   "metadata": {},
   "outputs": [
    {
     "name": "stdout",
     "output_type": "stream",
     "text": [
      "['a', 'b', 'c', 'd', 'e', 'f', 'g']\n",
      "['a', 'b', 'C', 'D', 'E', 'f', 'g']\n",
      "['a', 'b', 'f', 'g']\n",
      "[]\n"
     ]
    }
   ],
   "source": [
    "letters = ['a', 'b', 'c', 'd', 'e', 'f', 'g']\n",
    "print(letters)\n",
    "\n",
    "letters[2:5] = ['C', 'D', 'E']\n",
    "print(letters)\n",
    "\n",
    "letters[2:5] = []\n",
    "print(letters)\n",
    "\n",
    "letters[:] = []\n",
    "print(letters)"
   ]
  },
  {
   "cell_type": "code",
   "execution_count": 98,
   "id": "2718cf2a-538b-4c92-890f-9090fec02adc",
   "metadata": {},
   "outputs": [
    {
     "data": {
      "text/plain": [
       "3"
      ]
     },
     "execution_count": 98,
     "metadata": {},
     "output_type": "execute_result"
    }
   ],
   "source": [
    "letters = ['a','b','c']\n",
    "len(letters)"
   ]
  },
  {
   "cell_type": "code",
   "execution_count": 102,
   "id": "613871e2-9ae9-4409-bc70-2a1ef7055555",
   "metadata": {},
   "outputs": [
    {
     "name": "stdout",
     "output_type": "stream",
     "text": [
      "[['a', 'b', 'c'], [1, 2, 3]]\n",
      "['a', 'b', 'c']\n",
      "b\n"
     ]
    }
   ],
   "source": [
    "a = ['a', 'b', 'c']\n",
    "n = [1, 2, 3]\n",
    "x = [a,n]\n",
    "print(x)\n",
    "print(x[0])\n",
    "print(x[0][1])"
   ]
  },
  {
   "cell_type": "code",
   "execution_count": 103,
   "id": "6889576e-89a3-4dd3-9bc9-18c05804ae10",
   "metadata": {},
   "outputs": [
    {
     "name": "stdout",
     "output_type": "stream",
     "text": [
      "0\n",
      "1\n",
      "1\n",
      "2\n",
      "3\n",
      "5\n",
      "8\n"
     ]
    }
   ],
   "source": [
    "# fibbonacci series:\n",
    "# the sum of two elements defines the text\n",
    "a, b = 0, 1\n",
    "while a < 10:\n",
    "    print(a)\n",
    "    a, b = b, a+b"
   ]
  },
  {
   "cell_type": "code",
   "execution_count": 104,
   "id": "41c9ba0c-e6b8-405e-9216-c0244208ac48",
   "metadata": {},
   "outputs": [
    {
     "name": "stdout",
     "output_type": "stream",
     "text": [
      "The value of i is 65536\n"
     ]
    }
   ],
   "source": [
    "i=2**8*2**8\n",
    "print('The value of i is', i)"
   ]
  },
  {
   "cell_type": "code",
   "execution_count": 108,
   "id": "94050f62-6fe8-4cbd-bc56-7783f90dc14b",
   "metadata": {},
   "outputs": [
    {
     "name": "stdout",
     "output_type": "stream",
     "text": [
      "0,1,1,2,3,5,8,13,21,34,55,89,144,233,377,610,987,1597,2584,4181,6765,"
     ]
    }
   ],
   "source": [
    "a,b=0,1\n",
    "while a < 10000:\n",
    "    print(a,end=',')\n",
    "    a,b=b,a+b"
   ]
  },
  {
   "cell_type": "code",
   "execution_count": 109,
   "id": "42c64291-ff91-4642-94e2-d3f690bed569",
   "metadata": {},
   "outputs": [],
   "source": [
    "# Since ** has higher precedence than -, -3**2 will be interpreted as -(3**2) and thus result in -9. \n",
    "# To avoid this and get 9, you can use (-3)**2.\n"
   ]
  },
  {
   "cell_type": "code",
   "execution_count": 110,
   "id": "975e69ad-33f4-45fb-b21b-52e181aa4b13",
   "metadata": {},
   "outputs": [],
   "source": [
    "# Unlike other languages, special characters such as \\n have the same\n",
    "# meaning with both single ('...') and double (\"...\") quotes. The only\n",
    "# difference between the two is that within single quotes you don’t need to\n",
    "# escape \" (but you have to escape \\') and vice versa."
   ]
  },
  {
   "cell_type": "code",
   "execution_count": null,
   "id": "e5c1571c-9aa1-4f89-9c2e-148704687db6",
   "metadata": {},
   "outputs": [],
   "source": []
  }
 ],
 "metadata": {
  "kernelspec": {
   "display_name": "Python 3 (ipykernel)",
   "language": "python",
   "name": "python3"
  },
  "language_info": {
   "codemirror_mode": {
    "name": "ipython",
    "version": 3
   },
   "file_extension": ".py",
   "mimetype": "text/x-python",
   "name": "python",
   "nbconvert_exporter": "python",
   "pygments_lexer": "ipython3",
   "version": "3.12.3"
  }
 },
 "nbformat": 4,
 "nbformat_minor": 5
}
