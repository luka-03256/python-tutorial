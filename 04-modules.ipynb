{
 "cells": [
  {
   "cell_type": "markdown",
   "id": "84aea609-4ee9-4feb-8497-2a7be8ef29d9",
   "metadata": {},
   "source": [
    "# Modules\n",
    "\n",
    "If you quit from the Python interpreter and enter it again, the definitions you have made (functions and variables) are lost. Therefore, if you want to write a somewhat longer program, you are better off using a text editor to prepare the input for the interpreter and running it with that file as input instead. This is known as creating a script. As your program gets longer, you may want to split it into several files for easier maintenance. You may also want to use a handy function that you’ve written in several programs without copying its definition into each program.\n",
    "\n",
    "To support this, Python has a way to put definitions in a file and use them in a script or in an interactive instance of the interpreter. Such a file is called a module; definitions from a module can be imported into other modules or into the main module (the collection of variables that you have access to in a script executed at the top level and in calculator mode).\n",
    "\n",
    "A module is a file containing Python definitions and statements. The file name is the module name with the suffix .py appended. Within a module, the module’s name (as a string) is available as the value of the global variable __name__. For instance, use your favorite text editor to create a file called fibo.py in the current directory with the following contents:"
   ]
  },
  {
   "cell_type": "code",
   "execution_count": 22,
   "id": "85acdf8a-4b02-48d8-9545-1716725b5eb9",
   "metadata": {},
   "outputs": [],
   "source": [
    "import fibo as fb"
   ]
  },
  {
   "cell_type": "code",
   "execution_count": 24,
   "id": "a896e4b4-c9cb-4433-9f6c-86ba4e394244",
   "metadata": {},
   "outputs": [
    {
     "name": "stdout",
     "output_type": "stream",
     "text": [
      "0 1 1 2 3 5 8 13 21 34 55 89 144 233 377 610 987 \n",
      "None\n",
      "[0, 1, 1, 2, 3, 5, 8, 13, 21, 34, 55, 89]\n"
     ]
    },
    {
     "data": {
      "text/plain": [
       "'fibo'"
      ]
     },
     "execution_count": 24,
     "metadata": {},
     "output_type": "execute_result"
    }
   ],
   "source": [
    "print(fb.fib(1000))\n",
    "print(fb.fib2(100))\n",
    "fb.__name__"
   ]
  },
  {
   "cell_type": "code",
   "execution_count": 4,
   "id": "61296afa-8fc5-4a72-b6c8-9a42631cd7db",
   "metadata": {},
   "outputs": [
    {
     "name": "stdout",
     "output_type": "stream",
     "text": [
      "0 1 1 2 3 5 8 13 21 \n"
     ]
    }
   ],
   "source": [
    "fib = fb.fib\n",
    "fib(25)"
   ]
  },
  {
   "cell_type": "markdown",
   "id": "10262907-b467-4dfe-947f-e07e8bbe4ba6",
   "metadata": {},
   "source": [
    "#### More on Modules"
   ]
  },
  {
   "cell_type": "markdown",
   "id": "6774963d-faa6-4d20-a1bf-75fba04edc77",
   "metadata": {},
   "source": [
    "A module can contain executable statements as well as function definitions. These statements are intended to initialize the module. They are executed only the first time the module name is encountered in an import statement. [1] (They are also run if the file is executed as a script.)\n",
    "\n",
    "Each module has its own private namespace, which is used as the global namespace by all functions defined in the module. Thus, the author of a module can use global variables in the module without worrying about accidental clashes with a user’s global variables. On the other hand, if you know what you are doing you can touch a module’s global variables with the same notation used to refer to its functions, modname.itemname.\n",
    "\n",
    "Modules can import other modules. It is customary but not required to place all import statements at the beginning of a module (or script, for that matter). The imported module names, if placed at the top level of a module (outside any functions or classes), are added to the module’s global namespace.\n",
    "\n",
    "There is a variant of the import statement that imports names from a module directly into the importing module’s namespace. For example:"
   ]
  },
  {
   "cell_type": "code",
   "execution_count": 25,
   "id": "37845e2c-b572-4537-88fa-faf010fa1531",
   "metadata": {},
   "outputs": [
    {
     "name": "stdout",
     "output_type": "stream",
     "text": [
      "0 1 1 2 3 5 8 13 21 34 55 89 144 233 377 \n"
     ]
    }
   ],
   "source": [
    "from fibo import fib, fib2\n",
    "fib(500)"
   ]
  },
  {
   "cell_type": "markdown",
   "id": "cd2fe35a-7b78-4167-a09f-6cba00cc1cb1",
   "metadata": {},
   "source": [
    "This does not introduce the module name from which the imports are taken in the local namespace (so in the example, fibo is not defined).\n",
    "\n",
    "There is even a variant to import all names that a module defines:"
   ]
  },
  {
   "cell_type": "code",
   "execution_count": 26,
   "id": "9ddb3b64-a8b5-4502-b209-f7bcee9d114e",
   "metadata": {},
   "outputs": [
    {
     "name": "stdout",
     "output_type": "stream",
     "text": [
      "0 1 1 2 3 5 8 13 21 34 55 89 144 233 \n"
     ]
    }
   ],
   "source": [
    "from fibo import *\n",
    "fib(250)"
   ]
  },
  {
   "cell_type": "markdown",
   "id": "b62cb0b4-fdbf-44da-9796-60211520b08d",
   "metadata": {},
   "source": [
    "This imports all names except those beginning with an underscore (_). In most cases Python programmers do not use this facility since it introduces an unknown set of names into the interpreter, possibly hiding some things you have already defined.\n",
    "\n",
    "Note that in general the practice of importing * from a module or package is frowned upon, since it often causes poorly readable code. However, it is okay to use it to save typing in interactive sessions.\n",
    "\n",
    "If the module name is followed by as, then the name following as is bound directly to the imported module."
   ]
  },
  {
   "cell_type": "code",
   "execution_count": 27,
   "id": "f2b22904-9739-4a92-8b3d-5b808f9dc61c",
   "metadata": {},
   "outputs": [
    {
     "name": "stdout",
     "output_type": "stream",
     "text": [
      "0 1 1 2 3 5 8 13 21 34 55 89 144 233 377 \n"
     ]
    }
   ],
   "source": [
    "import fibo as fib\n",
    "fib.fib(500)"
   ]
  },
  {
   "cell_type": "markdown",
   "id": "49450452-3e3f-40c8-8e59-4b4a76004bb1",
   "metadata": {},
   "source": [
    "This is effectively importing the module in the same way that import fibo will do, with the only difference of it being available as fib.\n",
    "\n",
    "It can also be used when utilising from with similar effects:"
   ]
  },
  {
   "cell_type": "code",
   "execution_count": 28,
   "id": "201b71c6-a8e3-419e-bad5-e1985e6850a6",
   "metadata": {},
   "outputs": [
    {
     "name": "stdout",
     "output_type": "stream",
     "text": [
      "0 1 1 2 3 5 8 13 21 34 55 89 144 233 \n"
     ]
    }
   ],
   "source": [
    "from fibo import fib as fibonnacci\n",
    "fibonnacci(300)"
   ]
  },
  {
   "cell_type": "markdown",
   "id": "0e94bb2f-1e4c-425c-b8f8-3d781f845637",
   "metadata": {},
   "source": [
    "Note For efficiency reasons, each module is only imported once per interpreter session. Therefore, if you change your modules, you must restart the interpreter – or, if it’s just one module you want to test interactively, use importlib.reload(), e.g. import importlib; importlib.reload(modulename)."
   ]
  },
  {
   "cell_type": "markdown",
   "id": "9fecf3d2-f968-429b-833a-49088c4b982d",
   "metadata": {},
   "source": [
    "#### Executing modules as scripts"
   ]
  },
  {
   "cell_type": "markdown",
   "id": "6ed1c3b8-620a-4143-9dcc-1f4f3a845151",
   "metadata": {},
   "source": [
    "When you run a Python module with\n",
    "\n",
    "```\n",
    "python fibo.py <arguments>\n",
    "```\n",
    "\n",
    "the code in the module will be executed, just as if you imported it, but with the `__name__` set to `\"__main__\"`. That means that by adding this code at the end of your module:\n",
    "\n",
    "```\n",
    "if __name__ == \"__main__\":\n",
    "    import sys\n",
    "    fib(int(sys.argv[1]))\n",
    "```\n",
    "\n",
    "you can make the file usable as a script as well as an importable module, because the code that parses the command line only runs if the module is executed as the “main” file:\n",
    "\n",
    "```\n",
    "python fibo.py 50\n",
    "0 1 1 2 3 5 8 13 21 34\n",
    "```\n"
   ]
  },
  {
   "cell_type": "code",
   "execution_count": 29,
   "id": "b4eb643d-1cbc-4f0d-9252-55c46c14d240",
   "metadata": {},
   "outputs": [],
   "source": [
    "import fibo"
   ]
  },
  {
   "cell_type": "markdown",
   "id": "bf32b9fa-2fa5-4f9d-9f78-421d35acc814",
   "metadata": {},
   "source": [
    "This is often used either to provide a convenient user interface to a module, or for testing purposes (running the module as a script executes a test suite)."
   ]
  },
  {
   "cell_type": "markdown",
   "id": "b968b632-1103-4886-ab79-0a1f80424630",
   "metadata": {},
   "source": [
    "#### The Module Search Path"
   ]
  },
  {
   "cell_type": "markdown",
   "id": "3e3b1112-4b2f-466f-8835-09f9f78c25c0",
   "metadata": {},
   "source": [
    "When a module named spam is imported, the interpreter first searches for a built-in module with that name. These module names are listed in [sys.builtin_module_names](https://docs.python.org/3/library/sys.html#sys.builtin_module_names). If not found, it then searches for a file named spam.py in a list of directories given by the variable [sys.path](https://docs.python.org/3/library/sys.html#sys.path). [sys.path](https://docs.python.org/3/library/sys.html#sys.path) is initialized from these locations:\n",
    "\n",
    "- The directory containing the input script (or the current directory when no file is specified).\n",
    "\n",
    "- [PYTHONPATH](https://docs.python.org/3/using/cmdline.html#envvar-PYTHONPATH) (a list of directory names, with the same syntax as the shell variable PATH).\n",
    "\n",
    "- The installation-dependent default (by convention including a `site-packages` directory, handled by the [site](https://docs.python.org/3/library/site.html#module-site) module).\n",
    "\n",
    "More details are at [The initialization of the sys.path module search path](https://docs.python.org/3/library/sys_path_init.html#sys-path-init)."
   ]
  },
  {
   "cell_type": "markdown",
   "id": "8d3b984e-0805-4da4-a97b-c5f5425b87fa",
   "metadata": {},
   "source": [
    "Note On file systems which support symlinks, the directory containing the input script is calculated after the symlink is followed. In other words the directory containing the symlink is not added to the module search path."
   ]
  },
  {
   "cell_type": "markdown",
   "id": "a46b039f-5be4-4a0c-8dcc-c0a117124ca4",
   "metadata": {},
   "source": [
    "After initialization, Python programs can modify [sys.path](https://docs.python.org/3/library/sys.html#sys.path). The directory containing the script being run is placed at the beginning of the search path, ahead of the standard library path. This means that scripts in that directory will be loaded instead of modules of the same name in the library directory. This is an error unless the replacement is intended. See section [Standard Modules](https://docs.python.org/3/tutorial/modules.html#tut-standardmodules) for more information."
   ]
  },
  {
   "cell_type": "markdown",
   "id": "10001f0c-a807-4a56-8f12-98141df8ef6f",
   "metadata": {},
   "source": [
    "#### “Compiled” Python files"
   ]
  },
  {
   "cell_type": "markdown",
   "id": "df9e7acc-d984-4ff1-99a8-4467917f5cff",
   "metadata": {},
   "source": [
    "To speed up loading modules, Python caches the compiled version of each module in the __pycache__ directory under the name module.version.pyc, where the version encodes the format of the compiled file; it generally contains the Python version number. For example, in CPython release 3.3 the compiled version of spam.py would be cached as __pycache__/spam.cpython-33.pyc. This naming convention allows compiled modules from different releases and different versions of Python to coexist.\n",
    "\n",
    "Python checks the modification date of the source against the compiled version to see if it’s out of date and needs to be recompiled. This is a completely automatic process. Also, the compiled modules are platform-independent, so the same library can be shared among systems with different architectures.\n",
    "\n",
    "Python does not check the cache in two circumstances. First, it always recompiles and does not store the result for the module that’s loaded directly from the command line. Second, it does not check the cache if there is no source module. To support a non-source (compiled only) distribution, the compiled module must be in the source directory, and there must not be a source module.\n",
    "\n",
    "Some tips for experts:\n",
    "\n",
    "- You can use the [-O](https://docs.python.org/3/using/cmdline.html#cmdoption-O) or [-OO](https://docs.python.org/3/using/cmdline.html#cmdoption-OO) switches on the Python command to reduce the size of a compiled module. The `-O` switch removes assert statements, the `-OO` switch removes both assert statements and __doc__ strings. Since some programs may rely on having these available, you should only use this option if you know what you’re doing. “Optimized” modules have an opt- tag and are usually smaller. Future releases may change the effects of optimization.\n",
    "\n",
    "- A program doesn’t run any faster when it is read from a .pyc file than when it is read from a .py file; the only thing that’s faster about .pyc files is the speed with which they are loaded.\n",
    "\n",
    "- The module [compileall](https://docs.python.org/3/library/compileall.html#module-compileall) can create .pyc files for all modules in a directory.\n",
    "\n",
    "- There is more detail on this process, including a flow chart of the decisions, in [PEP 3147](https://peps.python.org/pep-3147/)."
   ]
  },
  {
   "cell_type": "markdown",
   "id": "71199130-b69a-4b98-97d0-35a51423c0bb",
   "metadata": {},
   "source": [
    "#### Standard Modules\n",
    "\n",
    "Python comes with a library of standard modules, described in a separate document, the Python Library Reference (“Library Reference” hereafter). Some modules are built into the interpreter; these provide access to operations that are not part of the core of the language but are nevertheless built in, either for efficiency or to provide access to operating system primitives such as system calls. The set of such modules is a configuration option which also depends on the underlying platform. For example, the [winreg](https://docs.python.org/3/library/winreg.html#module-winreg) module is only provided on Windows systems. One particular module deserves some attention: [sys](https://docs.python.org/3/library/sys.html#module-sys), which is built into every Python interpreter. The variables sys.ps1 and sys.ps2 define the strings used as primary and secondary prompts:"
   ]
  },
  {
   "cell_type": "code",
   "execution_count": 32,
   "id": "d4f0afad-220a-477f-8adf-0a4559706fdf",
   "metadata": {},
   "outputs": [
    {
     "name": "stdout",
     "output_type": "stream",
     "text": [
      "In : \n",
      "...: \n"
     ]
    }
   ],
   "source": [
    "import sys\n",
    "print(sys.ps1)\n",
    "print(sys.ps2)\n",
    "#print(sys.ps1 = 'C> ')"
   ]
  },
  {
   "cell_type": "markdown",
   "id": "3e47870a-e7a9-422f-8a4b-e8b4c2f30fea",
   "metadata": {},
   "source": [
    "These two variables are only defined if the interpreter is in interactive mode.\n",
    "\n",
    "The variable `sys.path` is a list of strings that determines the interpreter’s search path for modules. It is initialized to a default path taken from the environment variable [PYTHONPATH](https://docs.python.org/3/using/cmdline.html#envvar-PYTHONPATH), or from a built-in default if [PYTHONPATH](https://docs.python.org/3/using/cmdline.html#envvar-PYTHONPATH) is not set. You can modify it using standard list operations:"
   ]
  },
  {
   "cell_type": "code",
   "execution_count": 33,
   "id": "8ae7f937-7791-4573-b029-a33acfde637c",
   "metadata": {},
   "outputs": [],
   "source": [
    "import sys\n",
    "sys.path.append('/ufs/guido/lib/python')"
   ]
  },
  {
   "cell_type": "code",
   "execution_count": 34,
   "id": "85e67eee-1f4c-4e1d-8d17-6d7a9bece697",
   "metadata": {},
   "outputs": [
    {
     "name": "stdout",
     "output_type": "stream",
     "text": [
      "fibo=['__builtins__', '__cached__', '__doc__', '__file__', '__loader__', '__name__', '__package__', '__spec__', '__version__', 'fib', 'fib2']\n",
      "\n",
      "dir=['__breakpointhook__', '__displayhook__', '__doc__', '__excepthook__', '__interactivehook__', '__loader__', '__name__', '__package__', '__spec__', '__stderr__', '__stdin__', '__stdout__', '__unraisablehook__', '_base_executable', '_clear_type_cache', '_current_exceptions', '_current_frames', '_debugmallocstats', '_enablelegacywindowsfsencoding', '_framework', '_getframe', '_getframemodulename', '_git', '_home', '_setprofileallthreads', '_settraceallthreads', '_stdlib_dir', '_vpath', '_xoptions', 'activate_stack_trampoline', 'addaudithook', 'api_version', 'argv', 'audit', 'base_exec_prefix', 'base_prefix', 'breakpointhook', 'builtin_module_names', 'byteorder', 'call_tracing', 'copyright', 'deactivate_stack_trampoline', 'displayhook', 'dllhandle', 'dont_write_bytecode', 'exc_info', 'excepthook', 'exception', 'exec_prefix', 'executable', 'exit', 'flags', 'float_info', 'float_repr_style', 'get_asyncgen_hooks', 'get_coroutine_origin_tracking_depth', 'get_int_max_str_digits', 'getallocatedblocks', 'getdefaultencoding', 'getfilesystemencodeerrors', 'getfilesystemencoding', 'getprofile', 'getrecursionlimit', 'getrefcount', 'getsizeof', 'getswitchinterval', 'gettrace', 'getunicodeinternedsize', 'getwindowsversion', 'hash_info', 'hexversion', 'implementation', 'int_info', 'intern', 'is_finalizing', 'is_stack_trampoline_active', 'last_traceback', 'last_type', 'last_value', 'maxsize', 'maxunicode', 'meta_path', 'modules', 'monitoring', 'orig_argv', 'path', 'path_hooks', 'path_importer_cache', 'platform', 'platlibdir', 'prefix', 'ps1', 'ps2', 'ps3', 'pycache_prefix', 'set_asyncgen_hooks', 'set_coroutine_origin_tracking_depth', 'set_int_max_str_digits', 'setprofile', 'setrecursionlimit', 'setswitchinterval', 'settrace', 'stderr', 'stdin', 'stdlib_module_names', 'stdout', 'thread_info', 'unraisablehook', 'version', 'version_info', 'warnoptions', 'winver']\n"
     ]
    }
   ],
   "source": [
    "import fibo, sys\n",
    "print(f\"fibo={dir(fibo)}\\n\")\n",
    "print(f\"dir={dir(sys)}\")"
   ]
  },
  {
   "cell_type": "markdown",
   "id": "618ee0ff-58db-4e8b-92a4-9d95a0867c3e",
   "metadata": {},
   "source": [
    "Without arguments, [dir()](https://docs.python.org/3/library/functions.html#dir) lists the names you have defined currently:"
   ]
  },
  {
   "cell_type": "code",
   "execution_count": 35,
   "id": "8e287c2e-b280-4b86-bbcd-feb7b4270b1f",
   "metadata": {},
   "outputs": [
    {
     "data": {
      "text/plain": [
       "['In',\n",
       " 'Out',\n",
       " '_',\n",
       " '_13',\n",
       " '_14',\n",
       " '_2',\n",
       " '_24',\n",
       " '_3',\n",
       " '__',\n",
       " '___',\n",
       " '__builtin__',\n",
       " '__builtins__',\n",
       " '__doc__',\n",
       " '__loader__',\n",
       " '__name__',\n",
       " '__package__',\n",
       " '__session__',\n",
       " '__spec__',\n",
       " '_dh',\n",
       " '_i',\n",
       " '_i1',\n",
       " '_i10',\n",
       " '_i11',\n",
       " '_i12',\n",
       " '_i13',\n",
       " '_i14',\n",
       " '_i15',\n",
       " '_i16',\n",
       " '_i17',\n",
       " '_i18',\n",
       " '_i19',\n",
       " '_i2',\n",
       " '_i20',\n",
       " '_i21',\n",
       " '_i22',\n",
       " '_i23',\n",
       " '_i24',\n",
       " '_i25',\n",
       " '_i26',\n",
       " '_i27',\n",
       " '_i28',\n",
       " '_i29',\n",
       " '_i3',\n",
       " '_i30',\n",
       " '_i31',\n",
       " '_i32',\n",
       " '_i33',\n",
       " '_i34',\n",
       " '_i35',\n",
       " '_i4',\n",
       " '_i5',\n",
       " '_i6',\n",
       " '_i7',\n",
       " '_i8',\n",
       " '_i9',\n",
       " '_ih',\n",
       " '_ii',\n",
       " '_iii',\n",
       " '_oh',\n",
       " 'a',\n",
       " 'beep_duration',\n",
       " 'beep_frequency',\n",
       " 'beep_gap',\n",
       " 'builtins',\n",
       " 'delay_samples',\n",
       " 'echo_ringtone',\n",
       " 'echo_strength',\n",
       " 'exit',\n",
       " 'fb',\n",
       " 'fib',\n",
       " 'fib2',\n",
       " 'fibo',\n",
       " 'fibonnacci',\n",
       " 'generate_beep',\n",
       " 'get_ipython',\n",
       " 'i',\n",
       " 'np',\n",
       " 'num_beeps',\n",
       " 'open',\n",
       " 'quit',\n",
       " 'ringtone',\n",
       " 'sample_rate',\n",
       " 'sf',\n",
       " 'sys']"
      ]
     },
     "execution_count": 35,
     "metadata": {},
     "output_type": "execute_result"
    }
   ],
   "source": [
    "a = [1, 2, 3, 4, 5]\n",
    "import fibo\n",
    "fib = fibo.fib\n",
    "dir()"
   ]
  },
  {
   "cell_type": "markdown",
   "id": "4da691b2-f9b1-4ade-9385-fa4c6796c5d5",
   "metadata": {},
   "source": [
    "Note that it lists all types of names: variables, modules, functions, etc.\n",
    "\n",
    "[dir()](https://docs.python.org/3/library/functions.html#dir) does not list the names of built-in functions and variables. If you want a list of those, they are defined in the standard module [builtins](https://docs.python.org/3/library/builtins.html#module-builtins):"
   ]
  },
  {
   "cell_type": "code",
   "execution_count": 36,
   "id": "921be0c4-0a31-4906-b859-fed458347d91",
   "metadata": {},
   "outputs": [
    {
     "data": {
      "text/plain": [
       "['ArithmeticError',\n",
       " 'AssertionError',\n",
       " 'AttributeError',\n",
       " 'BaseException',\n",
       " 'BaseExceptionGroup',\n",
       " 'BlockingIOError',\n",
       " 'BrokenPipeError',\n",
       " 'BufferError',\n",
       " 'BytesWarning',\n",
       " 'ChildProcessError',\n",
       " 'ConnectionAbortedError',\n",
       " 'ConnectionError',\n",
       " 'ConnectionRefusedError',\n",
       " 'ConnectionResetError',\n",
       " 'DeprecationWarning',\n",
       " 'EOFError',\n",
       " 'Ellipsis',\n",
       " 'EncodingWarning',\n",
       " 'EnvironmentError',\n",
       " 'Exception',\n",
       " 'ExceptionGroup',\n",
       " 'False',\n",
       " 'FileExistsError',\n",
       " 'FileNotFoundError',\n",
       " 'FloatingPointError',\n",
       " 'FutureWarning',\n",
       " 'GeneratorExit',\n",
       " 'IOError',\n",
       " 'ImportError',\n",
       " 'ImportWarning',\n",
       " 'IndentationError',\n",
       " 'IndexError',\n",
       " 'InterruptedError',\n",
       " 'IsADirectoryError',\n",
       " 'KeyError',\n",
       " 'KeyboardInterrupt',\n",
       " 'LookupError',\n",
       " 'MemoryError',\n",
       " 'ModuleNotFoundError',\n",
       " 'NameError',\n",
       " 'None',\n",
       " 'NotADirectoryError',\n",
       " 'NotImplemented',\n",
       " 'NotImplementedError',\n",
       " 'OSError',\n",
       " 'OverflowError',\n",
       " 'PendingDeprecationWarning',\n",
       " 'PermissionError',\n",
       " 'ProcessLookupError',\n",
       " 'RecursionError',\n",
       " 'ReferenceError',\n",
       " 'ResourceWarning',\n",
       " 'RuntimeError',\n",
       " 'RuntimeWarning',\n",
       " 'StopAsyncIteration',\n",
       " 'StopIteration',\n",
       " 'SyntaxError',\n",
       " 'SyntaxWarning',\n",
       " 'SystemError',\n",
       " 'SystemExit',\n",
       " 'TabError',\n",
       " 'TimeoutError',\n",
       " 'True',\n",
       " 'TypeError',\n",
       " 'UnboundLocalError',\n",
       " 'UnicodeDecodeError',\n",
       " 'UnicodeEncodeError',\n",
       " 'UnicodeError',\n",
       " 'UnicodeTranslateError',\n",
       " 'UnicodeWarning',\n",
       " 'UserWarning',\n",
       " 'ValueError',\n",
       " 'Warning',\n",
       " 'WindowsError',\n",
       " 'ZeroDivisionError',\n",
       " '__IPYTHON__',\n",
       " '__build_class__',\n",
       " '__debug__',\n",
       " '__doc__',\n",
       " '__import__',\n",
       " '__loader__',\n",
       " '__name__',\n",
       " '__package__',\n",
       " '__spec__',\n",
       " 'abs',\n",
       " 'aiter',\n",
       " 'all',\n",
       " 'anext',\n",
       " 'any',\n",
       " 'ascii',\n",
       " 'bin',\n",
       " 'bool',\n",
       " 'breakpoint',\n",
       " 'bytearray',\n",
       " 'bytes',\n",
       " 'callable',\n",
       " 'chr',\n",
       " 'classmethod',\n",
       " 'compile',\n",
       " 'complex',\n",
       " 'copyright',\n",
       " 'credits',\n",
       " 'delattr',\n",
       " 'dict',\n",
       " 'dir',\n",
       " 'display',\n",
       " 'divmod',\n",
       " 'enumerate',\n",
       " 'eval',\n",
       " 'exec',\n",
       " 'execfile',\n",
       " 'filter',\n",
       " 'float',\n",
       " 'format',\n",
       " 'frozenset',\n",
       " 'get_ipython',\n",
       " 'getattr',\n",
       " 'globals',\n",
       " 'hasattr',\n",
       " 'hash',\n",
       " 'help',\n",
       " 'hex',\n",
       " 'id',\n",
       " 'input',\n",
       " 'int',\n",
       " 'isinstance',\n",
       " 'issubclass',\n",
       " 'iter',\n",
       " 'len',\n",
       " 'license',\n",
       " 'list',\n",
       " 'locals',\n",
       " 'map',\n",
       " 'max',\n",
       " 'memoryview',\n",
       " 'min',\n",
       " 'next',\n",
       " 'object',\n",
       " 'oct',\n",
       " 'open',\n",
       " 'ord',\n",
       " 'pow',\n",
       " 'print',\n",
       " 'property',\n",
       " 'range',\n",
       " 'repr',\n",
       " 'reversed',\n",
       " 'round',\n",
       " 'runfile',\n",
       " 'set',\n",
       " 'setattr',\n",
       " 'slice',\n",
       " 'sorted',\n",
       " 'staticmethod',\n",
       " 'str',\n",
       " 'sum',\n",
       " 'super',\n",
       " 'tuple',\n",
       " 'type',\n",
       " 'vars',\n",
       " 'zip']"
      ]
     },
     "execution_count": 36,
     "metadata": {},
     "output_type": "execute_result"
    }
   ],
   "source": [
    "import builtins\n",
    "dir(builtins)"
   ]
  },
  {
   "cell_type": "markdown",
   "id": "0c1ed6e1-a3ca-435c-90c0-a334ee46f001",
   "metadata": {},
   "source": [
    "#### Packages"
   ]
  },
  {
   "cell_type": "markdown",
   "id": "42c8226d-ecf1-4944-b21d-37fdc66715e3",
   "metadata": {},
   "source": [
    "Packages are a way of structuring Python’s module namespace by using “dotted module names”. For example, the module name `A.B` designates a submodule named `B` in a package named `A`. Just like the use of modules saves the authors of different modules from having to worry about each other’s global variable names, the use of dotted module names saves the authors of multi-module packages like NumPy or Pillow from having to worry about each other’s module names.\n",
    "\n",
    "Suppose you want to design a collection of modules (a “package”) for the uniform handling of sound files and sound data. There are many different sound file formats (usually recognized by their extension, for example: `.wav`, `.aiff`, `.au`), so you may need to create and maintain a growing collection of modules for the conversion between the various file formats. There are also many different operations you might want to perform on sound data (such as mixing, adding echo, applying an equalizer function, creating an artificial stereo effect), so in addition you will be writing a never-ending stream of modules to perform these operations. Here’s a possible structure for your package (expressed in terms of a hierarchical filesystem):"
   ]
  },
  {
   "cell_type": "markdown",
   "id": "c6ddbb07-5872-47b7-ab2c-9e565a2a6d9e",
   "metadata": {},
   "source": [
    "```\n",
    "sound/                          Top-level package\n",
    "      __init__.py               Initialize the sound package\n",
    "      formats/                  Subpackage for file format conversions\n",
    "              __init__.py\n",
    "              wavread.py\n",
    "              wavwrite.py\n",
    "              aiffread.py\n",
    "              aiffwrite.py\n",
    "              auread.py\n",
    "              auwrite.py\n",
    "              ...\n",
    "      effects/                  Subpackage for sound effects\n",
    "              __init__.py\n",
    "              echo.py\n",
    "              surround.py\n",
    "              reverse.py\n",
    "              ...\n",
    "      filters/                  Subpackage for filters\n",
    "              __init__.py\n",
    "              equalizer.py\n",
    "              vocoder.py\n",
    "              karaoke.py\n",
    "              ...\n",
    "```"
   ]
  },
  {
   "cell_type": "markdown",
   "id": "2036fd50-7d2c-4de9-95ae-4c81d31fc4bd",
   "metadata": {},
   "source": [
    "When importing the package, Python searches through the directories on sys.path looking for the package subdirectory.\n",
    "\n",
    "The `__init__.py` files are required to make Python treat directories containing the file as packages (unless using a [namespace package](https://docs.python.org/3/glossary.html#term-namespace-package), a relatively advanced feature). This prevents directories with a common name, such as `string`, from unintentionally hiding valid modules that occur later on the module search path. In the simplest case, `__init__.py` can just be an empty file, but it can also execute initialization code for the package or set the `__all__` variable, described later.\n",
    "\n",
    "Users of the package can import individual modules from the package, for example:"
   ]
  },
  {
   "cell_type": "code",
   "execution_count": 38,
   "id": "3a0d4218-c46b-4f9b-9ac3-49a675265185",
   "metadata": {},
   "outputs": [
    {
     "name": "stdout",
     "output_type": "stream",
     "text": [
      "File saved as 'landline_ringtone_with_echo.wav'\n"
     ]
    }
   ],
   "source": [
    "import numpy as np\n",
    "import soundfile as sf\n",
    "\n",
    "# Function to generate a sine wave beep sound\n",
    "def generate_beep(frequency, duration, sample_rate=44100):\n",
    "    t = np.linspace(0, duration, int(sample_rate * duration), endpoint=False)\n",
    "    return 0.5 * np.sin(2 * np.pi * frequency * t)\n",
    "\n",
    "# Parameters for the landline ringtone\n",
    "beep_frequency = 440  # Frequency of the beep (A4 note, typical for phone rings)\n",
    "beep_duration = 0.4  # Duration of each beep (400ms)\n",
    "beep_gap = 0.6  # Gap between beeps (600ms)\n",
    "num_beeps = 8  # Number of beeps in the sequence (repeated pattern)\n",
    "\n",
    "sample_rate = 44100  # Sample rate\n",
    "\n",
    "# Create the landline ringtone by repeating beeps with gaps\n",
    "ringtone = np.array([])\n",
    "\n",
    "for i in range(num_beeps):\n",
    "    ringtone = np.concatenate([ringtone, generate_beep(beep_frequency, beep_duration, sample_rate)])\n",
    "    # Add a gap between beeps (silence)\n",
    "    ringtone = np.concatenate([ringtone, np.zeros(int(sample_rate * beep_gap))])\n",
    "\n",
    "# Create the echo effect (delay and volume reduction)\n",
    "delay_samples = int(sample_rate * 0.3)  # 300ms delay\n",
    "echo_strength = 0.3  # Strength of the echo (weaker for a more subtle effect)\n",
    "\n",
    "# Add the delayed version of the ringtone with echo effect\n",
    "echo_ringtone = np.copy(ringtone)\n",
    "echo_ringtone[delay_samples:] += echo_strength * ringtone[:-delay_samples]\n",
    "\n",
    "# Save the generated ringtone with echo effect\n",
    "sf.write('landline_ringtone_with_echo.wav', echo_ringtone, sample_rate)\n",
    "\n",
    "print(\"File saved as 'landline_ringtone_with_echo.wav'\")\n"
   ]
  },
  {
   "cell_type": "markdown",
   "id": "46d5c603-598a-480d-8975-e8eb086aae06",
   "metadata": {},
   "source": [
    "Package Structure\n",
    "Your sound package consists of:\n",
    "\n",
    "Top-level package: sound/\n",
    "Subpackages: formats/, effects/, filters/\n",
    "Modules: wavread.py, aiffwrite.py, equalizer.py, etc.\n",
    "`__init__.py` files: These are required to make directories treat them as packages.\n",
    "Here’s what the package structure looks like:\n",
    "\n",
    "\n",
    "Copy\n",
    "```sound/                          # Top-level package\n",
    "      __init__.py               # Initializes the sound package\n",
    "      formats/                  # Subpackage for file format conversions\n",
    "              __init__.py\n",
    "              wavread.py\n",
    "              wavwrite.py\n",
    "              aiffread.py\n",
    "              aiffwrite.py\n",
    "              auread.py\n",
    "              auwrite.py\n",
    "              ...\n",
    "      effects/                  # Subpackage for sound effects\n",
    "              __init__.py\n",
    "              echo.py\n",
    "              surround.py\n",
    "              reverse.py\n",
    "              ...\n",
    "      filters/                  # Subpackage for filters\n",
    "              __init__.py\n",
    "              equalizer.py\n",
    "              vocoder.py\n",
    "              karaoke.py\n",
    "              ...\n",
    "```\n",
    "\n",
    "Explanation of `__init__.py` Files\n",
    "`__init__.py` in the sound package: This file can initialize the package and may also include initialization code or specify which modules to import when you access the package. It can be empty, but it’s required for Python to recognize the directory as a package.\n",
    "\n",
    "`__init__.py` in subpackages (formats/, effects/, filters/): These files mark the subdirectories as subpackages. You can use these files to initialize the subpackage or expose certain functions/modules when importing the subpackage.\n",
    "\n",
    "Importing Modules and Submodules\n",
    "With this package structure, users can import and use modules in the package in various ways.\n",
    "\n",
    "Example of Importing Specific Modules:\n",
    "\n",
    "Import a module from the formats subpackage:\n",
    "python\n",
    "Copy\n",
    "```\n",
    "from sound.formats import wavread\n",
    "wavread.read_wav('file.wav')\n",
    "```\n",
    "\n",
    "\n",
    "Import a module from the effects subpackage:\n",
    "python\n",
    "Copy\n",
    "```\n",
    "from sound.effects import echo\n",
    "echo.apply_echo('sound_data')\n",
    "```\n",
    "\n",
    "\n",
    "Import a specific function from a module:\n",
    "python\n",
    "Copy\n",
    "```\n",
    "from sound.filters.equalizer import apply_equalizer\n",
    "apply_equalizer('sound_data')\n",
    "```\n",
    "Import a module directly:\n",
    "python\n",
    "Copy\n",
    "```\n",
    "import sound.formats.wavwrite\n",
    "sound.formats.wavwrite.write_wav('file.wav', sound_data)\n",
    "```\n",
    "\n",
    "Access submodules using nested import:\n",
    "python\n",
    "Copy\n",
    "```\n",
    "from sound.effects.echo import apply_echo\n",
    "apply_echo('sound_data')\n",
    "```\n",
    "Using `__all__` for Module Exposure\n",
    "You can control which modules are exposed when the package or subpackage is imported using the `__all__` variable in `__init__.py`. This is useful for creating a cleaner interface and controlling what users of the package can access directly.\n",
    "\n",
    "For example, in sound/formats/`__init__.py`, you could have:\n",
    "\n",
    "python\n",
    "Copy\n",
    "\n",
    "#### sound/formats/__init__.py\n",
    "\n",
    "`__all__ = ['wavread', 'wavwrite', 'aiffread']`  # Expose only these modules\n",
    "\n",
    "Now, when you do:\n",
    "python\n",
    "Copy\n",
    "```\n",
    "from sound.formats import *\n",
    "```\n",
    "Only the specified modules (wavread, wavwrite, aiffread) will be imported, and not the others.\n",
    "\n",
    "Putting It All Together\n",
    "This package structure makes it easy to manage a growing collection of modules and operations. It enables users to:\n",
    "\n",
    "Convert between various sound file formats.\n",
    "Apply various sound effects like echo or surround sound.\n",
    "Use different filters for processing sound data.\n",
    "Example Usage\n",
    "\n",
    "If you had a sound file and wanted to apply an echo effect and then convert it to a .wav file, you might use the package like this:\n",
    "python\n",
    "Copy\n",
    "```\n",
    "from sound.effects.echo import apply_echo\n",
    "from sound.formats.wavwrite import write_wav\n",
    "```\n",
    "# Apply echo to sound data\n",
    "```sound_data_with_echo = apply_echo(sound_data)```\n",
    "\n",
    "# Write the result to a WAV file\n",
    "```write_wav('output.wav', sound_data_with_echo)```\n",
    "\n",
    "\n",
    "#### Summary\n",
    "Packages allow you to organize code into modules under a common namespace, making it easier to manage large codebases.\n",
    "The `__init__.py` files mark directories as packages and can include package initialization code.\n",
    "The `__all__` variable controls which modules are exposed for import.\n",
    "By using dotted module names, Python allows users to access specific functionalities within large packages, like the sound package in your example.\n",
    "Let me know if you need more details on any part of this!\n",
    "\n",
    "\n",
    "\n"
   ]
  },
  {
   "cell_type": "code",
   "execution_count": null,
   "id": "e4cbfcf0-7f88-4776-9d55-04baded20862",
   "metadata": {},
   "outputs": [],
   "source": []
  }
 ],
 "metadata": {
  "kernelspec": {
   "display_name": "Python 3 (ipykernel)",
   "language": "python",
   "name": "python3"
  },
  "language_info": {
   "codemirror_mode": {
    "name": "ipython",
    "version": 3
   },
   "file_extension": ".py",
   "mimetype": "text/x-python",
   "name": "python",
   "nbconvert_exporter": "python",
   "pygments_lexer": "ipython3",
   "version": "3.12.3"
  }
 },
 "nbformat": 4,
 "nbformat_minor": 5
}
