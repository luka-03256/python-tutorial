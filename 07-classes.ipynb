{
 "cells": [
  {
   "cell_type": "markdown",
   "id": "66e6a27a-dead-417c-95e1-b0755419bbff",
   "metadata": {},
   "source": [
    "# Classes "
   ]
  },
  {
   "cell_type": "markdown",
   "id": "6762ddce-5744-4a9a-b59b-ebbb74b2b0a4",
   "metadata": {},
   "source": [
    "Python classes provide all the standard features of Object Oriented Programming: the class inheritance mechanism allows multiple base classes, a derived class can override any methods of its base class or classes, and a method can call the method of a base class with the same name. \n",
    "\n",
    "Objects can contain arbitrary amounts and kinds of data. As is true for modules, classes partake of the dynamic nature of Python: they are created at runtime, and can be modified further after creation."
   ]
  },
  {
   "cell_type": "markdown",
   "id": "a3e0a67f-bbae-4847-9005-b608e8a4dcab",
   "metadata": {},
   "source": [
    "#### Scopes and Namespaces"
   ]
  },
  {
   "cell_type": "code",
   "execution_count": 1,
   "id": "d9948693-7f27-4d51-9f18-39cdbdcb3f70",
   "metadata": {},
   "outputs": [
    {
     "name": "stdout",
     "output_type": "stream",
     "text": [
      "After local assignment: test spam\n",
      "After nonlocal assignment: nonlocal spam\n",
      "After global assignment: nonlocal spam\n",
      "In global scope: global spam\n"
     ]
    }
   ],
   "source": [
    "def scope_test():\n",
    "    def do_local():\n",
    "        spam=\"local spam\"\n",
    "    def do_nonlocal():\n",
    "        nonlocal spam\n",
    "        spam=\"nonlocal spam\"\n",
    "    def do_global():\n",
    "        global spam\n",
    "        spam=\"global spam\"\n",
    "    spam = \"test spam\"\n",
    "    do_local()\n",
    "    print(\"After local assignment:\", spam)\n",
    "    do_nonlocal()\n",
    "    print(\"After nonlocal assignment:\", spam)\n",
    "    do_global()\n",
    "    print(\"After global assignment:\", spam)\n",
    "\n",
    "scope_test()\n",
    "print(\"In global scope:\", spam)"
   ]
  },
  {
   "cell_type": "markdown",
   "id": "3b42526a-d724-4fe4-89b7-9ec2020db341",
   "metadata": {},
   "source": [
    "Note how the local assignment (which is default) didn’t change scope_test's binding of spam. The `nonlocal` assignment changed scope_test's binding of spam, and the `global` assignment changed the module-level binding.\n",
    "\n",
    "You can also see that there was no previous binding for spam before the `global` assignment."
   ]
  },
  {
   "cell_type": "markdown",
   "id": "31af594c-faca-414d-8faa-22f4784c3af4",
   "metadata": {},
   "source": [
    "#### First glance at Classes\n",
    "Classes introduce a little bit of new syntax, three new object types, and some new semantics.\n",
    "\n",
    "Simplest form of class definition looks like this:\n",
    "```\n",
    "class ClassName:\n",
    "    <statement-1>\n",
    "    .\n",
    "    .\n",
    "    .\n",
    "    <statement-N>\n",
    "```"
   ]
  },
  {
   "cell_type": "markdown",
   "id": "bdad0781-50bf-4ce0-8b81-bdd31d6138f0",
   "metadata": {},
   "source": [
    "Class definitions, like function definitions (`def` statements) must be executed before they have any effect. (You could conceivably place a class definition in a branch of an `if` statement, or inside a function.)"
   ]
  },
  {
   "cell_type": "markdown",
   "id": "458e4e89-b1ee-4780-8b8e-c9a58e47ab9f",
   "metadata": {},
   "source": [
    "#### Class Objects"
   ]
  },
  {
   "cell_type": "markdown",
   "id": "7c2dfe9d-b5fa-4e1c-af78-d213a4825219",
   "metadata": {},
   "source": [
    "Class objects support two kinds of operations: attribute references and instantiation.\n",
    "\n",
    "Attribute references use the standard syntax used for all attribute references in Python: `obj.name`. Valid attribute names are all the names that were in the class’s namespace when the class object was created. So, if the class definition looked like this:"
   ]
  },
  {
   "cell_type": "code",
   "execution_count": 2,
   "id": "2c65d314-afa6-4393-bd47-37f69c9e82f1",
   "metadata": {},
   "outputs": [],
   "source": [
    "class DummyClass:\n",
    "    \"\"\"Sample dummy class\"\"\"\n",
    "    q=25189\n",
    "\n",
    "    def func(self):\n",
    "        return \"Greetings!\""
   ]
  },
  {
   "cell_type": "markdown",
   "id": "48343b6a-832f-42dc-8361-12a6c893928b",
   "metadata": {},
   "source": [
    "then `MyClass.i` and `MyClass.f` are valid attribute references, returning an integer and a function object, respectively. Class attributes can also be assigned to, so you can change the value of `MyClass.i` by assignment. `__doc__` is also a valid attribute, returning the docstring belonging to the class: `\"A simple example class\"`.\n",
    "\n",
    "Class instantiation uses function notation. Just pretend that the class object is a parameterless function that returns a new instance of the class. For example (assuming the above class):"
   ]
  },
  {
   "cell_type": "code",
   "execution_count": 3,
   "id": "b9c80d5b-aa0d-4d54-9628-09c303d76d5f",
   "metadata": {},
   "outputs": [],
   "source": [
    "x = DummyClass()"
   ]
  },
  {
   "cell_type": "markdown",
   "id": "7f308818-7aa1-4d22-ab8f-6d23eb399379",
   "metadata": {},
   "source": [
    "creates a new instance of the class and assigns this object to the local variable `x`.\n",
    "\n",
    "The instantiation operation (“calling” a class object) creates an empty object. Many classes like to create objects with instances customized to a specific initial state. Therefore a class may define a special method named `__init__()`, like this:"
   ]
  },
  {
   "cell_type": "code",
   "execution_count": 4,
   "id": "8f8c6df1-d4c3-43b1-b30e-a6fea8aec7c2",
   "metadata": {},
   "outputs": [],
   "source": [
    "def __init__(self):\n",
    "    self.data = []"
   ]
  },
  {
   "cell_type": "code",
   "execution_count": 5,
   "id": "6f8f9fcb-6bc5-4f8b-8a52-130ed28e88d4",
   "metadata": {},
   "outputs": [],
   "source": [
    "class EnhancedDummyClass:\n",
    "    \"\"\"Enhanced dummy class\"\"\"\n",
    "    q=25198\n",
    "\n",
    "    def func(self):\n",
    "        return \"Greetings!\"\n",
    "\n",
    "    def __init__(self):\n",
    "        self.data = []"
   ]
  },
  {
   "cell_type": "code",
   "execution_count": 6,
   "id": "581c1878-401f-4b1e-b5e5-d21298d7e23e",
   "metadata": {},
   "outputs": [],
   "source": [
    "y = EnhancedDummyClass()"
   ]
  },
  {
   "cell_type": "markdown",
   "id": "aef1a60b-0a13-459b-9a96-ea652c19e2b5",
   "metadata": {},
   "source": [
    "When a class defines an `__init__()` method, class instantiation automatically invokes `__init__()` for the newly created class instance. So in this example, a new, initialized instance can be obtained by:"
   ]
  },
  {
   "cell_type": "code",
   "execution_count": 7,
   "id": "7df4108a-d0f1-4360-9816-b997b155ce67",
   "metadata": {},
   "outputs": [
    {
     "name": "stdout",
     "output_type": "stream",
     "text": [
      "Real part=3.0,\t Imaginary part=-4.5\n"
     ]
    }
   ],
   "source": [
    "#example for bit more complex init with arguments\n",
    "class Complex:\n",
    "    def __init__(self, realpart, imagpart):\n",
    "        self.r = realpart\n",
    "        self.i = imagpart\n",
    "        print(f\"Real part={self.r},\\t Imaginary part={self.i}\")\n",
    "t = Complex(3.0, -4.5)\n"
   ]
  },
  {
   "cell_type": "markdown",
   "id": "f9b87b0e-3bbd-4aac-b313-115569df7bc1",
   "metadata": {},
   "source": [
    "#### Instance Objects"
   ]
  },
  {
   "cell_type": "code",
   "execution_count": 8,
   "id": "12b56018-0bca-4f0e-acbd-fb46e342e6f4",
   "metadata": {},
   "outputs": [
    {
     "name": "stdout",
     "output_type": "stream",
     "text": [
      "16\n"
     ]
    }
   ],
   "source": [
    "t.counter = 1\n",
    "while t.counter < 10:\n",
    "    t.counter = t.counter * 2\n",
    "print(t.counter)\n",
    "del t.counter"
   ]
  },
  {
   "cell_type": "markdown",
   "id": "fbdc512d-8723-4a1e-808a-ec3782bb21fa",
   "metadata": {},
   "source": [
    "#### Method Objects\n",
    "Usually, a method is called right after it is bound:"
   ]
  },
  {
   "cell_type": "code",
   "execution_count": 9,
   "id": "8f410bfb-0709-4b87-8fea-f52dc375b9f9",
   "metadata": {},
   "outputs": [
    {
     "data": {
      "text/plain": [
       "'Greetings!'"
      ]
     },
     "execution_count": 9,
     "metadata": {},
     "output_type": "execute_result"
    }
   ],
   "source": [
    "x.func()"
   ]
  },
  {
   "cell_type": "code",
   "execution_count": 10,
   "id": "9b2b778d-522f-4568-aa4f-1592c94be47f",
   "metadata": {},
   "outputs": [
    {
     "name": "stdout",
     "output_type": "stream",
     "text": [
      "Greetings!\n"
     ]
    }
   ],
   "source": [
    "xy = x.func()\n",
    "iterator = True\n",
    "while iterator:\n",
    "    print(xy)\n",
    "    iterator = False"
   ]
  },
  {
   "cell_type": "markdown",
   "id": "9097c472-d3d1-4af9-85bd-05f6ca6755f3",
   "metadata": {},
   "source": [
    "#### Class and Instance Variables\n",
    "\n",
    "Generally speaking, instance variables are for data unique to each instance and class variables are for attributes and methods shared by all instances of the class:"
   ]
  },
  {
   "cell_type": "code",
   "execution_count": 11,
   "id": "700fc738-16f1-4fd8-8282-321008054982",
   "metadata": {},
   "outputs": [
    {
     "name": "stdout",
     "output_type": "stream",
     "text": [
      "\tName= Fribbo,\tDate of birth= 2004-02-12,\tSocial security number= 2389589189\n",
      "\tName= Guy,\tDate of birth= 2003-09-03,\tSocial security number= 28958185929\n",
      "person B soc= 28958185929\n"
     ]
    }
   ],
   "source": [
    "import json\n",
    "class Person:\n",
    "    \"\"\" Class represents everything should real person posses, each personal trait unique characteristics\n",
    "    that shape and thus divide or separate uniquely each human being as one \"\"\"\n",
    "    trait = 'carring' #class variable\n",
    "    \n",
    "    def __init__(self, name: str, dob: str, soc: int):\n",
    "        self.name = name # instance variable unique to each instance\n",
    "        self.dob = dob # instance variable for date of birth\n",
    "        self.soc = soc # instance variable for social security number as person being uniquelly identified in digital world\n",
    "\n",
    "        dump = f\"\\tName= {self.name},\\tDate of birth= {self.dob},\\tSocial security number= {self.soc}\"\n",
    "        print(dump)\n",
    "        \n",
    "a = Person('Fribbo','2004-02-12',2389589189)\n",
    "b = Person('Guy', '2003-09-03', 28958185929)\n",
    "\n",
    "print(\"person B soc=\",b.soc)"
   ]
  },
  {
   "cell_type": "code",
   "execution_count": 29,
   "id": "7c289f47-bdb2-4a91-b0ef-50c9ffb997bc",
   "metadata": {},
   "outputs": [
    {
     "name": "stdout",
     "output_type": "stream",
     "text": [
      "Dog Fido could do the following ['roll over', 'play dead']\n",
      "Dog Buddy could do the following ['roll over', 'play dead']\n"
     ]
    }
   ],
   "source": [
    "class Dog:\n",
    "\n",
    "    tricks = []             # mistaken use of a class variable\n",
    "\n",
    "    def __init__(self, name):\n",
    "        self.name = name\n",
    "\n",
    "    def add_trick(self, trick):\n",
    "        self.tricks.append(trick)\n",
    "\n",
    "d = Dog('Fido')\n",
    "e = Dog('Buddy')\n",
    "d.add_trick('roll over')\n",
    "e.add_trick('play dead')\n",
    "print(f\"Dog {d.name} could do the following {d.tricks}\")                # unexpectedly shared by all dogs\n",
    "print(f\"Dog {e.name} could do the following {e.tricks}\")                # unexpectedly shared by all dogs\n",
    "\n",
    "#['roll over', 'play dead']"
   ]
  },
  {
   "cell_type": "markdown",
   "id": "6a7cacd0-24ec-47b2-a3ba-b1ce626e1a45",
   "metadata": {},
   "source": [
    "Correct design of the class should use an instance variable instead:"
   ]
  },
  {
   "cell_type": "code",
   "execution_count": 30,
   "id": "5c71eb7d-ee23-40ec-8291-e733db953d15",
   "metadata": {},
   "outputs": [
    {
     "name": "stdout",
     "output_type": "stream",
     "text": [
      "['roll over']\n",
      "['play dead']\n"
     ]
    }
   ],
   "source": [
    "class Dog:\n",
    "\n",
    "    #tricks = []             # mistaken use of a class variable\n",
    "\n",
    "    def __init__(self, name):\n",
    "        self.name = name\n",
    "        self.tricks = [] # create a new empty list for each dog\n",
    "    def add_trick(self, trick):\n",
    "        self.tricks.append(trick)\n",
    "\n",
    "d = Dog('Fido')\n",
    "e = Dog('Buddy')\n",
    "d.add_trick('roll over')\n",
    "e.add_trick('play dead')\n",
    "print(d.tricks)                # unexpectedly shared by all dogs\n",
    "print(e.tricks)\n",
    "#['roll over', 'play dead']"
   ]
  },
  {
   "cell_type": "markdown",
   "id": "f0eac943-04ec-4e81-a2a2-99b7e97c1dcc",
   "metadata": {},
   "source": [
    "#### Random Remarks\n",
    "\n",
    "If the same attribute name occurs in both an instance and in a class, then attribute lookup prioritizes the instance:"
   ]
  },
  {
   "cell_type": "code",
   "execution_count": 31,
   "id": "56fa67d6-aa3c-446d-ab0f-1ac5e4e8c478",
   "metadata": {},
   "outputs": [
    {
     "name": "stdout",
     "output_type": "stream",
     "text": [
      "storage west\n",
      "storage east\n"
     ]
    }
   ],
   "source": [
    "class Warehouse:\n",
    "   purpose = 'storage'\n",
    "   region = 'west'\n",
    "\n",
    "w1 = Warehouse()\n",
    "print(w1.purpose, w1.region)\n",
    "\n",
    "w2 = Warehouse()\n",
    "w2.region = 'east'\n",
    "print(w2.purpose, w2.region)"
   ]
  },
  {
   "cell_type": "code",
   "execution_count": 32,
   "id": "87b422cd-d1fb-4845-a9e1-e959b3504095",
   "metadata": {},
   "outputs": [
    {
     "data": {
      "text/plain": [
       "type"
      ]
     },
     "execution_count": 32,
     "metadata": {},
     "output_type": "execute_result"
    }
   ],
   "source": [
    "object.__class__"
   ]
  },
  {
   "cell_type": "markdown",
   "id": "095a497c-77b5-4f9a-9876-f77cd1cf9dfd",
   "metadata": {},
   "source": [
    "#### Inheritance\n",
    "\n",
    "Of course, a language feature would not be worthy of the name “class” without supporting inheritance. The syntax for a derived class definition looks like this:\n",
    "\n",
    "```\n",
    "class DerivedClassName(BaseClassName):\n",
    "    <statement-1>\n",
    "    .\n",
    "    .\n",
    "    .\n",
    "    <statement-N>\n",
    "```\n",
    "\n",
    "The name BaseClassName must be defined in a namespace accessible from the scope containing the derived class definition. In place of a base class name, other arbitrary expressions are also allowed. This can be useful, for example, when the base class is defined in another module:\n",
    "\n",
    "```\n",
    "class DerivedClassName(modname.BaseClassName):\n",
    "```\n",
    "\n",
    "Execution of a derived class definition proceeds the same as for a base class. When the class object is constructed, the base class is remembered. This is used for resolving attribute references: if a requested attribute is not found in the class, the search proceeds to look in the base class. This rule is applied recursively if the base class itself is derived from some other class.\n",
    "\n",
    "There’s nothing special about instantiation of derived classes: DerivedClassName() creates a new instance of the class. Method references are resolved as follows: the corresponding class attribute is searched, descending down the chain of base classes if necessary, and the method reference is valid if this yields a function object.\n",
    "\n",
    "Derived classes may override methods of their base classes. Because methods have no special privileges when calling other methods of the same object, a method of a base class that calls another method defined in the same base class may end up calling a method of a derived class that overrides it. (For C++ programmers: all methods in Python are effectively virtual.)\n",
    "\n",
    "An overriding method in a derived class may in fact want to extend rather than simply replace the base class method of the same name. There is a simple way to call the base class method directly: just call BaseClassName.methodname(self, arguments). This is occasionally useful to clients as well. (Note that this only works if the base class is accessible as BaseClassName in the global scope.)\n",
    "\n",
    "Python has two built-in functions that work with inheritance:\n",
    "\n",
    "Use isinstance() to check an instance’s type: isinstance(obj, int) will be True only if obj.__class__ is int or some class derived from int.\n",
    "\n",
    "Use issubclass() to check class inheritance: issubclass(bool, int) is True since bool is a subclass of int. However, issubclass(float, int) is False since float is not a subclass of int."
   ]
  },
  {
   "cell_type": "code",
   "execution_count": 33,
   "id": "8230a9df-5b40-466b-b0af-f36439ecd64c",
   "metadata": {},
   "outputs": [
    {
     "name": "stdout",
     "output_type": "stream",
     "text": [
      "True\n",
      "True\n"
     ]
    }
   ],
   "source": [
    "print(isinstance(a,object)) \n",
    "print(issubclass(Complex, object)) # object is at the top of class hierachy just like in java class hierachy"
   ]
  },
  {
   "cell_type": "markdown",
   "id": "bea56092-d1de-475b-9c91-bf96835f6b6d",
   "metadata": {},
   "source": [
    "#### Multiple Inheritance\n",
    "\n",
    "Python supports a form of multiple inheritance as well. A class definition with multiple base classes looks like this:\n",
    "\n",
    "```\n",
    "class DerivedClassName(Base1, Base2, Base3):\n",
    "    <statement-1>\n",
    "    .\n",
    "    .\n",
    "    .\n",
    "    <statement-N>\n",
    "```\n",
    "\n",
    "For most purposes, in the simplest cases, you can think of the search for attributes inherited from a parent class as depth-first, left-to-right, not searching twice in the same class where there is an overlap in the hierarchy. Thus, if an attribute is not found in DerivedClassName, it is searched for in Base1, then (recursively) in the base classes of Base1, and if it was not found there, it was searched for in Base2, and so on.\n",
    "\n",
    "In fact, it is slightly more complex than that; the method resolution order changes dynamically to support cooperative calls to super(). This approach is known in some other multiple-inheritance languages as call-next-method and is more powerful than the super call found in single-inheritance languages.\n",
    "\n",
    "Dynamic ordering is necessary because all cases of multiple inheritance exhibit one or more diamond relationships (where at least one of the parent classes can be accessed through multiple paths from the bottommost class). For example, all classes inherit from object, so any case of multiple inheritance provides more than one path to reach object. To keep the base classes from being accessed more than once, the dynamic algorithm linearizes the search order in a way that preserves the left-to-right ordering specified in each class, that calls each parent only once, and that is monotonic (meaning that a class can be subclassed without affecting the precedence order of its parents). Taken together, these properties make it possible to design reliable and extensible classes with multiple inheritance. For more detail, see The Python 2.3 Method Resolution Order."
   ]
  },
  {
   "cell_type": "markdown",
   "id": "eafbb15c-6a4e-4040-bf8c-63c274b8aec3",
   "metadata": {},
   "source": [
    "#### Private Variables\n",
    "“Private” instance variables that cannot be accessed except from inside an object don’t exist in Python. However, there is a convention that is followed by most Python code: a name prefixed with an underscore (e.g. _spam) should be treated as a non-public part of the API (whether it is a function, a method or a data member). It should be considered an implementation detail and subject to change without notice.\n",
    "\n",
    "Since there is a valid use-case for class-private members (namely to avoid name clashes of names with names defined by subclasses), there is limited support for such a mechanism, called name mangling. Any identifier of the form __spam (at least two leading underscores, at most one trailing underscore) is textually replaced with _classname__spam, where classname is the current class name with leading underscore(s) stripped. This mangling is done without regard to the syntactic position of the identifier, as long as it occurs within the definition of a class.\n",
    "\n",
    "Name mangling is helpful for letting subclasses override methods without breaking intraclass method calls. For example:\n",
    "\n"
   ]
  },
  {
   "cell_type": "code",
   "execution_count": 17,
   "id": "2391cd94-8f4e-4dc3-9a46-6bd3d5097026",
   "metadata": {},
   "outputs": [],
   "source": [
    "class Mapping:\n",
    "    def __init__(self, iterable):\n",
    "        self.items_list = []\n",
    "        self.__update(iterable)\n",
    "\n",
    "    def update(self, iterable):\n",
    "        for item in iterable:\n",
    "            self.items_list.append(item)\n",
    "\n",
    "    __update = update # private copy of original update() method\n",
    "\n",
    "class MappingSubclass(Mapping):\n",
    "\n",
    "    def update(self, keys, values):\n",
    "        # provides new signature for update()\n",
    "        # but does not break __init__()\n",
    "        for item in zip(keys, values):\n",
    "            self.items_list.append(item)"
   ]
  },
  {
   "cell_type": "markdown",
   "id": "ceebb3a2-9355-4048-a59a-bb455a97f08f",
   "metadata": {},
   "source": [
    "The above example would work even if MappingSubclass were to introduce a __update identifier since it is replaced with _Mapping__update in the Mapping class and _MappingSubclass__update in the MappingSubclass class respectively.\n",
    "\n",
    "Note that the mangling rules are designed mostly to avoid accidents; it still is possible to access or modify a variable that is considered private. This can even be useful in special circumstances, such as in the debugger.\n",
    "\n",
    "Notice that code passed to exec() or eval() does not consider the classname of the invoking class to be the current class; this is similar to the effect of the global statement, the effect of which is likewise restricted to code that is byte-compiled together. The same restriction applies to getattr(), setattr() and delattr(), as well as when referencing __dict__ directly."
   ]
  },
  {
   "cell_type": "markdown",
   "id": "740f5b92-6b3a-46c8-ba2f-58594565f7e9",
   "metadata": {},
   "source": [
    "#### Odds and Ends\n",
    "\n",
    "Sometimes it is useful to have a data type similar to the Pascal “record” or C “struct”, bundling together a few named data items. The idiomatic approach is to use dataclasses for this purpose:"
   ]
  },
  {
   "cell_type": "code",
   "execution_count": 18,
   "id": "a21216fd-ae35-433f-a5cd-dc7fea2b255f",
   "metadata": {},
   "outputs": [],
   "source": [
    "from dataclasses import dataclass\n",
    "\n",
    "@dataclass\n",
    "class Employee:\n",
    "    name: str\n",
    "    dept: str\n",
    "    salary: int"
   ]
  },
  {
   "cell_type": "code",
   "execution_count": 35,
   "id": "bcb3f241-cd79-461c-aa62-62e703e21ebd",
   "metadata": {},
   "outputs": [
    {
     "name": "stdout",
     "output_type": "stream",
     "text": [
      "computer lab\n",
      "1000\n"
     ]
    }
   ],
   "source": [
    "john = Employee('john', 'computer lab', 1000)\n",
    "print(john.dept)\n",
    "print(john.salary)"
   ]
  },
  {
   "cell_type": "markdown",
   "id": "3047b958-0027-471a-9eff-074cec9f750e",
   "metadata": {},
   "source": [
    "A piece of Python code that expects a particular abstract data type can often be passed a class that emulates the methods of that data type instead. For instance, if you have a function that formats some data from a file object, you can define a class with methods read() and readline() that get the data from a string buffer instead, and pass it as an argument.\n",
    "\n",
    "Instance method objects have attributes, too: `m.__self__` is the instance object with the method m(), and `m.__func__` is the function object corresponding to the method."
   ]
  },
  {
   "cell_type": "markdown",
   "id": "16fbce6c-5a78-4ba3-a8ee-c23d97eea6da",
   "metadata": {},
   "source": [
    "#### Iterators\n",
    "\n",
    "By now you have probably noticed that most container objects can be looped over using a `for` statement:"
   ]
  },
  {
   "cell_type": "code",
   "execution_count": 39,
   "id": "d58a0294-ed4c-4adc-93db-e929cb01a3f0",
   "metadata": {},
   "outputs": [
    {
     "name": "stdout",
     "output_type": "stream",
     "text": [
      "1\n",
      "2\n",
      "3\n",
      "\n",
      "\n",
      "1\n",
      "2\n",
      "3\n",
      "\n",
      "\n",
      "one\n",
      "two\n",
      "\n",
      "\n",
      "1\n",
      "2\n",
      "3\n",
      "\n",
      "\n",
      "0123456789abcdefxt line is appended to the existing text\n",
      "('winning lottery price ', 24342241)"
     ]
    }
   ],
   "source": [
    "for element in [1, 2, 3]:\n",
    "    print(element)\n",
    "print(\"\\n\")\n",
    "for element in (1, 2, 3):\n",
    "    print(element)\n",
    "print(\"\\n\")\n",
    "for key in {'one':1, 'two':2}:\n",
    "    print(key)\n",
    "#for key, val in {'one':1, 'two':2}:\n",
    "#    print(key, val)\n",
    "print(\"\\n\")\n",
    "for char in \"123\":\n",
    "    print(char)\n",
    "print(\"\\n\")\n",
    "for line in open(\"workfile\"):\n",
    "    print(line, end='')"
   ]
  },
  {
   "cell_type": "markdown",
   "id": "8046f891-ac5b-4e31-b879-8a84e1cc7e1b",
   "metadata": {},
   "source": [
    "This style of access is clear, concise, and convenient. The use of iterators pervades and unifies Python. Behind the scenes, the `for` statement calls `iter()` on the container object. The function returns an iterator object that defines the method `__next__()` which accesses elements in the container one at a time. When there are no more elements, `__next__()` raises a `StopIteration` exception which tells the for loop to terminate. You can call the `__next__()` method using the `next()` built-in function; this example shows how it all works:"
   ]
  },
  {
   "cell_type": "code",
   "execution_count": 21,
   "id": "9111f1b5-e639-4d5b-aa6f-d5f7874f85c1",
   "metadata": {},
   "outputs": [
    {
     "name": "stdout",
     "output_type": "stream",
     "text": [
      "a\n",
      "b\n",
      "c\n"
     ]
    }
   ],
   "source": [
    "s_t_r = 'abc'\n",
    "it = iter(s_t_r)\n",
    "size = len(s_t_r)\n",
    "for i in range(size):\n",
    "    print(next(it))\n"
   ]
  },
  {
   "cell_type": "markdown",
   "id": "82f11e97-9410-4558-8771-0a64f99051dd",
   "metadata": {},
   "source": [
    "Having seen the mechanics behind the iterator protocol, it is easy to add iterator behavior to your classes. Define an `__iter__()` method which returns an object with a `__next__()` method. If the class defines `__next__()`, then `__iter__()` can just return `self`:"
   ]
  },
  {
   "cell_type": "code",
   "execution_count": 40,
   "id": "298f6974-003e-4627-a0d6-9ed2543a0686",
   "metadata": {},
   "outputs": [],
   "source": [
    "class Reverse:\n",
    "    \"\"\"Iterator for looping over a sequence backwards.\"\"\"\n",
    "    def __init__(self, data):\n",
    "        self.data = data\n",
    "        self.index = len(data)\n",
    "\n",
    "    def __iter__(self):\n",
    "        return self\n",
    "\n",
    "    def __next__(self):\n",
    "        if self.index == 0:\n",
    "            raise StopIteration\n",
    "        self.index = self.index - 1\n",
    "        return self.data[self.index]"
   ]
  },
  {
   "cell_type": "code",
   "execution_count": 41,
   "id": "b6ea4060-185c-4e52-bb6a-000b402bd5d6",
   "metadata": {},
   "outputs": [
    {
     "name": "stdout",
     "output_type": "stream",
     "text": [
      "m\n",
      "a\n",
      "p\n",
      "s\n"
     ]
    }
   ],
   "source": [
    "rev = Reverse('spam')\n",
    "iter(rev)\n",
    "\n",
    "for char in rev:\n",
    "    print(char)"
   ]
  },
  {
   "cell_type": "markdown",
   "id": "a3bf704e-a9a0-470d-b833-6464f8b47759",
   "metadata": {},
   "source": [
    "#### Generators\n",
    "\n",
    "Generators are a simple and powerful tool for creating iterators. They are written like regular functions but use the yield statement whenever they want to return data. Each time next() is called on it, the generator resumes where it left off (it remembers all the data values and which statement was last executed). An example shows that generators can be trivially easy to create:"
   ]
  },
  {
   "cell_type": "code",
   "execution_count": 42,
   "id": "7c4d9936-c4fa-44a9-9e0e-9d00032b2786",
   "metadata": {},
   "outputs": [],
   "source": [
    "def reverse(data):\n",
    "    for index in range(len(data)-1, -1, -1):\n",
    "        yield data[index]"
   ]
  },
  {
   "cell_type": "code",
   "execution_count": 43,
   "id": "92bdda03-8963-4188-9ba9-e394439dfe12",
   "metadata": {},
   "outputs": [
    {
     "name": "stdout",
     "output_type": "stream",
     "text": [
      "f\n",
      "l\n",
      "o\n",
      "g\n"
     ]
    }
   ],
   "source": [
    "for char in reverse('golf'):\n",
    "    print(char)"
   ]
  },
  {
   "cell_type": "markdown",
   "id": "6a3ac9f6-d428-47f0-9ca5-aa1da0803a7f",
   "metadata": {},
   "source": [
    "Anything that can be done with generators can also be done with class-based iterators as described in the previous section. What makes generators so compact is that the `__iter__()` and `__next__()` methods are created automatically.\n",
    "\n",
    "Another key feature is that the local variables and execution state are automatically saved between calls. This made the function easier to write and much more clear than an approach using instance variables like `self.index` and `self.data`.\n",
    "\n",
    "In addition to automatic method creation and saving program state, when generators terminate, they automatically raise `StopIteration`. In combination, these features make it easy to create iterators with no more effort than writing a regular function.\n",
    "\n"
   ]
  },
  {
   "cell_type": "markdown",
   "id": "fd1569ab-513a-4000-9d7e-b87e4dc50268",
   "metadata": {},
   "source": [
    "#### Generator Expressions\n",
    "\n",
    "Some simple generators can be coded succinctly as expressions using a syntax similar to list comprehensions but with parentheses instead of square brackets. These expressions are designed for situations where the generator is used right away by an enclosing function. Generator expressions are more compact but less versatile than full generator definitions and tend to be more memory friendly than equivalent list comprehensions."
   ]
  },
  {
   "cell_type": "markdown",
   "id": "3fd26f95-010a-4c8f-94f7-84ac34fad378",
   "metadata": {},
   "source": [
    "Examples:"
   ]
  },
  {
   "cell_type": "code",
   "execution_count": 44,
   "id": "0a8eeb9b-03e5-4e14-bac2-6689d2242c2c",
   "metadata": {},
   "outputs": [
    {
     "name": "stdout",
     "output_type": "stream",
     "text": [
      "['To characterize a linguistic level L,\\n        On the other hand,\\n        This suggests that\\n        It appears that\\n        Furthermore ', ' the notion of level of grammaticalness\\n        a case of semigrammaticalness of a different sort\\n        most of the methodological work in modern linguistics\\n        a subset of English sentences interesting on quite independent grounds\\n        the natural general principle that will subsume this case ', 'can be defined in such a way as to impose\\n        delimits\\n        suffices to account for\\n        cannot be arbitrary in\\n        is not subject to ', ' problems of phonemic and morphological analysis.\\n        a corpus of utterance tokens upon which conformity has been defined by the paired utterance test.\\n        the traditional practice of grammarians.\\n        the levels of acceptability from fairly high (e.g. (99a)) to virtual gibberish (e.g. (98d)).\\n        a stipulation to place the constructions into these various categories.\\n        a descriptive fact.\\n        a parasitic gap construction.']\n"
     ]
    }
   ],
   "source": [
    "# List of LEADINs to buy time.\n",
    "leadins = \"\"\"To characterize a linguistic level L,\n",
    "        On the other hand,\n",
    "        This suggests that\n",
    "        It appears that\n",
    "        Furthermore \"\"\"\n",
    "\n",
    "# List of SUBJECTs chosen for maximum professorial macho.\n",
    "subjects = \"\"\" the notion of level of grammaticalness\n",
    "        a case of semigrammaticalness of a different sort\n",
    "        most of the methodological work in modern linguistics\n",
    "        a subset of English sentences interesting on quite independent grounds\n",
    "        the natural general principle that will subsume this case \"\"\"\n",
    "\n",
    "#List of VERBs chosen for autorecursive obfuscation.\n",
    "verbs = \"\"\"can be defined in such a way as to impose\n",
    "        delimits\n",
    "        suffices to account for\n",
    "        cannot be arbitrary in\n",
    "        is not subject to \"\"\"\n",
    "\n",
    "\n",
    "# List of OBJECTs selected for profound sententiousness.\n",
    "\n",
    "objects = \"\"\" problems of phonemic and morphological analysis.\n",
    "        a corpus of utterance tokens upon which conformity has been defined by the paired utterance test.\n",
    "        the traditional practice of grammarians.\n",
    "        the levels of acceptability from fairly high (e.g. (99a)) to virtual gibberish (e.g. (98d)).\n",
    "        a stipulation to place the constructions into these various categories.\n",
    "        a descriptive fact.\n",
    "        a parasitic gap construction.\"\"\"\n",
    "\n",
    "import textwrap, random\n",
    "from time import sleep\n",
    "\n",
    "def chomsky(times=1, line_length=72):\n",
    "    parts = []\n",
    "    for part in (leadins, subjects, verbs, objects):\n",
    "        #phraselist = map(str.strip, part.splitlines())\n",
    "        #parts.append(phraselist)\n",
    "        parts.append(part)\n",
    "    #return textwrap.fill(' '.join(output), line_length)\n",
    "    return parts\n",
    "\n",
    "print(chomsky())"
   ]
  },
  {
   "cell_type": "code",
   "execution_count": 45,
   "id": "40b0e3e7-1cb7-4dc8-8434-361d74c24dd4",
   "metadata": {},
   "outputs": [
    {
     "data": {
      "text/plain": [
       "['f', 'l', 'o', 'g']"
      ]
     },
     "execution_count": 45,
     "metadata": {},
     "output_type": "execute_result"
    }
   ],
   "source": [
    "sum(i*i for i in range(10))                 # sum of squares\n",
    "\n",
    "\n",
    "xvec = [10, 20, 30]\n",
    "yvec = [7, 5, 3]\n",
    "sum(x*y for x,y in zip(xvec, yvec))         # dot product\n",
    "\n",
    "paragraphs = chomsky()\n",
    "\n",
    "unique_words = set(word for line in paragraphs  for word in line.split())\n",
    "\n",
    "#valedictorian = max((student.gpa, student.name) for student in graduates)\n",
    "\n",
    "data = 'golf'\n",
    "list(data[i] for i in range(len(data)-1, -1, -1))"
   ]
  },
  {
   "cell_type": "code",
   "execution_count": 46,
   "id": "d6f50744-d1a3-494a-ba05-1aef4b8cec85",
   "metadata": {},
   "outputs": [
    {
     "name": "stdout",
     "output_type": "stream",
     "text": [
      "H\n",
      "e\n",
      "l\n",
      "l\n",
      "o\n",
      ",\n",
      " \n",
      "w\n",
      "o\n",
      "r\n",
      "l\n",
      "d\n",
      "!\n"
     ]
    }
   ],
   "source": [
    "class MyFileLike:\n",
    "    def __init__(self, data):\n",
    "        self.data = data\n",
    "        self.index = 0\n",
    "\n",
    "    def read(self):\n",
    "        # Simulate reading data from a file-like object\n",
    "        if self.index < len(self.data):\n",
    "            result = self.data[self.index]\n",
    "            self.index += 1\n",
    "            return result\n",
    "        return ''\n",
    "\n",
    "    def readline(self):\n",
    "        # Simulate reading a line from a file-like object\n",
    "        result = self.data[self.index:self.index + 1]\n",
    "        self.index += 1\n",
    "        return result\n",
    "\n",
    "# Example function that expects a file-like object\n",
    "def process_file(file_obj):\n",
    "    while (line := file_obj.readline()) != '':\n",
    "        print(line)\n",
    "\n",
    "# Now passing our custom object\n",
    "buffer = MyFileLike(\"Hello, world!\")\n",
    "process_file(buffer)\n"
   ]
  },
  {
   "cell_type": "code",
   "execution_count": null,
   "id": "398d8aa3-9fd1-45c5-bab5-3668563ebd8c",
   "metadata": {},
   "outputs": [],
   "source": []
  }
 ],
 "metadata": {
  "kernelspec": {
   "display_name": "Python 3 (ipykernel)",
   "language": "python",
   "name": "python3"
  },
  "language_info": {
   "codemirror_mode": {
    "name": "ipython",
    "version": 3
   },
   "file_extension": ".py",
   "mimetype": "text/x-python",
   "name": "python",
   "nbconvert_exporter": "python",
   "pygments_lexer": "ipython3",
   "version": "3.12.3"
  }
 },
 "nbformat": 4,
 "nbformat_minor": 5
}
